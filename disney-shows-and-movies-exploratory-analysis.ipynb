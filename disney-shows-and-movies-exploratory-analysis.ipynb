{
 "cells": [
  {
   "cell_type": "markdown",
   "id": "c6c5ac7b",
   "metadata": {
    "papermill": {
     "duration": 0.020827,
     "end_time": "2021-10-02T08:28:38.567871",
     "exception": false,
     "start_time": "2021-10-02T08:28:38.547044",
     "status": "completed"
    },
    "tags": []
   },
   "source": [
    "# Dataset Disney+ Shows and Movies\n",
    "\n",
    "## Verificación del Dataset"
   ]
  },
  {
   "cell_type": "code",
   "execution_count": null,
   "id": "79addc35",
   "metadata": {
    "_kg_hide-input": true,
    "execution": {
     "iopub.execute_input": "2021-10-02T08:28:38.622677Z",
     "iopub.status.busy": "2021-10-02T08:28:38.621966Z",
     "iopub.status.idle": "2021-10-02T08:28:38.802091Z",
     "shell.execute_reply": "2021-10-02T08:28:38.802606Z",
     "shell.execute_reply.started": "2021-10-02T08:24:03.541179Z"
    },
    "papermill": {
     "duration": 0.214787,
     "end_time": "2021-10-02T08:28:38.802881",
     "exception": false,
     "start_time": "2021-10-02T08:28:38.588094",
     "status": "completed"
    },
    "tags": []
   },
   "outputs": [
    {
     "data": {
      "text/html": [
       "<div>\n",
       "<style scoped>\n",
       "    .dataframe tbody tr th:only-of-type {\n",
       "        vertical-align: middle;\n",
       "    }\n",
       "\n",
       "    .dataframe tbody tr th {\n",
       "        vertical-align: top;\n",
       "    }\n",
       "\n",
       "    .dataframe thead th {\n",
       "        text-align: right;\n",
       "    }\n",
       "</style>\n",
       "<table border=\"1\" class=\"dataframe\">\n",
       "  <thead>\n",
       "    <tr style=\"text-align: right;\">\n",
       "      <th></th>\n",
       "      <th>show_id</th>\n",
       "      <th>type</th>\n",
       "      <th>title</th>\n",
       "      <th>director</th>\n",
       "      <th>cast</th>\n",
       "      <th>country</th>\n",
       "      <th>date_added</th>\n",
       "      <th>release_year</th>\n",
       "      <th>rating</th>\n",
       "      <th>duration</th>\n",
       "      <th>listed_in</th>\n",
       "      <th>description</th>\n",
       "      <th>year_added</th>\n",
       "      <th>month_added</th>\n",
       "      <th>season_count</th>\n",
       "    </tr>\n",
       "  </thead>\n",
       "  <tbody>\n",
       "    <tr>\n",
       "      <th>0</th>\n",
       "      <td>s1</td>\n",
       "      <td>Movie</td>\n",
       "      <td>Duck the Halls: A Mickey Mouse Christmas Special</td>\n",
       "      <td>Alonso Ramirez Ramos, Dave Wasson</td>\n",
       "      <td>Chris Diamantopoulos, Tony Anselmo, Tress MacN...</td>\n",
       "      <td>NaN</td>\n",
       "      <td>2021-11-26</td>\n",
       "      <td>2016</td>\n",
       "      <td>TV-G</td>\n",
       "      <td>23</td>\n",
       "      <td>Animation, Family</td>\n",
       "      <td>Join Mickey and the gang as they duck the halls!</td>\n",
       "      <td>2021.0</td>\n",
       "      <td>11.0</td>\n",
       "      <td></td>\n",
       "    </tr>\n",
       "    <tr>\n",
       "      <th>1</th>\n",
       "      <td>s2</td>\n",
       "      <td>Movie</td>\n",
       "      <td>Ernest Saves Christmas</td>\n",
       "      <td>John Cherry</td>\n",
       "      <td>Jim Varney, Noelle Parker, Douglas Seale</td>\n",
       "      <td>NaN</td>\n",
       "      <td>2021-11-26</td>\n",
       "      <td>1988</td>\n",
       "      <td>PG</td>\n",
       "      <td>91</td>\n",
       "      <td>Comedy</td>\n",
       "      <td>Santa Claus passes his magic bag to a new St. ...</td>\n",
       "      <td>2021.0</td>\n",
       "      <td>11.0</td>\n",
       "      <td></td>\n",
       "    </tr>\n",
       "    <tr>\n",
       "      <th>2</th>\n",
       "      <td>s3</td>\n",
       "      <td>Movie</td>\n",
       "      <td>Ice Age: A Mammoth Christmas</td>\n",
       "      <td>Karen Disher</td>\n",
       "      <td>Raymond Albert Romano, John Leguizamo, Denis L...</td>\n",
       "      <td>United States</td>\n",
       "      <td>2021-11-26</td>\n",
       "      <td>2011</td>\n",
       "      <td>TV-G</td>\n",
       "      <td>23</td>\n",
       "      <td>Animation, Comedy, Family</td>\n",
       "      <td>Sid the Sloth is on Santa's naughty list.</td>\n",
       "      <td>2021.0</td>\n",
       "      <td>11.0</td>\n",
       "      <td></td>\n",
       "    </tr>\n",
       "    <tr>\n",
       "      <th>3</th>\n",
       "      <td>s4</td>\n",
       "      <td>Movie</td>\n",
       "      <td>The Queen Family Singalong</td>\n",
       "      <td>Hamish Hamilton</td>\n",
       "      <td>Darren Criss, Adam Lambert, Derek Hough, Alexa...</td>\n",
       "      <td>NaN</td>\n",
       "      <td>2021-11-26</td>\n",
       "      <td>2021</td>\n",
       "      <td>TV-PG</td>\n",
       "      <td>41</td>\n",
       "      <td>Musical</td>\n",
       "      <td>This is real life, not just fantasy!</td>\n",
       "      <td>2021.0</td>\n",
       "      <td>11.0</td>\n",
       "      <td></td>\n",
       "    </tr>\n",
       "    <tr>\n",
       "      <th>4</th>\n",
       "      <td>s5</td>\n",
       "      <td>TV Show</td>\n",
       "      <td>The Beatles: Get Back</td>\n",
       "      <td>NaN</td>\n",
       "      <td>John Lennon, Paul McCartney, George Harrison, ...</td>\n",
       "      <td>NaN</td>\n",
       "      <td>2021-11-25</td>\n",
       "      <td>2021</td>\n",
       "      <td>NaN</td>\n",
       "      <td></td>\n",
       "      <td>Docuseries, Historical, Music</td>\n",
       "      <td>A three-part documentary from Peter Jackson ca...</td>\n",
       "      <td>2021.0</td>\n",
       "      <td>11.0</td>\n",
       "      <td>1</td>\n",
       "    </tr>\n",
       "  </tbody>\n",
       "</table>\n",
       "</div>"
      ],
      "text/plain": [
       "  show_id     type                                             title  \\\n",
       "0      s1    Movie  Duck the Halls: A Mickey Mouse Christmas Special   \n",
       "1      s2    Movie                            Ernest Saves Christmas   \n",
       "2      s3    Movie                      Ice Age: A Mammoth Christmas   \n",
       "3      s4    Movie                        The Queen Family Singalong   \n",
       "4      s5  TV Show                             The Beatles: Get Back   \n",
       "\n",
       "                            director  \\\n",
       "0  Alonso Ramirez Ramos, Dave Wasson   \n",
       "1                        John Cherry   \n",
       "2                       Karen Disher   \n",
       "3                    Hamish Hamilton   \n",
       "4                                NaN   \n",
       "\n",
       "                                                cast        country  \\\n",
       "0  Chris Diamantopoulos, Tony Anselmo, Tress MacN...            NaN   \n",
       "1           Jim Varney, Noelle Parker, Douglas Seale            NaN   \n",
       "2  Raymond Albert Romano, John Leguizamo, Denis L...  United States   \n",
       "3  Darren Criss, Adam Lambert, Derek Hough, Alexa...            NaN   \n",
       "4  John Lennon, Paul McCartney, George Harrison, ...            NaN   \n",
       "\n",
       "  date_added  release_year rating duration                      listed_in  \\\n",
       "0 2021-11-26          2016   TV-G       23              Animation, Family   \n",
       "1 2021-11-26          1988     PG       91                         Comedy   \n",
       "2 2021-11-26          2011   TV-G       23      Animation, Comedy, Family   \n",
       "3 2021-11-26          2021  TV-PG       41                        Musical   \n",
       "4 2021-11-25          2021    NaN           Docuseries, Historical, Music   \n",
       "\n",
       "                                         description  year_added  month_added  \\\n",
       "0   Join Mickey and the gang as they duck the halls!      2021.0         11.0   \n",
       "1  Santa Claus passes his magic bag to a new St. ...      2021.0         11.0   \n",
       "2          Sid the Sloth is on Santa's naughty list.      2021.0         11.0   \n",
       "3               This is real life, not just fantasy!      2021.0         11.0   \n",
       "4  A three-part documentary from Peter Jackson ca...      2021.0         11.0   \n",
       "\n",
       "  season_count  \n",
       "0               \n",
       "1               \n",
       "2               \n",
       "3               \n",
       "4            1  "
      ]
     },
     "execution_count": 7,
     "metadata": {},
     "output_type": "execute_result"
    }
   ],
   "source": [
    "import plotly.graph_objects as go\n",
    "from plotly.offline import init_notebook_mode, iplot\n",
    "import pandas as pd \n",
    "\n",
    "df = pd.read_csv(\"disney_plus_titles.csv\")\n",
    "\n",
    "# agregar nuevas funciones en el dataset\n",
    "df[\"date_added\"] = pd.to_datetime(df['date_added'])\n",
    "df['year_added'] = df['date_added'].dt.year\n",
    "df['month_added'] = df['date_added'].dt.month\n",
    "\n",
    "df['season_count'] = df.apply(lambda x : x['duration'].split(\" \")[0] if \"Season\" in x['duration'] else \"\", axis = 1)\n",
    "df['duration'] = df.apply(lambda x : x['duration'].split(\" \")[0] if \"Season\" not in x['duration'] else \"\", axis = 1)\n",
    "df.head()"
   ]
  },
  {
   "cell_type": "markdown",
   "id": "2aadb41d",
   "metadata": {},
   "source": [
    "## Columnas disponibles"
   ]
  },
  {
   "cell_type": "code",
   "execution_count": 8,
   "id": "c45454e6",
   "metadata": {},
   "outputs": [
    {
     "name": "stdout",
     "output_type": "stream",
     "text": [
      "Columnas disponibles: Index(['show_id', 'type', 'title', 'director', 'cast', 'country', 'date_added',\n",
      "       'release_year', 'rating', 'duration', 'listed_in', 'description',\n",
      "       'year_added', 'month_added', 'season_count'],\n",
      "      dtype='object')\n"
     ]
    }
   ],
   "source": [
    "# Verificar las columnas\n",
    "print(\"Columnas disponibles:\", df.columns)"
   ]
  },
  {
   "cell_type": "markdown",
   "id": "bcfbb533",
   "metadata": {},
   "source": []
  },
  {
   "cell_type": "markdown",
   "id": "69f48494",
   "metadata": {
    "_cell_guid": "b1076dfc-b9ad-4769-8c92-a6c4dae69d19",
    "_uuid": "8f2839f25d086af736a60e9eeb907d3b93b6e0e5",
    "papermill": {
     "duration": 0.020071,
     "end_time": "2021-10-02T08:28:38.843717",
     "exception": false,
     "start_time": "2021-10-02T08:28:38.823646",
     "status": "completed"
    },
    "tags": []
   },
   "source": [
    "## Contenido de Type en Disney+"
   ]
  },
  {
   "cell_type": "code",
   "execution_count": null,
   "id": "983548bc",
   "metadata": {
    "_kg_hide-input": true,
    "execution": {
     "iopub.execute_input": "2021-10-02T08:28:38.897284Z",
     "iopub.status.busy": "2021-10-02T08:28:38.896423Z",
     "iopub.status.idle": "2021-10-02T08:28:39.819978Z",
     "shell.execute_reply": "2021-10-02T08:28:39.819305Z",
     "shell.execute_reply.started": "2021-10-02T08:24:15.548770Z"
    },
    "papermill": {
     "duration": 0.956105,
     "end_time": "2021-10-02T08:28:39.820125",
     "exception": false,
     "start_time": "2021-10-02T08:28:38.864020",
     "status": "completed"
    },
    "tags": []
   },
   "outputs": [
    {
     "name": "stdout",
     "output_type": "stream",
     "text": [
      "      type  count\n",
      "0    Movie   1052\n",
      "1  TV Show    398\n",
      "Labels: 0      Movie\n",
      "1    TV Show\n",
      "Name: type, dtype: object\n",
      "Values: 0    1052\n",
      "1     398\n",
      "Name: count, dtype: int64\n"
     ]
    },
    {
     "data": {
      "text/html": [
       "        <script type=\"text/javascript\">\n",
       "        window.PlotlyConfig = {MathJaxConfig: 'local'};\n",
       "        if (window.MathJax && window.MathJax.Hub && window.MathJax.Hub.Config) {window.MathJax.Hub.Config({SVG: {font: \"STIX-Web\"}});}\n",
       "        </script>\n",
       "        <script type=\"module\">import \"https://cdn.plot.ly/plotly-3.0.0.min\"</script>\n",
       "        "
      ]
     },
     "metadata": {},
     "output_type": "display_data"
    },
    {
     "data": {
      "application/vnd.plotly.v1+json": {
       "config": {
        "linkText": "Export to plot.ly",
        "plotlyServerURL": "https://plot.ly",
        "showLink": false
       },
       "data": [
        {
         "labels": [
          "Movie",
          "TV Show"
         ],
         "marker": {
          "colors": [
           "#6ad49b",
           "#a678de"
          ]
         },
         "pull": [
          0.05,
          0
         ],
         "type": "pie",
         "values": {
          "bdata": "HASOAQ==",
          "dtype": "i2"
         }
        }
       ],
       "layout": {
        "height": 400,
        "legend": {
         "x": 0.1,
         "y": 1.1
        },
        "template": {
         "data": {
          "bar": [
           {
            "error_x": {
             "color": "#2a3f5f"
            },
            "error_y": {
             "color": "#2a3f5f"
            },
            "marker": {
             "line": {
              "color": "#E5ECF6",
              "width": 0.5
             },
             "pattern": {
              "fillmode": "overlay",
              "size": 10,
              "solidity": 0.2
             }
            },
            "type": "bar"
           }
          ],
          "barpolar": [
           {
            "marker": {
             "line": {
              "color": "#E5ECF6",
              "width": 0.5
             },
             "pattern": {
              "fillmode": "overlay",
              "size": 10,
              "solidity": 0.2
             }
            },
            "type": "barpolar"
           }
          ],
          "carpet": [
           {
            "aaxis": {
             "endlinecolor": "#2a3f5f",
             "gridcolor": "white",
             "linecolor": "white",
             "minorgridcolor": "white",
             "startlinecolor": "#2a3f5f"
            },
            "baxis": {
             "endlinecolor": "#2a3f5f",
             "gridcolor": "white",
             "linecolor": "white",
             "minorgridcolor": "white",
             "startlinecolor": "#2a3f5f"
            },
            "type": "carpet"
           }
          ],
          "choropleth": [
           {
            "colorbar": {
             "outlinewidth": 0,
             "ticks": ""
            },
            "type": "choropleth"
           }
          ],
          "contour": [
           {
            "colorbar": {
             "outlinewidth": 0,
             "ticks": ""
            },
            "colorscale": [
             [
              0,
              "#0d0887"
             ],
             [
              0.1111111111111111,
              "#46039f"
             ],
             [
              0.2222222222222222,
              "#7201a8"
             ],
             [
              0.3333333333333333,
              "#9c179e"
             ],
             [
              0.4444444444444444,
              "#bd3786"
             ],
             [
              0.5555555555555556,
              "#d8576b"
             ],
             [
              0.6666666666666666,
              "#ed7953"
             ],
             [
              0.7777777777777778,
              "#fb9f3a"
             ],
             [
              0.8888888888888888,
              "#fdca26"
             ],
             [
              1,
              "#f0f921"
             ]
            ],
            "type": "contour"
           }
          ],
          "contourcarpet": [
           {
            "colorbar": {
             "outlinewidth": 0,
             "ticks": ""
            },
            "type": "contourcarpet"
           }
          ],
          "heatmap": [
           {
            "colorbar": {
             "outlinewidth": 0,
             "ticks": ""
            },
            "colorscale": [
             [
              0,
              "#0d0887"
             ],
             [
              0.1111111111111111,
              "#46039f"
             ],
             [
              0.2222222222222222,
              "#7201a8"
             ],
             [
              0.3333333333333333,
              "#9c179e"
             ],
             [
              0.4444444444444444,
              "#bd3786"
             ],
             [
              0.5555555555555556,
              "#d8576b"
             ],
             [
              0.6666666666666666,
              "#ed7953"
             ],
             [
              0.7777777777777778,
              "#fb9f3a"
             ],
             [
              0.8888888888888888,
              "#fdca26"
             ],
             [
              1,
              "#f0f921"
             ]
            ],
            "type": "heatmap"
           }
          ],
          "histogram": [
           {
            "marker": {
             "pattern": {
              "fillmode": "overlay",
              "size": 10,
              "solidity": 0.2
             }
            },
            "type": "histogram"
           }
          ],
          "histogram2d": [
           {
            "colorbar": {
             "outlinewidth": 0,
             "ticks": ""
            },
            "colorscale": [
             [
              0,
              "#0d0887"
             ],
             [
              0.1111111111111111,
              "#46039f"
             ],
             [
              0.2222222222222222,
              "#7201a8"
             ],
             [
              0.3333333333333333,
              "#9c179e"
             ],
             [
              0.4444444444444444,
              "#bd3786"
             ],
             [
              0.5555555555555556,
              "#d8576b"
             ],
             [
              0.6666666666666666,
              "#ed7953"
             ],
             [
              0.7777777777777778,
              "#fb9f3a"
             ],
             [
              0.8888888888888888,
              "#fdca26"
             ],
             [
              1,
              "#f0f921"
             ]
            ],
            "type": "histogram2d"
           }
          ],
          "histogram2dcontour": [
           {
            "colorbar": {
             "outlinewidth": 0,
             "ticks": ""
            },
            "colorscale": [
             [
              0,
              "#0d0887"
             ],
             [
              0.1111111111111111,
              "#46039f"
             ],
             [
              0.2222222222222222,
              "#7201a8"
             ],
             [
              0.3333333333333333,
              "#9c179e"
             ],
             [
              0.4444444444444444,
              "#bd3786"
             ],
             [
              0.5555555555555556,
              "#d8576b"
             ],
             [
              0.6666666666666666,
              "#ed7953"
             ],
             [
              0.7777777777777778,
              "#fb9f3a"
             ],
             [
              0.8888888888888888,
              "#fdca26"
             ],
             [
              1,
              "#f0f921"
             ]
            ],
            "type": "histogram2dcontour"
           }
          ],
          "mesh3d": [
           {
            "colorbar": {
             "outlinewidth": 0,
             "ticks": ""
            },
            "type": "mesh3d"
           }
          ],
          "parcoords": [
           {
            "line": {
             "colorbar": {
              "outlinewidth": 0,
              "ticks": ""
             }
            },
            "type": "parcoords"
           }
          ],
          "pie": [
           {
            "automargin": true,
            "type": "pie"
           }
          ],
          "scatter": [
           {
            "fillpattern": {
             "fillmode": "overlay",
             "size": 10,
             "solidity": 0.2
            },
            "type": "scatter"
           }
          ],
          "scatter3d": [
           {
            "line": {
             "colorbar": {
              "outlinewidth": 0,
              "ticks": ""
             }
            },
            "marker": {
             "colorbar": {
              "outlinewidth": 0,
              "ticks": ""
             }
            },
            "type": "scatter3d"
           }
          ],
          "scattercarpet": [
           {
            "marker": {
             "colorbar": {
              "outlinewidth": 0,
              "ticks": ""
             }
            },
            "type": "scattercarpet"
           }
          ],
          "scattergeo": [
           {
            "marker": {
             "colorbar": {
              "outlinewidth": 0,
              "ticks": ""
             }
            },
            "type": "scattergeo"
           }
          ],
          "scattergl": [
           {
            "marker": {
             "colorbar": {
              "outlinewidth": 0,
              "ticks": ""
             }
            },
            "type": "scattergl"
           }
          ],
          "scattermap": [
           {
            "marker": {
             "colorbar": {
              "outlinewidth": 0,
              "ticks": ""
             }
            },
            "type": "scattermap"
           }
          ],
          "scattermapbox": [
           {
            "marker": {
             "colorbar": {
              "outlinewidth": 0,
              "ticks": ""
             }
            },
            "type": "scattermapbox"
           }
          ],
          "scatterpolar": [
           {
            "marker": {
             "colorbar": {
              "outlinewidth": 0,
              "ticks": ""
             }
            },
            "type": "scatterpolar"
           }
          ],
          "scatterpolargl": [
           {
            "marker": {
             "colorbar": {
              "outlinewidth": 0,
              "ticks": ""
             }
            },
            "type": "scatterpolargl"
           }
          ],
          "scatterternary": [
           {
            "marker": {
             "colorbar": {
              "outlinewidth": 0,
              "ticks": ""
             }
            },
            "type": "scatterternary"
           }
          ],
          "surface": [
           {
            "colorbar": {
             "outlinewidth": 0,
             "ticks": ""
            },
            "colorscale": [
             [
              0,
              "#0d0887"
             ],
             [
              0.1111111111111111,
              "#46039f"
             ],
             [
              0.2222222222222222,
              "#7201a8"
             ],
             [
              0.3333333333333333,
              "#9c179e"
             ],
             [
              0.4444444444444444,
              "#bd3786"
             ],
             [
              0.5555555555555556,
              "#d8576b"
             ],
             [
              0.6666666666666666,
              "#ed7953"
             ],
             [
              0.7777777777777778,
              "#fb9f3a"
             ],
             [
              0.8888888888888888,
              "#fdca26"
             ],
             [
              1,
              "#f0f921"
             ]
            ],
            "type": "surface"
           }
          ],
          "table": [
           {
            "cells": {
             "fill": {
              "color": "#EBF0F8"
             },
             "line": {
              "color": "white"
             }
            },
            "header": {
             "fill": {
              "color": "#C8D4E3"
             },
             "line": {
              "color": "white"
             }
            },
            "type": "table"
           }
          ]
         },
         "layout": {
          "annotationdefaults": {
           "arrowcolor": "#2a3f5f",
           "arrowhead": 0,
           "arrowwidth": 1
          },
          "autotypenumbers": "strict",
          "coloraxis": {
           "colorbar": {
            "outlinewidth": 0,
            "ticks": ""
           }
          },
          "colorscale": {
           "diverging": [
            [
             0,
             "#8e0152"
            ],
            [
             0.1,
             "#c51b7d"
            ],
            [
             0.2,
             "#de77ae"
            ],
            [
             0.3,
             "#f1b6da"
            ],
            [
             0.4,
             "#fde0ef"
            ],
            [
             0.5,
             "#f7f7f7"
            ],
            [
             0.6,
             "#e6f5d0"
            ],
            [
             0.7,
             "#b8e186"
            ],
            [
             0.8,
             "#7fbc41"
            ],
            [
             0.9,
             "#4d9221"
            ],
            [
             1,
             "#276419"
            ]
           ],
           "sequential": [
            [
             0,
             "#0d0887"
            ],
            [
             0.1111111111111111,
             "#46039f"
            ],
            [
             0.2222222222222222,
             "#7201a8"
            ],
            [
             0.3333333333333333,
             "#9c179e"
            ],
            [
             0.4444444444444444,
             "#bd3786"
            ],
            [
             0.5555555555555556,
             "#d8576b"
            ],
            [
             0.6666666666666666,
             "#ed7953"
            ],
            [
             0.7777777777777778,
             "#fb9f3a"
            ],
            [
             0.8888888888888888,
             "#fdca26"
            ],
            [
             1,
             "#f0f921"
            ]
           ],
           "sequentialminus": [
            [
             0,
             "#0d0887"
            ],
            [
             0.1111111111111111,
             "#46039f"
            ],
            [
             0.2222222222222222,
             "#7201a8"
            ],
            [
             0.3333333333333333,
             "#9c179e"
            ],
            [
             0.4444444444444444,
             "#bd3786"
            ],
            [
             0.5555555555555556,
             "#d8576b"
            ],
            [
             0.6666666666666666,
             "#ed7953"
            ],
            [
             0.7777777777777778,
             "#fb9f3a"
            ],
            [
             0.8888888888888888,
             "#fdca26"
            ],
            [
             1,
             "#f0f921"
            ]
           ]
          },
          "colorway": [
           "#636efa",
           "#EF553B",
           "#00cc96",
           "#ab63fa",
           "#FFA15A",
           "#19d3f3",
           "#FF6692",
           "#B6E880",
           "#FF97FF",
           "#FECB52"
          ],
          "font": {
           "color": "#2a3f5f"
          },
          "geo": {
           "bgcolor": "white",
           "lakecolor": "white",
           "landcolor": "#E5ECF6",
           "showlakes": true,
           "showland": true,
           "subunitcolor": "white"
          },
          "hoverlabel": {
           "align": "left"
          },
          "hovermode": "closest",
          "mapbox": {
           "style": "light"
          },
          "paper_bgcolor": "white",
          "plot_bgcolor": "#E5ECF6",
          "polar": {
           "angularaxis": {
            "gridcolor": "white",
            "linecolor": "white",
            "ticks": ""
           },
           "bgcolor": "#E5ECF6",
           "radialaxis": {
            "gridcolor": "white",
            "linecolor": "white",
            "ticks": ""
           }
          },
          "scene": {
           "xaxis": {
            "backgroundcolor": "#E5ECF6",
            "gridcolor": "white",
            "gridwidth": 2,
            "linecolor": "white",
            "showbackground": true,
            "ticks": "",
            "zerolinecolor": "white"
           },
           "yaxis": {
            "backgroundcolor": "#E5ECF6",
            "gridcolor": "white",
            "gridwidth": 2,
            "linecolor": "white",
            "showbackground": true,
            "ticks": "",
            "zerolinecolor": "white"
           },
           "zaxis": {
            "backgroundcolor": "#E5ECF6",
            "gridcolor": "white",
            "gridwidth": 2,
            "linecolor": "white",
            "showbackground": true,
            "ticks": "",
            "zerolinecolor": "white"
           }
          },
          "shapedefaults": {
           "line": {
            "color": "#2a3f5f"
           }
          },
          "ternary": {
           "aaxis": {
            "gridcolor": "white",
            "linecolor": "white",
            "ticks": ""
           },
           "baxis": {
            "gridcolor": "white",
            "linecolor": "white",
            "ticks": ""
           },
           "bgcolor": "#E5ECF6",
           "caxis": {
            "gridcolor": "white",
            "linecolor": "white",
            "ticks": ""
           }
          },
          "title": {
           "x": 0.05
          },
          "xaxis": {
           "automargin": true,
           "gridcolor": "white",
           "linecolor": "white",
           "ticks": "",
           "title": {
            "standoff": 15
           },
           "zerolinecolor": "white",
           "zerolinewidth": 2
          },
          "yaxis": {
           "automargin": true,
           "gridcolor": "white",
           "linecolor": "white",
           "ticks": "",
           "title": {
            "standoff": 15
           },
           "zerolinecolor": "white",
           "zerolinewidth": 2
          }
         }
        },
        "title": {
         "text": ""
        }
       }
      },
      "text/html": [
       "<div>            <script src=\"https://cdnjs.cloudflare.com/ajax/libs/mathjax/2.7.5/MathJax.js?config=TeX-AMS-MML_SVG\"></script><script type=\"text/javascript\">if (window.MathJax && window.MathJax.Hub && window.MathJax.Hub.Config) {window.MathJax.Hub.Config({SVG: {font: \"STIX-Web\"}});}</script>                <script type=\"text/javascript\">window.PlotlyConfig = {MathJaxConfig: 'local'};</script>\n",
       "        <script charset=\"utf-8\" src=\"https://cdn.plot.ly/plotly-3.0.0.min.js\"></script>                <div id=\"5b9047fa-f4c0-4d62-9e20-2b1561b6577a\" class=\"plotly-graph-div\" style=\"height:400px; width:100%;\"></div>            <script type=\"text/javascript\">                window.PLOTLYENV=window.PLOTLYENV || {};                                if (document.getElementById(\"5b9047fa-f4c0-4d62-9e20-2b1561b6577a\")) {                    Plotly.newPlot(                        \"5b9047fa-f4c0-4d62-9e20-2b1561b6577a\",                        [{\"labels\":[\"Movie\",\"TV Show\"],\"marker\":{\"colors\":[\"#6ad49b\",\"#a678de\"]},\"pull\":[0.05,0],\"values\":{\"dtype\":\"i2\",\"bdata\":\"HASOAQ==\"},\"type\":\"pie\"}],                        {\"height\":400,\"legend\":{\"x\":0.1,\"y\":1.1},\"template\":{\"data\":{\"barpolar\":[{\"marker\":{\"line\":{\"color\":\"#E5ECF6\",\"width\":0.5},\"pattern\":{\"fillmode\":\"overlay\",\"size\":10,\"solidity\":0.2}},\"type\":\"barpolar\"}],\"bar\":[{\"error_x\":{\"color\":\"#2a3f5f\"},\"error_y\":{\"color\":\"#2a3f5f\"},\"marker\":{\"line\":{\"color\":\"#E5ECF6\",\"width\":0.5},\"pattern\":{\"fillmode\":\"overlay\",\"size\":10,\"solidity\":0.2}},\"type\":\"bar\"}],\"carpet\":[{\"aaxis\":{\"endlinecolor\":\"#2a3f5f\",\"gridcolor\":\"white\",\"linecolor\":\"white\",\"minorgridcolor\":\"white\",\"startlinecolor\":\"#2a3f5f\"},\"baxis\":{\"endlinecolor\":\"#2a3f5f\",\"gridcolor\":\"white\",\"linecolor\":\"white\",\"minorgridcolor\":\"white\",\"startlinecolor\":\"#2a3f5f\"},\"type\":\"carpet\"}],\"choropleth\":[{\"colorbar\":{\"outlinewidth\":0,\"ticks\":\"\"},\"type\":\"choropleth\"}],\"contourcarpet\":[{\"colorbar\":{\"outlinewidth\":0,\"ticks\":\"\"},\"type\":\"contourcarpet\"}],\"contour\":[{\"colorbar\":{\"outlinewidth\":0,\"ticks\":\"\"},\"colorscale\":[[0.0,\"#0d0887\"],[0.1111111111111111,\"#46039f\"],[0.2222222222222222,\"#7201a8\"],[0.3333333333333333,\"#9c179e\"],[0.4444444444444444,\"#bd3786\"],[0.5555555555555556,\"#d8576b\"],[0.6666666666666666,\"#ed7953\"],[0.7777777777777778,\"#fb9f3a\"],[0.8888888888888888,\"#fdca26\"],[1.0,\"#f0f921\"]],\"type\":\"contour\"}],\"heatmap\":[{\"colorbar\":{\"outlinewidth\":0,\"ticks\":\"\"},\"colorscale\":[[0.0,\"#0d0887\"],[0.1111111111111111,\"#46039f\"],[0.2222222222222222,\"#7201a8\"],[0.3333333333333333,\"#9c179e\"],[0.4444444444444444,\"#bd3786\"],[0.5555555555555556,\"#d8576b\"],[0.6666666666666666,\"#ed7953\"],[0.7777777777777778,\"#fb9f3a\"],[0.8888888888888888,\"#fdca26\"],[1.0,\"#f0f921\"]],\"type\":\"heatmap\"}],\"histogram2dcontour\":[{\"colorbar\":{\"outlinewidth\":0,\"ticks\":\"\"},\"colorscale\":[[0.0,\"#0d0887\"],[0.1111111111111111,\"#46039f\"],[0.2222222222222222,\"#7201a8\"],[0.3333333333333333,\"#9c179e\"],[0.4444444444444444,\"#bd3786\"],[0.5555555555555556,\"#d8576b\"],[0.6666666666666666,\"#ed7953\"],[0.7777777777777778,\"#fb9f3a\"],[0.8888888888888888,\"#fdca26\"],[1.0,\"#f0f921\"]],\"type\":\"histogram2dcontour\"}],\"histogram2d\":[{\"colorbar\":{\"outlinewidth\":0,\"ticks\":\"\"},\"colorscale\":[[0.0,\"#0d0887\"],[0.1111111111111111,\"#46039f\"],[0.2222222222222222,\"#7201a8\"],[0.3333333333333333,\"#9c179e\"],[0.4444444444444444,\"#bd3786\"],[0.5555555555555556,\"#d8576b\"],[0.6666666666666666,\"#ed7953\"],[0.7777777777777778,\"#fb9f3a\"],[0.8888888888888888,\"#fdca26\"],[1.0,\"#f0f921\"]],\"type\":\"histogram2d\"}],\"histogram\":[{\"marker\":{\"pattern\":{\"fillmode\":\"overlay\",\"size\":10,\"solidity\":0.2}},\"type\":\"histogram\"}],\"mesh3d\":[{\"colorbar\":{\"outlinewidth\":0,\"ticks\":\"\"},\"type\":\"mesh3d\"}],\"parcoords\":[{\"line\":{\"colorbar\":{\"outlinewidth\":0,\"ticks\":\"\"}},\"type\":\"parcoords\"}],\"pie\":[{\"automargin\":true,\"type\":\"pie\"}],\"scatter3d\":[{\"line\":{\"colorbar\":{\"outlinewidth\":0,\"ticks\":\"\"}},\"marker\":{\"colorbar\":{\"outlinewidth\":0,\"ticks\":\"\"}},\"type\":\"scatter3d\"}],\"scattercarpet\":[{\"marker\":{\"colorbar\":{\"outlinewidth\":0,\"ticks\":\"\"}},\"type\":\"scattercarpet\"}],\"scattergeo\":[{\"marker\":{\"colorbar\":{\"outlinewidth\":0,\"ticks\":\"\"}},\"type\":\"scattergeo\"}],\"scattergl\":[{\"marker\":{\"colorbar\":{\"outlinewidth\":0,\"ticks\":\"\"}},\"type\":\"scattergl\"}],\"scattermapbox\":[{\"marker\":{\"colorbar\":{\"outlinewidth\":0,\"ticks\":\"\"}},\"type\":\"scattermapbox\"}],\"scattermap\":[{\"marker\":{\"colorbar\":{\"outlinewidth\":0,\"ticks\":\"\"}},\"type\":\"scattermap\"}],\"scatterpolargl\":[{\"marker\":{\"colorbar\":{\"outlinewidth\":0,\"ticks\":\"\"}},\"type\":\"scatterpolargl\"}],\"scatterpolar\":[{\"marker\":{\"colorbar\":{\"outlinewidth\":0,\"ticks\":\"\"}},\"type\":\"scatterpolar\"}],\"scatter\":[{\"fillpattern\":{\"fillmode\":\"overlay\",\"size\":10,\"solidity\":0.2},\"type\":\"scatter\"}],\"scatterternary\":[{\"marker\":{\"colorbar\":{\"outlinewidth\":0,\"ticks\":\"\"}},\"type\":\"scatterternary\"}],\"surface\":[{\"colorbar\":{\"outlinewidth\":0,\"ticks\":\"\"},\"colorscale\":[[0.0,\"#0d0887\"],[0.1111111111111111,\"#46039f\"],[0.2222222222222222,\"#7201a8\"],[0.3333333333333333,\"#9c179e\"],[0.4444444444444444,\"#bd3786\"],[0.5555555555555556,\"#d8576b\"],[0.6666666666666666,\"#ed7953\"],[0.7777777777777778,\"#fb9f3a\"],[0.8888888888888888,\"#fdca26\"],[1.0,\"#f0f921\"]],\"type\":\"surface\"}],\"table\":[{\"cells\":{\"fill\":{\"color\":\"#EBF0F8\"},\"line\":{\"color\":\"white\"}},\"header\":{\"fill\":{\"color\":\"#C8D4E3\"},\"line\":{\"color\":\"white\"}},\"type\":\"table\"}]},\"layout\":{\"annotationdefaults\":{\"arrowcolor\":\"#2a3f5f\",\"arrowhead\":0,\"arrowwidth\":1},\"autotypenumbers\":\"strict\",\"coloraxis\":{\"colorbar\":{\"outlinewidth\":0,\"ticks\":\"\"}},\"colorscale\":{\"diverging\":[[0,\"#8e0152\"],[0.1,\"#c51b7d\"],[0.2,\"#de77ae\"],[0.3,\"#f1b6da\"],[0.4,\"#fde0ef\"],[0.5,\"#f7f7f7\"],[0.6,\"#e6f5d0\"],[0.7,\"#b8e186\"],[0.8,\"#7fbc41\"],[0.9,\"#4d9221\"],[1,\"#276419\"]],\"sequential\":[[0.0,\"#0d0887\"],[0.1111111111111111,\"#46039f\"],[0.2222222222222222,\"#7201a8\"],[0.3333333333333333,\"#9c179e\"],[0.4444444444444444,\"#bd3786\"],[0.5555555555555556,\"#d8576b\"],[0.6666666666666666,\"#ed7953\"],[0.7777777777777778,\"#fb9f3a\"],[0.8888888888888888,\"#fdca26\"],[1.0,\"#f0f921\"]],\"sequentialminus\":[[0.0,\"#0d0887\"],[0.1111111111111111,\"#46039f\"],[0.2222222222222222,\"#7201a8\"],[0.3333333333333333,\"#9c179e\"],[0.4444444444444444,\"#bd3786\"],[0.5555555555555556,\"#d8576b\"],[0.6666666666666666,\"#ed7953\"],[0.7777777777777778,\"#fb9f3a\"],[0.8888888888888888,\"#fdca26\"],[1.0,\"#f0f921\"]]},\"colorway\":[\"#636efa\",\"#EF553B\",\"#00cc96\",\"#ab63fa\",\"#FFA15A\",\"#19d3f3\",\"#FF6692\",\"#B6E880\",\"#FF97FF\",\"#FECB52\"],\"font\":{\"color\":\"#2a3f5f\"},\"geo\":{\"bgcolor\":\"white\",\"lakecolor\":\"white\",\"landcolor\":\"#E5ECF6\",\"showlakes\":true,\"showland\":true,\"subunitcolor\":\"white\"},\"hoverlabel\":{\"align\":\"left\"},\"hovermode\":\"closest\",\"mapbox\":{\"style\":\"light\"},\"paper_bgcolor\":\"white\",\"plot_bgcolor\":\"#E5ECF6\",\"polar\":{\"angularaxis\":{\"gridcolor\":\"white\",\"linecolor\":\"white\",\"ticks\":\"\"},\"bgcolor\":\"#E5ECF6\",\"radialaxis\":{\"gridcolor\":\"white\",\"linecolor\":\"white\",\"ticks\":\"\"}},\"scene\":{\"xaxis\":{\"backgroundcolor\":\"#E5ECF6\",\"gridcolor\":\"white\",\"gridwidth\":2,\"linecolor\":\"white\",\"showbackground\":true,\"ticks\":\"\",\"zerolinecolor\":\"white\"},\"yaxis\":{\"backgroundcolor\":\"#E5ECF6\",\"gridcolor\":\"white\",\"gridwidth\":2,\"linecolor\":\"white\",\"showbackground\":true,\"ticks\":\"\",\"zerolinecolor\":\"white\"},\"zaxis\":{\"backgroundcolor\":\"#E5ECF6\",\"gridcolor\":\"white\",\"gridwidth\":2,\"linecolor\":\"white\",\"showbackground\":true,\"ticks\":\"\",\"zerolinecolor\":\"white\"}},\"shapedefaults\":{\"line\":{\"color\":\"#2a3f5f\"}},\"ternary\":{\"aaxis\":{\"gridcolor\":\"white\",\"linecolor\":\"white\",\"ticks\":\"\"},\"baxis\":{\"gridcolor\":\"white\",\"linecolor\":\"white\",\"ticks\":\"\"},\"bgcolor\":\"#E5ECF6\",\"caxis\":{\"gridcolor\":\"white\",\"linecolor\":\"white\",\"ticks\":\"\"}},\"title\":{\"x\":0.05},\"xaxis\":{\"automargin\":true,\"gridcolor\":\"white\",\"linecolor\":\"white\",\"ticks\":\"\",\"title\":{\"standoff\":15},\"zerolinecolor\":\"white\",\"zerolinewidth\":2},\"yaxis\":{\"automargin\":true,\"gridcolor\":\"white\",\"linecolor\":\"white\",\"ticks\":\"\",\"title\":{\"standoff\":15},\"zerolinecolor\":\"white\",\"zerolinewidth\":2}}},\"title\":{\"text\":\"\"}},                        {\"responsive\": true}                    ).then(function(){\n",
       "                            \n",
       "var gd = document.getElementById('5b9047fa-f4c0-4d62-9e20-2b1561b6577a');\n",
       "var x = new MutationObserver(function (mutations, observer) {{\n",
       "        var display = window.getComputedStyle(gd).display;\n",
       "        if (!display || display === 'none') {{\n",
       "            console.log([gd, 'removed!']);\n",
       "            Plotly.purge(gd);\n",
       "            observer.disconnect();\n",
       "        }}\n",
       "}});\n",
       "\n",
       "// Listen for the removal of the full notebook cells\n",
       "var notebookContainer = gd.closest('#notebook-container');\n",
       "if (notebookContainer) {{\n",
       "    x.observe(notebookContainer, {childList: true});\n",
       "}}\n",
       "\n",
       "// Listen for the clearing of the current output cell\n",
       "var outputEl = gd.closest('.output');\n",
       "if (outputEl) {{\n",
       "    x.observe(outputEl, {childList: true});\n",
       "}}\n",
       "\n",
       "                        })                };            </script>        </div>"
      ]
     },
     "metadata": {},
     "output_type": "display_data"
    }
   ],
   "source": [
    "# Agrupar los datos\n",
    "col = \"type\"\n",
    "grouped = df[col].value_counts().reset_index()\n",
    "\n",
    "# Renombrar las columnas correctamente\n",
    "grouped.columns = [col, \"count\"]\n",
    "\n",
    "# Verificar el resultado\n",
    "print(grouped)\n",
    "\n",
    "# Verificar los valores antes de graficar\n",
    "print(\"Labels:\", grouped[col])\n",
    "print(\"Values:\", grouped['count'])\n",
    "\n",
    "init_notebook_mode(connected=True)\n",
    "\n",
    "# Crear el gráfico\n",
    "trace = go.Pie(\n",
    "    labels=grouped[col],\n",
    "    values=grouped['count'],\n",
    "    pull=[0.05, 0],\n",
    "    marker=dict(colors=[\"#6ad49b\", \"#a678de\"])\n",
    ")\n",
    "layout = go.Layout(title=\"\", height=400, legend=dict(x=0.1, y=1.1))\n",
    "fig = go.Figure(data=[trace], layout=layout)\n",
    "\n",
    "# Mostrar el gráfico\n",
    "iplot(fig)"
   ]
  },
  {
   "cell_type": "code",
   "execution_count": null,
   "id": "0baf7648",
   "metadata": {},
   "outputs": [],
   "source": [
    "# Agregar nuevas características al dataset\n",
    "df[\"date_added\"] = pd.to_datetime(df['date_added'], errors='coerce')  # Manejar fechas inválidas\n",
    "df['year_added'] = df['date_added'].dt.year"
   ]
  },
  {
   "cell_type": "code",
   "execution_count": 12,
   "id": "7c5dc06d",
   "metadata": {},
   "outputs": [],
   "source": [
    "# Filtrar valores nulos en \"year_added\"\n",
    "df = df.dropna(subset=[\"year_added\"])"
   ]
  },
  {
   "cell_type": "code",
   "execution_count": 13,
   "id": "c73947c5",
   "metadata": {},
   "outputs": [],
   "source": [
    "# Convertir \"year_added\" a números enteros\n",
    "df[\"year_added\"] = pd.to_numeric(df[\"year_added\"], errors='coerce').astype('Int64')"
   ]
  },
  {
   "cell_type": "code",
   "execution_count": 14,
   "id": "a7d0561e",
   "metadata": {},
   "outputs": [
    {
     "name": "stdout",
     "output_type": "stream",
     "text": [
      "<IntegerArray>\n",
      "[2021, 2020, 2019]\n",
      "Length: 3, dtype: Int64\n"
     ]
    }
   ],
   "source": [
    "print(df[\"year_added\"].unique())"
   ]
  },
  {
   "cell_type": "markdown",
   "id": "966568b7",
   "metadata": {
    "papermill": {
     "duration": 0.021012,
     "end_time": "2021-10-02T08:28:39.863003",
     "exception": false,
     "start_time": "2021-10-02T08:28:39.841991",
     "status": "completed"
    },
    "tags": []
   },
   "source": [
    "\n",
    "## 2. Growth in content over the years "
   ]
  },
  {
   "cell_type": "code",
   "execution_count": 12,
   "id": "85abc460",
   "metadata": {
    "_cell_guid": "79c7e3d0-c299-4dcb-8224-4455121ee9b0",
    "_kg_hide-input": true,
    "_uuid": "d629ff2d2480ee46fbb7e2d37f6b5fab8052498a",
    "execution": {
     "iopub.execute_input": "2021-10-02T08:28:39.925891Z",
     "iopub.status.busy": "2021-10-02T08:28:39.922391Z",
     "iopub.status.idle": "2021-10-02T08:28:39.950628Z",
     "shell.execute_reply": "2021-10-02T08:28:39.949598Z",
     "shell.execute_reply.started": "2021-10-02T08:24:46.713193Z"
    },
    "papermill": {
     "duration": 0.065981,
     "end_time": "2021-10-02T08:28:39.950783",
     "exception": false,
     "start_time": "2021-10-02T08:28:39.884802",
     "status": "completed"
    },
    "tags": []
   },
   "outputs": [
    {
     "data": {
      "application/vnd.plotly.v1+json": {
       "config": {
        "plotlyServerURL": "https://plot.ly"
       },
       "data": [
        {
         "marker": {
          "color": "#a678de"
         },
         "name": "TV Shows",
         "type": "bar",
         "x": {
          "bdata": "AAAAAACMn0AAAAAAAJCfQAAAAAAAlJ9A",
          "dtype": "f8"
         },
         "y": {
          "bdata": "hwB6AIoA",
          "dtype": "i2"
         }
        },
        {
         "marker": {
          "color": "#6ad49b"
         },
         "name": "Movies",
         "type": "bar",
         "x": {
          "bdata": "AAAAAACMn0AAAAAAAJCfQAAAAAAAlJ9A",
          "dtype": "f8"
         },
         "y": {
          "bdata": "dgLmAMAA",
          "dtype": "i2"
         }
        }
       ],
       "layout": {
        "legend": {
         "orientation": "h",
         "x": 0.1,
         "y": 1.1
        },
        "template": {
         "data": {
          "bar": [
           {
            "error_x": {
             "color": "#2a3f5f"
            },
            "error_y": {
             "color": "#2a3f5f"
            },
            "marker": {
             "line": {
              "color": "#E5ECF6",
              "width": 0.5
             },
             "pattern": {
              "fillmode": "overlay",
              "size": 10,
              "solidity": 0.2
             }
            },
            "type": "bar"
           }
          ],
          "barpolar": [
           {
            "marker": {
             "line": {
              "color": "#E5ECF6",
              "width": 0.5
             },
             "pattern": {
              "fillmode": "overlay",
              "size": 10,
              "solidity": 0.2
             }
            },
            "type": "barpolar"
           }
          ],
          "carpet": [
           {
            "aaxis": {
             "endlinecolor": "#2a3f5f",
             "gridcolor": "white",
             "linecolor": "white",
             "minorgridcolor": "white",
             "startlinecolor": "#2a3f5f"
            },
            "baxis": {
             "endlinecolor": "#2a3f5f",
             "gridcolor": "white",
             "linecolor": "white",
             "minorgridcolor": "white",
             "startlinecolor": "#2a3f5f"
            },
            "type": "carpet"
           }
          ],
          "choropleth": [
           {
            "colorbar": {
             "outlinewidth": 0,
             "ticks": ""
            },
            "type": "choropleth"
           }
          ],
          "contour": [
           {
            "colorbar": {
             "outlinewidth": 0,
             "ticks": ""
            },
            "colorscale": [
             [
              0,
              "#0d0887"
             ],
             [
              0.1111111111111111,
              "#46039f"
             ],
             [
              0.2222222222222222,
              "#7201a8"
             ],
             [
              0.3333333333333333,
              "#9c179e"
             ],
             [
              0.4444444444444444,
              "#bd3786"
             ],
             [
              0.5555555555555556,
              "#d8576b"
             ],
             [
              0.6666666666666666,
              "#ed7953"
             ],
             [
              0.7777777777777778,
              "#fb9f3a"
             ],
             [
              0.8888888888888888,
              "#fdca26"
             ],
             [
              1,
              "#f0f921"
             ]
            ],
            "type": "contour"
           }
          ],
          "contourcarpet": [
           {
            "colorbar": {
             "outlinewidth": 0,
             "ticks": ""
            },
            "type": "contourcarpet"
           }
          ],
          "heatmap": [
           {
            "colorbar": {
             "outlinewidth": 0,
             "ticks": ""
            },
            "colorscale": [
             [
              0,
              "#0d0887"
             ],
             [
              0.1111111111111111,
              "#46039f"
             ],
             [
              0.2222222222222222,
              "#7201a8"
             ],
             [
              0.3333333333333333,
              "#9c179e"
             ],
             [
              0.4444444444444444,
              "#bd3786"
             ],
             [
              0.5555555555555556,
              "#d8576b"
             ],
             [
              0.6666666666666666,
              "#ed7953"
             ],
             [
              0.7777777777777778,
              "#fb9f3a"
             ],
             [
              0.8888888888888888,
              "#fdca26"
             ],
             [
              1,
              "#f0f921"
             ]
            ],
            "type": "heatmap"
           }
          ],
          "histogram": [
           {
            "marker": {
             "pattern": {
              "fillmode": "overlay",
              "size": 10,
              "solidity": 0.2
             }
            },
            "type": "histogram"
           }
          ],
          "histogram2d": [
           {
            "colorbar": {
             "outlinewidth": 0,
             "ticks": ""
            },
            "colorscale": [
             [
              0,
              "#0d0887"
             ],
             [
              0.1111111111111111,
              "#46039f"
             ],
             [
              0.2222222222222222,
              "#7201a8"
             ],
             [
              0.3333333333333333,
              "#9c179e"
             ],
             [
              0.4444444444444444,
              "#bd3786"
             ],
             [
              0.5555555555555556,
              "#d8576b"
             ],
             [
              0.6666666666666666,
              "#ed7953"
             ],
             [
              0.7777777777777778,
              "#fb9f3a"
             ],
             [
              0.8888888888888888,
              "#fdca26"
             ],
             [
              1,
              "#f0f921"
             ]
            ],
            "type": "histogram2d"
           }
          ],
          "histogram2dcontour": [
           {
            "colorbar": {
             "outlinewidth": 0,
             "ticks": ""
            },
            "colorscale": [
             [
              0,
              "#0d0887"
             ],
             [
              0.1111111111111111,
              "#46039f"
             ],
             [
              0.2222222222222222,
              "#7201a8"
             ],
             [
              0.3333333333333333,
              "#9c179e"
             ],
             [
              0.4444444444444444,
              "#bd3786"
             ],
             [
              0.5555555555555556,
              "#d8576b"
             ],
             [
              0.6666666666666666,
              "#ed7953"
             ],
             [
              0.7777777777777778,
              "#fb9f3a"
             ],
             [
              0.8888888888888888,
              "#fdca26"
             ],
             [
              1,
              "#f0f921"
             ]
            ],
            "type": "histogram2dcontour"
           }
          ],
          "mesh3d": [
           {
            "colorbar": {
             "outlinewidth": 0,
             "ticks": ""
            },
            "type": "mesh3d"
           }
          ],
          "parcoords": [
           {
            "line": {
             "colorbar": {
              "outlinewidth": 0,
              "ticks": ""
             }
            },
            "type": "parcoords"
           }
          ],
          "pie": [
           {
            "automargin": true,
            "type": "pie"
           }
          ],
          "scatter": [
           {
            "fillpattern": {
             "fillmode": "overlay",
             "size": 10,
             "solidity": 0.2
            },
            "type": "scatter"
           }
          ],
          "scatter3d": [
           {
            "line": {
             "colorbar": {
              "outlinewidth": 0,
              "ticks": ""
             }
            },
            "marker": {
             "colorbar": {
              "outlinewidth": 0,
              "ticks": ""
             }
            },
            "type": "scatter3d"
           }
          ],
          "scattercarpet": [
           {
            "marker": {
             "colorbar": {
              "outlinewidth": 0,
              "ticks": ""
             }
            },
            "type": "scattercarpet"
           }
          ],
          "scattergeo": [
           {
            "marker": {
             "colorbar": {
              "outlinewidth": 0,
              "ticks": ""
             }
            },
            "type": "scattergeo"
           }
          ],
          "scattergl": [
           {
            "marker": {
             "colorbar": {
              "outlinewidth": 0,
              "ticks": ""
             }
            },
            "type": "scattergl"
           }
          ],
          "scattermap": [
           {
            "marker": {
             "colorbar": {
              "outlinewidth": 0,
              "ticks": ""
             }
            },
            "type": "scattermap"
           }
          ],
          "scattermapbox": [
           {
            "marker": {
             "colorbar": {
              "outlinewidth": 0,
              "ticks": ""
             }
            },
            "type": "scattermapbox"
           }
          ],
          "scatterpolar": [
           {
            "marker": {
             "colorbar": {
              "outlinewidth": 0,
              "ticks": ""
             }
            },
            "type": "scatterpolar"
           }
          ],
          "scatterpolargl": [
           {
            "marker": {
             "colorbar": {
              "outlinewidth": 0,
              "ticks": ""
             }
            },
            "type": "scatterpolargl"
           }
          ],
          "scatterternary": [
           {
            "marker": {
             "colorbar": {
              "outlinewidth": 0,
              "ticks": ""
             }
            },
            "type": "scatterternary"
           }
          ],
          "surface": [
           {
            "colorbar": {
             "outlinewidth": 0,
             "ticks": ""
            },
            "colorscale": [
             [
              0,
              "#0d0887"
             ],
             [
              0.1111111111111111,
              "#46039f"
             ],
             [
              0.2222222222222222,
              "#7201a8"
             ],
             [
              0.3333333333333333,
              "#9c179e"
             ],
             [
              0.4444444444444444,
              "#bd3786"
             ],
             [
              0.5555555555555556,
              "#d8576b"
             ],
             [
              0.6666666666666666,
              "#ed7953"
             ],
             [
              0.7777777777777778,
              "#fb9f3a"
             ],
             [
              0.8888888888888888,
              "#fdca26"
             ],
             [
              1,
              "#f0f921"
             ]
            ],
            "type": "surface"
           }
          ],
          "table": [
           {
            "cells": {
             "fill": {
              "color": "#EBF0F8"
             },
             "line": {
              "color": "white"
             }
            },
            "header": {
             "fill": {
              "color": "#C8D4E3"
             },
             "line": {
              "color": "white"
             }
            },
            "type": "table"
           }
          ]
         },
         "layout": {
          "annotationdefaults": {
           "arrowcolor": "#2a3f5f",
           "arrowhead": 0,
           "arrowwidth": 1
          },
          "autotypenumbers": "strict",
          "coloraxis": {
           "colorbar": {
            "outlinewidth": 0,
            "ticks": ""
           }
          },
          "colorscale": {
           "diverging": [
            [
             0,
             "#8e0152"
            ],
            [
             0.1,
             "#c51b7d"
            ],
            [
             0.2,
             "#de77ae"
            ],
            [
             0.3,
             "#f1b6da"
            ],
            [
             0.4,
             "#fde0ef"
            ],
            [
             0.5,
             "#f7f7f7"
            ],
            [
             0.6,
             "#e6f5d0"
            ],
            [
             0.7,
             "#b8e186"
            ],
            [
             0.8,
             "#7fbc41"
            ],
            [
             0.9,
             "#4d9221"
            ],
            [
             1,
             "#276419"
            ]
           ],
           "sequential": [
            [
             0,
             "#0d0887"
            ],
            [
             0.1111111111111111,
             "#46039f"
            ],
            [
             0.2222222222222222,
             "#7201a8"
            ],
            [
             0.3333333333333333,
             "#9c179e"
            ],
            [
             0.4444444444444444,
             "#bd3786"
            ],
            [
             0.5555555555555556,
             "#d8576b"
            ],
            [
             0.6666666666666666,
             "#ed7953"
            ],
            [
             0.7777777777777778,
             "#fb9f3a"
            ],
            [
             0.8888888888888888,
             "#fdca26"
            ],
            [
             1,
             "#f0f921"
            ]
           ],
           "sequentialminus": [
            [
             0,
             "#0d0887"
            ],
            [
             0.1111111111111111,
             "#46039f"
            ],
            [
             0.2222222222222222,
             "#7201a8"
            ],
            [
             0.3333333333333333,
             "#9c179e"
            ],
            [
             0.4444444444444444,
             "#bd3786"
            ],
            [
             0.5555555555555556,
             "#d8576b"
            ],
            [
             0.6666666666666666,
             "#ed7953"
            ],
            [
             0.7777777777777778,
             "#fb9f3a"
            ],
            [
             0.8888888888888888,
             "#fdca26"
            ],
            [
             1,
             "#f0f921"
            ]
           ]
          },
          "colorway": [
           "#636efa",
           "#EF553B",
           "#00cc96",
           "#ab63fa",
           "#FFA15A",
           "#19d3f3",
           "#FF6692",
           "#B6E880",
           "#FF97FF",
           "#FECB52"
          ],
          "font": {
           "color": "#2a3f5f"
          },
          "geo": {
           "bgcolor": "white",
           "lakecolor": "white",
           "landcolor": "#E5ECF6",
           "showlakes": true,
           "showland": true,
           "subunitcolor": "white"
          },
          "hoverlabel": {
           "align": "left"
          },
          "hovermode": "closest",
          "mapbox": {
           "style": "light"
          },
          "paper_bgcolor": "white",
          "plot_bgcolor": "#E5ECF6",
          "polar": {
           "angularaxis": {
            "gridcolor": "white",
            "linecolor": "white",
            "ticks": ""
           },
           "bgcolor": "#E5ECF6",
           "radialaxis": {
            "gridcolor": "white",
            "linecolor": "white",
            "ticks": ""
           }
          },
          "scene": {
           "xaxis": {
            "backgroundcolor": "#E5ECF6",
            "gridcolor": "white",
            "gridwidth": 2,
            "linecolor": "white",
            "showbackground": true,
            "ticks": "",
            "zerolinecolor": "white"
           },
           "yaxis": {
            "backgroundcolor": "#E5ECF6",
            "gridcolor": "white",
            "gridwidth": 2,
            "linecolor": "white",
            "showbackground": true,
            "ticks": "",
            "zerolinecolor": "white"
           },
           "zaxis": {
            "backgroundcolor": "#E5ECF6",
            "gridcolor": "white",
            "gridwidth": 2,
            "linecolor": "white",
            "showbackground": true,
            "ticks": "",
            "zerolinecolor": "white"
           }
          },
          "shapedefaults": {
           "line": {
            "color": "#2a3f5f"
           }
          },
          "ternary": {
           "aaxis": {
            "gridcolor": "white",
            "linecolor": "white",
            "ticks": ""
           },
           "baxis": {
            "gridcolor": "white",
            "linecolor": "white",
            "ticks": ""
           },
           "bgcolor": "#E5ECF6",
           "caxis": {
            "gridcolor": "white",
            "linecolor": "white",
            "ticks": ""
           }
          },
          "title": {
           "x": 0.05
          },
          "xaxis": {
           "automargin": true,
           "gridcolor": "white",
           "linecolor": "white",
           "ticks": "",
           "title": {
            "standoff": 15
           },
           "zerolinecolor": "white",
           "zerolinewidth": 2
          },
          "yaxis": {
           "automargin": true,
           "gridcolor": "white",
           "linecolor": "white",
           "ticks": "",
           "title": {
            "standoff": 15
           },
           "zerolinecolor": "white",
           "zerolinewidth": 2
          }
         }
        },
        "title": {
         "text": "Contenido publicado a lo largo de los años"
        }
       }
      },
      "text/html": [
       "<div>            <script src=\"https://cdnjs.cloudflare.com/ajax/libs/mathjax/2.7.5/MathJax.js?config=TeX-AMS-MML_SVG\"></script><script type=\"text/javascript\">if (window.MathJax && window.MathJax.Hub && window.MathJax.Hub.Config) {window.MathJax.Hub.Config({SVG: {font: \"STIX-Web\"}});}</script>                <script type=\"text/javascript\">window.PlotlyConfig = {MathJaxConfig: 'local'};</script>\n",
       "        <script charset=\"utf-8\" src=\"https://cdn.plot.ly/plotly-3.0.0.min.js\"></script>                <div id=\"a7632bef-2bd4-427b-a60b-51d0e949474d\" class=\"plotly-graph-div\" style=\"height:525px; width:100%;\"></div>            <script type=\"text/javascript\">                window.PLOTLYENV=window.PLOTLYENV || {};                                if (document.getElementById(\"a7632bef-2bd4-427b-a60b-51d0e949474d\")) {                    Plotly.newPlot(                        \"a7632bef-2bd4-427b-a60b-51d0e949474d\",                        [{\"marker\":{\"color\":\"#a678de\"},\"name\":\"TV Shows\",\"x\":{\"dtype\":\"f8\",\"bdata\":\"AAAAAACMn0AAAAAAAJCfQAAAAAAAlJ9A\"},\"y\":{\"dtype\":\"i2\",\"bdata\":\"hwB6AIoA\"},\"type\":\"bar\"},{\"marker\":{\"color\":\"#6ad49b\"},\"name\":\"Movies\",\"x\":{\"dtype\":\"f8\",\"bdata\":\"AAAAAACMn0AAAAAAAJCfQAAAAAAAlJ9A\"},\"y\":{\"dtype\":\"i2\",\"bdata\":\"dgLmAMAA\"},\"type\":\"bar\"}],                        {\"legend\":{\"orientation\":\"h\",\"x\":0.1,\"y\":1.1},\"title\":{\"text\":\"Contenido publicado a lo largo de los a\\u00f1os\"},\"template\":{\"data\":{\"histogram2dcontour\":[{\"type\":\"histogram2dcontour\",\"colorbar\":{\"outlinewidth\":0,\"ticks\":\"\"},\"colorscale\":[[0.0,\"#0d0887\"],[0.1111111111111111,\"#46039f\"],[0.2222222222222222,\"#7201a8\"],[0.3333333333333333,\"#9c179e\"],[0.4444444444444444,\"#bd3786\"],[0.5555555555555556,\"#d8576b\"],[0.6666666666666666,\"#ed7953\"],[0.7777777777777778,\"#fb9f3a\"],[0.8888888888888888,\"#fdca26\"],[1.0,\"#f0f921\"]]}],\"choropleth\":[{\"type\":\"choropleth\",\"colorbar\":{\"outlinewidth\":0,\"ticks\":\"\"}}],\"histogram2d\":[{\"type\":\"histogram2d\",\"colorbar\":{\"outlinewidth\":0,\"ticks\":\"\"},\"colorscale\":[[0.0,\"#0d0887\"],[0.1111111111111111,\"#46039f\"],[0.2222222222222222,\"#7201a8\"],[0.3333333333333333,\"#9c179e\"],[0.4444444444444444,\"#bd3786\"],[0.5555555555555556,\"#d8576b\"],[0.6666666666666666,\"#ed7953\"],[0.7777777777777778,\"#fb9f3a\"],[0.8888888888888888,\"#fdca26\"],[1.0,\"#f0f921\"]]}],\"heatmap\":[{\"type\":\"heatmap\",\"colorbar\":{\"outlinewidth\":0,\"ticks\":\"\"},\"colorscale\":[[0.0,\"#0d0887\"],[0.1111111111111111,\"#46039f\"],[0.2222222222222222,\"#7201a8\"],[0.3333333333333333,\"#9c179e\"],[0.4444444444444444,\"#bd3786\"],[0.5555555555555556,\"#d8576b\"],[0.6666666666666666,\"#ed7953\"],[0.7777777777777778,\"#fb9f3a\"],[0.8888888888888888,\"#fdca26\"],[1.0,\"#f0f921\"]]}],\"contourcarpet\":[{\"type\":\"contourcarpet\",\"colorbar\":{\"outlinewidth\":0,\"ticks\":\"\"}}],\"contour\":[{\"type\":\"contour\",\"colorbar\":{\"outlinewidth\":0,\"ticks\":\"\"},\"colorscale\":[[0.0,\"#0d0887\"],[0.1111111111111111,\"#46039f\"],[0.2222222222222222,\"#7201a8\"],[0.3333333333333333,\"#9c179e\"],[0.4444444444444444,\"#bd3786\"],[0.5555555555555556,\"#d8576b\"],[0.6666666666666666,\"#ed7953\"],[0.7777777777777778,\"#fb9f3a\"],[0.8888888888888888,\"#fdca26\"],[1.0,\"#f0f921\"]]}],\"surface\":[{\"type\":\"surface\",\"colorbar\":{\"outlinewidth\":0,\"ticks\":\"\"},\"colorscale\":[[0.0,\"#0d0887\"],[0.1111111111111111,\"#46039f\"],[0.2222222222222222,\"#7201a8\"],[0.3333333333333333,\"#9c179e\"],[0.4444444444444444,\"#bd3786\"],[0.5555555555555556,\"#d8576b\"],[0.6666666666666666,\"#ed7953\"],[0.7777777777777778,\"#fb9f3a\"],[0.8888888888888888,\"#fdca26\"],[1.0,\"#f0f921\"]]}],\"mesh3d\":[{\"type\":\"mesh3d\",\"colorbar\":{\"outlinewidth\":0,\"ticks\":\"\"}}],\"scatter\":[{\"fillpattern\":{\"fillmode\":\"overlay\",\"size\":10,\"solidity\":0.2},\"type\":\"scatter\"}],\"parcoords\":[{\"type\":\"parcoords\",\"line\":{\"colorbar\":{\"outlinewidth\":0,\"ticks\":\"\"}}}],\"scatterpolargl\":[{\"type\":\"scatterpolargl\",\"marker\":{\"colorbar\":{\"outlinewidth\":0,\"ticks\":\"\"}}}],\"bar\":[{\"error_x\":{\"color\":\"#2a3f5f\"},\"error_y\":{\"color\":\"#2a3f5f\"},\"marker\":{\"line\":{\"color\":\"#E5ECF6\",\"width\":0.5},\"pattern\":{\"fillmode\":\"overlay\",\"size\":10,\"solidity\":0.2}},\"type\":\"bar\"}],\"scattergeo\":[{\"type\":\"scattergeo\",\"marker\":{\"colorbar\":{\"outlinewidth\":0,\"ticks\":\"\"}}}],\"scatterpolar\":[{\"type\":\"scatterpolar\",\"marker\":{\"colorbar\":{\"outlinewidth\":0,\"ticks\":\"\"}}}],\"histogram\":[{\"marker\":{\"pattern\":{\"fillmode\":\"overlay\",\"size\":10,\"solidity\":0.2}},\"type\":\"histogram\"}],\"scattergl\":[{\"type\":\"scattergl\",\"marker\":{\"colorbar\":{\"outlinewidth\":0,\"ticks\":\"\"}}}],\"scatter3d\":[{\"type\":\"scatter3d\",\"line\":{\"colorbar\":{\"outlinewidth\":0,\"ticks\":\"\"}},\"marker\":{\"colorbar\":{\"outlinewidth\":0,\"ticks\":\"\"}}}],\"scattermap\":[{\"type\":\"scattermap\",\"marker\":{\"colorbar\":{\"outlinewidth\":0,\"ticks\":\"\"}}}],\"scattermapbox\":[{\"type\":\"scattermapbox\",\"marker\":{\"colorbar\":{\"outlinewidth\":0,\"ticks\":\"\"}}}],\"scatterternary\":[{\"type\":\"scatterternary\",\"marker\":{\"colorbar\":{\"outlinewidth\":0,\"ticks\":\"\"}}}],\"scattercarpet\":[{\"type\":\"scattercarpet\",\"marker\":{\"colorbar\":{\"outlinewidth\":0,\"ticks\":\"\"}}}],\"carpet\":[{\"aaxis\":{\"endlinecolor\":\"#2a3f5f\",\"gridcolor\":\"white\",\"linecolor\":\"white\",\"minorgridcolor\":\"white\",\"startlinecolor\":\"#2a3f5f\"},\"baxis\":{\"endlinecolor\":\"#2a3f5f\",\"gridcolor\":\"white\",\"linecolor\":\"white\",\"minorgridcolor\":\"white\",\"startlinecolor\":\"#2a3f5f\"},\"type\":\"carpet\"}],\"table\":[{\"cells\":{\"fill\":{\"color\":\"#EBF0F8\"},\"line\":{\"color\":\"white\"}},\"header\":{\"fill\":{\"color\":\"#C8D4E3\"},\"line\":{\"color\":\"white\"}},\"type\":\"table\"}],\"barpolar\":[{\"marker\":{\"line\":{\"color\":\"#E5ECF6\",\"width\":0.5},\"pattern\":{\"fillmode\":\"overlay\",\"size\":10,\"solidity\":0.2}},\"type\":\"barpolar\"}],\"pie\":[{\"automargin\":true,\"type\":\"pie\"}]},\"layout\":{\"autotypenumbers\":\"strict\",\"colorway\":[\"#636efa\",\"#EF553B\",\"#00cc96\",\"#ab63fa\",\"#FFA15A\",\"#19d3f3\",\"#FF6692\",\"#B6E880\",\"#FF97FF\",\"#FECB52\"],\"font\":{\"color\":\"#2a3f5f\"},\"hovermode\":\"closest\",\"hoverlabel\":{\"align\":\"left\"},\"paper_bgcolor\":\"white\",\"plot_bgcolor\":\"#E5ECF6\",\"polar\":{\"bgcolor\":\"#E5ECF6\",\"angularaxis\":{\"gridcolor\":\"white\",\"linecolor\":\"white\",\"ticks\":\"\"},\"radialaxis\":{\"gridcolor\":\"white\",\"linecolor\":\"white\",\"ticks\":\"\"}},\"ternary\":{\"bgcolor\":\"#E5ECF6\",\"aaxis\":{\"gridcolor\":\"white\",\"linecolor\":\"white\",\"ticks\":\"\"},\"baxis\":{\"gridcolor\":\"white\",\"linecolor\":\"white\",\"ticks\":\"\"},\"caxis\":{\"gridcolor\":\"white\",\"linecolor\":\"white\",\"ticks\":\"\"}},\"coloraxis\":{\"colorbar\":{\"outlinewidth\":0,\"ticks\":\"\"}},\"colorscale\":{\"sequential\":[[0.0,\"#0d0887\"],[0.1111111111111111,\"#46039f\"],[0.2222222222222222,\"#7201a8\"],[0.3333333333333333,\"#9c179e\"],[0.4444444444444444,\"#bd3786\"],[0.5555555555555556,\"#d8576b\"],[0.6666666666666666,\"#ed7953\"],[0.7777777777777778,\"#fb9f3a\"],[0.8888888888888888,\"#fdca26\"],[1.0,\"#f0f921\"]],\"sequentialminus\":[[0.0,\"#0d0887\"],[0.1111111111111111,\"#46039f\"],[0.2222222222222222,\"#7201a8\"],[0.3333333333333333,\"#9c179e\"],[0.4444444444444444,\"#bd3786\"],[0.5555555555555556,\"#d8576b\"],[0.6666666666666666,\"#ed7953\"],[0.7777777777777778,\"#fb9f3a\"],[0.8888888888888888,\"#fdca26\"],[1.0,\"#f0f921\"]],\"diverging\":[[0,\"#8e0152\"],[0.1,\"#c51b7d\"],[0.2,\"#de77ae\"],[0.3,\"#f1b6da\"],[0.4,\"#fde0ef\"],[0.5,\"#f7f7f7\"],[0.6,\"#e6f5d0\"],[0.7,\"#b8e186\"],[0.8,\"#7fbc41\"],[0.9,\"#4d9221\"],[1,\"#276419\"]]},\"xaxis\":{\"gridcolor\":\"white\",\"linecolor\":\"white\",\"ticks\":\"\",\"title\":{\"standoff\":15},\"zerolinecolor\":\"white\",\"automargin\":true,\"zerolinewidth\":2},\"yaxis\":{\"gridcolor\":\"white\",\"linecolor\":\"white\",\"ticks\":\"\",\"title\":{\"standoff\":15},\"zerolinecolor\":\"white\",\"automargin\":true,\"zerolinewidth\":2},\"scene\":{\"xaxis\":{\"backgroundcolor\":\"#E5ECF6\",\"gridcolor\":\"white\",\"linecolor\":\"white\",\"showbackground\":true,\"ticks\":\"\",\"zerolinecolor\":\"white\",\"gridwidth\":2},\"yaxis\":{\"backgroundcolor\":\"#E5ECF6\",\"gridcolor\":\"white\",\"linecolor\":\"white\",\"showbackground\":true,\"ticks\":\"\",\"zerolinecolor\":\"white\",\"gridwidth\":2},\"zaxis\":{\"backgroundcolor\":\"#E5ECF6\",\"gridcolor\":\"white\",\"linecolor\":\"white\",\"showbackground\":true,\"ticks\":\"\",\"zerolinecolor\":\"white\",\"gridwidth\":2}},\"shapedefaults\":{\"line\":{\"color\":\"#2a3f5f\"}},\"annotationdefaults\":{\"arrowcolor\":\"#2a3f5f\",\"arrowhead\":0,\"arrowwidth\":1},\"geo\":{\"bgcolor\":\"white\",\"landcolor\":\"#E5ECF6\",\"subunitcolor\":\"white\",\"showland\":true,\"showlakes\":true,\"lakecolor\":\"white\"},\"title\":{\"x\":0.05},\"mapbox\":{\"style\":\"light\"}}}},                        {\"responsive\": true}                    ).then(function(){\n",
       "                            \n",
       "var gd = document.getElementById('a7632bef-2bd4-427b-a60b-51d0e949474d');\n",
       "var x = new MutationObserver(function (mutations, observer) {{\n",
       "        var display = window.getComputedStyle(gd).display;\n",
       "        if (!display || display === 'none') {{\n",
       "            console.log([gd, 'removed!']);\n",
       "            Plotly.purge(gd);\n",
       "            observer.disconnect();\n",
       "        }}\n",
       "}});\n",
       "\n",
       "// Listen for the removal of the full notebook cells\n",
       "var notebookContainer = gd.closest('#notebook-container');\n",
       "if (notebookContainer) {{\n",
       "    x.observe(notebookContainer, {childList: true});\n",
       "}}\n",
       "\n",
       "// Listen for the clearing of the current output cell\n",
       "var outputEl = gd.closest('.output');\n",
       "if (outputEl) {{\n",
       "    x.observe(outputEl, {childList: true});\n",
       "}}\n",
       "\n",
       "                        })                };            </script>        </div>"
      ]
     },
     "metadata": {},
     "output_type": "display_data"
    }
   ],
   "source": [
    "# Filtrar por tipo\n",
    "d1 = df[df[\"type\"] == \"TV Show\"]\n",
    "d2 = df[df[\"type\"] == \"Movie\"]\n",
    "\n",
    "col = \"year_added\"\n",
    "\n",
    "# Procesar datos para TV Shows\n",
    "vc1 = d1[col].value_counts().reset_index()\n",
    "vc1.columns = [col, \"count\"]  \n",
    "vc1['count'] = pd.to_numeric(vc1['count'], errors='coerce')  \n",
    "vc1['percent'] = vc1['count'] / vc1['count'].sum() * 100\n",
    "vc1 = vc1.sort_values(col)\n",
    "\n",
    "# Procesar datos para Movies\n",
    "vc2 = d2[col].value_counts().reset_index()\n",
    "vc2.columns = [col, \"count\"]  \n",
    "vc2['count'] = pd.to_numeric(vc2['count'], errors='coerce')  \n",
    "vc2['percent'] = vc2['count'] / vc2['count'].sum() * 100\n",
    "vc2 = vc2.sort_values(col)\n",
    "\n",
    "# Crear el gráfico\n",
    "trace1 = go.Bar(x=vc1[col], y=vc1[\"count\"], name=\"TV Shows\", marker=dict(color=\"#a678de\"))\n",
    "trace2 = go.Bar(x=vc2[col], y=vc2[\"count\"], name=\"Movies\", marker=dict(color=\"#6ad49b\"))\n",
    "data = [trace1, trace2]\n",
    "layout = go.Layout(title=\"Contenido publicado a lo largo de los años\", legend=dict(x=0.1, y=1.1, orientation=\"h\"))\n",
    "\n",
    "fig = go.Figure(data, layout=layout)\n",
    "\n",
    "# Mostrar el gráfico\n",
    "fig.show()\n"
   ]
  },
  {
   "cell_type": "markdown",
   "id": "4a0847a8",
   "metadata": {
    "papermill": {
     "duration": 0.02188,
     "end_time": "2021-10-02T08:28:39.995096",
     "exception": false,
     "start_time": "2021-10-02T08:28:39.973216",
     "status": "completed"
    },
    "tags": []
   },
   "source": [
    " \n",
    " ## 3. Año de estreno de las peliculas"
   ]
  },
  {
   "cell_type": "code",
   "execution_count": 26,
   "id": "6b4515eb",
   "metadata": {
    "_kg_hide-input": true,
    "execution": {
     "iopub.execute_input": "2021-10-02T08:28:40.128120Z",
     "iopub.status.busy": "2021-10-02T08:28:40.127361Z",
     "iopub.status.idle": "2021-10-02T08:28:40.141144Z",
     "shell.execute_reply": "2021-10-02T08:28:40.140623Z",
     "shell.execute_reply.started": "2021-10-02T08:25:19.815992Z"
    },
    "papermill": {
     "duration": 0.046341,
     "end_time": "2021-10-02T08:28:40.141289",
     "exception": false,
     "start_time": "2021-10-02T08:28:40.094948",
     "status": "completed"
    },
    "tags": []
   },
   "outputs": [
    {
     "data": {
      "application/vnd.plotly.v1+json": {
       "config": {
        "plotlyServerURL": "https://plot.ly"
       },
       "data": [
        {
         "marker": {
          "color": "#a678de"
         },
         "name": "TV Shows",
         "type": "bar",
         "x": {
          "bdata": "AAAAAAAA8D8AAAAAAAAAQAAAAAAAAAhAAAAAAAAAEEAAAAAAAAAUQAAAAAAAABhAAAAAAAAAHEAAAAAAAAAgQAAAAAAAACJAAAAAAAAAJEAAAAAAAAAmQAAAAAAAAChA",
          "dtype": "f8"
         },
         "y": {
          "bdata": "FwASAAoAGQAeABYAIwAVAB8AFgCRAA0A",
          "dtype": "i2"
         }
        }
       ],
       "layout": {
        "legend": {
         "orientation": "h",
         "x": 0.1,
         "y": 1.1
        },
        "template": {
         "data": {
          "bar": [
           {
            "error_x": {
             "color": "#2a3f5f"
            },
            "error_y": {
             "color": "#2a3f5f"
            },
            "marker": {
             "line": {
              "color": "#E5ECF6",
              "width": 0.5
             },
             "pattern": {
              "fillmode": "overlay",
              "size": 10,
              "solidity": 0.2
             }
            },
            "type": "bar"
           }
          ],
          "barpolar": [
           {
            "marker": {
             "line": {
              "color": "#E5ECF6",
              "width": 0.5
             },
             "pattern": {
              "fillmode": "overlay",
              "size": 10,
              "solidity": 0.2
             }
            },
            "type": "barpolar"
           }
          ],
          "carpet": [
           {
            "aaxis": {
             "endlinecolor": "#2a3f5f",
             "gridcolor": "white",
             "linecolor": "white",
             "minorgridcolor": "white",
             "startlinecolor": "#2a3f5f"
            },
            "baxis": {
             "endlinecolor": "#2a3f5f",
             "gridcolor": "white",
             "linecolor": "white",
             "minorgridcolor": "white",
             "startlinecolor": "#2a3f5f"
            },
            "type": "carpet"
           }
          ],
          "choropleth": [
           {
            "colorbar": {
             "outlinewidth": 0,
             "ticks": ""
            },
            "type": "choropleth"
           }
          ],
          "contour": [
           {
            "colorbar": {
             "outlinewidth": 0,
             "ticks": ""
            },
            "colorscale": [
             [
              0,
              "#0d0887"
             ],
             [
              0.1111111111111111,
              "#46039f"
             ],
             [
              0.2222222222222222,
              "#7201a8"
             ],
             [
              0.3333333333333333,
              "#9c179e"
             ],
             [
              0.4444444444444444,
              "#bd3786"
             ],
             [
              0.5555555555555556,
              "#d8576b"
             ],
             [
              0.6666666666666666,
              "#ed7953"
             ],
             [
              0.7777777777777778,
              "#fb9f3a"
             ],
             [
              0.8888888888888888,
              "#fdca26"
             ],
             [
              1,
              "#f0f921"
             ]
            ],
            "type": "contour"
           }
          ],
          "contourcarpet": [
           {
            "colorbar": {
             "outlinewidth": 0,
             "ticks": ""
            },
            "type": "contourcarpet"
           }
          ],
          "heatmap": [
           {
            "colorbar": {
             "outlinewidth": 0,
             "ticks": ""
            },
            "colorscale": [
             [
              0,
              "#0d0887"
             ],
             [
              0.1111111111111111,
              "#46039f"
             ],
             [
              0.2222222222222222,
              "#7201a8"
             ],
             [
              0.3333333333333333,
              "#9c179e"
             ],
             [
              0.4444444444444444,
              "#bd3786"
             ],
             [
              0.5555555555555556,
              "#d8576b"
             ],
             [
              0.6666666666666666,
              "#ed7953"
             ],
             [
              0.7777777777777778,
              "#fb9f3a"
             ],
             [
              0.8888888888888888,
              "#fdca26"
             ],
             [
              1,
              "#f0f921"
             ]
            ],
            "type": "heatmap"
           }
          ],
          "histogram": [
           {
            "marker": {
             "pattern": {
              "fillmode": "overlay",
              "size": 10,
              "solidity": 0.2
             }
            },
            "type": "histogram"
           }
          ],
          "histogram2d": [
           {
            "colorbar": {
             "outlinewidth": 0,
             "ticks": ""
            },
            "colorscale": [
             [
              0,
              "#0d0887"
             ],
             [
              0.1111111111111111,
              "#46039f"
             ],
             [
              0.2222222222222222,
              "#7201a8"
             ],
             [
              0.3333333333333333,
              "#9c179e"
             ],
             [
              0.4444444444444444,
              "#bd3786"
             ],
             [
              0.5555555555555556,
              "#d8576b"
             ],
             [
              0.6666666666666666,
              "#ed7953"
             ],
             [
              0.7777777777777778,
              "#fb9f3a"
             ],
             [
              0.8888888888888888,
              "#fdca26"
             ],
             [
              1,
              "#f0f921"
             ]
            ],
            "type": "histogram2d"
           }
          ],
          "histogram2dcontour": [
           {
            "colorbar": {
             "outlinewidth": 0,
             "ticks": ""
            },
            "colorscale": [
             [
              0,
              "#0d0887"
             ],
             [
              0.1111111111111111,
              "#46039f"
             ],
             [
              0.2222222222222222,
              "#7201a8"
             ],
             [
              0.3333333333333333,
              "#9c179e"
             ],
             [
              0.4444444444444444,
              "#bd3786"
             ],
             [
              0.5555555555555556,
              "#d8576b"
             ],
             [
              0.6666666666666666,
              "#ed7953"
             ],
             [
              0.7777777777777778,
              "#fb9f3a"
             ],
             [
              0.8888888888888888,
              "#fdca26"
             ],
             [
              1,
              "#f0f921"
             ]
            ],
            "type": "histogram2dcontour"
           }
          ],
          "mesh3d": [
           {
            "colorbar": {
             "outlinewidth": 0,
             "ticks": ""
            },
            "type": "mesh3d"
           }
          ],
          "parcoords": [
           {
            "line": {
             "colorbar": {
              "outlinewidth": 0,
              "ticks": ""
             }
            },
            "type": "parcoords"
           }
          ],
          "pie": [
           {
            "automargin": true,
            "type": "pie"
           }
          ],
          "scatter": [
           {
            "fillpattern": {
             "fillmode": "overlay",
             "size": 10,
             "solidity": 0.2
            },
            "type": "scatter"
           }
          ],
          "scatter3d": [
           {
            "line": {
             "colorbar": {
              "outlinewidth": 0,
              "ticks": ""
             }
            },
            "marker": {
             "colorbar": {
              "outlinewidth": 0,
              "ticks": ""
             }
            },
            "type": "scatter3d"
           }
          ],
          "scattercarpet": [
           {
            "marker": {
             "colorbar": {
              "outlinewidth": 0,
              "ticks": ""
             }
            },
            "type": "scattercarpet"
           }
          ],
          "scattergeo": [
           {
            "marker": {
             "colorbar": {
              "outlinewidth": 0,
              "ticks": ""
             }
            },
            "type": "scattergeo"
           }
          ],
          "scattergl": [
           {
            "marker": {
             "colorbar": {
              "outlinewidth": 0,
              "ticks": ""
             }
            },
            "type": "scattergl"
           }
          ],
          "scattermap": [
           {
            "marker": {
             "colorbar": {
              "outlinewidth": 0,
              "ticks": ""
             }
            },
            "type": "scattermap"
           }
          ],
          "scattermapbox": [
           {
            "marker": {
             "colorbar": {
              "outlinewidth": 0,
              "ticks": ""
             }
            },
            "type": "scattermapbox"
           }
          ],
          "scatterpolar": [
           {
            "marker": {
             "colorbar": {
              "outlinewidth": 0,
              "ticks": ""
             }
            },
            "type": "scatterpolar"
           }
          ],
          "scatterpolargl": [
           {
            "marker": {
             "colorbar": {
              "outlinewidth": 0,
              "ticks": ""
             }
            },
            "type": "scatterpolargl"
           }
          ],
          "scatterternary": [
           {
            "marker": {
             "colorbar": {
              "outlinewidth": 0,
              "ticks": ""
             }
            },
            "type": "scatterternary"
           }
          ],
          "surface": [
           {
            "colorbar": {
             "outlinewidth": 0,
             "ticks": ""
            },
            "colorscale": [
             [
              0,
              "#0d0887"
             ],
             [
              0.1111111111111111,
              "#46039f"
             ],
             [
              0.2222222222222222,
              "#7201a8"
             ],
             [
              0.3333333333333333,
              "#9c179e"
             ],
             [
              0.4444444444444444,
              "#bd3786"
             ],
             [
              0.5555555555555556,
              "#d8576b"
             ],
             [
              0.6666666666666666,
              "#ed7953"
             ],
             [
              0.7777777777777778,
              "#fb9f3a"
             ],
             [
              0.8888888888888888,
              "#fdca26"
             ],
             [
              1,
              "#f0f921"
             ]
            ],
            "type": "surface"
           }
          ],
          "table": [
           {
            "cells": {
             "fill": {
              "color": "#EBF0F8"
             },
             "line": {
              "color": "white"
             }
            },
            "header": {
             "fill": {
              "color": "#C8D4E3"
             },
             "line": {
              "color": "white"
             }
            },
            "type": "table"
           }
          ]
         },
         "layout": {
          "annotationdefaults": {
           "arrowcolor": "#2a3f5f",
           "arrowhead": 0,
           "arrowwidth": 1
          },
          "autotypenumbers": "strict",
          "coloraxis": {
           "colorbar": {
            "outlinewidth": 0,
            "ticks": ""
           }
          },
          "colorscale": {
           "diverging": [
            [
             0,
             "#8e0152"
            ],
            [
             0.1,
             "#c51b7d"
            ],
            [
             0.2,
             "#de77ae"
            ],
            [
             0.3,
             "#f1b6da"
            ],
            [
             0.4,
             "#fde0ef"
            ],
            [
             0.5,
             "#f7f7f7"
            ],
            [
             0.6,
             "#e6f5d0"
            ],
            [
             0.7,
             "#b8e186"
            ],
            [
             0.8,
             "#7fbc41"
            ],
            [
             0.9,
             "#4d9221"
            ],
            [
             1,
             "#276419"
            ]
           ],
           "sequential": [
            [
             0,
             "#0d0887"
            ],
            [
             0.1111111111111111,
             "#46039f"
            ],
            [
             0.2222222222222222,
             "#7201a8"
            ],
            [
             0.3333333333333333,
             "#9c179e"
            ],
            [
             0.4444444444444444,
             "#bd3786"
            ],
            [
             0.5555555555555556,
             "#d8576b"
            ],
            [
             0.6666666666666666,
             "#ed7953"
            ],
            [
             0.7777777777777778,
             "#fb9f3a"
            ],
            [
             0.8888888888888888,
             "#fdca26"
            ],
            [
             1,
             "#f0f921"
            ]
           ],
           "sequentialminus": [
            [
             0,
             "#0d0887"
            ],
            [
             0.1111111111111111,
             "#46039f"
            ],
            [
             0.2222222222222222,
             "#7201a8"
            ],
            [
             0.3333333333333333,
             "#9c179e"
            ],
            [
             0.4444444444444444,
             "#bd3786"
            ],
            [
             0.5555555555555556,
             "#d8576b"
            ],
            [
             0.6666666666666666,
             "#ed7953"
            ],
            [
             0.7777777777777778,
             "#fb9f3a"
            ],
            [
             0.8888888888888888,
             "#fdca26"
            ],
            [
             1,
             "#f0f921"
            ]
           ]
          },
          "colorway": [
           "#636efa",
           "#EF553B",
           "#00cc96",
           "#ab63fa",
           "#FFA15A",
           "#19d3f3",
           "#FF6692",
           "#B6E880",
           "#FF97FF",
           "#FECB52"
          ],
          "font": {
           "color": "#2a3f5f"
          },
          "geo": {
           "bgcolor": "white",
           "lakecolor": "white",
           "landcolor": "#E5ECF6",
           "showlakes": true,
           "showland": true,
           "subunitcolor": "white"
          },
          "hoverlabel": {
           "align": "left"
          },
          "hovermode": "closest",
          "mapbox": {
           "style": "light"
          },
          "paper_bgcolor": "white",
          "plot_bgcolor": "#E5ECF6",
          "polar": {
           "angularaxis": {
            "gridcolor": "white",
            "linecolor": "white",
            "ticks": ""
           },
           "bgcolor": "#E5ECF6",
           "radialaxis": {
            "gridcolor": "white",
            "linecolor": "white",
            "ticks": ""
           }
          },
          "scene": {
           "xaxis": {
            "backgroundcolor": "#E5ECF6",
            "gridcolor": "white",
            "gridwidth": 2,
            "linecolor": "white",
            "showbackground": true,
            "ticks": "",
            "zerolinecolor": "white"
           },
           "yaxis": {
            "backgroundcolor": "#E5ECF6",
            "gridcolor": "white",
            "gridwidth": 2,
            "linecolor": "white",
            "showbackground": true,
            "ticks": "",
            "zerolinecolor": "white"
           },
           "zaxis": {
            "backgroundcolor": "#E5ECF6",
            "gridcolor": "white",
            "gridwidth": 2,
            "linecolor": "white",
            "showbackground": true,
            "ticks": "",
            "zerolinecolor": "white"
           }
          },
          "shapedefaults": {
           "line": {
            "color": "#2a3f5f"
           }
          },
          "ternary": {
           "aaxis": {
            "gridcolor": "white",
            "linecolor": "white",
            "ticks": ""
           },
           "baxis": {
            "gridcolor": "white",
            "linecolor": "white",
            "ticks": ""
           },
           "bgcolor": "#E5ECF6",
           "caxis": {
            "gridcolor": "white",
            "linecolor": "white",
            "ticks": ""
           }
          },
          "title": {
           "x": 0.05
          },
          "xaxis": {
           "automargin": true,
           "gridcolor": "white",
           "linecolor": "white",
           "ticks": "",
           "title": {
            "standoff": 15
           },
           "zerolinecolor": "white",
           "zerolinewidth": 2
          },
          "yaxis": {
           "automargin": true,
           "gridcolor": "white",
           "linecolor": "white",
           "ticks": "",
           "title": {
            "standoff": 15
           },
           "zerolinecolor": "white",
           "zerolinewidth": 2
          }
         }
        },
        "title": {
         "text": "En que més se añadió más contenido?"
        },
        "xaxis": {
         "title": {
          "text": "Mes"
         }
        },
        "yaxis": {
         "title": {
          "text": "Numero"
         }
        }
       }
      },
      "text/html": [
       "<div>            <script src=\"https://cdnjs.cloudflare.com/ajax/libs/mathjax/2.7.5/MathJax.js?config=TeX-AMS-MML_SVG\"></script><script type=\"text/javascript\">if (window.MathJax && window.MathJax.Hub && window.MathJax.Hub.Config) {window.MathJax.Hub.Config({SVG: {font: \"STIX-Web\"}});}</script>                <script type=\"text/javascript\">window.PlotlyConfig = {MathJaxConfig: 'local'};</script>\n",
       "        <script charset=\"utf-8\" src=\"https://cdn.plot.ly/plotly-3.0.0.min.js\"></script>                <div id=\"d70f3a30-4a0e-41c2-8207-b41da92d721b\" class=\"plotly-graph-div\" style=\"height:525px; width:100%;\"></div>            <script type=\"text/javascript\">                window.PLOTLYENV=window.PLOTLYENV || {};                                if (document.getElementById(\"d70f3a30-4a0e-41c2-8207-b41da92d721b\")) {                    Plotly.newPlot(                        \"d70f3a30-4a0e-41c2-8207-b41da92d721b\",                        [{\"marker\":{\"color\":\"#a678de\"},\"name\":\"TV Shows\",\"x\":{\"dtype\":\"f8\",\"bdata\":\"AAAAAAAA8D8AAAAAAAAAQAAAAAAAAAhAAAAAAAAAEEAAAAAAAAAUQAAAAAAAABhAAAAAAAAAHEAAAAAAAAAgQAAAAAAAACJAAAAAAAAAJEAAAAAAAAAmQAAAAAAAAChA\"},\"y\":{\"dtype\":\"i2\",\"bdata\":\"FwASAAoAGQAeABYAIwAVAB8AFgCRAA0A\"},\"type\":\"bar\"}],                        {\"legend\":{\"orientation\":\"h\",\"x\":0.1,\"y\":1.1},\"title\":{\"text\":\"En que m\\u00e9s se a\\u00f1adi\\u00f3 m\\u00e1s contenido?\"},\"xaxis\":{\"title\":{\"text\":\"Mes\"}},\"yaxis\":{\"title\":{\"text\":\"Numero\"}},\"template\":{\"data\":{\"histogram2dcontour\":[{\"type\":\"histogram2dcontour\",\"colorbar\":{\"outlinewidth\":0,\"ticks\":\"\"},\"colorscale\":[[0.0,\"#0d0887\"],[0.1111111111111111,\"#46039f\"],[0.2222222222222222,\"#7201a8\"],[0.3333333333333333,\"#9c179e\"],[0.4444444444444444,\"#bd3786\"],[0.5555555555555556,\"#d8576b\"],[0.6666666666666666,\"#ed7953\"],[0.7777777777777778,\"#fb9f3a\"],[0.8888888888888888,\"#fdca26\"],[1.0,\"#f0f921\"]]}],\"choropleth\":[{\"type\":\"choropleth\",\"colorbar\":{\"outlinewidth\":0,\"ticks\":\"\"}}],\"histogram2d\":[{\"type\":\"histogram2d\",\"colorbar\":{\"outlinewidth\":0,\"ticks\":\"\"},\"colorscale\":[[0.0,\"#0d0887\"],[0.1111111111111111,\"#46039f\"],[0.2222222222222222,\"#7201a8\"],[0.3333333333333333,\"#9c179e\"],[0.4444444444444444,\"#bd3786\"],[0.5555555555555556,\"#d8576b\"],[0.6666666666666666,\"#ed7953\"],[0.7777777777777778,\"#fb9f3a\"],[0.8888888888888888,\"#fdca26\"],[1.0,\"#f0f921\"]]}],\"heatmap\":[{\"type\":\"heatmap\",\"colorbar\":{\"outlinewidth\":0,\"ticks\":\"\"},\"colorscale\":[[0.0,\"#0d0887\"],[0.1111111111111111,\"#46039f\"],[0.2222222222222222,\"#7201a8\"],[0.3333333333333333,\"#9c179e\"],[0.4444444444444444,\"#bd3786\"],[0.5555555555555556,\"#d8576b\"],[0.6666666666666666,\"#ed7953\"],[0.7777777777777778,\"#fb9f3a\"],[0.8888888888888888,\"#fdca26\"],[1.0,\"#f0f921\"]]}],\"contourcarpet\":[{\"type\":\"contourcarpet\",\"colorbar\":{\"outlinewidth\":0,\"ticks\":\"\"}}],\"contour\":[{\"type\":\"contour\",\"colorbar\":{\"outlinewidth\":0,\"ticks\":\"\"},\"colorscale\":[[0.0,\"#0d0887\"],[0.1111111111111111,\"#46039f\"],[0.2222222222222222,\"#7201a8\"],[0.3333333333333333,\"#9c179e\"],[0.4444444444444444,\"#bd3786\"],[0.5555555555555556,\"#d8576b\"],[0.6666666666666666,\"#ed7953\"],[0.7777777777777778,\"#fb9f3a\"],[0.8888888888888888,\"#fdca26\"],[1.0,\"#f0f921\"]]}],\"surface\":[{\"type\":\"surface\",\"colorbar\":{\"outlinewidth\":0,\"ticks\":\"\"},\"colorscale\":[[0.0,\"#0d0887\"],[0.1111111111111111,\"#46039f\"],[0.2222222222222222,\"#7201a8\"],[0.3333333333333333,\"#9c179e\"],[0.4444444444444444,\"#bd3786\"],[0.5555555555555556,\"#d8576b\"],[0.6666666666666666,\"#ed7953\"],[0.7777777777777778,\"#fb9f3a\"],[0.8888888888888888,\"#fdca26\"],[1.0,\"#f0f921\"]]}],\"mesh3d\":[{\"type\":\"mesh3d\",\"colorbar\":{\"outlinewidth\":0,\"ticks\":\"\"}}],\"scatter\":[{\"fillpattern\":{\"fillmode\":\"overlay\",\"size\":10,\"solidity\":0.2},\"type\":\"scatter\"}],\"parcoords\":[{\"type\":\"parcoords\",\"line\":{\"colorbar\":{\"outlinewidth\":0,\"ticks\":\"\"}}}],\"scatterpolargl\":[{\"type\":\"scatterpolargl\",\"marker\":{\"colorbar\":{\"outlinewidth\":0,\"ticks\":\"\"}}}],\"bar\":[{\"error_x\":{\"color\":\"#2a3f5f\"},\"error_y\":{\"color\":\"#2a3f5f\"},\"marker\":{\"line\":{\"color\":\"#E5ECF6\",\"width\":0.5},\"pattern\":{\"fillmode\":\"overlay\",\"size\":10,\"solidity\":0.2}},\"type\":\"bar\"}],\"scattergeo\":[{\"type\":\"scattergeo\",\"marker\":{\"colorbar\":{\"outlinewidth\":0,\"ticks\":\"\"}}}],\"scatterpolar\":[{\"type\":\"scatterpolar\",\"marker\":{\"colorbar\":{\"outlinewidth\":0,\"ticks\":\"\"}}}],\"histogram\":[{\"marker\":{\"pattern\":{\"fillmode\":\"overlay\",\"size\":10,\"solidity\":0.2}},\"type\":\"histogram\"}],\"scattergl\":[{\"type\":\"scattergl\",\"marker\":{\"colorbar\":{\"outlinewidth\":0,\"ticks\":\"\"}}}],\"scatter3d\":[{\"type\":\"scatter3d\",\"line\":{\"colorbar\":{\"outlinewidth\":0,\"ticks\":\"\"}},\"marker\":{\"colorbar\":{\"outlinewidth\":0,\"ticks\":\"\"}}}],\"scattermap\":[{\"type\":\"scattermap\",\"marker\":{\"colorbar\":{\"outlinewidth\":0,\"ticks\":\"\"}}}],\"scattermapbox\":[{\"type\":\"scattermapbox\",\"marker\":{\"colorbar\":{\"outlinewidth\":0,\"ticks\":\"\"}}}],\"scatterternary\":[{\"type\":\"scatterternary\",\"marker\":{\"colorbar\":{\"outlinewidth\":0,\"ticks\":\"\"}}}],\"scattercarpet\":[{\"type\":\"scattercarpet\",\"marker\":{\"colorbar\":{\"outlinewidth\":0,\"ticks\":\"\"}}}],\"carpet\":[{\"aaxis\":{\"endlinecolor\":\"#2a3f5f\",\"gridcolor\":\"white\",\"linecolor\":\"white\",\"minorgridcolor\":\"white\",\"startlinecolor\":\"#2a3f5f\"},\"baxis\":{\"endlinecolor\":\"#2a3f5f\",\"gridcolor\":\"white\",\"linecolor\":\"white\",\"minorgridcolor\":\"white\",\"startlinecolor\":\"#2a3f5f\"},\"type\":\"carpet\"}],\"table\":[{\"cells\":{\"fill\":{\"color\":\"#EBF0F8\"},\"line\":{\"color\":\"white\"}},\"header\":{\"fill\":{\"color\":\"#C8D4E3\"},\"line\":{\"color\":\"white\"}},\"type\":\"table\"}],\"barpolar\":[{\"marker\":{\"line\":{\"color\":\"#E5ECF6\",\"width\":0.5},\"pattern\":{\"fillmode\":\"overlay\",\"size\":10,\"solidity\":0.2}},\"type\":\"barpolar\"}],\"pie\":[{\"automargin\":true,\"type\":\"pie\"}]},\"layout\":{\"autotypenumbers\":\"strict\",\"colorway\":[\"#636efa\",\"#EF553B\",\"#00cc96\",\"#ab63fa\",\"#FFA15A\",\"#19d3f3\",\"#FF6692\",\"#B6E880\",\"#FF97FF\",\"#FECB52\"],\"font\":{\"color\":\"#2a3f5f\"},\"hovermode\":\"closest\",\"hoverlabel\":{\"align\":\"left\"},\"paper_bgcolor\":\"white\",\"plot_bgcolor\":\"#E5ECF6\",\"polar\":{\"bgcolor\":\"#E5ECF6\",\"angularaxis\":{\"gridcolor\":\"white\",\"linecolor\":\"white\",\"ticks\":\"\"},\"radialaxis\":{\"gridcolor\":\"white\",\"linecolor\":\"white\",\"ticks\":\"\"}},\"ternary\":{\"bgcolor\":\"#E5ECF6\",\"aaxis\":{\"gridcolor\":\"white\",\"linecolor\":\"white\",\"ticks\":\"\"},\"baxis\":{\"gridcolor\":\"white\",\"linecolor\":\"white\",\"ticks\":\"\"},\"caxis\":{\"gridcolor\":\"white\",\"linecolor\":\"white\",\"ticks\":\"\"}},\"coloraxis\":{\"colorbar\":{\"outlinewidth\":0,\"ticks\":\"\"}},\"colorscale\":{\"sequential\":[[0.0,\"#0d0887\"],[0.1111111111111111,\"#46039f\"],[0.2222222222222222,\"#7201a8\"],[0.3333333333333333,\"#9c179e\"],[0.4444444444444444,\"#bd3786\"],[0.5555555555555556,\"#d8576b\"],[0.6666666666666666,\"#ed7953\"],[0.7777777777777778,\"#fb9f3a\"],[0.8888888888888888,\"#fdca26\"],[1.0,\"#f0f921\"]],\"sequentialminus\":[[0.0,\"#0d0887\"],[0.1111111111111111,\"#46039f\"],[0.2222222222222222,\"#7201a8\"],[0.3333333333333333,\"#9c179e\"],[0.4444444444444444,\"#bd3786\"],[0.5555555555555556,\"#d8576b\"],[0.6666666666666666,\"#ed7953\"],[0.7777777777777778,\"#fb9f3a\"],[0.8888888888888888,\"#fdca26\"],[1.0,\"#f0f921\"]],\"diverging\":[[0,\"#8e0152\"],[0.1,\"#c51b7d\"],[0.2,\"#de77ae\"],[0.3,\"#f1b6da\"],[0.4,\"#fde0ef\"],[0.5,\"#f7f7f7\"],[0.6,\"#e6f5d0\"],[0.7,\"#b8e186\"],[0.8,\"#7fbc41\"],[0.9,\"#4d9221\"],[1,\"#276419\"]]},\"xaxis\":{\"gridcolor\":\"white\",\"linecolor\":\"white\",\"ticks\":\"\",\"title\":{\"standoff\":15},\"zerolinecolor\":\"white\",\"automargin\":true,\"zerolinewidth\":2},\"yaxis\":{\"gridcolor\":\"white\",\"linecolor\":\"white\",\"ticks\":\"\",\"title\":{\"standoff\":15},\"zerolinecolor\":\"white\",\"automargin\":true,\"zerolinewidth\":2},\"scene\":{\"xaxis\":{\"backgroundcolor\":\"#E5ECF6\",\"gridcolor\":\"white\",\"linecolor\":\"white\",\"showbackground\":true,\"ticks\":\"\",\"zerolinecolor\":\"white\",\"gridwidth\":2},\"yaxis\":{\"backgroundcolor\":\"#E5ECF6\",\"gridcolor\":\"white\",\"linecolor\":\"white\",\"showbackground\":true,\"ticks\":\"\",\"zerolinecolor\":\"white\",\"gridwidth\":2},\"zaxis\":{\"backgroundcolor\":\"#E5ECF6\",\"gridcolor\":\"white\",\"linecolor\":\"white\",\"showbackground\":true,\"ticks\":\"\",\"zerolinecolor\":\"white\",\"gridwidth\":2}},\"shapedefaults\":{\"line\":{\"color\":\"#2a3f5f\"}},\"annotationdefaults\":{\"arrowcolor\":\"#2a3f5f\",\"arrowhead\":0,\"arrowwidth\":1},\"geo\":{\"bgcolor\":\"white\",\"landcolor\":\"#E5ECF6\",\"subunitcolor\":\"white\",\"showland\":true,\"showlakes\":true,\"lakecolor\":\"white\"},\"title\":{\"x\":0.05},\"mapbox\":{\"style\":\"light\"}}}},                        {\"responsive\": true}                    ).then(function(){\n",
       "                            \n",
       "var gd = document.getElementById('d70f3a30-4a0e-41c2-8207-b41da92d721b');\n",
       "var x = new MutationObserver(function (mutations, observer) {{\n",
       "        var display = window.getComputedStyle(gd).display;\n",
       "        if (!display || display === 'none') {{\n",
       "            console.log([gd, 'removed!']);\n",
       "            Plotly.purge(gd);\n",
       "            observer.disconnect();\n",
       "        }}\n",
       "}});\n",
       "\n",
       "// Listen for the removal of the full notebook cells\n",
       "var notebookContainer = gd.closest('#notebook-container');\n",
       "if (notebookContainer) {{\n",
       "    x.observe(notebookContainer, {childList: true});\n",
       "}}\n",
       "\n",
       "// Listen for the clearing of the current output cell\n",
       "var outputEl = gd.closest('.output');\n",
       "if (outputEl) {{\n",
       "    x.observe(outputEl, {childList: true});\n",
       "}}\n",
       "\n",
       "                        })                };            </script>        </div>"
      ]
     },
     "metadata": {},
     "output_type": "display_data"
    }
   ],
   "source": [
    "col = 'month_added'\n",
    "\n",
    "# Procesar datos para TV Shows\n",
    "vc1 = d1[col].value_counts().reset_index()\n",
    "vc1.columns = [col, \"count\"]  \n",
    "vc1['count'] = pd.to_numeric(vc1['count'], errors='coerce')  \n",
    "vc1 = vc1.dropna()  \n",
    "vc1['count'] = vc1['count'].astype(int)  \n",
    "vc1['percent'] = vc1['count'] / vc1['count'].sum() * 100  \n",
    "vc1 = vc1.sort_values(col)  # Ordenar por mes\n",
    "\n",
    "# Crear el gráfico\n",
    "trace1 = go.Bar(x=vc1[col], y=vc1[\"count\"], name=\"TV Shows\", marker=dict(color=\"#a678de\"))\n",
    "data = [trace1]\n",
    "layout = go.Layout(title=\"En que més se añadió más contenido?\", \n",
    "                   xaxis=dict(title=\"Mes\"), \n",
    "                   yaxis=dict(title=\"Numero\"), \n",
    "                   legend=dict(x=0.1, y=1.1, orientation=\"h\"))\n",
    "\n",
    "fig = go.Figure(data, layout=layout)\n",
    "\n",
    "# Mostrar el gráfico\n",
    "fig.show()\n"
   ]
  },
  {
   "cell_type": "markdown",
   "id": "41db9638",
   "metadata": {
    "papermill": {
     "duration": 0.023272,
     "end_time": "2021-10-02T08:28:40.188288",
     "exception": false,
     "start_time": "2021-10-02T08:28:40.165016",
     "status": "completed"
    },
    "tags": []
   },
   "source": [
    "Peliculas más antiguas de Disney+"
   ]
  },
  {
   "cell_type": "code",
   "execution_count": 14,
   "id": "cec3ebe8",
   "metadata": {
    "_kg_hide-input": true,
    "execution": {
     "iopub.execute_input": "2021-10-02T08:28:40.241231Z",
     "iopub.status.busy": "2021-10-02T08:28:40.240253Z",
     "iopub.status.idle": "2021-10-02T08:28:40.252619Z",
     "shell.execute_reply": "2021-10-02T08:28:40.252078Z",
     "shell.execute_reply.started": "2021-10-02T08:25:31.890663Z"
    },
    "papermill": {
     "duration": 0.041005,
     "end_time": "2021-10-02T08:28:40.252755",
     "exception": false,
     "start_time": "2021-10-02T08:28:40.211750",
     "status": "completed"
    },
    "tags": []
   },
   "outputs": [
    {
     "data": {
      "text/html": [
       "<div>\n",
       "<style scoped>\n",
       "    .dataframe tbody tr th:only-of-type {\n",
       "        vertical-align: middle;\n",
       "    }\n",
       "\n",
       "    .dataframe tbody tr th {\n",
       "        vertical-align: top;\n",
       "    }\n",
       "\n",
       "    .dataframe thead th {\n",
       "        text-align: right;\n",
       "    }\n",
       "</style>\n",
       "<table border=\"1\" class=\"dataframe\">\n",
       "  <thead>\n",
       "    <tr style=\"text-align: right;\">\n",
       "      <th></th>\n",
       "      <th>title</th>\n",
       "      <th>release_year</th>\n",
       "    </tr>\n",
       "  </thead>\n",
       "  <tbody>\n",
       "    <tr>\n",
       "      <th>1220</th>\n",
       "      <td>Steamboat Willie</td>\n",
       "      <td>1928</td>\n",
       "    </tr>\n",
       "    <tr>\n",
       "      <th>1178</th>\n",
       "      <td>Santa's Workshop</td>\n",
       "      <td>1932</td>\n",
       "    </tr>\n",
       "    <tr>\n",
       "      <th>893</th>\n",
       "      <td>Flowers and Trees</td>\n",
       "      <td>1932</td>\n",
       "    </tr>\n",
       "    <tr>\n",
       "      <th>736</th>\n",
       "      <td>Babes in the Woods</td>\n",
       "      <td>1932</td>\n",
       "    </tr>\n",
       "    <tr>\n",
       "      <th>1418</th>\n",
       "      <td>Ye Olden Days</td>\n",
       "      <td>1933</td>\n",
       "    </tr>\n",
       "    <tr>\n",
       "      <th>1362</th>\n",
       "      <td>Three Little Pigs</td>\n",
       "      <td>1933</td>\n",
       "    </tr>\n",
       "    <tr>\n",
       "      <th>1317</th>\n",
       "      <td>The Pied Piper</td>\n",
       "      <td>1933</td>\n",
       "    </tr>\n",
       "    <tr>\n",
       "      <th>1254</th>\n",
       "      <td>The Big Bad Wolf</td>\n",
       "      <td>1934</td>\n",
       "    </tr>\n",
       "    <tr>\n",
       "      <th>1356</th>\n",
       "      <td>The Wise Little Hen</td>\n",
       "      <td>1934</td>\n",
       "    </tr>\n",
       "    <tr>\n",
       "      <th>922</th>\n",
       "      <td>Grasshopper and the Ants</td>\n",
       "      <td>1934</td>\n",
       "    </tr>\n",
       "    <tr>\n",
       "      <th>1279</th>\n",
       "      <td>The Goddess of Spring</td>\n",
       "      <td>1934</td>\n",
       "    </tr>\n",
       "    <tr>\n",
       "      <th>1280</th>\n",
       "      <td>The Golden Touch</td>\n",
       "      <td>1935</td>\n",
       "    </tr>\n",
       "    <tr>\n",
       "      <th>1252</th>\n",
       "      <td>The Band Concert</td>\n",
       "      <td>1935</td>\n",
       "    </tr>\n",
       "    <tr>\n",
       "      <th>582</th>\n",
       "      <td>On Ice</td>\n",
       "      <td>1935</td>\n",
       "    </tr>\n",
       "    <tr>\n",
       "      <th>1350</th>\n",
       "      <td>The Tortoise and the Hare</td>\n",
       "      <td>1935</td>\n",
       "    </tr>\n",
       "  </tbody>\n",
       "</table>\n",
       "</div>"
      ],
      "text/plain": [
       "                          title  release_year\n",
       "1220           Steamboat Willie          1928\n",
       "1178           Santa's Workshop          1932\n",
       "893           Flowers and Trees          1932\n",
       "736          Babes in the Woods          1932\n",
       "1418              Ye Olden Days          1933\n",
       "1362          Three Little Pigs          1933\n",
       "1317             The Pied Piper          1933\n",
       "1254           The Big Bad Wolf          1934\n",
       "1356        The Wise Little Hen          1934\n",
       "922    Grasshopper and the Ants          1934\n",
       "1279      The Goddess of Spring          1934\n",
       "1280           The Golden Touch          1935\n",
       "1252           The Band Concert          1935\n",
       "582                      On Ice          1935\n",
       "1350  The Tortoise and the Hare          1935"
      ]
     },
     "execution_count": 14,
     "metadata": {},
     "output_type": "execute_result"
    }
   ],
   "source": [
    "small = df.sort_values(\"release_year\", ascending = True)\n",
    "small = small[small['duration'] != \"\"]\n",
    "small[['title', \"release_year\"]][:15]"
   ]
  },
  {
   "cell_type": "markdown",
   "id": "9eb51e35",
   "metadata": {
    "papermill": {
     "duration": 0.023766,
     "end_time": "2021-10-02T08:28:40.300752",
     "exception": false,
     "start_time": "2021-10-02T08:28:40.276986",
     "status": "completed"
    },
    "tags": []
   },
   "source": [
    "Series mas antiguas de Disney+"
   ]
  },
  {
   "cell_type": "code",
   "execution_count": 15,
   "id": "156db2ec",
   "metadata": {
    "_kg_hide-input": true,
    "execution": {
     "iopub.execute_input": "2021-10-02T08:28:40.363356Z",
     "iopub.status.busy": "2021-10-02T08:28:40.362651Z",
     "iopub.status.idle": "2021-10-02T08:28:40.365255Z",
     "shell.execute_reply": "2021-10-02T08:28:40.365760Z",
     "shell.execute_reply.started": "2021-10-02T08:25:40.978739Z"
    },
    "papermill": {
     "duration": 0.040605,
     "end_time": "2021-10-02T08:28:40.365938",
     "exception": false,
     "start_time": "2021-10-02T08:28:40.325333",
     "status": "completed"
    },
    "tags": []
   },
   "outputs": [
    {
     "data": {
      "text/html": [
       "<div>\n",
       "<style scoped>\n",
       "    .dataframe tbody tr th:only-of-type {\n",
       "        vertical-align: middle;\n",
       "    }\n",
       "\n",
       "    .dataframe tbody tr th {\n",
       "        vertical-align: top;\n",
       "    }\n",
       "\n",
       "    .dataframe thead th {\n",
       "        text-align: right;\n",
       "    }\n",
       "</style>\n",
       "<table border=\"1\" class=\"dataframe\">\n",
       "  <thead>\n",
       "    <tr style=\"text-align: right;\">\n",
       "      <th></th>\n",
       "      <th>title</th>\n",
       "      <th>release_year</th>\n",
       "    </tr>\n",
       "  </thead>\n",
       "  <tbody>\n",
       "    <tr>\n",
       "      <th>1071</th>\n",
       "      <td>Mickey Mouse Club (1955-59)</td>\n",
       "      <td>1955</td>\n",
       "    </tr>\n",
       "    <tr>\n",
       "      <th>1244</th>\n",
       "      <td>The Adventures of Spin and Marty</td>\n",
       "      <td>1955</td>\n",
       "    </tr>\n",
       "    <tr>\n",
       "      <th>221</th>\n",
       "      <td>Schoolhouse Rock!</td>\n",
       "      <td>1973</td>\n",
       "    </tr>\n",
       "    <tr>\n",
       "      <th>299</th>\n",
       "      <td>The Muppet Show</td>\n",
       "      <td>1976</td>\n",
       "    </tr>\n",
       "    <tr>\n",
       "      <th>1207</th>\n",
       "      <td>Spider-Woman</td>\n",
       "      <td>1979</td>\n",
       "    </tr>\n",
       "    <tr>\n",
       "      <th>1205</th>\n",
       "      <td>Spider-Man and His Amazing Friends</td>\n",
       "      <td>1982</td>\n",
       "    </tr>\n",
       "    <tr>\n",
       "      <th>195</th>\n",
       "      <td>Star Wars Vintage: Droids</td>\n",
       "      <td>1985</td>\n",
       "    </tr>\n",
       "    <tr>\n",
       "      <th>841</th>\n",
       "      <td>Disney's Adventures Of The Gummi Bears</td>\n",
       "      <td>1985</td>\n",
       "    </tr>\n",
       "    <tr>\n",
       "      <th>267</th>\n",
       "      <td>Star Wars: Ewoks</td>\n",
       "      <td>1985</td>\n",
       "    </tr>\n",
       "    <tr>\n",
       "      <th>1312</th>\n",
       "      <td>The New Adventures of Winnie the Pooh</td>\n",
       "      <td>1988</td>\n",
       "    </tr>\n",
       "    <tr>\n",
       "      <th>790</th>\n",
       "      <td>Chip 'n Dale's Rescue Rangers</td>\n",
       "      <td>1989</td>\n",
       "    </tr>\n",
       "    <tr>\n",
       "      <th>92</th>\n",
       "      <td>The Simpsons</td>\n",
       "      <td>1989</td>\n",
       "    </tr>\n",
       "    <tr>\n",
       "      <th>553</th>\n",
       "      <td>America's Funniest Home Videos</td>\n",
       "      <td>1989</td>\n",
       "    </tr>\n",
       "    <tr>\n",
       "      <th>1228</th>\n",
       "      <td>TaleSpin</td>\n",
       "      <td>1990</td>\n",
       "    </tr>\n",
       "    <tr>\n",
       "      <th>805</th>\n",
       "      <td>Darkwing Duck</td>\n",
       "      <td>1991</td>\n",
       "    </tr>\n",
       "  </tbody>\n",
       "</table>\n",
       "</div>"
      ],
      "text/plain": [
       "                                       title  release_year\n",
       "1071             Mickey Mouse Club (1955-59)          1955\n",
       "1244        The Adventures of Spin and Marty          1955\n",
       "221                        Schoolhouse Rock!          1973\n",
       "299                          The Muppet Show          1976\n",
       "1207                            Spider-Woman          1979\n",
       "1205      Spider-Man and His Amazing Friends          1982\n",
       "195                Star Wars Vintage: Droids          1985\n",
       "841   Disney's Adventures Of The Gummi Bears          1985\n",
       "267                         Star Wars: Ewoks          1985\n",
       "1312   The New Adventures of Winnie the Pooh          1988\n",
       "790            Chip 'n Dale's Rescue Rangers          1989\n",
       "92                              The Simpsons          1989\n",
       "553           America's Funniest Home Videos          1989\n",
       "1228                                TaleSpin          1990\n",
       "805                            Darkwing Duck          1991"
      ]
     },
     "execution_count": 15,
     "metadata": {},
     "output_type": "execute_result"
    }
   ],
   "source": [
    "small = df.sort_values(\"release_year\", ascending = True)\n",
    "small = small[small['season_count'] != \"\"]\n",
    "small[['title', \"release_year\"]][:15]"
   ]
  },
  {
   "cell_type": "markdown",
   "id": "683dda74",
   "metadata": {
    "papermill": {
     "duration": 0.024418,
     "end_time": "2021-10-02T08:28:40.415010",
     "exception": false,
     "start_time": "2021-10-02T08:28:40.390592",
     "status": "completed"
    },
    "tags": []
   },
   "source": [
    "There are movies / shows on the platform which were released way back in 1930s and 40s. \n",
    "\n",
    "## 4. Content from different Countries"
   ]
  },
  {
   "cell_type": "code",
   "execution_count": 16,
   "id": "66d0f00a",
   "metadata": {
    "_kg_hide-input": true,
    "execution": {
     "iopub.execute_input": "2021-10-02T08:28:40.505783Z",
     "iopub.status.busy": "2021-10-02T08:28:40.467695Z",
     "iopub.status.idle": "2021-10-02T08:28:40.518750Z",
     "shell.execute_reply": "2021-10-02T08:28:40.519231Z",
     "shell.execute_reply.started": "2021-10-02T08:25:47.933552Z"
    },
    "papermill": {
     "duration": 0.079744,
     "end_time": "2021-10-02T08:28:40.519415",
     "exception": false,
     "start_time": "2021-10-02T08:28:40.439671",
     "status": "completed"
    },
    "tags": []
   },
   "outputs": [
    {
     "data": {
      "application/vnd.plotly.v1+json": {
       "config": {
        "linkText": "Export to plot.ly",
        "plotlyServerURL": "https://plot.ly",
        "showLink": false
       },
       "data": [
        {
         "autocolorscale": false,
         "colorbar": {
          "autotick": false,
          "title": ""
         },
         "colorscale": [
          [
           0,
           "rgb(5, 10, 172)"
          ],
          [
           0.65,
           "rgb(40, 60, 190)"
          ],
          [
           0.75,
           "rgb(70, 100, 245)"
          ],
          [
           0.8,
           "rgb(90, 120, 245)"
          ],
          [
           0.9,
           "rgb(106, 137, 247)"
          ],
          [
           1,
           "rgb(220, 220, 220)"
          ]
         ],
         "locations": [
          "USA",
          "CAN",
          "AUS",
          "GBR",
          "KOR",
          "IRL",
          "DNK",
          "ESP",
          "POL",
          "HUN",
          "FRA",
          "JPN",
          "DEU",
          "IND",
          "SGP",
          "THA",
          "CHN",
          "BRA",
          "BEL",
          "AUT",
          "ZAF",
          "HKG",
          "ARG",
          "ARE",
          "MEX",
          "CHE",
          "TWN",
          "PHL",
          "TZA",
          "PAN",
          "AGO",
          "BWA",
          "NAM",
          "LUX",
          "GTM",
          "RUS",
          "MYS",
          "KAZ",
          "SYR",
          "IRN",
          "EGY",
          "PAK",
          "NZL",
          "NOR",
          "SWE",
          "SVN",
          "CZE"
         ],
         "marker": {
          "line": {
           "color": "gray",
           "width": 0.5
          }
         },
         "reversescale": true,
         "type": "choropleth",
         "z": [
          1184,
          77,
          23,
          101,
          13,
          8,
          3,
          4,
          2,
          3,
          22,
          10,
          9,
          5,
          2,
          1,
          10,
          1,
          1,
          2,
          3,
          4,
          3,
          2,
          4,
          1,
          6,
          2,
          1,
          1,
          1,
          1,
          1,
          1,
          1,
          1,
          2,
          1,
          1,
          1,
          1,
          1,
          3,
          1,
          1,
          1,
          1
         ]
        }
       ],
       "layout": {
        "geo": {
         "projection": {
          "type": "Mercator"
         },
         "showcoastlines": false,
         "showframe": false
        },
        "title": ""
       }
      },
      "text/html": [
       "<div>            <script src=\"https://cdnjs.cloudflare.com/ajax/libs/mathjax/2.7.5/MathJax.js?config=TeX-AMS-MML_SVG\"></script><script type=\"text/javascript\">if (window.MathJax && window.MathJax.Hub && window.MathJax.Hub.Config) {window.MathJax.Hub.Config({SVG: {font: \"STIX-Web\"}});}</script>                <script type=\"text/javascript\">window.PlotlyConfig = {MathJaxConfig: 'local'};</script>\n",
       "        <script charset=\"utf-8\" src=\"https://cdn.plot.ly/plotly-3.0.0.min.js\"></script>                <div id=\"0ad82bfd-31dd-44ca-bb34-0f3cdd0d9117\" class=\"plotly-graph-div\" style=\"height:525px; width:100%;\"></div>            <script type=\"text/javascript\">                window.PLOTLYENV=window.PLOTLYENV || {};                                if (document.getElementById(\"0ad82bfd-31dd-44ca-bb34-0f3cdd0d9117\")) {                    Plotly.newPlot(                        \"0ad82bfd-31dd-44ca-bb34-0f3cdd0d9117\",                        [{\"type\":\"choropleth\",\"locations\":[\"USA\",\"CAN\",\"AUS\",\"GBR\",\"KOR\",\"IRL\",\"DNK\",\"ESP\",\"POL\",\"HUN\",\"FRA\",\"JPN\",\"DEU\",\"IND\",\"SGP\",\"THA\",\"CHN\",\"BRA\",\"BEL\",\"AUT\",\"ZAF\",\"HKG\",\"ARG\",\"ARE\",\"MEX\",\"CHE\",\"TWN\",\"PHL\",\"TZA\",\"PAN\",\"AGO\",\"BWA\",\"NAM\",\"LUX\",\"GTM\",\"RUS\",\"MYS\",\"KAZ\",\"SYR\",\"IRN\",\"EGY\",\"PAK\",\"NZL\",\"NOR\",\"SWE\",\"SVN\",\"CZE\"],\"z\":[1184,77,23,101,13,8,3,4,2,3,22,10,9,5,2,1,10,1,1,2,3,4,3,2,4,1,6,2,1,1,1,1,1,1,1,1,2,1,1,1,1,1,3,1,1,1,1],\"colorscale\":[[0,\"rgb(5, 10, 172)\"],[0.65,\"rgb(40, 60, 190)\"],[0.75,\"rgb(70, 100, 245)\"],[0.8,\"rgb(90, 120, 245)\"],[0.9,\"rgb(106, 137, 247)\"],[1,\"rgb(220, 220, 220)\"]],\"autocolorscale\":false,\"reversescale\":true,\"marker\":{\"line\":{\"color\":\"gray\",\"width\":0.5}},\"colorbar\":{\"autotick\":false,\"title\":\"\"}}],                        {\"title\":\"\",\"geo\":{\"showframe\":false,\"showcoastlines\":false,\"projection\":{\"type\":\"Mercator\"}}},                        {\"responsive\": true}                    ).then(function(){\n",
       "                            \n",
       "var gd = document.getElementById('0ad82bfd-31dd-44ca-bb34-0f3cdd0d9117');\n",
       "var x = new MutationObserver(function (mutations, observer) {{\n",
       "        var display = window.getComputedStyle(gd).display;\n",
       "        if (!display || display === 'none') {{\n",
       "            console.log([gd, 'removed!']);\n",
       "            Plotly.purge(gd);\n",
       "            observer.disconnect();\n",
       "        }}\n",
       "}});\n",
       "\n",
       "// Listen for the removal of the full notebook cells\n",
       "var notebookContainer = gd.closest('#notebook-container');\n",
       "if (notebookContainer) {{\n",
       "    x.observe(notebookContainer, {childList: true});\n",
       "}}\n",
       "\n",
       "// Listen for the clearing of the current output cell\n",
       "var outputEl = gd.closest('.output');\n",
       "if (outputEl) {{\n",
       "    x.observe(outputEl, {childList: true});\n",
       "}}\n",
       "\n",
       "                        })                };            </script>        </div>"
      ]
     },
     "metadata": {},
     "output_type": "display_data"
    },
    {
     "data": {
      "application/vnd.plotly.v1+json": {
       "config": {
        "plotlyServerURL": "https://plot.ly"
       },
       "data": [
        {
         "marker": {
          "color": "#a678de"
         },
         "name": "",
         "orientation": "h",
         "type": "bar",
         "x": [
          2,
          2,
          2,
          2,
          2,
          3,
          3,
          3,
          3,
          3,
          4,
          4,
          4,
          5,
          6,
          8,
          9,
          10,
          10,
          13,
          22,
          23,
          77,
          101,
          1184
         ],
         "y": [
          "Philippines",
          "United Arab Emirates",
          "Austria",
          "Singapore",
          "Poland",
          "New Zealand",
          "Argentina",
          "South Africa",
          "Hungary",
          "Denmark",
          "Mexico",
          "Hong Kong",
          "Spain",
          "India",
          "Taiwan",
          "Ireland",
          "Germany",
          "China",
          "Japan",
          "South Korea",
          "France",
          "Australia",
          "Canada",
          "United Kingdom",
          "United States"
         ]
        }
       ],
       "layout": {
        "height": 700,
        "legend": {
         "orientation": "h",
         "x": 0.1,
         "y": 1.1
        },
        "template": {
         "data": {
          "bar": [
           {
            "error_x": {
             "color": "#2a3f5f"
            },
            "error_y": {
             "color": "#2a3f5f"
            },
            "marker": {
             "line": {
              "color": "#E5ECF6",
              "width": 0.5
             },
             "pattern": {
              "fillmode": "overlay",
              "size": 10,
              "solidity": 0.2
             }
            },
            "type": "bar"
           }
          ],
          "barpolar": [
           {
            "marker": {
             "line": {
              "color": "#E5ECF6",
              "width": 0.5
             },
             "pattern": {
              "fillmode": "overlay",
              "size": 10,
              "solidity": 0.2
             }
            },
            "type": "barpolar"
           }
          ],
          "carpet": [
           {
            "aaxis": {
             "endlinecolor": "#2a3f5f",
             "gridcolor": "white",
             "linecolor": "white",
             "minorgridcolor": "white",
             "startlinecolor": "#2a3f5f"
            },
            "baxis": {
             "endlinecolor": "#2a3f5f",
             "gridcolor": "white",
             "linecolor": "white",
             "minorgridcolor": "white",
             "startlinecolor": "#2a3f5f"
            },
            "type": "carpet"
           }
          ],
          "choropleth": [
           {
            "colorbar": {
             "outlinewidth": 0,
             "ticks": ""
            },
            "type": "choropleth"
           }
          ],
          "contour": [
           {
            "colorbar": {
             "outlinewidth": 0,
             "ticks": ""
            },
            "colorscale": [
             [
              0,
              "#0d0887"
             ],
             [
              0.1111111111111111,
              "#46039f"
             ],
             [
              0.2222222222222222,
              "#7201a8"
             ],
             [
              0.3333333333333333,
              "#9c179e"
             ],
             [
              0.4444444444444444,
              "#bd3786"
             ],
             [
              0.5555555555555556,
              "#d8576b"
             ],
             [
              0.6666666666666666,
              "#ed7953"
             ],
             [
              0.7777777777777778,
              "#fb9f3a"
             ],
             [
              0.8888888888888888,
              "#fdca26"
             ],
             [
              1,
              "#f0f921"
             ]
            ],
            "type": "contour"
           }
          ],
          "contourcarpet": [
           {
            "colorbar": {
             "outlinewidth": 0,
             "ticks": ""
            },
            "type": "contourcarpet"
           }
          ],
          "heatmap": [
           {
            "colorbar": {
             "outlinewidth": 0,
             "ticks": ""
            },
            "colorscale": [
             [
              0,
              "#0d0887"
             ],
             [
              0.1111111111111111,
              "#46039f"
             ],
             [
              0.2222222222222222,
              "#7201a8"
             ],
             [
              0.3333333333333333,
              "#9c179e"
             ],
             [
              0.4444444444444444,
              "#bd3786"
             ],
             [
              0.5555555555555556,
              "#d8576b"
             ],
             [
              0.6666666666666666,
              "#ed7953"
             ],
             [
              0.7777777777777778,
              "#fb9f3a"
             ],
             [
              0.8888888888888888,
              "#fdca26"
             ],
             [
              1,
              "#f0f921"
             ]
            ],
            "type": "heatmap"
           }
          ],
          "histogram": [
           {
            "marker": {
             "pattern": {
              "fillmode": "overlay",
              "size": 10,
              "solidity": 0.2
             }
            },
            "type": "histogram"
           }
          ],
          "histogram2d": [
           {
            "colorbar": {
             "outlinewidth": 0,
             "ticks": ""
            },
            "colorscale": [
             [
              0,
              "#0d0887"
             ],
             [
              0.1111111111111111,
              "#46039f"
             ],
             [
              0.2222222222222222,
              "#7201a8"
             ],
             [
              0.3333333333333333,
              "#9c179e"
             ],
             [
              0.4444444444444444,
              "#bd3786"
             ],
             [
              0.5555555555555556,
              "#d8576b"
             ],
             [
              0.6666666666666666,
              "#ed7953"
             ],
             [
              0.7777777777777778,
              "#fb9f3a"
             ],
             [
              0.8888888888888888,
              "#fdca26"
             ],
             [
              1,
              "#f0f921"
             ]
            ],
            "type": "histogram2d"
           }
          ],
          "histogram2dcontour": [
           {
            "colorbar": {
             "outlinewidth": 0,
             "ticks": ""
            },
            "colorscale": [
             [
              0,
              "#0d0887"
             ],
             [
              0.1111111111111111,
              "#46039f"
             ],
             [
              0.2222222222222222,
              "#7201a8"
             ],
             [
              0.3333333333333333,
              "#9c179e"
             ],
             [
              0.4444444444444444,
              "#bd3786"
             ],
             [
              0.5555555555555556,
              "#d8576b"
             ],
             [
              0.6666666666666666,
              "#ed7953"
             ],
             [
              0.7777777777777778,
              "#fb9f3a"
             ],
             [
              0.8888888888888888,
              "#fdca26"
             ],
             [
              1,
              "#f0f921"
             ]
            ],
            "type": "histogram2dcontour"
           }
          ],
          "mesh3d": [
           {
            "colorbar": {
             "outlinewidth": 0,
             "ticks": ""
            },
            "type": "mesh3d"
           }
          ],
          "parcoords": [
           {
            "line": {
             "colorbar": {
              "outlinewidth": 0,
              "ticks": ""
             }
            },
            "type": "parcoords"
           }
          ],
          "pie": [
           {
            "automargin": true,
            "type": "pie"
           }
          ],
          "scatter": [
           {
            "fillpattern": {
             "fillmode": "overlay",
             "size": 10,
             "solidity": 0.2
            },
            "type": "scatter"
           }
          ],
          "scatter3d": [
           {
            "line": {
             "colorbar": {
              "outlinewidth": 0,
              "ticks": ""
             }
            },
            "marker": {
             "colorbar": {
              "outlinewidth": 0,
              "ticks": ""
             }
            },
            "type": "scatter3d"
           }
          ],
          "scattercarpet": [
           {
            "marker": {
             "colorbar": {
              "outlinewidth": 0,
              "ticks": ""
             }
            },
            "type": "scattercarpet"
           }
          ],
          "scattergeo": [
           {
            "marker": {
             "colorbar": {
              "outlinewidth": 0,
              "ticks": ""
             }
            },
            "type": "scattergeo"
           }
          ],
          "scattergl": [
           {
            "marker": {
             "colorbar": {
              "outlinewidth": 0,
              "ticks": ""
             }
            },
            "type": "scattergl"
           }
          ],
          "scattermap": [
           {
            "marker": {
             "colorbar": {
              "outlinewidth": 0,
              "ticks": ""
             }
            },
            "type": "scattermap"
           }
          ],
          "scattermapbox": [
           {
            "marker": {
             "colorbar": {
              "outlinewidth": 0,
              "ticks": ""
             }
            },
            "type": "scattermapbox"
           }
          ],
          "scatterpolar": [
           {
            "marker": {
             "colorbar": {
              "outlinewidth": 0,
              "ticks": ""
             }
            },
            "type": "scatterpolar"
           }
          ],
          "scatterpolargl": [
           {
            "marker": {
             "colorbar": {
              "outlinewidth": 0,
              "ticks": ""
             }
            },
            "type": "scatterpolargl"
           }
          ],
          "scatterternary": [
           {
            "marker": {
             "colorbar": {
              "outlinewidth": 0,
              "ticks": ""
             }
            },
            "type": "scatterternary"
           }
          ],
          "surface": [
           {
            "colorbar": {
             "outlinewidth": 0,
             "ticks": ""
            },
            "colorscale": [
             [
              0,
              "#0d0887"
             ],
             [
              0.1111111111111111,
              "#46039f"
             ],
             [
              0.2222222222222222,
              "#7201a8"
             ],
             [
              0.3333333333333333,
              "#9c179e"
             ],
             [
              0.4444444444444444,
              "#bd3786"
             ],
             [
              0.5555555555555556,
              "#d8576b"
             ],
             [
              0.6666666666666666,
              "#ed7953"
             ],
             [
              0.7777777777777778,
              "#fb9f3a"
             ],
             [
              0.8888888888888888,
              "#fdca26"
             ],
             [
              1,
              "#f0f921"
             ]
            ],
            "type": "surface"
           }
          ],
          "table": [
           {
            "cells": {
             "fill": {
              "color": "#EBF0F8"
             },
             "line": {
              "color": "white"
             }
            },
            "header": {
             "fill": {
              "color": "#C8D4E3"
             },
             "line": {
              "color": "white"
             }
            },
            "type": "table"
           }
          ]
         },
         "layout": {
          "annotationdefaults": {
           "arrowcolor": "#2a3f5f",
           "arrowhead": 0,
           "arrowwidth": 1
          },
          "autotypenumbers": "strict",
          "coloraxis": {
           "colorbar": {
            "outlinewidth": 0,
            "ticks": ""
           }
          },
          "colorscale": {
           "diverging": [
            [
             0,
             "#8e0152"
            ],
            [
             0.1,
             "#c51b7d"
            ],
            [
             0.2,
             "#de77ae"
            ],
            [
             0.3,
             "#f1b6da"
            ],
            [
             0.4,
             "#fde0ef"
            ],
            [
             0.5,
             "#f7f7f7"
            ],
            [
             0.6,
             "#e6f5d0"
            ],
            [
             0.7,
             "#b8e186"
            ],
            [
             0.8,
             "#7fbc41"
            ],
            [
             0.9,
             "#4d9221"
            ],
            [
             1,
             "#276419"
            ]
           ],
           "sequential": [
            [
             0,
             "#0d0887"
            ],
            [
             0.1111111111111111,
             "#46039f"
            ],
            [
             0.2222222222222222,
             "#7201a8"
            ],
            [
             0.3333333333333333,
             "#9c179e"
            ],
            [
             0.4444444444444444,
             "#bd3786"
            ],
            [
             0.5555555555555556,
             "#d8576b"
            ],
            [
             0.6666666666666666,
             "#ed7953"
            ],
            [
             0.7777777777777778,
             "#fb9f3a"
            ],
            [
             0.8888888888888888,
             "#fdca26"
            ],
            [
             1,
             "#f0f921"
            ]
           ],
           "sequentialminus": [
            [
             0,
             "#0d0887"
            ],
            [
             0.1111111111111111,
             "#46039f"
            ],
            [
             0.2222222222222222,
             "#7201a8"
            ],
            [
             0.3333333333333333,
             "#9c179e"
            ],
            [
             0.4444444444444444,
             "#bd3786"
            ],
            [
             0.5555555555555556,
             "#d8576b"
            ],
            [
             0.6666666666666666,
             "#ed7953"
            ],
            [
             0.7777777777777778,
             "#fb9f3a"
            ],
            [
             0.8888888888888888,
             "#fdca26"
            ],
            [
             1,
             "#f0f921"
            ]
           ]
          },
          "colorway": [
           "#636efa",
           "#EF553B",
           "#00cc96",
           "#ab63fa",
           "#FFA15A",
           "#19d3f3",
           "#FF6692",
           "#B6E880",
           "#FF97FF",
           "#FECB52"
          ],
          "font": {
           "color": "#2a3f5f"
          },
          "geo": {
           "bgcolor": "white",
           "lakecolor": "white",
           "landcolor": "#E5ECF6",
           "showlakes": true,
           "showland": true,
           "subunitcolor": "white"
          },
          "hoverlabel": {
           "align": "left"
          },
          "hovermode": "closest",
          "mapbox": {
           "style": "light"
          },
          "paper_bgcolor": "white",
          "plot_bgcolor": "#E5ECF6",
          "polar": {
           "angularaxis": {
            "gridcolor": "white",
            "linecolor": "white",
            "ticks": ""
           },
           "bgcolor": "#E5ECF6",
           "radialaxis": {
            "gridcolor": "white",
            "linecolor": "white",
            "ticks": ""
           }
          },
          "scene": {
           "xaxis": {
            "backgroundcolor": "#E5ECF6",
            "gridcolor": "white",
            "gridwidth": 2,
            "linecolor": "white",
            "showbackground": true,
            "ticks": "",
            "zerolinecolor": "white"
           },
           "yaxis": {
            "backgroundcolor": "#E5ECF6",
            "gridcolor": "white",
            "gridwidth": 2,
            "linecolor": "white",
            "showbackground": true,
            "ticks": "",
            "zerolinecolor": "white"
           },
           "zaxis": {
            "backgroundcolor": "#E5ECF6",
            "gridcolor": "white",
            "gridwidth": 2,
            "linecolor": "white",
            "showbackground": true,
            "ticks": "",
            "zerolinecolor": "white"
           }
          },
          "shapedefaults": {
           "line": {
            "color": "#2a3f5f"
           }
          },
          "ternary": {
           "aaxis": {
            "gridcolor": "white",
            "linecolor": "white",
            "ticks": ""
           },
           "baxis": {
            "gridcolor": "white",
            "linecolor": "white",
            "ticks": ""
           },
           "bgcolor": "#E5ECF6",
           "caxis": {
            "gridcolor": "white",
            "linecolor": "white",
            "ticks": ""
           }
          },
          "title": {
           "x": 0.05
          },
          "xaxis": {
           "automargin": true,
           "gridcolor": "white",
           "linecolor": "white",
           "ticks": "",
           "title": {
            "standoff": 15
           },
           "zerolinecolor": "white",
           "zerolinewidth": 2
          },
          "yaxis": {
           "automargin": true,
           "gridcolor": "white",
           "linecolor": "white",
           "ticks": "",
           "title": {
            "standoff": 15
           },
           "zerolinecolor": "white",
           "zerolinewidth": 2
          }
         }
        },
        "title": {
         "text": "Countries with most content"
        }
       }
      },
      "text/html": [
       "<div>            <script src=\"https://cdnjs.cloudflare.com/ajax/libs/mathjax/2.7.5/MathJax.js?config=TeX-AMS-MML_SVG\"></script><script type=\"text/javascript\">if (window.MathJax && window.MathJax.Hub && window.MathJax.Hub.Config) {window.MathJax.Hub.Config({SVG: {font: \"STIX-Web\"}});}</script>                <script type=\"text/javascript\">window.PlotlyConfig = {MathJaxConfig: 'local'};</script>\n",
       "        <script charset=\"utf-8\" src=\"https://cdn.plot.ly/plotly-3.0.0.min.js\"></script>                <div id=\"485d3179-f021-46ca-8666-2ca89717c74d\" class=\"plotly-graph-div\" style=\"height:700px; width:100%;\"></div>            <script type=\"text/javascript\">                window.PLOTLYENV=window.PLOTLYENV || {};                                if (document.getElementById(\"485d3179-f021-46ca-8666-2ca89717c74d\")) {                    Plotly.newPlot(                        \"485d3179-f021-46ca-8666-2ca89717c74d\",                        [{\"marker\":{\"color\":\"#a678de\"},\"name\":\"\",\"orientation\":\"h\",\"x\":[2,2,2,2,2,3,3,3,3,3,4,4,4,5,6,8,9,10,10,13,22,23,77,101,1184],\"y\":[\"Philippines\",\"United Arab Emirates\",\"Austria\",\"Singapore\",\"Poland\",\"New Zealand\",\"Argentina\",\"South Africa\",\"Hungary\",\"Denmark\",\"Mexico\",\"Hong Kong\",\"Spain\",\"India\",\"Taiwan\",\"Ireland\",\"Germany\",\"China\",\"Japan\",\"South Korea\",\"France\",\"Australia\",\"Canada\",\"United Kingdom\",\"United States\"],\"type\":\"bar\"}],                        {\"height\":700,\"legend\":{\"orientation\":\"h\",\"x\":0.1,\"y\":1.1},\"title\":{\"text\":\"Countries with most content\"},\"template\":{\"data\":{\"histogram2dcontour\":[{\"type\":\"histogram2dcontour\",\"colorbar\":{\"outlinewidth\":0,\"ticks\":\"\"},\"colorscale\":[[0.0,\"#0d0887\"],[0.1111111111111111,\"#46039f\"],[0.2222222222222222,\"#7201a8\"],[0.3333333333333333,\"#9c179e\"],[0.4444444444444444,\"#bd3786\"],[0.5555555555555556,\"#d8576b\"],[0.6666666666666666,\"#ed7953\"],[0.7777777777777778,\"#fb9f3a\"],[0.8888888888888888,\"#fdca26\"],[1.0,\"#f0f921\"]]}],\"choropleth\":[{\"type\":\"choropleth\",\"colorbar\":{\"outlinewidth\":0,\"ticks\":\"\"}}],\"histogram2d\":[{\"type\":\"histogram2d\",\"colorbar\":{\"outlinewidth\":0,\"ticks\":\"\"},\"colorscale\":[[0.0,\"#0d0887\"],[0.1111111111111111,\"#46039f\"],[0.2222222222222222,\"#7201a8\"],[0.3333333333333333,\"#9c179e\"],[0.4444444444444444,\"#bd3786\"],[0.5555555555555556,\"#d8576b\"],[0.6666666666666666,\"#ed7953\"],[0.7777777777777778,\"#fb9f3a\"],[0.8888888888888888,\"#fdca26\"],[1.0,\"#f0f921\"]]}],\"heatmap\":[{\"type\":\"heatmap\",\"colorbar\":{\"outlinewidth\":0,\"ticks\":\"\"},\"colorscale\":[[0.0,\"#0d0887\"],[0.1111111111111111,\"#46039f\"],[0.2222222222222222,\"#7201a8\"],[0.3333333333333333,\"#9c179e\"],[0.4444444444444444,\"#bd3786\"],[0.5555555555555556,\"#d8576b\"],[0.6666666666666666,\"#ed7953\"],[0.7777777777777778,\"#fb9f3a\"],[0.8888888888888888,\"#fdca26\"],[1.0,\"#f0f921\"]]}],\"contourcarpet\":[{\"type\":\"contourcarpet\",\"colorbar\":{\"outlinewidth\":0,\"ticks\":\"\"}}],\"contour\":[{\"type\":\"contour\",\"colorbar\":{\"outlinewidth\":0,\"ticks\":\"\"},\"colorscale\":[[0.0,\"#0d0887\"],[0.1111111111111111,\"#46039f\"],[0.2222222222222222,\"#7201a8\"],[0.3333333333333333,\"#9c179e\"],[0.4444444444444444,\"#bd3786\"],[0.5555555555555556,\"#d8576b\"],[0.6666666666666666,\"#ed7953\"],[0.7777777777777778,\"#fb9f3a\"],[0.8888888888888888,\"#fdca26\"],[1.0,\"#f0f921\"]]}],\"surface\":[{\"type\":\"surface\",\"colorbar\":{\"outlinewidth\":0,\"ticks\":\"\"},\"colorscale\":[[0.0,\"#0d0887\"],[0.1111111111111111,\"#46039f\"],[0.2222222222222222,\"#7201a8\"],[0.3333333333333333,\"#9c179e\"],[0.4444444444444444,\"#bd3786\"],[0.5555555555555556,\"#d8576b\"],[0.6666666666666666,\"#ed7953\"],[0.7777777777777778,\"#fb9f3a\"],[0.8888888888888888,\"#fdca26\"],[1.0,\"#f0f921\"]]}],\"mesh3d\":[{\"type\":\"mesh3d\",\"colorbar\":{\"outlinewidth\":0,\"ticks\":\"\"}}],\"scatter\":[{\"fillpattern\":{\"fillmode\":\"overlay\",\"size\":10,\"solidity\":0.2},\"type\":\"scatter\"}],\"parcoords\":[{\"type\":\"parcoords\",\"line\":{\"colorbar\":{\"outlinewidth\":0,\"ticks\":\"\"}}}],\"scatterpolargl\":[{\"type\":\"scatterpolargl\",\"marker\":{\"colorbar\":{\"outlinewidth\":0,\"ticks\":\"\"}}}],\"bar\":[{\"error_x\":{\"color\":\"#2a3f5f\"},\"error_y\":{\"color\":\"#2a3f5f\"},\"marker\":{\"line\":{\"color\":\"#E5ECF6\",\"width\":0.5},\"pattern\":{\"fillmode\":\"overlay\",\"size\":10,\"solidity\":0.2}},\"type\":\"bar\"}],\"scattergeo\":[{\"type\":\"scattergeo\",\"marker\":{\"colorbar\":{\"outlinewidth\":0,\"ticks\":\"\"}}}],\"scatterpolar\":[{\"type\":\"scatterpolar\",\"marker\":{\"colorbar\":{\"outlinewidth\":0,\"ticks\":\"\"}}}],\"histogram\":[{\"marker\":{\"pattern\":{\"fillmode\":\"overlay\",\"size\":10,\"solidity\":0.2}},\"type\":\"histogram\"}],\"scattergl\":[{\"type\":\"scattergl\",\"marker\":{\"colorbar\":{\"outlinewidth\":0,\"ticks\":\"\"}}}],\"scatter3d\":[{\"type\":\"scatter3d\",\"line\":{\"colorbar\":{\"outlinewidth\":0,\"ticks\":\"\"}},\"marker\":{\"colorbar\":{\"outlinewidth\":0,\"ticks\":\"\"}}}],\"scattermap\":[{\"type\":\"scattermap\",\"marker\":{\"colorbar\":{\"outlinewidth\":0,\"ticks\":\"\"}}}],\"scattermapbox\":[{\"type\":\"scattermapbox\",\"marker\":{\"colorbar\":{\"outlinewidth\":0,\"ticks\":\"\"}}}],\"scatterternary\":[{\"type\":\"scatterternary\",\"marker\":{\"colorbar\":{\"outlinewidth\":0,\"ticks\":\"\"}}}],\"scattercarpet\":[{\"type\":\"scattercarpet\",\"marker\":{\"colorbar\":{\"outlinewidth\":0,\"ticks\":\"\"}}}],\"carpet\":[{\"aaxis\":{\"endlinecolor\":\"#2a3f5f\",\"gridcolor\":\"white\",\"linecolor\":\"white\",\"minorgridcolor\":\"white\",\"startlinecolor\":\"#2a3f5f\"},\"baxis\":{\"endlinecolor\":\"#2a3f5f\",\"gridcolor\":\"white\",\"linecolor\":\"white\",\"minorgridcolor\":\"white\",\"startlinecolor\":\"#2a3f5f\"},\"type\":\"carpet\"}],\"table\":[{\"cells\":{\"fill\":{\"color\":\"#EBF0F8\"},\"line\":{\"color\":\"white\"}},\"header\":{\"fill\":{\"color\":\"#C8D4E3\"},\"line\":{\"color\":\"white\"}},\"type\":\"table\"}],\"barpolar\":[{\"marker\":{\"line\":{\"color\":\"#E5ECF6\",\"width\":0.5},\"pattern\":{\"fillmode\":\"overlay\",\"size\":10,\"solidity\":0.2}},\"type\":\"barpolar\"}],\"pie\":[{\"automargin\":true,\"type\":\"pie\"}]},\"layout\":{\"autotypenumbers\":\"strict\",\"colorway\":[\"#636efa\",\"#EF553B\",\"#00cc96\",\"#ab63fa\",\"#FFA15A\",\"#19d3f3\",\"#FF6692\",\"#B6E880\",\"#FF97FF\",\"#FECB52\"],\"font\":{\"color\":\"#2a3f5f\"},\"hovermode\":\"closest\",\"hoverlabel\":{\"align\":\"left\"},\"paper_bgcolor\":\"white\",\"plot_bgcolor\":\"#E5ECF6\",\"polar\":{\"bgcolor\":\"#E5ECF6\",\"angularaxis\":{\"gridcolor\":\"white\",\"linecolor\":\"white\",\"ticks\":\"\"},\"radialaxis\":{\"gridcolor\":\"white\",\"linecolor\":\"white\",\"ticks\":\"\"}},\"ternary\":{\"bgcolor\":\"#E5ECF6\",\"aaxis\":{\"gridcolor\":\"white\",\"linecolor\":\"white\",\"ticks\":\"\"},\"baxis\":{\"gridcolor\":\"white\",\"linecolor\":\"white\",\"ticks\":\"\"},\"caxis\":{\"gridcolor\":\"white\",\"linecolor\":\"white\",\"ticks\":\"\"}},\"coloraxis\":{\"colorbar\":{\"outlinewidth\":0,\"ticks\":\"\"}},\"colorscale\":{\"sequential\":[[0.0,\"#0d0887\"],[0.1111111111111111,\"#46039f\"],[0.2222222222222222,\"#7201a8\"],[0.3333333333333333,\"#9c179e\"],[0.4444444444444444,\"#bd3786\"],[0.5555555555555556,\"#d8576b\"],[0.6666666666666666,\"#ed7953\"],[0.7777777777777778,\"#fb9f3a\"],[0.8888888888888888,\"#fdca26\"],[1.0,\"#f0f921\"]],\"sequentialminus\":[[0.0,\"#0d0887\"],[0.1111111111111111,\"#46039f\"],[0.2222222222222222,\"#7201a8\"],[0.3333333333333333,\"#9c179e\"],[0.4444444444444444,\"#bd3786\"],[0.5555555555555556,\"#d8576b\"],[0.6666666666666666,\"#ed7953\"],[0.7777777777777778,\"#fb9f3a\"],[0.8888888888888888,\"#fdca26\"],[1.0,\"#f0f921\"]],\"diverging\":[[0,\"#8e0152\"],[0.1,\"#c51b7d\"],[0.2,\"#de77ae\"],[0.3,\"#f1b6da\"],[0.4,\"#fde0ef\"],[0.5,\"#f7f7f7\"],[0.6,\"#e6f5d0\"],[0.7,\"#b8e186\"],[0.8,\"#7fbc41\"],[0.9,\"#4d9221\"],[1,\"#276419\"]]},\"xaxis\":{\"gridcolor\":\"white\",\"linecolor\":\"white\",\"ticks\":\"\",\"title\":{\"standoff\":15},\"zerolinecolor\":\"white\",\"automargin\":true,\"zerolinewidth\":2},\"yaxis\":{\"gridcolor\":\"white\",\"linecolor\":\"white\",\"ticks\":\"\",\"title\":{\"standoff\":15},\"zerolinecolor\":\"white\",\"automargin\":true,\"zerolinewidth\":2},\"scene\":{\"xaxis\":{\"backgroundcolor\":\"#E5ECF6\",\"gridcolor\":\"white\",\"linecolor\":\"white\",\"showbackground\":true,\"ticks\":\"\",\"zerolinecolor\":\"white\",\"gridwidth\":2},\"yaxis\":{\"backgroundcolor\":\"#E5ECF6\",\"gridcolor\":\"white\",\"linecolor\":\"white\",\"showbackground\":true,\"ticks\":\"\",\"zerolinecolor\":\"white\",\"gridwidth\":2},\"zaxis\":{\"backgroundcolor\":\"#E5ECF6\",\"gridcolor\":\"white\",\"linecolor\":\"white\",\"showbackground\":true,\"ticks\":\"\",\"zerolinecolor\":\"white\",\"gridwidth\":2}},\"shapedefaults\":{\"line\":{\"color\":\"#2a3f5f\"}},\"annotationdefaults\":{\"arrowcolor\":\"#2a3f5f\",\"arrowhead\":0,\"arrowwidth\":1},\"geo\":{\"bgcolor\":\"white\",\"landcolor\":\"#E5ECF6\",\"subunitcolor\":\"white\",\"showland\":true,\"showlakes\":true,\"lakecolor\":\"white\"},\"title\":{\"x\":0.05},\"mapbox\":{\"style\":\"light\"}}}},                        {\"responsive\": true}                    ).then(function(){\n",
       "                            \n",
       "var gd = document.getElementById('485d3179-f021-46ca-8666-2ca89717c74d');\n",
       "var x = new MutationObserver(function (mutations, observer) {{\n",
       "        var display = window.getComputedStyle(gd).display;\n",
       "        if (!display || display === 'none') {{\n",
       "            console.log([gd, 'removed!']);\n",
       "            Plotly.purge(gd);\n",
       "            observer.disconnect();\n",
       "        }}\n",
       "}});\n",
       "\n",
       "// Listen for the removal of the full notebook cells\n",
       "var notebookContainer = gd.closest('#notebook-container');\n",
       "if (notebookContainer) {{\n",
       "    x.observe(notebookContainer, {childList: true});\n",
       "}}\n",
       "\n",
       "// Listen for the clearing of the current output cell\n",
       "var outputEl = gd.closest('.output');\n",
       "if (outputEl) {{\n",
       "    x.observe(outputEl, {childList: true});\n",
       "}}\n",
       "\n",
       "                        })                };            </script>        </div>"
      ]
     },
     "metadata": {},
     "output_type": "display_data"
    }
   ],
   "source": [
    "country_codes = {'afghanistan': 'AFG',\n",
    " 'albania': 'ALB',\n",
    " 'algeria': 'DZA',\n",
    " 'american samoa': 'ASM',\n",
    " 'andorra': 'AND',\n",
    " 'angola': 'AGO',\n",
    " 'anguilla': 'AIA',\n",
    " 'antigua and barbuda': 'ATG',\n",
    " 'argentina': 'ARG',\n",
    " 'armenia': 'ARM',\n",
    " 'aruba': 'ABW',\n",
    " 'australia': 'AUS',\n",
    " 'austria': 'AUT',\n",
    " 'azerbaijan': 'AZE',\n",
    " 'bahamas': 'BHM',\n",
    " 'bahrain': 'BHR',\n",
    " 'bangladesh': 'BGD',\n",
    " 'barbados': 'BRB',\n",
    " 'belarus': 'BLR',\n",
    " 'belgium': 'BEL',\n",
    " 'belize': 'BLZ',\n",
    " 'benin': 'BEN',\n",
    " 'bermuda': 'BMU',\n",
    " 'bhutan': 'BTN',\n",
    " 'bolivia': 'BOL',\n",
    " 'bosnia and herzegovina': 'BIH',\n",
    " 'botswana': 'BWA',\n",
    " 'brazil': 'BRA',\n",
    " 'british virgin islands': 'VGB',\n",
    " 'brunei': 'BRN',\n",
    " 'bulgaria': 'BGR',\n",
    " 'burkina faso': 'BFA',\n",
    " 'burma': 'MMR',\n",
    " 'burundi': 'BDI',\n",
    " 'cabo verde': 'CPV',\n",
    " 'cambodia': 'KHM',\n",
    " 'cameroon': 'CMR',\n",
    " 'canada': 'CAN',\n",
    " 'cayman islands': 'CYM',\n",
    " 'central african republic': 'CAF',\n",
    " 'chad': 'TCD',\n",
    " 'chile': 'CHL',\n",
    " 'china': 'CHN',\n",
    " 'colombia': 'COL',\n",
    " 'comoros': 'COM',\n",
    " 'congo democratic': 'COD',\n",
    " 'Congo republic': 'COG',\n",
    " 'cook islands': 'COK',\n",
    " 'costa rica': 'CRI',\n",
    " \"cote d'ivoire\": 'CIV',\n",
    " 'croatia': 'HRV',\n",
    " 'cuba': 'CUB',\n",
    " 'curacao': 'CUW',\n",
    " 'cyprus': 'CYP',\n",
    " 'czech republic': 'CZE',\n",
    " 'denmark': 'DNK',\n",
    " 'djibouti': 'DJI',\n",
    " 'dominica': 'DMA',\n",
    " 'dominican republic': 'DOM',\n",
    " 'ecuador': 'ECU',\n",
    " 'egypt': 'EGY',\n",
    " 'el salvador': 'SLV',\n",
    " 'equatorial guinea': 'GNQ',\n",
    " 'eritrea': 'ERI',\n",
    " 'estonia': 'EST',\n",
    " 'ethiopia': 'ETH',\n",
    " 'falkland islands': 'FLK',\n",
    " 'faroe islands': 'FRO',\n",
    " 'fiji': 'FJI',\n",
    " 'finland': 'FIN',\n",
    " 'france': 'FRA',\n",
    " 'french polynesia': 'PYF',\n",
    " 'gabon': 'GAB',\n",
    " 'gambia, the': 'GMB',\n",
    " 'georgia': 'GEO',\n",
    " 'germany': 'DEU',\n",
    " 'ghana': 'GHA',\n",
    " 'gibraltar': 'GIB',\n",
    " 'greece': 'GRC',\n",
    " 'greenland': 'GRL',\n",
    " 'grenada': 'GRD',\n",
    " 'guam': 'GUM',\n",
    " 'guatemala': 'GTM',\n",
    " 'guernsey': 'GGY',\n",
    " 'guinea-bissau': 'GNB',\n",
    " 'guinea': 'GIN',\n",
    " 'guyana': 'GUY',\n",
    " 'haiti': 'HTI',\n",
    " 'honduras': 'HND',\n",
    " 'hong kong': 'HKG',\n",
    " 'hungary': 'HUN',\n",
    " 'iceland': 'ISL',\n",
    " 'india': 'IND',\n",
    " 'indonesia': 'IDN',\n",
    " 'iran': 'IRN',\n",
    " 'iraq': 'IRQ',\n",
    " 'ireland': 'IRL',\n",
    " 'isle of man': 'IMN',\n",
    " 'israel': 'ISR',\n",
    " 'italy': 'ITA',\n",
    " 'jamaica': 'JAM',\n",
    " 'japan': 'JPN',\n",
    " 'jersey': 'JEY',\n",
    " 'jordan': 'JOR',\n",
    " 'kazakhstan': 'KAZ',\n",
    " 'kenya': 'KEN',\n",
    " 'kiribati': 'KIR',\n",
    " 'north korea': 'PRK',\n",
    " 'south korea': 'KOR',\n",
    " 'kosovo': 'KSV',\n",
    " 'kuwait': 'KWT',\n",
    " 'kyrgyzstan': 'KGZ',\n",
    " 'laos': 'LAO',\n",
    " 'latvia': 'LVA',\n",
    " 'lebanon': 'LBN',\n",
    " 'lesotho': 'LSO',\n",
    " 'liberia': 'LBR',\n",
    " 'libya': 'LBY',\n",
    " 'liechtenstein': 'LIE',\n",
    " 'lithuania': 'LTU',\n",
    " 'luxembourg': 'LUX',\n",
    " 'macau': 'MAC',\n",
    " 'macedonia': 'MKD',\n",
    " 'madagascar': 'MDG',\n",
    " 'malawi': 'MWI',\n",
    " 'malaysia': 'MYS',\n",
    " 'maldives': 'MDV',\n",
    " 'mali': 'MLI',\n",
    " 'malta': 'MLT',\n",
    " 'marshall islands': 'MHL',\n",
    " 'mauritania': 'MRT',\n",
    " 'mauritius': 'MUS',\n",
    " 'mexico': 'MEX',\n",
    " 'micronesia': 'FSM',\n",
    " 'moldova': 'MDA',\n",
    " 'monaco': 'MCO',\n",
    " 'mongolia': 'MNG',\n",
    " 'montenegro': 'MNE',\n",
    " 'morocco': 'MAR',\n",
    " 'mozambique': 'MOZ',\n",
    " 'namibia': 'NAM',\n",
    " 'nepal': 'NPL',\n",
    " 'netherlands': 'NLD',\n",
    " 'new caledonia': 'NCL',\n",
    " 'new zealand': 'NZL',\n",
    " 'nicaragua': 'NIC',\n",
    " 'nigeria': 'NGA',\n",
    " 'niger': 'NER',\n",
    " 'niue': 'NIU',\n",
    " 'northern mariana islands': 'MNP',\n",
    " 'norway': 'NOR',\n",
    " 'oman': 'OMN',\n",
    " 'pakistan': 'PAK',\n",
    " 'palau': 'PLW',\n",
    " 'panama': 'PAN',\n",
    " 'papua new guinea': 'PNG',\n",
    " 'paraguay': 'PRY',\n",
    " 'peru': 'PER',\n",
    " 'philippines': 'PHL',\n",
    " 'poland': 'POL',\n",
    " 'portugal': 'PRT',\n",
    " 'puerto rico': 'PRI',\n",
    " 'qatar': 'QAT',\n",
    " 'romania': 'ROU',\n",
    " 'russia': 'RUS',\n",
    " 'rwanda': 'RWA',\n",
    " 'saint kitts and nevis': 'KNA',\n",
    " 'saint lucia': 'LCA',\n",
    " 'saint martin': 'MAF',\n",
    " 'saint pierre and miquelon': 'SPM',\n",
    " 'saint vincent and the grenadines': 'VCT',\n",
    " 'samoa': 'WSM',\n",
    " 'san marino': 'SMR',\n",
    " 'sao tome and principe': 'STP',\n",
    " 'saudi arabia': 'SAU',\n",
    " 'senegal': 'SEN',\n",
    " 'serbia': 'SRB',\n",
    " 'seychelles': 'SYC',\n",
    " 'sierra leone': 'SLE',\n",
    " 'singapore': 'SGP',\n",
    " 'sint maarten': 'SXM',\n",
    " 'slovakia': 'SVK',\n",
    " 'slovenia': 'SVN',\n",
    " 'solomon islands': 'SLB',\n",
    " 'somalia': 'SOM',\n",
    " 'south africa': 'ZAF',\n",
    " 'south sudan': 'SSD',\n",
    " 'spain': 'ESP',\n",
    " 'sri lanka': 'LKA',\n",
    " 'sudan': 'SDN',\n",
    " 'suriname': 'SUR',\n",
    " 'swaziland': 'SWZ',\n",
    " 'sweden': 'SWE',\n",
    " 'switzerland': 'CHE',\n",
    " 'syria': 'SYR',\n",
    " 'taiwan': 'TWN',\n",
    " 'tajikistan': 'TJK',\n",
    " 'tanzania': 'TZA',\n",
    " 'thailand': 'THA',\n",
    " 'timor-leste': 'TLS',\n",
    " 'togo': 'TGO',\n",
    " 'tonga': 'TON',\n",
    " 'trinidad and tobago': 'TTO',\n",
    " 'tunisia': 'TUN',\n",
    " 'turkey': 'TUR',\n",
    " 'turkmenistan': 'TKM',\n",
    " 'tuvalu': 'TUV',\n",
    " 'uganda': 'UGA',\n",
    " 'ukraine': 'UKR',\n",
    " 'united arab emirates': 'ARE',\n",
    " 'united kingdom': 'GBR',\n",
    " 'united states': 'USA',\n",
    " 'uruguay': 'URY',\n",
    " 'uzbekistan': 'UZB',\n",
    " 'vanuatu': 'VUT',\n",
    " 'venezuela': 'VEN',\n",
    " 'vietnam': 'VNM',\n",
    " 'virgin islands': 'VGB',\n",
    " 'west bank': 'WBG',\n",
    " 'yemen': 'YEM',\n",
    " 'zambia': 'ZMB',\n",
    " 'zimbabwe': 'ZWE'}\n",
    "\n",
    "## countries \n",
    "from collections import Counter\n",
    "colorscale = [\"#f7fbff\", \"#ebf3fb\", \"#deebf7\", \"#d2e3f3\", \"#c6dbef\", \"#b3d2e9\", \"#9ecae1\",\n",
    "    \"#85bcdb\", \"#6baed6\", \"#57a0ce\", \"#4292c6\", \"#3082be\", \"#2171b5\", \"#1361a9\",\n",
    "    \"#08519c\", \"#0b4083\", \"#08306b\"\n",
    "]\n",
    "    \n",
    "def geoplot(ddf):\n",
    "    country_with_code, country = {}, {}\n",
    "    shows_countries = \", \".join(ddf['country'].dropna()).split(\", \")\n",
    "    for c,v in dict(Counter(shows_countries)).items():\n",
    "        code = \"\"\n",
    "        if c.lower() in country_codes:\n",
    "            code = country_codes[c.lower()]\n",
    "        country_with_code[code] = v\n",
    "        country[c] = v\n",
    "\n",
    "    data = [dict(\n",
    "            type = 'choropleth',\n",
    "            locations = list(country_with_code.keys()),\n",
    "            z = list(country_with_code.values()),\n",
    "            colorscale = [[0,\"rgb(5, 10, 172)\"],[0.65,\"rgb(40, 60, 190)\"],[0.75,\"rgb(70, 100, 245)\"],\\\n",
    "                        [0.80,\"rgb(90, 120, 245)\"],[0.9,\"rgb(106, 137, 247)\"],[1,\"rgb(220, 220, 220)\"]],\n",
    "            autocolorscale = False,\n",
    "            reversescale = True,\n",
    "            marker = dict(\n",
    "                line = dict (\n",
    "                    color = 'gray',\n",
    "                    width = 0.5\n",
    "                ) ),\n",
    "            colorbar = dict(\n",
    "                autotick = False,\n",
    "                title = ''),\n",
    "          ) ]\n",
    "\n",
    "    layout = dict(\n",
    "        title = '',\n",
    "        geo = dict(\n",
    "            showframe = False,\n",
    "            showcoastlines = False,\n",
    "            projection = dict(\n",
    "                type = 'Mercator'\n",
    "            )\n",
    "        )\n",
    "    )\n",
    "\n",
    "    fig = dict( data=data, layout=layout )\n",
    "    iplot( fig, validate=False, filename='d3-world-map' )\n",
    "    return country\n",
    "\n",
    "country_vals = geoplot(df)\n",
    "tabs = Counter(country_vals).most_common(25)\n",
    "\n",
    "labels = [_[0] for _ in tabs][::-1]\n",
    "values = [_[1] for _ in tabs][::-1]\n",
    "trace1 = go.Bar(y=labels, x=values, orientation=\"h\", name=\"\", marker=dict(color=\"#a678de\"))\n",
    "\n",
    "data = [trace1]\n",
    "layout = go.Layout(title=\"Countries with most content\", height=700, legend=dict(x=0.1, y=1.1, orientation=\"h\"))\n",
    "fig = go.Figure(data, layout=layout)\n",
    "fig.show()"
   ]
  },
  {
   "cell_type": "markdown",
   "id": "89a390e9",
   "metadata": {
    "papermill": {
     "duration": 0.02565,
     "end_time": "2021-10-02T08:28:40.570850",
     "exception": false,
     "start_time": "2021-10-02T08:28:40.545200",
     "status": "completed"
    },
    "tags": []
   },
   "source": [
    "## 5. Distribution of Movie Duration"
   ]
  },
  {
   "cell_type": "code",
   "execution_count": null,
   "id": "498e375f",
   "metadata": {
    "_kg_hide-input": true,
    "execution": {
     "iopub.execute_input": "2021-10-02T08:28:40.628067Z",
     "iopub.status.busy": "2021-10-02T08:28:40.627425Z",
     "iopub.status.idle": "2021-10-02T08:28:43.751944Z",
     "shell.execute_reply": "2021-10-02T08:28:43.752498Z",
     "shell.execute_reply.started": "2021-10-02T08:25:58.028792Z"
    },
    "papermill": {
     "duration": 3.156156,
     "end_time": "2021-10-02T08:28:43.752692",
     "exception": false,
     "start_time": "2021-10-02T08:28:40.596536",
     "status": "completed"
    },
    "tags": []
   },
   "outputs": [
    {
     "data": {
      "application/vnd.plotly.v1+json": {
       "config": {
        "plotlyServerURL": "https://plot.ly"
       },
       "data": [
        {
         "autobinx": false,
         "histnorm": "probability density",
         "legendgroup": "Duración",
         "marker": {
          "color": "#6ad49b"
         },
         "name": "Duración",
         "opacity": 0.7,
         "type": "histogram",
         "x": {
          "bdata": "FwBbABcAKQBeAC0AOwAEAFsAAgABAAgAbgAIAAsABwBfAIEAAgAOAAEABwAFAIYAXgAJAAgABwAeAAEABgAGABYAAwBXAFoAWwAIAF0AWwBXAGUAhAAsAIMAaABXACwALAA0AC8ANQBVAFwAhwBpAFsAXAAvAGMAFgBYAF0AfwBqABYAdAAsACwACQAqAAsAjAALAEIAcwCJAGMAFgAOAFUAaABqAGkAWABcACwAfgBYAFIAXgBbACwALABXAFgALAAsACwALAAsAH0ALAAsAF8ANgAsACwALAAsACwABgBlAGIAZgBQAGUAZQCqAGEAcAB+AAcAFQAVABQADwAOABMATwBpAF0AWQAEABIACQBRAJQAYwAsAGMAeQBgAGoALQBhAF0AZgBhAGEAXgBtAC0ACQBlAFIAawBWADUAGAB/AFsATwAMAF8AGABjAF8AXwBlAEEAVgBqADAALQBhACwALQBmAIwAbwAWAC0ALQBYAC0AKwAGAFgAawC0ADAAtgB+ADwAMgAuAF0ALgB0AHsAXwBxAC0AdQBlAC0AZQBTAG8AAwBrAF4AVQBaADAAZwB5AGcALQAtAGEAWAAXABcAFwBvAAwALQAWAF8AegA8AEgALQBxAC0AhgCPAFQAgABjACwAegBjAC0AbQBrAGgACQBzAFYALACKAFgAXwBUAC0AZQB4AGoAXwB1AFEAWABZACwAVgAtAC0AdgAsACwAgQA3AFwALAA4AJAALwCHAIQAIQBkAKAAYQBkAGQAaABoADEANQCYAF0ASwAvACwAbABOAAkACABgADAAMQBsAFoALQB3ACwABQAHAHcAWACTAAwAZgB5AI4AhgBdAF0AWgBVAAgAIAAhACAAYwAfAIQALAAbAFkABwAHADAABQAwAAcATQBPAE4ABgAJAAgABwBZAAgACQBYAAgACQBnAAgATgAIAAgAWgAHABkAcABYAFsAaQBtAGoAcABcAGsAawB3AGEAZQCJADUALAAXAC0ASgBrAFkAbgBnAGUAbQB5AGIACwB9AAYABwAMAIcABgAEAAQAAwACAAcACAAEAAIAYwAvAC0ALQAsADAALQBZAHcAKgAXAAQABwCYAAYAWQAXAHUABgAJAAcAhAA+AF4AdwAsABgALgAqAGkAaQAGAFQABwACAAYAYgBRAE0AaABYAH8AYgBRAFoABwBYAF4AVgBHAE8AZABXAFoAWABkAFEAWwBfAF4AUwBiAAcAogAIAGoASABLAAgACQAHAEcASQAHAGAAWQBpAC4AXgAIAGIABwAGAF4ASwA3AFoAWgBOAFoACABkAGAAYABlAFQAZQAIAHUAawBnAAUABQADAAYABQAGAAYALgBUAAgAVAAHAE0ATQBPAAkAWQBUAFsABwBbAFUAWwBRAF0ACAAqAFsAcgBdAFQAXwBbAF0AWgByAFoACgBAACoAaQAzAFoATgBRAE8ATgBSAFEAXQAIAAgAXQBQAEsABgB1AAkAXgAtAFYAegBiAJcAYgBYAH4ATAAIAGIAZwBmAFoACgAIAGAABwAEAAYAWQAbAGIAZQBYAGkAXwBKAC4AYwBWAAQABQBUAC0AWQBcAFIAVQAHAAgAWwBhAFQAUwBRAFMAaQBaAAkAYgBdAGkAWQBiAGQAcgB5AGAAUgBaAF4ATABcAFwALABeAAcACABXABoAYwAGAF8AUABaAFIAXgBpAE8AbQBxAAYAUQBaAC0AXQBcAFkALwCCAFYAXQBpAEYAXgBYAEYALABeAAkABABOAAcAbwAJABgAGAAYABgAGABuAAgATABnAFUAXABSAAUAVgBGAAkABwBWAAIACAAHACwALwBQACsADQB3AI8AtwCWAH4AigB+AHQAegCJAH8AfQCEAJEAdAByAI4ACABeAGEATAAHAEcACQAaAAcAQwAJAAgARgB0AAUAWwCJAFkAWgAsACwAbABTAGgAXQBcAC4ACQAIAFIAZQBvAF4AfQB6AIYAaQBZABkAVABMAFgAWQAFAG0ATQAGAAcASwBqAE8ATQBZAE8ALgBOAFoABgCpAJgAkABaAC0ABwAHAAcABwBVAE0AhwBOAEkABQBaAAwAfQBTAG8AVQBZAD0AVwA/AAQAcgAHAF4AWQBuAFUAWAAIAFcAVQCGACkAWgAvACoAKwAHAFwABwCBAFsALwBPAHwALwBGAC8ALQBcAF0AWABlAGwAXQBNAFIACABUAF4AWgAJAH0AjwCHAIwAfwCLAIgAUQAIAFYAPgAsAE8ALwBTAF4AYQBlADoATgBLAGoAYQBSAFoAdABgAAIAbwBsAEUASABkAFkAUQAIAAoAUwAJAF0AUgBiAAcASQBbAF4AYgBVAF4AmgCTAFMAWgBbAFIAXgBdAFUASQBwAF0ACgALAF4AYgB6AFkACQBgAEUAUAB0AGUATQBNAAgAUABUAFYATQBPAAkARQBfACwAbABLAF0AVwBXAF8AbAAJAAcAgQCBAAgANABQAF4AYwB0AHIAXwBKAE4ATgCBAGIAagBeAFgAVABcAGYAWgAIAK8AVABcAFEAWwBZAEgAagBRAAkAXQAJAFEARwBWAAgAOwAzAAkAXQAJAAkAZwBoAAoAWABOAAUAUQBQAFQALwAIAFwAUwBdAGcABgAJAAoAWQAHAGAAdABiAC0AYABTAFsACABXAFcAVABdAGAATgBMAFcAYwBbAEkAbQBoAC0ARABDAEYABwBeACwAZwAJADAAWABYAA0AYQBfAGEAWQBRAG0AdgBrAAkAWABJAGgASwBQAIQAgwBoAGEAbABqAGsAcAACAA==",
          "dtype": "i2"
         },
         "xaxis": "x",
         "xbins": {
          "end": 183,
          "size": 5,
          "start": 1
         },
         "yaxis": "y"
        },
        {
         "legendgroup": "Duración",
         "marker": {
          "color": "#6ad49b"
         },
         "mode": "lines",
         "name": "Duración",
         "showlegend": false,
         "type": "scatter",
         "x": [
          1,
          1.3639999999999999,
          1.728,
          2.092,
          2.456,
          2.8200000000000003,
          3.184,
          3.548,
          3.912,
          4.276,
          4.640000000000001,
          5.004,
          5.368,
          5.732,
          6.096,
          6.46,
          6.824,
          7.188,
          7.552,
          7.916,
          8.280000000000001,
          8.644,
          9.008,
          9.372,
          9.736,
          10.1,
          10.464,
          10.828,
          11.192,
          11.556,
          11.92,
          12.284,
          12.648,
          13.012,
          13.376,
          13.74,
          14.104,
          14.468,
          14.832,
          15.196,
          15.56,
          15.924,
          16.288,
          16.652,
          17.016,
          17.38,
          17.744,
          18.108,
          18.472,
          18.836,
          19.2,
          19.564,
          19.928,
          20.292,
          20.656,
          21.02,
          21.384,
          21.748,
          22.112,
          22.476,
          22.84,
          23.204,
          23.568,
          23.932,
          24.296,
          24.66,
          25.024,
          25.388,
          25.752,
          26.116,
          26.48,
          26.844,
          27.208,
          27.572,
          27.936,
          28.3,
          28.664,
          29.028,
          29.392,
          29.756,
          30.12,
          30.484,
          30.848,
          31.212,
          31.576,
          31.94,
          32.304,
          32.668,
          33.032,
          33.396,
          33.76,
          34.124,
          34.488,
          34.852,
          35.216,
          35.58,
          35.944,
          36.308,
          36.672,
          37.036,
          37.4,
          37.764,
          38.128,
          38.492,
          38.856,
          39.22,
          39.584,
          39.948,
          40.312,
          40.676,
          41.04,
          41.404,
          41.768,
          42.132,
          42.496,
          42.86,
          43.224,
          43.588,
          43.952,
          44.316,
          44.68,
          45.044,
          45.408,
          45.772,
          46.136,
          46.5,
          46.864,
          47.228,
          47.592,
          47.956,
          48.32,
          48.684,
          49.048,
          49.412,
          49.776,
          50.14,
          50.504,
          50.868,
          51.232,
          51.596,
          51.96,
          52.324,
          52.688,
          53.052,
          53.416,
          53.78,
          54.144,
          54.508,
          54.872,
          55.236,
          55.6,
          55.964,
          56.328,
          56.692,
          57.056,
          57.42,
          57.784,
          58.148,
          58.512,
          58.876,
          59.24,
          59.604,
          59.968,
          60.332,
          60.696,
          61.06,
          61.424,
          61.788,
          62.152,
          62.516,
          62.88,
          63.244,
          63.608,
          63.972,
          64.336,
          64.7,
          65.064,
          65.428,
          65.792,
          66.156,
          66.52,
          66.884,
          67.248,
          67.612,
          67.976,
          68.34,
          68.704,
          69.068,
          69.432,
          69.796,
          70.16,
          70.524,
          70.888,
          71.252,
          71.616,
          71.98,
          72.344,
          72.708,
          73.072,
          73.436,
          73.8,
          74.164,
          74.528,
          74.892,
          75.256,
          75.62,
          75.984,
          76.348,
          76.712,
          77.076,
          77.44,
          77.804,
          78.168,
          78.532,
          78.896,
          79.26,
          79.624,
          79.988,
          80.352,
          80.716,
          81.08,
          81.444,
          81.808,
          82.172,
          82.536,
          82.9,
          83.264,
          83.628,
          83.992,
          84.356,
          84.72,
          85.084,
          85.448,
          85.812,
          86.176,
          86.54,
          86.904,
          87.268,
          87.632,
          87.996,
          88.36,
          88.724,
          89.088,
          89.452,
          89.816,
          90.18,
          90.544,
          90.908,
          91.272,
          91.636,
          92,
          92.364,
          92.728,
          93.092,
          93.456,
          93.82,
          94.184,
          94.548,
          94.912,
          95.276,
          95.64,
          96.004,
          96.368,
          96.732,
          97.096,
          97.46,
          97.824,
          98.188,
          98.552,
          98.916,
          99.28,
          99.644,
          100.008,
          100.372,
          100.736,
          101.1,
          101.464,
          101.828,
          102.192,
          102.556,
          102.92,
          103.284,
          103.648,
          104.012,
          104.376,
          104.74,
          105.104,
          105.468,
          105.832,
          106.196,
          106.56,
          106.924,
          107.288,
          107.652,
          108.016,
          108.38,
          108.744,
          109.108,
          109.472,
          109.836,
          110.2,
          110.564,
          110.928,
          111.292,
          111.656,
          112.02,
          112.384,
          112.748,
          113.112,
          113.476,
          113.84,
          114.204,
          114.568,
          114.932,
          115.296,
          115.66,
          116.024,
          116.388,
          116.752,
          117.116,
          117.48,
          117.844,
          118.208,
          118.572,
          118.936,
          119.3,
          119.664,
          120.028,
          120.392,
          120.756,
          121.12,
          121.484,
          121.848,
          122.212,
          122.576,
          122.94,
          123.304,
          123.668,
          124.032,
          124.396,
          124.76,
          125.124,
          125.488,
          125.852,
          126.216,
          126.58,
          126.944,
          127.308,
          127.672,
          128.036,
          128.4,
          128.764,
          129.128,
          129.492,
          129.856,
          130.22,
          130.584,
          130.948,
          131.312,
          131.676,
          132.04,
          132.404,
          132.768,
          133.132,
          133.496,
          133.86,
          134.224,
          134.588,
          134.952,
          135.316,
          135.68,
          136.044,
          136.408,
          136.772,
          137.136,
          137.5,
          137.864,
          138.228,
          138.592,
          138.956,
          139.32,
          139.684,
          140.048,
          140.412,
          140.776,
          141.14,
          141.504,
          141.868,
          142.232,
          142.596,
          142.96,
          143.324,
          143.688,
          144.052,
          144.416,
          144.78,
          145.144,
          145.508,
          145.872,
          146.236,
          146.6,
          146.964,
          147.328,
          147.692,
          148.056,
          148.42,
          148.784,
          149.148,
          149.512,
          149.876,
          150.24,
          150.604,
          150.968,
          151.332,
          151.696,
          152.06,
          152.424,
          152.788,
          153.152,
          153.516,
          153.88,
          154.244,
          154.608,
          154.972,
          155.336,
          155.7,
          156.064,
          156.428,
          156.792,
          157.156,
          157.52,
          157.884,
          158.248,
          158.612,
          158.976,
          159.34,
          159.704,
          160.068,
          160.432,
          160.796,
          161.16,
          161.524,
          161.888,
          162.252,
          162.616,
          162.98,
          163.344,
          163.708,
          164.072,
          164.436,
          164.8,
          165.164,
          165.528,
          165.892,
          166.256,
          166.62,
          166.984,
          167.348,
          167.712,
          168.076,
          168.44,
          168.804,
          169.168,
          169.532,
          169.896,
          170.26,
          170.624,
          170.988,
          171.352,
          171.716,
          172.08,
          172.444,
          172.808,
          173.172,
          173.536,
          173.9,
          174.264,
          174.628,
          174.992,
          175.356,
          175.72,
          176.084,
          176.448,
          176.812,
          177.176,
          177.54,
          177.904,
          178.268,
          178.632,
          178.996,
          179.36,
          179.724,
          180.088,
          180.452,
          180.816,
          181.18,
          181.544,
          181.908,
          182.272,
          182.636
         ],
         "xaxis": "x",
         "y": {
          "bdata": "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",
          "dtype": "f8"
         },
         "yaxis": "y"
        },
        {
         "legendgroup": "Duración",
         "marker": {
          "color": "#6ad49b",
          "symbol": "line-ns-open"
         },
         "mode": "markers",
         "name": "Duración",
         "showlegend": false,
         "type": "scatter",
         "x": {
          "bdata": "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",
          "dtype": "i2"
         },
         "xaxis": "x",
         "y": [
          "Duración",
          "Duración",
          "Duración",
          "Duración",
          "Duración",
          "Duración",
          "Duración",
          "Duración",
          "Duración",
          "Duración",
          "Duración",
          "Duración",
          "Duración",
          "Duración",
          "Duración",
          "Duración",
          "Duración",
          "Duración",
          "Duración",
          "Duración",
          "Duración",
          "Duración",
          "Duración",
          "Duración",
          "Duración",
          "Duración",
          "Duración",
          "Duración",
          "Duración",
          "Duración",
          "Duración",
          "Duración",
          "Duración",
          "Duración",
          "Duración",
          "Duración",
          "Duración",
          "Duración",
          "Duración",
          "Duración",
          "Duración",
          "Duración",
          "Duración",
          "Duración",
          "Duración",
          "Duración",
          "Duración",
          "Duración",
          "Duración",
          "Duración",
          "Duración",
          "Duración",
          "Duración",
          "Duración",
          "Duración",
          "Duración",
          "Duración",
          "Duración",
          "Duración",
          "Duración",
          "Duración",
          "Duración",
          "Duración",
          "Duración",
          "Duración",
          "Duración",
          "Duración",
          "Duración",
          "Duración",
          "Duración",
          "Duración",
          "Duración",
          "Duración",
          "Duración",
          "Duración",
          "Duración",
          "Duración",
          "Duración",
          "Duración",
          "Duración",
          "Duración",
          "Duración",
          "Duración",
          "Duración",
          "Duración",
          "Duración",
          "Duración",
          "Duración",
          "Duración",
          "Duración",
          "Duración",
          "Duración",
          "Duración",
          "Duración",
          "Duración",
          "Duración",
          "Duración",
          "Duración",
          "Duración",
          "Duración",
          "Duración",
          "Duración",
          "Duración",
          "Duración",
          "Duración",
          "Duración",
          "Duración",
          "Duración",
          "Duración",
          "Duración",
          "Duración",
          "Duración",
          "Duración",
          "Duración",
          "Duración",
          "Duración",
          "Duración",
          "Duración",
          "Duración",
          "Duración",
          "Duración",
          "Duración",
          "Duración",
          "Duración",
          "Duración",
          "Duración",
          "Duración",
          "Duración",
          "Duración",
          "Duración",
          "Duración",
          "Duración",
          "Duración",
          "Duración",
          "Duración",
          "Duración",
          "Duración",
          "Duración",
          "Duración",
          "Duración",
          "Duración",
          "Duración",
          "Duración",
          "Duración",
          "Duración",
          "Duración",
          "Duración",
          "Duración",
          "Duración",
          "Duración",
          "Duración",
          "Duración",
          "Duración",
          "Duración",
          "Duración",
          "Duración",
          "Duración",
          "Duración",
          "Duración",
          "Duración",
          "Duración",
          "Duración",
          "Duración",
          "Duración",
          "Duración",
          "Duración",
          "Duración",
          "Duración",
          "Duración",
          "Duración",
          "Duración",
          "Duración",
          "Duración",
          "Duración",
          "Duración",
          "Duración",
          "Duración",
          "Duración",
          "Duración",
          "Duración",
          "Duración",
          "Duración",
          "Duración",
          "Duración",
          "Duración",
          "Duración",
          "Duración",
          "Duración",
          "Duración",
          "Duración",
          "Duración",
          "Duración",
          "Duración",
          "Duración",
          "Duración",
          "Duración",
          "Duración",
          "Duración",
          "Duración",
          "Duración",
          "Duración",
          "Duración",
          "Duración",
          "Duración",
          "Duración",
          "Duración",
          "Duración",
          "Duración",
          "Duración",
          "Duración",
          "Duración",
          "Duración",
          "Duración",
          "Duración",
          "Duración",
          "Duración",
          "Duración",
          "Duración",
          "Duración",
          "Duración",
          "Duración",
          "Duración",
          "Duración",
          "Duración",
          "Duración",
          "Duración",
          "Duración",
          "Duración",
          "Duración",
          "Duración",
          "Duración",
          "Duración",
          "Duración",
          "Duración",
          "Duración",
          "Duración",
          "Duración",
          "Duración",
          "Duración",
          "Duración",
          "Duración",
          "Duración",
          "Duración",
          "Duración",
          "Duración",
          "Duración",
          "Duración",
          "Duración",
          "Duración",
          "Duración",
          "Duración",
          "Duración",
          "Duración",
          "Duración",
          "Duración",
          "Duración",
          "Duración",
          "Duración",
          "Duración",
          "Duración",
          "Duración",
          "Duración",
          "Duración",
          "Duración",
          "Duración",
          "Duración",
          "Duración",
          "Duración",
          "Duración",
          "Duración",
          "Duración",
          "Duración",
          "Duración",
          "Duración",
          "Duración",
          "Duración",
          "Duración",
          "Duración",
          "Duración",
          "Duración",
          "Duración",
          "Duración",
          "Duración",
          "Duración",
          "Duración",
          "Duración",
          "Duración",
          "Duración",
          "Duración",
          "Duración",
          "Duración",
          "Duración",
          "Duración",
          "Duración",
          "Duración",
          "Duración",
          "Duración",
          "Duración",
          "Duración",
          "Duración",
          "Duración",
          "Duración",
          "Duración",
          "Duración",
          "Duración",
          "Duración",
          "Duración",
          "Duración",
          "Duración",
          "Duración",
          "Duración",
          "Duración",
          "Duración",
          "Duración",
          "Duración",
          "Duración",
          "Duración",
          "Duración",
          "Duración",
          "Duración",
          "Duración",
          "Duración",
          "Duración",
          "Duración",
          "Duración",
          "Duración",
          "Duración",
          "Duración",
          "Duración",
          "Duración",
          "Duración",
          "Duración",
          "Duración",
          "Duración",
          "Duración",
          "Duración",
          "Duración",
          "Duración",
          "Duración",
          "Duración",
          "Duración",
          "Duración",
          "Duración",
          "Duración",
          "Duración",
          "Duración",
          "Duración",
          "Duración",
          "Duración",
          "Duración",
          "Duración",
          "Duración",
          "Duración",
          "Duración",
          "Duración",
          "Duración",
          "Duración",
          "Duración",
          "Duración",
          "Duración",
          "Duración",
          "Duración",
          "Duración",
          "Duración",
          "Duración",
          "Duración",
          "Duración",
          "Duración",
          "Duración",
          "Duración",
          "Duración",
          "Duración",
          "Duración",
          "Duración",
          "Duración",
          "Duración",
          "Duración",
          "Duración",
          "Duración",
          "Duración",
          "Duración",
          "Duración",
          "Duración",
          "Duración",
          "Duración",
          "Duración",
          "Duración",
          "Duración",
          "Duración",
          "Duración",
          "Duración",
          "Duración",
          "Duración",
          "Duración",
          "Duración",
          "Duración",
          "Duración",
          "Duración",
          "Duración",
          "Duración",
          "Duración",
          "Duración",
          "Duración",
          "Duración",
          "Duración",
          "Duración",
          "Duración",
          "Duración",
          "Duración",
          "Duración",
          "Duración",
          "Duración",
          "Duración",
          "Duración",
          "Duración",
          "Duración",
          "Duración",
          "Duración",
          "Duración",
          "Duración",
          "Duración",
          "Duración",
          "Duración",
          "Duración",
          "Duración",
          "Duración",
          "Duración",
          "Duración",
          "Duración",
          "Duración",
          "Duración",
          "Duración",
          "Duración",
          "Duración",
          "Duración",
          "Duración",
          "Duración",
          "Duración",
          "Duración",
          "Duración",
          "Duración",
          "Duración",
          "Duración",
          "Duración",
          "Duración",
          "Duración",
          "Duración",
          "Duración",
          "Duración",
          "Duración",
          "Duración",
          "Duración",
          "Duración",
          "Duración",
          "Duración",
          "Duración",
          "Duración",
          "Duración",
          "Duración",
          "Duración",
          "Duración",
          "Duración",
          "Duración",
          "Duración",
          "Duración",
          "Duración",
          "Duración",
          "Duración",
          "Duración",
          "Duración",
          "Duración",
          "Duración",
          "Duración",
          "Duración",
          "Duración",
          "Duración",
          "Duración",
          "Duración",
          "Duración",
          "Duración",
          "Duración",
          "Duración",
          "Duración",
          "Duración",
          "Duración",
          "Duración",
          "Duración",
          "Duración",
          "Duración",
          "Duración",
          "Duración",
          "Duración",
          "Duración",
          "Duración",
          "Duración",
          "Duración",
          "Duración",
          "Duración",
          "Duración",
          "Duración",
          "Duración",
          "Duración",
          "Duración",
          "Duración",
          "Duración",
          "Duración",
          "Duración",
          "Duración",
          "Duración",
          "Duración",
          "Duración",
          "Duración",
          "Duración",
          "Duración",
          "Duración",
          "Duración",
          "Duración",
          "Duración",
          "Duración",
          "Duración",
          "Duración",
          "Duración",
          "Duración",
          "Duración",
          "Duración",
          "Duración",
          "Duración",
          "Duración",
          "Duración",
          "Duración",
          "Duración",
          "Duración",
          "Duración",
          "Duración",
          "Duración",
          "Duración",
          "Duración",
          "Duración",
          "Duración",
          "Duración",
          "Duración",
          "Duración",
          "Duración",
          "Duración",
          "Duración",
          "Duración",
          "Duración",
          "Duración",
          "Duración",
          "Duración",
          "Duración",
          "Duración",
          "Duración",
          "Duración",
          "Duración",
          "Duración",
          "Duración",
          "Duración",
          "Duración",
          "Duración",
          "Duración",
          "Duración",
          "Duración",
          "Duración",
          "Duración",
          "Duración",
          "Duración",
          "Duración",
          "Duración",
          "Duración",
          "Duración",
          "Duración",
          "Duración",
          "Duración",
          "Duración",
          "Duración",
          "Duración",
          "Duración",
          "Duración",
          "Duración",
          "Duración",
          "Duración",
          "Duración",
          "Duración",
          "Duración",
          "Duración",
          "Duración",
          "Duración",
          "Duración",
          "Duración",
          "Duración",
          "Duración",
          "Duración",
          "Duración",
          "Duración",
          "Duración",
          "Duración",
          "Duración",
          "Duración",
          "Duración",
          "Duración",
          "Duración",
          "Duración",
          "Duración",
          "Duración",
          "Duración",
          "Duración",
          "Duración",
          "Duración",
          "Duración",
          "Duración",
          "Duración",
          "Duración",
          "Duración",
          "Duración",
          "Duración",
          "Duración",
          "Duración",
          "Duración",
          "Duración",
          "Duración",
          "Duración",
          "Duración",
          "Duración",
          "Duración",
          "Duración",
          "Duración",
          "Duración",
          "Duración",
          "Duración",
          "Duración",
          "Duración",
          "Duración",
          "Duración",
          "Duración",
          "Duración",
          "Duración",
          "Duración",
          "Duración",
          "Duración",
          "Duración",
          "Duración",
          "Duración",
          "Duración",
          "Duración",
          "Duración",
          "Duración",
          "Duración",
          "Duración",
          "Duración",
          "Duración",
          "Duración",
          "Duración",
          "Duración",
          "Duración",
          "Duración",
          "Duración",
          "Duración",
          "Duración",
          "Duración",
          "Duración",
          "Duración",
          "Duración",
          "Duración",
          "Duración",
          "Duración",
          "Duración",
          "Duración",
          "Duración",
          "Duración",
          "Duración",
          "Duración",
          "Duración",
          "Duración",
          "Duración",
          "Duración",
          "Duración",
          "Duración",
          "Duración",
          "Duración",
          "Duración",
          "Duración",
          "Duración",
          "Duración",
          "Duración",
          "Duración",
          "Duración",
          "Duración",
          "Duración",
          "Duración",
          "Duración",
          "Duración",
          "Duración",
          "Duración",
          "Duración",
          "Duración",
          "Duración",
          "Duración",
          "Duración",
          "Duración",
          "Duración",
          "Duración",
          "Duración",
          "Duración",
          "Duración",
          "Duración",
          "Duración",
          "Duración",
          "Duración",
          "Duración",
          "Duración",
          "Duración",
          "Duración",
          "Duración",
          "Duración",
          "Duración",
          "Duración",
          "Duración",
          "Duración",
          "Duración",
          "Duración",
          "Duración",
          "Duración",
          "Duración",
          "Duración",
          "Duración",
          "Duración",
          "Duración",
          "Duración",
          "Duración",
          "Duración",
          "Duración",
          "Duración",
          "Duración",
          "Duración",
          "Duración",
          "Duración",
          "Duración",
          "Duración",
          "Duración",
          "Duración",
          "Duración",
          "Duración",
          "Duración",
          "Duración",
          "Duración",
          "Duración",
          "Duración",
          "Duración",
          "Duración",
          "Duración",
          "Duración",
          "Duración",
          "Duración",
          "Duración",
          "Duración",
          "Duración",
          "Duración",
          "Duración",
          "Duración",
          "Duración",
          "Duración",
          "Duración",
          "Duración",
          "Duración",
          "Duración",
          "Duración",
          "Duración",
          "Duración",
          "Duración",
          "Duración",
          "Duración",
          "Duración",
          "Duración",
          "Duración",
          "Duración",
          "Duración",
          "Duración",
          "Duración",
          "Duración",
          "Duración",
          "Duración",
          "Duración",
          "Duración",
          "Duración",
          "Duración",
          "Duración",
          "Duración",
          "Duración",
          "Duración",
          "Duración",
          "Duración",
          "Duración",
          "Duración",
          "Duración",
          "Duración",
          "Duración",
          "Duración",
          "Duración",
          "Duración",
          "Duración",
          "Duración",
          "Duración",
          "Duración",
          "Duración",
          "Duración",
          "Duración",
          "Duración",
          "Duración",
          "Duración",
          "Duración",
          "Duración",
          "Duración",
          "Duración",
          "Duración",
          "Duración",
          "Duración",
          "Duración",
          "Duración",
          "Duración",
          "Duración",
          "Duración",
          "Duración",
          "Duración",
          "Duración",
          "Duración",
          "Duración",
          "Duración",
          "Duración",
          "Duración",
          "Duración",
          "Duración",
          "Duración",
          "Duración",
          "Duración",
          "Duración",
          "Duración",
          "Duración",
          "Duración",
          "Duración",
          "Duración",
          "Duración",
          "Duración",
          "Duración",
          "Duración",
          "Duración",
          "Duración",
          "Duración",
          "Duración",
          "Duración",
          "Duración",
          "Duración",
          "Duración",
          "Duración",
          "Duración",
          "Duración",
          "Duración",
          "Duración",
          "Duración",
          "Duración",
          "Duración",
          "Duración",
          "Duración",
          "Duración",
          "Duración",
          "Duración",
          "Duración",
          "Duración",
          "Duración",
          "Duración",
          "Duración",
          "Duración",
          "Duración",
          "Duración",
          "Duración",
          "Duración",
          "Duración",
          "Duración",
          "Duración",
          "Duración",
          "Duración",
          "Duración",
          "Duración",
          "Duración",
          "Duración",
          "Duración",
          "Duración",
          "Duración",
          "Duración",
          "Duración",
          "Duración",
          "Duración",
          "Duración",
          "Duración",
          "Duración",
          "Duración",
          "Duración",
          "Duración",
          "Duración",
          "Duración",
          "Duración",
          "Duración",
          "Duración",
          "Duración",
          "Duración",
          "Duración",
          "Duración",
          "Duración",
          "Duración",
          "Duración",
          "Duración",
          "Duración",
          "Duración",
          "Duración",
          "Duración",
          "Duración",
          "Duración",
          "Duración",
          "Duración",
          "Duración",
          "Duración",
          "Duración",
          "Duración",
          "Duración",
          "Duración",
          "Duración",
          "Duración",
          "Duración",
          "Duración",
          "Duración",
          "Duración",
          "Duración",
          "Duración",
          "Duración",
          "Duración",
          "Duración",
          "Duración",
          "Duración",
          "Duración",
          "Duración",
          "Duración",
          "Duración",
          "Duración",
          "Duración",
          "Duración",
          "Duración",
          "Duración",
          "Duración",
          "Duración",
          "Duración",
          "Duración",
          "Duración",
          "Duración",
          "Duración",
          "Duración",
          "Duración",
          "Duración",
          "Duración",
          "Duración",
          "Duración",
          "Duración",
          "Duración",
          "Duración",
          "Duración",
          "Duración",
          "Duración",
          "Duración",
          "Duración",
          "Duración",
          "Duración",
          "Duración",
          "Duración",
          "Duración",
          "Duración",
          "Duración",
          "Duración",
          "Duración",
          "Duración",
          "Duración",
          "Duración",
          "Duración",
          "Duración",
          "Duración",
          "Duración",
          "Duración",
          "Duración",
          "Duración",
          "Duración",
          "Duración",
          "Duración",
          "Duración",
          "Duración",
          "Duración",
          "Duración",
          "Duración",
          "Duración",
          "Duración",
          "Duración",
          "Duración",
          "Duración",
          "Duración",
          "Duración",
          "Duración",
          "Duración",
          "Duración",
          "Duración",
          "Duración",
          "Duración",
          "Duración",
          "Duración",
          "Duración",
          "Duración",
          "Duración",
          "Duración",
          "Duración",
          "Duración",
          "Duración",
          "Duración",
          "Duración",
          "Duración",
          "Duración",
          "Duración",
          "Duración",
          "Duración",
          "Duración",
          "Duración",
          "Duración",
          "Duración",
          "Duración",
          "Duración",
          "Duración",
          "Duración",
          "Duración",
          "Duración",
          "Duración",
          "Duración",
          "Duración",
          "Duración",
          "Duración",
          "Duración",
          "Duración",
          "Duración",
          "Duración",
          "Duración",
          "Duración",
          "Duración",
          "Duración",
          "Duración",
          "Duración",
          "Duración",
          "Duración",
          "Duración"
         ],
         "yaxis": "y2"
        }
       ],
       "layout": {
        "barmode": "overlay",
        "hovermode": "closest",
        "legend": {
         "traceorder": "reversed"
        },
        "template": {
         "data": {
          "bar": [
           {
            "error_x": {
             "color": "#2a3f5f"
            },
            "error_y": {
             "color": "#2a3f5f"
            },
            "marker": {
             "line": {
              "color": "#E5ECF6",
              "width": 0.5
             },
             "pattern": {
              "fillmode": "overlay",
              "size": 10,
              "solidity": 0.2
             }
            },
            "type": "bar"
           }
          ],
          "barpolar": [
           {
            "marker": {
             "line": {
              "color": "#E5ECF6",
              "width": 0.5
             },
             "pattern": {
              "fillmode": "overlay",
              "size": 10,
              "solidity": 0.2
             }
            },
            "type": "barpolar"
           }
          ],
          "carpet": [
           {
            "aaxis": {
             "endlinecolor": "#2a3f5f",
             "gridcolor": "white",
             "linecolor": "white",
             "minorgridcolor": "white",
             "startlinecolor": "#2a3f5f"
            },
            "baxis": {
             "endlinecolor": "#2a3f5f",
             "gridcolor": "white",
             "linecolor": "white",
             "minorgridcolor": "white",
             "startlinecolor": "#2a3f5f"
            },
            "type": "carpet"
           }
          ],
          "choropleth": [
           {
            "colorbar": {
             "outlinewidth": 0,
             "ticks": ""
            },
            "type": "choropleth"
           }
          ],
          "contour": [
           {
            "colorbar": {
             "outlinewidth": 0,
             "ticks": ""
            },
            "colorscale": [
             [
              0,
              "#0d0887"
             ],
             [
              0.1111111111111111,
              "#46039f"
             ],
             [
              0.2222222222222222,
              "#7201a8"
             ],
             [
              0.3333333333333333,
              "#9c179e"
             ],
             [
              0.4444444444444444,
              "#bd3786"
             ],
             [
              0.5555555555555556,
              "#d8576b"
             ],
             [
              0.6666666666666666,
              "#ed7953"
             ],
             [
              0.7777777777777778,
              "#fb9f3a"
             ],
             [
              0.8888888888888888,
              "#fdca26"
             ],
             [
              1,
              "#f0f921"
             ]
            ],
            "type": "contour"
           }
          ],
          "contourcarpet": [
           {
            "colorbar": {
             "outlinewidth": 0,
             "ticks": ""
            },
            "type": "contourcarpet"
           }
          ],
          "heatmap": [
           {
            "colorbar": {
             "outlinewidth": 0,
             "ticks": ""
            },
            "colorscale": [
             [
              0,
              "#0d0887"
             ],
             [
              0.1111111111111111,
              "#46039f"
             ],
             [
              0.2222222222222222,
              "#7201a8"
             ],
             [
              0.3333333333333333,
              "#9c179e"
             ],
             [
              0.4444444444444444,
              "#bd3786"
             ],
             [
              0.5555555555555556,
              "#d8576b"
             ],
             [
              0.6666666666666666,
              "#ed7953"
             ],
             [
              0.7777777777777778,
              "#fb9f3a"
             ],
             [
              0.8888888888888888,
              "#fdca26"
             ],
             [
              1,
              "#f0f921"
             ]
            ],
            "type": "heatmap"
           }
          ],
          "histogram": [
           {
            "marker": {
             "pattern": {
              "fillmode": "overlay",
              "size": 10,
              "solidity": 0.2
             }
            },
            "type": "histogram"
           }
          ],
          "histogram2d": [
           {
            "colorbar": {
             "outlinewidth": 0,
             "ticks": ""
            },
            "colorscale": [
             [
              0,
              "#0d0887"
             ],
             [
              0.1111111111111111,
              "#46039f"
             ],
             [
              0.2222222222222222,
              "#7201a8"
             ],
             [
              0.3333333333333333,
              "#9c179e"
             ],
             [
              0.4444444444444444,
              "#bd3786"
             ],
             [
              0.5555555555555556,
              "#d8576b"
             ],
             [
              0.6666666666666666,
              "#ed7953"
             ],
             [
              0.7777777777777778,
              "#fb9f3a"
             ],
             [
              0.8888888888888888,
              "#fdca26"
             ],
             [
              1,
              "#f0f921"
             ]
            ],
            "type": "histogram2d"
           }
          ],
          "histogram2dcontour": [
           {
            "colorbar": {
             "outlinewidth": 0,
             "ticks": ""
            },
            "colorscale": [
             [
              0,
              "#0d0887"
             ],
             [
              0.1111111111111111,
              "#46039f"
             ],
             [
              0.2222222222222222,
              "#7201a8"
             ],
             [
              0.3333333333333333,
              "#9c179e"
             ],
             [
              0.4444444444444444,
              "#bd3786"
             ],
             [
              0.5555555555555556,
              "#d8576b"
             ],
             [
              0.6666666666666666,
              "#ed7953"
             ],
             [
              0.7777777777777778,
              "#fb9f3a"
             ],
             [
              0.8888888888888888,
              "#fdca26"
             ],
             [
              1,
              "#f0f921"
             ]
            ],
            "type": "histogram2dcontour"
           }
          ],
          "mesh3d": [
           {
            "colorbar": {
             "outlinewidth": 0,
             "ticks": ""
            },
            "type": "mesh3d"
           }
          ],
          "parcoords": [
           {
            "line": {
             "colorbar": {
              "outlinewidth": 0,
              "ticks": ""
             }
            },
            "type": "parcoords"
           }
          ],
          "pie": [
           {
            "automargin": true,
            "type": "pie"
           }
          ],
          "scatter": [
           {
            "fillpattern": {
             "fillmode": "overlay",
             "size": 10,
             "solidity": 0.2
            },
            "type": "scatter"
           }
          ],
          "scatter3d": [
           {
            "line": {
             "colorbar": {
              "outlinewidth": 0,
              "ticks": ""
             }
            },
            "marker": {
             "colorbar": {
              "outlinewidth": 0,
              "ticks": ""
             }
            },
            "type": "scatter3d"
           }
          ],
          "scattercarpet": [
           {
            "marker": {
             "colorbar": {
              "outlinewidth": 0,
              "ticks": ""
             }
            },
            "type": "scattercarpet"
           }
          ],
          "scattergeo": [
           {
            "marker": {
             "colorbar": {
              "outlinewidth": 0,
              "ticks": ""
             }
            },
            "type": "scattergeo"
           }
          ],
          "scattergl": [
           {
            "marker": {
             "colorbar": {
              "outlinewidth": 0,
              "ticks": ""
             }
            },
            "type": "scattergl"
           }
          ],
          "scattermap": [
           {
            "marker": {
             "colorbar": {
              "outlinewidth": 0,
              "ticks": ""
             }
            },
            "type": "scattermap"
           }
          ],
          "scattermapbox": [
           {
            "marker": {
             "colorbar": {
              "outlinewidth": 0,
              "ticks": ""
             }
            },
            "type": "scattermapbox"
           }
          ],
          "scatterpolar": [
           {
            "marker": {
             "colorbar": {
              "outlinewidth": 0,
              "ticks": ""
             }
            },
            "type": "scatterpolar"
           }
          ],
          "scatterpolargl": [
           {
            "marker": {
             "colorbar": {
              "outlinewidth": 0,
              "ticks": ""
             }
            },
            "type": "scatterpolargl"
           }
          ],
          "scatterternary": [
           {
            "marker": {
             "colorbar": {
              "outlinewidth": 0,
              "ticks": ""
             }
            },
            "type": "scatterternary"
           }
          ],
          "surface": [
           {
            "colorbar": {
             "outlinewidth": 0,
             "ticks": ""
            },
            "colorscale": [
             [
              0,
              "#0d0887"
             ],
             [
              0.1111111111111111,
              "#46039f"
             ],
             [
              0.2222222222222222,
              "#7201a8"
             ],
             [
              0.3333333333333333,
              "#9c179e"
             ],
             [
              0.4444444444444444,
              "#bd3786"
             ],
             [
              0.5555555555555556,
              "#d8576b"
             ],
             [
              0.6666666666666666,
              "#ed7953"
             ],
             [
              0.7777777777777778,
              "#fb9f3a"
             ],
             [
              0.8888888888888888,
              "#fdca26"
             ],
             [
              1,
              "#f0f921"
             ]
            ],
            "type": "surface"
           }
          ],
          "table": [
           {
            "cells": {
             "fill": {
              "color": "#EBF0F8"
             },
             "line": {
              "color": "white"
             }
            },
            "header": {
             "fill": {
              "color": "#C8D4E3"
             },
             "line": {
              "color": "white"
             }
            },
            "type": "table"
           }
          ]
         },
         "layout": {
          "annotationdefaults": {
           "arrowcolor": "#2a3f5f",
           "arrowhead": 0,
           "arrowwidth": 1
          },
          "autotypenumbers": "strict",
          "coloraxis": {
           "colorbar": {
            "outlinewidth": 0,
            "ticks": ""
           }
          },
          "colorscale": {
           "diverging": [
            [
             0,
             "#8e0152"
            ],
            [
             0.1,
             "#c51b7d"
            ],
            [
             0.2,
             "#de77ae"
            ],
            [
             0.3,
             "#f1b6da"
            ],
            [
             0.4,
             "#fde0ef"
            ],
            [
             0.5,
             "#f7f7f7"
            ],
            [
             0.6,
             "#e6f5d0"
            ],
            [
             0.7,
             "#b8e186"
            ],
            [
             0.8,
             "#7fbc41"
            ],
            [
             0.9,
             "#4d9221"
            ],
            [
             1,
             "#276419"
            ]
           ],
           "sequential": [
            [
             0,
             "#0d0887"
            ],
            [
             0.1111111111111111,
             "#46039f"
            ],
            [
             0.2222222222222222,
             "#7201a8"
            ],
            [
             0.3333333333333333,
             "#9c179e"
            ],
            [
             0.4444444444444444,
             "#bd3786"
            ],
            [
             0.5555555555555556,
             "#d8576b"
            ],
            [
             0.6666666666666666,
             "#ed7953"
            ],
            [
             0.7777777777777778,
             "#fb9f3a"
            ],
            [
             0.8888888888888888,
             "#fdca26"
            ],
            [
             1,
             "#f0f921"
            ]
           ],
           "sequentialminus": [
            [
             0,
             "#0d0887"
            ],
            [
             0.1111111111111111,
             "#46039f"
            ],
            [
             0.2222222222222222,
             "#7201a8"
            ],
            [
             0.3333333333333333,
             "#9c179e"
            ],
            [
             0.4444444444444444,
             "#bd3786"
            ],
            [
             0.5555555555555556,
             "#d8576b"
            ],
            [
             0.6666666666666666,
             "#ed7953"
            ],
            [
             0.7777777777777778,
             "#fb9f3a"
            ],
            [
             0.8888888888888888,
             "#fdca26"
            ],
            [
             1,
             "#f0f921"
            ]
           ]
          },
          "colorway": [
           "#636efa",
           "#EF553B",
           "#00cc96",
           "#ab63fa",
           "#FFA15A",
           "#19d3f3",
           "#FF6692",
           "#B6E880",
           "#FF97FF",
           "#FECB52"
          ],
          "font": {
           "color": "#2a3f5f"
          },
          "geo": {
           "bgcolor": "white",
           "lakecolor": "white",
           "landcolor": "#E5ECF6",
           "showlakes": true,
           "showland": true,
           "subunitcolor": "white"
          },
          "hoverlabel": {
           "align": "left"
          },
          "hovermode": "closest",
          "mapbox": {
           "style": "light"
          },
          "paper_bgcolor": "white",
          "plot_bgcolor": "#E5ECF6",
          "polar": {
           "angularaxis": {
            "gridcolor": "white",
            "linecolor": "white",
            "ticks": ""
           },
           "bgcolor": "#E5ECF6",
           "radialaxis": {
            "gridcolor": "white",
            "linecolor": "white",
            "ticks": ""
           }
          },
          "scene": {
           "xaxis": {
            "backgroundcolor": "#E5ECF6",
            "gridcolor": "white",
            "gridwidth": 2,
            "linecolor": "white",
            "showbackground": true,
            "ticks": "",
            "zerolinecolor": "white"
           },
           "yaxis": {
            "backgroundcolor": "#E5ECF6",
            "gridcolor": "white",
            "gridwidth": 2,
            "linecolor": "white",
            "showbackground": true,
            "ticks": "",
            "zerolinecolor": "white"
           },
           "zaxis": {
            "backgroundcolor": "#E5ECF6",
            "gridcolor": "white",
            "gridwidth": 2,
            "linecolor": "white",
            "showbackground": true,
            "ticks": "",
            "zerolinecolor": "white"
           }
          },
          "shapedefaults": {
           "line": {
            "color": "#2a3f5f"
           }
          },
          "ternary": {
           "aaxis": {
            "gridcolor": "white",
            "linecolor": "white",
            "ticks": ""
           },
           "baxis": {
            "gridcolor": "white",
            "linecolor": "white",
            "ticks": ""
           },
           "bgcolor": "#E5ECF6",
           "caxis": {
            "gridcolor": "white",
            "linecolor": "white",
            "ticks": ""
           }
          },
          "title": {
           "x": 0.05
          },
          "xaxis": {
           "automargin": true,
           "gridcolor": "white",
           "linecolor": "white",
           "ticks": "",
           "title": {
            "standoff": 15
           },
           "zerolinecolor": "white",
           "zerolinewidth": 2
          },
          "yaxis": {
           "automargin": true,
           "gridcolor": "white",
           "linecolor": "white",
           "ticks": "",
           "title": {
            "standoff": 15
           },
           "zerolinecolor": "white",
           "zerolinewidth": 2
          }
         }
        },
        "title": {
         "text": "Distribución de la duración de las Películas"
        },
        "xaxis": {
         "anchor": "y2",
         "domain": [
          0,
          1
         ],
         "zeroline": false
        },
        "yaxis": {
         "anchor": "free",
         "domain": [
          0.35,
          1
         ],
         "position": 0
        },
        "yaxis2": {
         "anchor": "x",
         "domain": [
          0,
          0.25
         ],
         "dtick": 1,
         "showticklabels": false
        }
       }
      },
      "text/html": [
       "<div>            <script src=\"https://cdnjs.cloudflare.com/ajax/libs/mathjax/2.7.5/MathJax.js?config=TeX-AMS-MML_SVG\"></script><script type=\"text/javascript\">if (window.MathJax && window.MathJax.Hub && window.MathJax.Hub.Config) {window.MathJax.Hub.Config({SVG: {font: \"STIX-Web\"}});}</script>                <script type=\"text/javascript\">window.PlotlyConfig = {MathJaxConfig: 'local'};</script>\n",
       "        <script charset=\"utf-8\" src=\"https://cdn.plot.ly/plotly-3.0.0.min.js\"></script>                <div id=\"f7f6f5e2-3dc2-443c-8aaf-b4e7a9199d66\" class=\"plotly-graph-div\" style=\"height:525px; width:100%;\"></div>            <script type=\"text/javascript\">                window.PLOTLYENV=window.PLOTLYENV || {};                                if (document.getElementById(\"f7f6f5e2-3dc2-443c-8aaf-b4e7a9199d66\")) {                    Plotly.newPlot(                        \"f7f6f5e2-3dc2-443c-8aaf-b4e7a9199d66\",                        [{\"autobinx\":false,\"histnorm\":\"probability density\",\"legendgroup\":\"Duraci\\u00f3n\",\"marker\":{\"color\":\"#6ad49b\"},\"name\":\"Duraci\\u00f3n\",\"opacity\":0.7,\"x\":{\"dtype\":\"i2\",\"bdata\":\"FwBbABcAKQBeAC0AOwAEAFsAAgABAAgAbgAIAAsABwBfAIEAAgAOAAEABwAFAIYAXgAJAAgABwAeAAEABgAGABYAAwBXAFoAWwAIAF0AWwBXAGUAhAAsAIMAaABXACwALAA0AC8ANQBVAFwAhwBpAFsAXAAvAGMAFgBYAF0AfwBqABYAdAAsACwACQAqAAsAjAALAEIAcwCJAGMAFgAOAFUAaABqAGkAWABcACwAfgBYAFIAXgBbACwALABXAFgALAAsACwALAAsAH0ALAAsAF8ANgAsACwALAAsACwABgBlAGIAZgBQAGUAZQCqAGEAcAB+AAcAFQAVABQADwAOABMATwBpAF0AWQAEABIACQBRAJQAYwAsAGMAeQBgAGoALQBhAF0AZgBhAGEAXgBtAC0ACQBlAFIAawBWADUAGAB\\u002fAFsATwAMAF8AGABjAF8AXwBlAEEAVgBqADAALQBhACwALQBmAIwAbwAWAC0ALQBYAC0AKwAGAFgAawC0ADAAtgB+ADwAMgAuAF0ALgB0AHsAXwBxAC0AdQBlAC0AZQBTAG8AAwBrAF4AVQBaADAAZwB5AGcALQAtAGEAWAAXABcAFwBvAAwALQAWAF8AegA8AEgALQBxAC0AhgCPAFQAgABjACwAegBjAC0AbQBrAGgACQBzAFYALACKAFgAXwBUAC0AZQB4AGoAXwB1AFEAWABZACwAVgAtAC0AdgAsACwAgQA3AFwALAA4AJAALwCHAIQAIQBkAKAAYQBkAGQAaABoADEANQCYAF0ASwAvACwAbABOAAkACABgADAAMQBsAFoALQB3ACwABQAHAHcAWACTAAwAZgB5AI4AhgBdAF0AWgBVAAgAIAAhACAAYwAfAIQALAAbAFkABwAHADAABQAwAAcATQBPAE4ABgAJAAgABwBZAAgACQBYAAgACQBnAAgATgAIAAgAWgAHABkAcABYAFsAaQBtAGoAcABcAGsAawB3AGEAZQCJADUALAAXAC0ASgBrAFkAbgBnAGUAbQB5AGIACwB9AAYABwAMAIcABgAEAAQAAwACAAcACAAEAAIAYwAvAC0ALQAsADAALQBZAHcAKgAXAAQABwCYAAYAWQAXAHUABgAJAAcAhAA+AF4AdwAsABgALgAqAGkAaQAGAFQABwACAAYAYgBRAE0AaABYAH8AYgBRAFoABwBYAF4AVgBHAE8AZABXAFoAWABkAFEAWwBfAF4AUwBiAAcAogAIAGoASABLAAgACQAHAEcASQAHAGAAWQBpAC4AXgAIAGIABwAGAF4ASwA3AFoAWgBOAFoACABkAGAAYABlAFQAZQAIAHUAawBnAAUABQADAAYABQAGAAYALgBUAAgAVAAHAE0ATQBPAAkAWQBUAFsABwBbAFUAWwBRAF0ACAAqAFsAcgBdAFQAXwBbAF0AWgByAFoACgBAACoAaQAzAFoATgBRAE8ATgBSAFEAXQAIAAgAXQBQAEsABgB1AAkAXgAtAFYAegBiAJcAYgBYAH4ATAAIAGIAZwBmAFoACgAIAGAABwAEAAYAWQAbAGIAZQBYAGkAXwBKAC4AYwBWAAQABQBUAC0AWQBcAFIAVQAHAAgAWwBhAFQAUwBRAFMAaQBaAAkAYgBdAGkAWQBiAGQAcgB5AGAAUgBaAF4ATABcAFwALABeAAcACABXABoAYwAGAF8AUABaAFIAXgBpAE8AbQBxAAYAUQBaAC0AXQBcAFkALwCCAFYAXQBpAEYAXgBYAEYALABeAAkABABOAAcAbwAJABgAGAAYABgAGABuAAgATABnAFUAXABSAAUAVgBGAAkABwBWAAIACAAHACwALwBQACsADQB3AI8AtwCWAH4AigB+AHQAegCJAH8AfQCEAJEAdAByAI4ACABeAGEATAAHAEcACQAaAAcAQwAJAAgARgB0AAUAWwCJAFkAWgAsACwAbABTAGgAXQBcAC4ACQAIAFIAZQBvAF4AfQB6AIYAaQBZABkAVABMAFgAWQAFAG0ATQAGAAcASwBqAE8ATQBZAE8ALgBOAFoABgCpAJgAkABaAC0ABwAHAAcABwBVAE0AhwBOAEkABQBaAAwAfQBTAG8AVQBZAD0AVwA\\u002fAAQAcgAHAF4AWQBuAFUAWAAIAFcAVQCGACkAWgAvACoAKwAHAFwABwCBAFsALwBPAHwALwBGAC8ALQBcAF0AWABlAGwAXQBNAFIACABUAF4AWgAJAH0AjwCHAIwAfwCLAIgAUQAIAFYAPgAsAE8ALwBTAF4AYQBlADoATgBLAGoAYQBSAFoAdABgAAIAbwBsAEUASABkAFkAUQAIAAoAUwAJAF0AUgBiAAcASQBbAF4AYgBVAF4AmgCTAFMAWgBbAFIAXgBdAFUASQBwAF0ACgALAF4AYgB6AFkACQBgAEUAUAB0AGUATQBNAAgAUABUAFYATQBPAAkARQBfACwAbABLAF0AVwBXAF8AbAAJAAcAgQCBAAgANABQAF4AYwB0AHIAXwBKAE4ATgCBAGIAagBeAFgAVABcAGYAWgAIAK8AVABcAFEAWwBZAEgAagBRAAkAXQAJAFEARwBWAAgAOwAzAAkAXQAJAAkAZwBoAAoAWABOAAUAUQBQAFQALwAIAFwAUwBdAGcABgAJAAoAWQAHAGAAdABiAC0AYABTAFsACABXAFcAVABdAGAATgBMAFcAYwBbAEkAbQBoAC0ARABDAEYABwBeACwAZwAJADAAWABYAA0AYQBfAGEAWQBRAG0AdgBrAAkAWABJAGgASwBQAIQAgwBoAGEAbABqAGsAcAACAA==\"},\"xaxis\":\"x\",\"xbins\":{\"end\":183.0,\"size\":5,\"start\":1.0},\"yaxis\":\"y\",\"type\":\"histogram\"},{\"legendgroup\":\"Duraci\\u00f3n\",\"marker\":{\"color\":\"#6ad49b\"},\"mode\":\"lines\",\"name\":\"Duraci\\u00f3n\",\"showlegend\":false,\"x\":[1.0,1.3639999999999999,1.728,2.092,2.456,2.8200000000000003,3.184,3.548,3.912,4.276,4.640000000000001,5.004,5.368,5.732,6.096,6.46,6.824,7.188,7.552,7.916,8.280000000000001,8.644,9.008,9.372,9.736,10.1,10.464,10.828,11.192,11.556,11.92,12.284,12.648,13.012,13.376,13.74,14.104,14.468,14.832,15.196,15.56,15.924,16.288,16.652,17.016,17.38,17.744,18.108,18.472,18.836,19.2,19.564,19.928,20.292,20.656,21.02,21.384,21.748,22.112,22.476,22.84,23.204,23.568,23.932,24.296,24.66,25.024,25.388,25.752,26.116,26.48,26.844,27.208,27.572,27.936,28.3,28.664,29.028,29.392,29.756,30.12,30.484,30.848,31.212,31.576,31.94,32.304,32.668,33.032,33.396,33.76,34.124,34.488,34.852,35.216,35.58,35.944,36.308,36.672,37.036,37.4,37.764,38.128,38.492,38.856,39.22,39.584,39.948,40.312,40.676,41.04,41.404,41.768,42.132,42.496,42.86,43.224,43.588,43.952,44.316,44.68,45.044,45.408,45.772,46.136,46.5,46.864,47.228,47.592,47.956,48.32,48.684,49.048,49.412,49.776,50.14,50.504,50.868,51.232,51.596,51.96,52.324,52.688,53.052,53.416,53.78,54.144,54.508,54.872,55.236,55.6,55.964,56.328,56.692,57.056,57.42,57.784,58.148,58.512,58.876,59.24,59.604,59.968,60.332,60.696,61.06,61.424,61.788,62.152,62.516,62.88,63.244,63.608,63.972,64.336,64.7,65.064,65.428,65.792,66.156,66.52,66.884,67.248,67.612,67.976,68.34,68.704,69.068,69.432,69.796,70.16,70.524,70.888,71.252,71.616,71.98,72.344,72.708,73.072,73.436,73.8,74.164,74.528,74.892,75.256,75.62,75.984,76.348,76.712,77.076,77.44,77.804,78.168,78.532,78.896,79.26,79.624,79.988,80.352,80.716,81.08,81.444,81.808,82.172,82.536,82.9,83.264,83.628,83.992,84.356,84.72,85.084,85.448,85.812,86.176,86.54,86.904,87.268,87.632,87.996,88.36,88.724,89.088,89.452,89.816,90.18,90.544,90.908,91.272,91.636,92.0,92.364,92.728,93.092,93.456,93.82,94.184,94.548,94.912,95.276,95.64,96.004,96.368,96.732,97.096,97.46,97.824,98.188,98.552,98.916,99.28,99.644,100.008,100.372,100.736,101.1,101.464,101.828,102.192,102.556,102.92,103.284,103.648,104.012,104.376,104.74,105.104,105.468,105.832,106.196,106.56,106.924,107.288,107.652,108.016,108.38,108.744,109.108,109.472,109.836,110.2,110.564,110.928,111.292,111.656,112.02,112.384,112.748,113.112,113.476,113.84,114.204,114.568,114.932,115.296,115.66,116.024,116.388,116.752,117.116,117.48,117.844,118.208,118.572,118.936,119.3,119.664,120.028,120.392,120.756,121.12,121.484,121.848,122.212,122.576,122.94,123.304,123.668,124.032,124.396,124.76,125.124,125.488,125.852,126.216,126.58,126.944,127.308,127.672,128.036,128.4,128.764,129.128,129.492,129.856,130.22,130.584,130.948,131.312,131.676,132.04,132.404,132.768,133.132,133.496,133.86,134.224,134.588,134.952,135.316,135.68,136.044,136.408,136.772,137.136,137.5,137.864,138.228,138.592,138.956,139.32,139.684,140.048,140.412,140.776,141.14,141.504,141.868,142.232,142.596,142.96,143.324,143.688,144.052,144.416,144.78,145.144,145.508,145.872,146.236,146.6,146.964,147.328,147.692,148.056,148.42,148.784,149.148,149.512,149.876,150.24,150.604,150.968,151.332,151.696,152.06,152.424,152.788,153.152,153.516,153.88,154.244,154.608,154.972,155.336,155.7,156.064,156.428,156.792,157.156,157.52,157.884,158.248,158.612,158.976,159.34,159.704,160.068,160.432,160.796,161.16,161.524,161.888,162.252,162.616,162.98,163.344,163.708,164.072,164.436,164.8,165.164,165.528,165.892,166.256,166.62,166.984,167.348,167.712,168.076,168.44,168.804,169.168,169.532,169.896,170.26,170.624,170.988,171.352,171.716,172.08,172.444,172.808,173.172,173.536,173.9,174.264,174.628,174.992,175.356,175.72,176.084,176.448,176.812,177.176,177.54,177.904,178.268,178.632,178.996,179.36,179.724,180.088,180.452,180.816,181.18,181.544,181.908,182.272,182.636],\"xaxis\":\"x\",\"y\":{\"dtype\":\"f8\",\"bdata\":\"pZ4LpwR+YT8MtGVQl8RhP0YU2IXnC2I\\u002fHY8TSvVTYj9QTwWUwJxiP2WjqE5J5mI\\u002fsEvZWI8wYz+QVSaFkntjP32LpZlSx2M\\u002f\\u002foHHT88TZD8rSSxUCGFkP7DKeEb9rmQ\\u002fVNwsua39ZD\\u002fPDnoxGU1lP\\u002fdAGyc\\u002fnWU\\u002fKv8sBB\\u002fuZT8CtwYluD9mPyLHFNgJkmY\\u002fInOzXRPlZj9\\u002fwwro0zhnP6lZ65pKjWc\\u002fkD+si3biZz81uwnBVjhoP44tBTPqjmg\\u002ftgTGyi\\u002fmaD8nyXtiJj5pP65NQcXMlmk\\u002flQkBryHwaT++pFrMI0pqPx+9ibrRpGo\\u002f6OxNByoAaz\\u002faGNQwK1xrP+4NoaXTuGs\\u002fjXV9xCEWbD8WJ2PcE3RsP0feayyo0mw\\u002flVzB49wxbT\\u002ff\\u002fI4hsJFtP56\\u002f9PQf8m0\\u002fSdb7XCpTbj8atIxIzbRuP5SqZpYGF28\\u002fuhcZFdR5bz\\u002fNK\\u002f6CM91vP0CmG0eRIHA\\u002fg41Vas9ScD9IkQLyUoVwPx6a25wauHA\\u002f7jp+ISXrcD8DFG8ucR5xP0sUHWr9UXE\\u002fzprlcsiFcT\\u002fFehnf0LlxPxbkAj0V7nE\\u002fZTLsEpQicj9XpCffS1dyP+j8Fxg7jHI\\u002fTRA6LGDBcj\\u002f5PS+CufZyPx\\u002fZyHhFLHM\\u002f2oAUZwJicz89aWmc7pdzPzqWdmAIznM\\u002fRAlS800EdD9k4oiNvTp0P391MGBVcXQ\\u002fGlT4lBOodD8qTD1O9t50P\\u002f1bHaf7FXU\\u002fdZuMsyFNdT9oGmuAZoR1Pxu0mxPIu3U\\u002fWtcbbETzdT\\u002fDQhyC2Sp2P7u0GkeFYnY\\u002fIo78pUWadj8OZyqDGNJ2Pz6UrLz7CXc\\u002fZZxIKu1Bdz+um5+d6nl3PxKUTeLxsXc\\u002f8qgJvgDqdz8LRMfwFCJ4P9Yh2DQsWng\\u002fX0MPP0SSeD8sw+S+Wsp4P+SKml5tAnk\\u002fLedhw3k6eT8d94GNfXJ5P0n0flh2qnk\\u002fkVBCu2HieT+SpkNIPRp6P1F5so0GUno\\u002f3r+gFbuJej9FOS5mWMF6Px+FtAHc+Ho\\u002f8\\u002fzzZkMwez9cSkERjGd7P+C1s3iznns\\u002fKSpUErfVez8750xQlAx8PzzhGaJIQ3w\\u002f2MW5dNF5fD\\u002fho98yLLB8P88vJUVW5nw\\u002fX6A9Ek0cfT8THin\\u002fDVJ9PybAaG+Wh30\\u002ftxEzxeO8fT9+Galh8\\u002fF9P4beC6XCJn4\\u002fD2Ty7k5bfj+6FoCelY9+Py6lmxKUw34\\u002f9z0mqkf3fj9zLDPErSp\\u002fP8DOP8DDXX8\\u002fE95r\\u002foaQfz8YA7Lf9MJ\\u002fP\\u002fKvIMYK9X8\\u002fg5yJCmMTgD8Tk7UYEiyAP4za5ECRRIA\\u002faMNkN99cgD8yOJyx+nSAP2i0KGbijIA\\u002fREb7DJWkgD\\u002fWl3VfEbyAP\\u002fj7hhhW04A\\u002fc3vJ9GHqgD\\u002fE3p6yMwGBP+WwTRLKF4E\\u002fdjce1iMugT+XXHfCP0SBP+WG+50cWoE\\u002fyVulMblvgT+XaORIFIWBP66uubEsmoE\\u002f+g7UPAGvgT8vkay9kMOBPwmDogra14E\\u002f42sX\\u002fdvrgT8F0Ypxlf+BP\\u002f\\u002fGtUcFE4I\\u002faUymYiomgj9satqoAzmCP38XWwSQS4I\\u002ft9jWYs5dgj8cHry1vW+CP4VWU\\u002fJcgYI\\u002fabfYEauSgj8ytZURp6OCP5ko+vJPtII\\u002fph21u6TEgj\\u002fvSM11pNSCP8MfuS9O5II\\u002f6o92\\u002fKDzgj\\u002fKU6LzmwKDP5\\u002ffjjE+EYM\\u002fvORa14Yfgz+jZwcLdS2DP+dljfcHO4M\\u002f3AjzzD5Igz8ZYmDAGFWDP\\u002fiuMwyVYYM\\u002fISAV8LJtgz9+IgqxcXmDP8MmiJnQhIM\\u002fCOWG+c6Pgz+5GZImbJqDP4e52nunpIM\\u002fyZlHWoCugz8Ii4Uo9reDP2PjFlMIwYM\\u002fmnZiTLbJgz+c+cGM\\u002f9GDP5fPj5Lj2YM\\u002fgD404mHhgz9ECTIGeuiDP8ttMo8r74M\\u002fGYUQFHb1gz\\u002fmA+QxWfuDPzhaC4zUAIQ\\u002fZTA1zOcFhD9YQGmikgqEP5GJEMXUDoQ\\u002f9d788K0ShD8izW\\u002fpHRaEP27YIHgkGYQ\\u002flRFDbcEbhD9VAIqf9B2EPz7jLey9H4Q\\u002fEUTvNh0hhD9A4BlqEiKEPwvlhnadIoQ\\u002f+X6eU74ihD9pvFj\\u002fdCKEPx7DPX7BIYQ\\u002fxlhl26MghD99vnUoHB+EP4DfoX0qHYQ\\u002fWtOm+c4ahD\\u002fTs8jBCRiEPyvHzgHbFIQ\\u002fKv\\u002f+60IRhD+OzRi5QQ2EP8xOT6jXCIQ\\u002fystC\\u002fwQEhD+ck\\u002fkJyv6DPzou2Bon+YM\\u002fY+mYihzzgz\\u002fMwEK4quyDP\\u002fuiHwnS5YM\\u002fLRSy6JLegz+9MKrI7daDP6gQ2iDjzoM\\u002f1I0pb3PGgz\\u002fYbok3n72DPxb45QNntIM\\u002fGOUYZMuqgz8uzNrtzKCDP13uszxsloM\\u002fxnXs8amLgz\\u002fQJHy0hoCDP0J4+TADdYM\\u002f4z6IGSBpgz\\u002fkqMcl3lyDP6\\u002fRvxI+UIM\\u002fxcbOokBDgz83DpWd5jWDP4Sv4c8wKIM\\u002fr8GdCyAagz9bgbcntQuDP9LxDADx\\u002fII\\u002fEgxWddTtgj+1fg5tYN6CP\\u002fkBX9GVzoI\\u002f5UIGkXW+gj\\u002fXaEGfAK6CP5w4tPM3nYI\\u002fbdhQihyMgj8XOD9jr3qCP6wgxILxaII\\u002fHO8n8eNWgj81\\u002fZy6h0SCP3C8Je\\u002fdMYI\\u002fB4Z6oucegj\\u002fuI+\\u002frpQuCPyYWWOYZ+IE\\u002fEZjvr0TkgT89aTpqJ9CBP3Zd7DnDu4E\\u002firfMRhmngT+MUpq7KpKBPymd78X4fIE\\u002fwGomloRngT\\u002ffnTtfz1GBP+6vslbaO4E\\u002fhxl5tKYlgT9bn8myNQ+BPyWHD46I+IA\\u002ffrjJhKDhgD8WzW3XfsqAPxEUS8gks4A\\u002fMYxtm5ObgD9O2ICWzIOAP98xswDRa4A\\u002fFF2YIqJTgD8RogxGQTuAP+3OF7avIoA\\u002f2kXQvu4JgD86Nnxa\\u002f+F\\u002fP0WMfJ7Hr38\\u002fb9LL5jh9fz+7ZsvRVUp\\u002fP9W+2v4gF38\\u002f0aceDp3jfj8QzkigzK9+P4mTX1aye34\\u002f\\u002fjqG0VBHfj+cbsWyqhJ+P+Mn1JrC3X0\\u002fWv\\u002fgKZuofT+76Vv\\u002fNnN9P+JowLmYPX0\\u002fBDZg9sIHfT8Kay5RuNF8P68wi2R7m3w\\u002f0vYPyQ5lfD9EPFwVdS58P5nr4t2w93s\\u002fy1G4tMTAez\\u002fis2Aps4l7P2+In8h+Uns\\u002frllHHCobez\\u002fQVAqrt+N6P\\u002fKKS\\u002fgprHo\\u002fPOjwg4N0ej8h5TXKxjx6PwL2fkP2BHo\\u002fG70tZBTNeT+DAnacI5V5P751M1gmXXk\\u002fuTzA\\u002fh4leT9BU8zyD+14Pz2+NZL7tHg\\u002f05XhNeR8eD9h6ZUxzER4P\\u002fB\\u002f1NO1DHg\\u002f5He2ZaPUdz9eyMgql5x3P5ym6WCTZHc\\u002fcNEmQJosdz8exZz6rfR2PybZVrzQvHY\\u002f\\u002fUkwqwSFdj8iMLbmS012Px5mCoioFXY\\u002fpF7HoRzedT\\u002fk6+Q\\u002fqqZ1P1b5nWdTb3U\\u002ffjhXFxo4dT+bwYZGAAF1P76onOUHynQ\\u002fr4fs3TKTdD\\u002f0\\u002fJcRg1x0Pwsgelv6JXQ\\u002f8eoTj5rvcz+\\u002fmHl4ZblzPw75QNxcg3M\\u002f57dwd4JNcz90mXD\\u002f1xdzP\\u002fuo+iFf4nI\\u002fPVoNhRmtcj9ZnN7GCHhyPwXdz30uQ3I\\u002fLvtiOIwOcj9xJzB9I9pxPyax3Mr1pXE\\u002fbr4SmARycT+m7XlTUT5xP3HesGPdCnE\\u002fbaBHJ6rXcD\\u002fPBbv0uKRwP4\\u002fXcBoLcnA\\u002fHOm03qE\\u002fcD9UCbd\\u002ffg1wP36cE2dEt28\\u002fhnJEUBxUbz8AYrAGh\\u002fFuPwKdz8WGj24\\u002fWvXmuB0ubj\\u002flsg37Tc1tP+7+NJcZbW0\\u002feN8wiIINbT9cu8K4iq5sP8lhpQM0UGw\\u002fRo6aM4Dyaz\\u002fp4nkDcZVrPydSQR4IOWs\\u002fGvEmH0fdaj8JLKyRL4JqP49VsvHCJ2o\\u002fe4mQqwLOaT953Coc8HRpPwDRCpGMHGk\\u002fEQp5SNnEaD+RNJhx121oP8AfgSyIF2g\\u002f6vxfiuzBZz\\u002fpvpKNBW1nP8aRyCnUGGc\\u002ftWIiRFnFZj9icFSzlXJmP0DcyD+KIGY\\u002fdDTDozfPZT+y7oSLnn5lPzfMcpW\\u002fLmU\\u002fzR47UpvfZD\\u002fv5vxEMpFkPwfDb+OEQ2Q\\u002fN6gMlpP2Yz8DXDe4XqpjP6GnaJjmXmM\\u002fkjxZeCsUYz\\u002fKQi2NLcpiP2SIoP\\u002fsgGI\\u002fSksz7Gk4Yj+nlFdjpPBhP4oen2mcqWE\\u002f\\u002fbvp91FjYT\\u002fiO5T7xB1hP8G+p1b12GA\\u002fIngJ4OKUYD\\u002fv06pjjVFgPy34uaL0DmA\\u002fqjelpzCaXz\\u002fFVl5G8BdfP8BntGUnl14\\u002faRrANdUXXj8WeQHT+JldPx4QxEaRHV0\\u002fSGmDh52iXD81zk95HClcP+5DM+4MsVs\\u002fVbKWpm06Wz8rKqdRPcVaP1Y9u416UVo\\u002f0Fu46CPfWT9iKXjgN25ZP8C\\u002fLeO0\\u002flg\\u002frdDKT5mQWD++nGR24yNYP5SymJiRuFc\\u002fzmvx6aFOVz\\u002fbG0qQEuZWP0rmMqThflY\\u002fjTFUMQ0ZVj8HrNE2k7RVP9TYrKdxUVU\\u002f9Rona6bvVD9sNCNdL49UP0Mwhk4KMFQ\\u002feK6XBTXSUz9XiGE+rXVTP\\u002f\\u002fEDqtwGlM\\u002fWdVJ9HzAUj\\u002fJD5q5z2dSPwNjwJFmEFI\\u002fwjgTCz+6UT8ngdmrVmVRPyLfpPKqEVE\\u002fK++qVjm\\u002fUD8Doh1I\\u002f21QP6ekgjD6HVA\\u002f154T5k6eTz8TLcXZCANPPxXtIOscak4\\u002f8a18voXTTT9ivCHuPT9NPyxk7wpArUw\\u002fDUD7nIYdTD9MUS8kDJBLP5DV5RjLBEs\\u002fddOC7L17Sj8zVwsK3\\u002fRJPzNXutYocEk\\u002f8TuTspXtSD+bA\\u002fL4H21IP0r9GAHC7kc\\u002fERa8HnZyRz+6s4miNvhGP+YYsdr9f0Y\\u002faE9mE8YJRj\\u002fElGOXiZVFP7hGaLBCI0U\\u002fWU21p+uyRD9sAIfGfkREP7WGjFb210M\\u002f8K1cokxtQz\\u002feOuj1ewRDP4iw6Z5+nUI\\u002f7Y5S7U44Qj+xCbYz59RBP+g2scdBc0E\\u002fQbdQAlkTQT9I2XNAJ7VAP6M4LeOmWEA\\u002fF7hBoKT7Pz\\u002fpp7\\u002fjR0k\\u002fP9K4gnAsmj4\\u002f\\u002fgpzMUfuPT\\u002fUyVodjUU9PwSqiTfznzw\\u002fJohzkG79Oz+jMUpG9F07P3pfkoV5wTo\\u002fE+yzifMnOj8SToWdV5E5Pwhi0hub\\u002fTg\\u002f\\u002f4zeb7NsOD9HQ+IVlt43P8n+g5s4Uzc\\u002fQrBMoJDKNj+btxfWk0Q2P\\u002fJvfgE4wTU\\u002f7ls\\u002f+nJANT+N\\u002f6CrOsI0P7h00BSFRjQ\\u002fesg7SUjNMz\\u002fqLuhwelYzP9QbxMgR4jI\\u002fn071ogRwMj\\u002fJ4CJnSQAyPx5lu5LWkjE\\u002fYyc3uaInMT+um1aEpL4wPyANXbTSVzA\\u002foTaPQEjmLz8rLgFsHyEvPw==\"},\"yaxis\":\"y\",\"type\":\"scatter\"},{\"legendgroup\":\"Duraci\\u00f3n\",\"marker\":{\"color\":\"#6ad49b\",\"symbol\":\"line-ns-open\"},\"mode\":\"markers\",\"name\":\"Duraci\\u00f3n\",\"showlegend\":false,\"x\":{\"dtype\":\"i2\",\"bdata\":\"FwBbABcAKQBeAC0AOwAEAFsAAgABAAgAbgAIAAsABwBfAIEAAgAOAAEABwAFAIYAXgAJAAgABwAeAAEABgAGABYAAwBXAFoAWwAIAF0AWwBXAGUAhAAsAIMAaABXACwALAA0AC8ANQBVAFwAhwBpAFsAXAAvAGMAFgBYAF0AfwBqABYAdAAsACwACQAqAAsAjAALAEIAcwCJAGMAFgAOAFUAaABqAGkAWABcACwAfgBYAFIAXgBbACwALABXAFgALAAsACwALAAsAH0ALAAsAF8ANgAsACwALAAsACwABgBlAGIAZgBQAGUAZQCqAGEAcAB+AAcAFQAVABQADwAOABMATwBpAF0AWQAEABIACQBRAJQAYwAsAGMAeQBgAGoALQBhAF0AZgBhAGEAXgBtAC0ACQBlAFIAawBWADUAGAB\\u002fAFsATwAMAF8AGABjAF8AXwBlAEEAVgBqADAALQBhACwALQBmAIwAbwAWAC0ALQBYAC0AKwAGAFgAawC0ADAAtgB+ADwAMgAuAF0ALgB0AHsAXwBxAC0AdQBlAC0AZQBTAG8AAwBrAF4AVQBaADAAZwB5AGcALQAtAGEAWAAXABcAFwBvAAwALQAWAF8AegA8AEgALQBxAC0AhgCPAFQAgABjACwAegBjAC0AbQBrAGgACQBzAFYALACKAFgAXwBUAC0AZQB4AGoAXwB1AFEAWABZACwAVgAtAC0AdgAsACwAgQA3AFwALAA4AJAALwCHAIQAIQBkAKAAYQBkAGQAaABoADEANQCYAF0ASwAvACwAbABOAAkACABgADAAMQBsAFoALQB3ACwABQAHAHcAWACTAAwAZgB5AI4AhgBdAF0AWgBVAAgAIAAhACAAYwAfAIQALAAbAFkABwAHADAABQAwAAcATQBPAE4ABgAJAAgABwBZAAgACQBYAAgACQBnAAgATgAIAAgAWgAHABkAcABYAFsAaQBtAGoAcABcAGsAawB3AGEAZQCJADUALAAXAC0ASgBrAFkAbgBnAGUAbQB5AGIACwB9AAYABwAMAIcABgAEAAQAAwACAAcACAAEAAIAYwAvAC0ALQAsADAALQBZAHcAKgAXAAQABwCYAAYAWQAXAHUABgAJAAcAhAA+AF4AdwAsABgALgAqAGkAaQAGAFQABwACAAYAYgBRAE0AaABYAH8AYgBRAFoABwBYAF4AVgBHAE8AZABXAFoAWABkAFEAWwBfAF4AUwBiAAcAogAIAGoASABLAAgACQAHAEcASQAHAGAAWQBpAC4AXgAIAGIABwAGAF4ASwA3AFoAWgBOAFoACABkAGAAYABlAFQAZQAIAHUAawBnAAUABQADAAYABQAGAAYALgBUAAgAVAAHAE0ATQBPAAkAWQBUAFsABwBbAFUAWwBRAF0ACAAqAFsAcgBdAFQAXwBbAF0AWgByAFoACgBAACoAaQAzAFoATgBRAE8ATgBSAFEAXQAIAAgAXQBQAEsABgB1AAkAXgAtAFYAegBiAJcAYgBYAH4ATAAIAGIAZwBmAFoACgAIAGAABwAEAAYAWQAbAGIAZQBYAGkAXwBKAC4AYwBWAAQABQBUAC0AWQBcAFIAVQAHAAgAWwBhAFQAUwBRAFMAaQBaAAkAYgBdAGkAWQBiAGQAcgB5AGAAUgBaAF4ATABcAFwALABeAAcACABXABoAYwAGAF8AUABaAFIAXgBpAE8AbQBxAAYAUQBaAC0AXQBcAFkALwCCAFYAXQBpAEYAXgBYAEYALABeAAkABABOAAcAbwAJABgAGAAYABgAGABuAAgATABnAFUAXABSAAUAVgBGAAkABwBWAAIACAAHACwALwBQACsADQB3AI8AtwCWAH4AigB+AHQAegCJAH8AfQCEAJEAdAByAI4ACABeAGEATAAHAEcACQAaAAcAQwAJAAgARgB0AAUAWwCJAFkAWgAsACwAbABTAGgAXQBcAC4ACQAIAFIAZQBvAF4AfQB6AIYAaQBZABkAVABMAFgAWQAFAG0ATQAGAAcASwBqAE8ATQBZAE8ALgBOAFoABgCpAJgAkABaAC0ABwAHAAcABwBVAE0AhwBOAEkABQBaAAwAfQBTAG8AVQBZAD0AVwA\\u002fAAQAcgAHAF4AWQBuAFUAWAAIAFcAVQCGACkAWgAvACoAKwAHAFwABwCBAFsALwBPAHwALwBGAC8ALQBcAF0AWABlAGwAXQBNAFIACABUAF4AWgAJAH0AjwCHAIwAfwCLAIgAUQAIAFYAPgAsAE8ALwBTAF4AYQBlADoATgBLAGoAYQBSAFoAdABgAAIAbwBsAEUASABkAFkAUQAIAAoAUwAJAF0AUgBiAAcASQBbAF4AYgBVAF4AmgCTAFMAWgBbAFIAXgBdAFUASQBwAF0ACgALAF4AYgB6AFkACQBgAEUAUAB0AGUATQBNAAgAUABUAFYATQBPAAkARQBfACwAbABLAF0AVwBXAF8AbAAJAAcAgQCBAAgANABQAF4AYwB0AHIAXwBKAE4ATgCBAGIAagBeAFgAVABcAGYAWgAIAK8AVABcAFEAWwBZAEgAagBRAAkAXQAJAFEARwBWAAgAOwAzAAkAXQAJAAkAZwBoAAoAWABOAAUAUQBQAFQALwAIAFwAUwBdAGcABgAJAAoAWQAHAGAAdABiAC0AYABTAFsACABXAFcAVABdAGAATgBMAFcAYwBbAEkAbQBoAC0ARABDAEYABwBeACwAZwAJADAAWABYAA0AYQBfAGEAWQBRAG0AdgBrAAkAWABJAGgASwBQAIQAgwBoAGEAbABqAGsAcAACAA==\"},\"xaxis\":\"x\",\"y\":[\"Duraci\\u00f3n\",\"Duraci\\u00f3n\",\"Duraci\\u00f3n\",\"Duraci\\u00f3n\",\"Duraci\\u00f3n\",\"Duraci\\u00f3n\",\"Duraci\\u00f3n\",\"Duraci\\u00f3n\",\"Duraci\\u00f3n\",\"Duraci\\u00f3n\",\"Duraci\\u00f3n\",\"Duraci\\u00f3n\",\"Duraci\\u00f3n\",\"Duraci\\u00f3n\",\"Duraci\\u00f3n\",\"Duraci\\u00f3n\",\"Duraci\\u00f3n\",\"Duraci\\u00f3n\",\"Duraci\\u00f3n\",\"Duraci\\u00f3n\",\"Duraci\\u00f3n\",\"Duraci\\u00f3n\",\"Duraci\\u00f3n\",\"Duraci\\u00f3n\",\"Duraci\\u00f3n\",\"Duraci\\u00f3n\",\"Duraci\\u00f3n\",\"Duraci\\u00f3n\",\"Duraci\\u00f3n\",\"Duraci\\u00f3n\",\"Duraci\\u00f3n\",\"Duraci\\u00f3n\",\"Duraci\\u00f3n\",\"Duraci\\u00f3n\",\"Duraci\\u00f3n\",\"Duraci\\u00f3n\",\"Duraci\\u00f3n\",\"Duraci\\u00f3n\",\"Duraci\\u00f3n\",\"Duraci\\u00f3n\",\"Duraci\\u00f3n\",\"Duraci\\u00f3n\",\"Duraci\\u00f3n\",\"Duraci\\u00f3n\",\"Duraci\\u00f3n\",\"Duraci\\u00f3n\",\"Duraci\\u00f3n\",\"Duraci\\u00f3n\",\"Duraci\\u00f3n\",\"Duraci\\u00f3n\",\"Duraci\\u00f3n\",\"Duraci\\u00f3n\",\"Duraci\\u00f3n\",\"Duraci\\u00f3n\",\"Duraci\\u00f3n\",\"Duraci\\u00f3n\",\"Duraci\\u00f3n\",\"Duraci\\u00f3n\",\"Duraci\\u00f3n\",\"Duraci\\u00f3n\",\"Duraci\\u00f3n\",\"Duraci\\u00f3n\",\"Duraci\\u00f3n\",\"Duraci\\u00f3n\",\"Duraci\\u00f3n\",\"Duraci\\u00f3n\",\"Duraci\\u00f3n\",\"Duraci\\u00f3n\",\"Duraci\\u00f3n\",\"Duraci\\u00f3n\",\"Duraci\\u00f3n\",\"Duraci\\u00f3n\",\"Duraci\\u00f3n\",\"Duraci\\u00f3n\",\"Duraci\\u00f3n\",\"Duraci\\u00f3n\",\"Duraci\\u00f3n\",\"Duraci\\u00f3n\",\"Duraci\\u00f3n\",\"Duraci\\u00f3n\",\"Duraci\\u00f3n\",\"Duraci\\u00f3n\",\"Duraci\\u00f3n\",\"Duraci\\u00f3n\",\"Duraci\\u00f3n\",\"Duraci\\u00f3n\",\"Duraci\\u00f3n\",\"Duraci\\u00f3n\",\"Duraci\\u00f3n\",\"Duraci\\u00f3n\",\"Duraci\\u00f3n\",\"Duraci\\u00f3n\",\"Duraci\\u00f3n\",\"Duraci\\u00f3n\",\"Duraci\\u00f3n\",\"Duraci\\u00f3n\",\"Duraci\\u00f3n\",\"Duraci\\u00f3n\",\"Duraci\\u00f3n\",\"Duraci\\u00f3n\",\"Duraci\\u00f3n\",\"Duraci\\u00f3n\",\"Duraci\\u00f3n\",\"Duraci\\u00f3n\",\"Duraci\\u00f3n\",\"Duraci\\u00f3n\",\"Duraci\\u00f3n\",\"Duraci\\u00f3n\",\"Duraci\\u00f3n\",\"Duraci\\u00f3n\",\"Duraci\\u00f3n\",\"Duraci\\u00f3n\",\"Duraci\\u00f3n\",\"Duraci\\u00f3n\",\"Duraci\\u00f3n\",\"Duraci\\u00f3n\",\"Duraci\\u00f3n\",\"Duraci\\u00f3n\",\"Duraci\\u00f3n\",\"Duraci\\u00f3n\",\"Duraci\\u00f3n\",\"Duraci\\u00f3n\",\"Duraci\\u00f3n\",\"Duraci\\u00f3n\",\"Duraci\\u00f3n\",\"Duraci\\u00f3n\",\"Duraci\\u00f3n\",\"Duraci\\u00f3n\",\"Duraci\\u00f3n\",\"Duraci\\u00f3n\",\"Duraci\\u00f3n\",\"Duraci\\u00f3n\",\"Duraci\\u00f3n\",\"Duraci\\u00f3n\",\"Duraci\\u00f3n\",\"Duraci\\u00f3n\",\"Duraci\\u00f3n\",\"Duraci\\u00f3n\",\"Duraci\\u00f3n\",\"Duraci\\u00f3n\",\"Duraci\\u00f3n\",\"Duraci\\u00f3n\",\"Duraci\\u00f3n\",\"Duraci\\u00f3n\",\"Duraci\\u00f3n\",\"Duraci\\u00f3n\",\"Duraci\\u00f3n\",\"Duraci\\u00f3n\",\"Duraci\\u00f3n\",\"Duraci\\u00f3n\",\"Duraci\\u00f3n\",\"Duraci\\u00f3n\",\"Duraci\\u00f3n\",\"Duraci\\u00f3n\",\"Duraci\\u00f3n\",\"Duraci\\u00f3n\",\"Duraci\\u00f3n\",\"Duraci\\u00f3n\",\"Duraci\\u00f3n\",\"Duraci\\u00f3n\",\"Duraci\\u00f3n\",\"Duraci\\u00f3n\",\"Duraci\\u00f3n\",\"Duraci\\u00f3n\",\"Duraci\\u00f3n\",\"Duraci\\u00f3n\",\"Duraci\\u00f3n\",\"Duraci\\u00f3n\",\"Duraci\\u00f3n\",\"Duraci\\u00f3n\",\"Duraci\\u00f3n\",\"Duraci\\u00f3n\",\"Duraci\\u00f3n\",\"Duraci\\u00f3n\",\"Duraci\\u00f3n\",\"Duraci\\u00f3n\",\"Duraci\\u00f3n\",\"Duraci\\u00f3n\",\"Duraci\\u00f3n\",\"Duraci\\u00f3n\",\"Duraci\\u00f3n\",\"Duraci\\u00f3n\",\"Duraci\\u00f3n\",\"Duraci\\u00f3n\",\"Duraci\\u00f3n\",\"Duraci\\u00f3n\",\"Duraci\\u00f3n\",\"Duraci\\u00f3n\",\"Duraci\\u00f3n\",\"Duraci\\u00f3n\",\"Duraci\\u00f3n\",\"Duraci\\u00f3n\",\"Duraci\\u00f3n\",\"Duraci\\u00f3n\",\"Duraci\\u00f3n\",\"Duraci\\u00f3n\",\"Duraci\\u00f3n\",\"Duraci\\u00f3n\",\"Duraci\\u00f3n\",\"Duraci\\u00f3n\",\"Duraci\\u00f3n\",\"Duraci\\u00f3n\",\"Duraci\\u00f3n\",\"Duraci\\u00f3n\",\"Duraci\\u00f3n\",\"Duraci\\u00f3n\",\"Duraci\\u00f3n\",\"Duraci\\u00f3n\",\"Duraci\\u00f3n\",\"Duraci\\u00f3n\",\"Duraci\\u00f3n\",\"Duraci\\u00f3n\",\"Duraci\\u00f3n\",\"Duraci\\u00f3n\",\"Duraci\\u00f3n\",\"Duraci\\u00f3n\",\"Duraci\\u00f3n\",\"Duraci\\u00f3n\",\"Duraci\\u00f3n\",\"Duraci\\u00f3n\",\"Duraci\\u00f3n\",\"Duraci\\u00f3n\",\"Duraci\\u00f3n\",\"Duraci\\u00f3n\",\"Duraci\\u00f3n\",\"Duraci\\u00f3n\",\"Duraci\\u00f3n\",\"Duraci\\u00f3n\",\"Duraci\\u00f3n\",\"Duraci\\u00f3n\",\"Duraci\\u00f3n\",\"Duraci\\u00f3n\",\"Duraci\\u00f3n\",\"Duraci\\u00f3n\",\"Duraci\\u00f3n\",\"Duraci\\u00f3n\",\"Duraci\\u00f3n\",\"Duraci\\u00f3n\",\"Duraci\\u00f3n\",\"Duraci\\u00f3n\",\"Duraci\\u00f3n\",\"Duraci\\u00f3n\",\"Duraci\\u00f3n\",\"Duraci\\u00f3n\",\"Duraci\\u00f3n\",\"Duraci\\u00f3n\",\"Duraci\\u00f3n\",\"Duraci\\u00f3n\",\"Duraci\\u00f3n\",\"Duraci\\u00f3n\",\"Duraci\\u00f3n\",\"Duraci\\u00f3n\",\"Duraci\\u00f3n\",\"Duraci\\u00f3n\",\"Duraci\\u00f3n\",\"Duraci\\u00f3n\",\"Duraci\\u00f3n\",\"Duraci\\u00f3n\",\"Duraci\\u00f3n\",\"Duraci\\u00f3n\",\"Duraci\\u00f3n\",\"Duraci\\u00f3n\",\"Duraci\\u00f3n\",\"Duraci\\u00f3n\",\"Duraci\\u00f3n\",\"Duraci\\u00f3n\",\"Duraci\\u00f3n\",\"Duraci\\u00f3n\",\"Duraci\\u00f3n\",\"Duraci\\u00f3n\",\"Duraci\\u00f3n\",\"Duraci\\u00f3n\",\"Duraci\\u00f3n\",\"Duraci\\u00f3n\",\"Duraci\\u00f3n\",\"Duraci\\u00f3n\",\"Duraci\\u00f3n\",\"Duraci\\u00f3n\",\"Duraci\\u00f3n\",\"Duraci\\u00f3n\",\"Duraci\\u00f3n\",\"Duraci\\u00f3n\",\"Duraci\\u00f3n\",\"Duraci\\u00f3n\",\"Duraci\\u00f3n\",\"Duraci\\u00f3n\",\"Duraci\\u00f3n\",\"Duraci\\u00f3n\",\"Duraci\\u00f3n\",\"Duraci\\u00f3n\",\"Duraci\\u00f3n\",\"Duraci\\u00f3n\",\"Duraci\\u00f3n\",\"Duraci\\u00f3n\",\"Duraci\\u00f3n\",\"Duraci\\u00f3n\",\"Duraci\\u00f3n\",\"Duraci\\u00f3n\",\"Duraci\\u00f3n\",\"Duraci\\u00f3n\",\"Duraci\\u00f3n\",\"Duraci\\u00f3n\",\"Duraci\\u00f3n\",\"Duraci\\u00f3n\",\"Duraci\\u00f3n\",\"Duraci\\u00f3n\",\"Duraci\\u00f3n\",\"Duraci\\u00f3n\",\"Duraci\\u00f3n\",\"Duraci\\u00f3n\",\"Duraci\\u00f3n\",\"Duraci\\u00f3n\",\"Duraci\\u00f3n\",\"Duraci\\u00f3n\",\"Duraci\\u00f3n\",\"Duraci\\u00f3n\",\"Duraci\\u00f3n\",\"Duraci\\u00f3n\",\"Duraci\\u00f3n\",\"Duraci\\u00f3n\",\"Duraci\\u00f3n\",\"Duraci\\u00f3n\",\"Duraci\\u00f3n\",\"Duraci\\u00f3n\",\"Duraci\\u00f3n\",\"Duraci\\u00f3n\",\"Duraci\\u00f3n\",\"Duraci\\u00f3n\",\"Duraci\\u00f3n\",\"Duraci\\u00f3n\",\"Duraci\\u00f3n\",\"Duraci\\u00f3n\",\"Duraci\\u00f3n\",\"Duraci\\u00f3n\",\"Duraci\\u00f3n\",\"Duraci\\u00f3n\",\"Duraci\\u00f3n\",\"Duraci\\u00f3n\",\"Duraci\\u00f3n\",\"Duraci\\u00f3n\",\"Duraci\\u00f3n\",\"Duraci\\u00f3n\",\"Duraci\\u00f3n\",\"Duraci\\u00f3n\",\"Duraci\\u00f3n\",\"Duraci\\u00f3n\",\"Duraci\\u00f3n\",\"Duraci\\u00f3n\",\"Duraci\\u00f3n\",\"Duraci\\u00f3n\",\"Duraci\\u00f3n\",\"Duraci\\u00f3n\",\"Duraci\\u00f3n\",\"Duraci\\u00f3n\",\"Duraci\\u00f3n\",\"Duraci\\u00f3n\",\"Duraci\\u00f3n\",\"Duraci\\u00f3n\",\"Duraci\\u00f3n\",\"Duraci\\u00f3n\",\"Duraci\\u00f3n\",\"Duraci\\u00f3n\",\"Duraci\\u00f3n\",\"Duraci\\u00f3n\",\"Duraci\\u00f3n\",\"Duraci\\u00f3n\",\"Duraci\\u00f3n\",\"Duraci\\u00f3n\",\"Duraci\\u00f3n\",\"Duraci\\u00f3n\",\"Duraci\\u00f3n\",\"Duraci\\u00f3n\",\"Duraci\\u00f3n\",\"Duraci\\u00f3n\",\"Duraci\\u00f3n\",\"Duraci\\u00f3n\",\"Duraci\\u00f3n\",\"Duraci\\u00f3n\",\"Duraci\\u00f3n\",\"Duraci\\u00f3n\",\"Duraci\\u00f3n\",\"Duraci\\u00f3n\",\"Duraci\\u00f3n\",\"Duraci\\u00f3n\",\"Duraci\\u00f3n\",\"Duraci\\u00f3n\",\"Duraci\\u00f3n\",\"Duraci\\u00f3n\",\"Duraci\\u00f3n\",\"Duraci\\u00f3n\",\"Duraci\\u00f3n\",\"Duraci\\u00f3n\",\"Duraci\\u00f3n\",\"Duraci\\u00f3n\",\"Duraci\\u00f3n\",\"Duraci\\u00f3n\",\"Duraci\\u00f3n\",\"Duraci\\u00f3n\",\"Duraci\\u00f3n\",\"Duraci\\u00f3n\",\"Duraci\\u00f3n\",\"Duraci\\u00f3n\",\"Duraci\\u00f3n\",\"Duraci\\u00f3n\",\"Duraci\\u00f3n\",\"Duraci\\u00f3n\",\"Duraci\\u00f3n\",\"Duraci\\u00f3n\",\"Duraci\\u00f3n\",\"Duraci\\u00f3n\",\"Duraci\\u00f3n\",\"Duraci\\u00f3n\",\"Duraci\\u00f3n\",\"Duraci\\u00f3n\",\"Duraci\\u00f3n\",\"Duraci\\u00f3n\",\"Duraci\\u00f3n\",\"Duraci\\u00f3n\",\"Duraci\\u00f3n\",\"Duraci\\u00f3n\",\"Duraci\\u00f3n\",\"Duraci\\u00f3n\",\"Duraci\\u00f3n\",\"Duraci\\u00f3n\",\"Duraci\\u00f3n\",\"Duraci\\u00f3n\",\"Duraci\\u00f3n\",\"Duraci\\u00f3n\",\"Duraci\\u00f3n\",\"Duraci\\u00f3n\",\"Duraci\\u00f3n\",\"Duraci\\u00f3n\",\"Duraci\\u00f3n\",\"Duraci\\u00f3n\",\"Duraci\\u00f3n\",\"Duraci\\u00f3n\",\"Duraci\\u00f3n\",\"Duraci\\u00f3n\",\"Duraci\\u00f3n\",\"Duraci\\u00f3n\",\"Duraci\\u00f3n\",\"Duraci\\u00f3n\",\"Duraci\\u00f3n\",\"Duraci\\u00f3n\",\"Duraci\\u00f3n\",\"Duraci\\u00f3n\",\"Duraci\\u00f3n\",\"Duraci\\u00f3n\",\"Duraci\\u00f3n\",\"Duraci\\u00f3n\",\"Duraci\\u00f3n\",\"Duraci\\u00f3n\",\"Duraci\\u00f3n\",\"Duraci\\u00f3n\",\"Duraci\\u00f3n\",\"Duraci\\u00f3n\",\"Duraci\\u00f3n\",\"Duraci\\u00f3n\",\"Duraci\\u00f3n\",\"Duraci\\u00f3n\",\"Duraci\\u00f3n\",\"Duraci\\u00f3n\",\"Duraci\\u00f3n\",\"Duraci\\u00f3n\",\"Duraci\\u00f3n\",\"Duraci\\u00f3n\",\"Duraci\\u00f3n\",\"Duraci\\u00f3n\",\"Duraci\\u00f3n\",\"Duraci\\u00f3n\",\"Duraci\\u00f3n\",\"Duraci\\u00f3n\",\"Duraci\\u00f3n\",\"Duraci\\u00f3n\",\"Duraci\\u00f3n\",\"Duraci\\u00f3n\",\"Duraci\\u00f3n\",\"Duraci\\u00f3n\",\"Duraci\\u00f3n\",\"Duraci\\u00f3n\",\"Duraci\\u00f3n\",\"Duraci\\u00f3n\",\"Duraci\\u00f3n\",\"Duraci\\u00f3n\",\"Duraci\\u00f3n\",\"Duraci\\u00f3n\",\"Duraci\\u00f3n\",\"Duraci\\u00f3n\",\"Duraci\\u00f3n\",\"Duraci\\u00f3n\",\"Duraci\\u00f3n\",\"Duraci\\u00f3n\",\"Duraci\\u00f3n\",\"Duraci\\u00f3n\",\"Duraci\\u00f3n\",\"Duraci\\u00f3n\",\"Duraci\\u00f3n\",\"Duraci\\u00f3n\",\"Duraci\\u00f3n\",\"Duraci\\u00f3n\",\"Duraci\\u00f3n\",\"Duraci\\u00f3n\",\"Duraci\\u00f3n\",\"Duraci\\u00f3n\",\"Duraci\\u00f3n\",\"Duraci\\u00f3n\",\"Duraci\\u00f3n\",\"Duraci\\u00f3n\",\"Duraci\\u00f3n\",\"Duraci\\u00f3n\",\"Duraci\\u00f3n\",\"Duraci\\u00f3n\",\"Duraci\\u00f3n\",\"Duraci\\u00f3n\",\"Duraci\\u00f3n\",\"Duraci\\u00f3n\",\"Duraci\\u00f3n\",\"Duraci\\u00f3n\",\"Duraci\\u00f3n\",\"Duraci\\u00f3n\",\"Duraci\\u00f3n\",\"Duraci\\u00f3n\",\"Duraci\\u00f3n\",\"Duraci\\u00f3n\",\"Duraci\\u00f3n\",\"Duraci\\u00f3n\",\"Duraci\\u00f3n\",\"Duraci\\u00f3n\",\"Duraci\\u00f3n\",\"Duraci\\u00f3n\",\"Duraci\\u00f3n\",\"Duraci\\u00f3n\",\"Duraci\\u00f3n\",\"Duraci\\u00f3n\",\"Duraci\\u00f3n\",\"Duraci\\u00f3n\",\"Duraci\\u00f3n\",\"Duraci\\u00f3n\",\"Duraci\\u00f3n\",\"Duraci\\u00f3n\",\"Duraci\\u00f3n\",\"Duraci\\u00f3n\",\"Duraci\\u00f3n\",\"Duraci\\u00f3n\",\"Duraci\\u00f3n\",\"Duraci\\u00f3n\",\"Duraci\\u00f3n\",\"Duraci\\u00f3n\",\"Duraci\\u00f3n\",\"Duraci\\u00f3n\",\"Duraci\\u00f3n\",\"Duraci\\u00f3n\",\"Duraci\\u00f3n\",\"Duraci\\u00f3n\",\"Duraci\\u00f3n\",\"Duraci\\u00f3n\",\"Duraci\\u00f3n\",\"Duraci\\u00f3n\",\"Duraci\\u00f3n\",\"Duraci\\u00f3n\",\"Duraci\\u00f3n\",\"Duraci\\u00f3n\",\"Duraci\\u00f3n\",\"Duraci\\u00f3n\",\"Duraci\\u00f3n\",\"Duraci\\u00f3n\",\"Duraci\\u00f3n\",\"Duraci\\u00f3n\",\"Duraci\\u00f3n\",\"Duraci\\u00f3n\",\"Duraci\\u00f3n\",\"Duraci\\u00f3n\",\"Duraci\\u00f3n\",\"Duraci\\u00f3n\",\"Duraci\\u00f3n\",\"Duraci\\u00f3n\",\"Duraci\\u00f3n\",\"Duraci\\u00f3n\",\"Duraci\\u00f3n\",\"Duraci\\u00f3n\",\"Duraci\\u00f3n\",\"Duraci\\u00f3n\",\"Duraci\\u00f3n\",\"Duraci\\u00f3n\",\"Duraci\\u00f3n\",\"Duraci\\u00f3n\",\"Duraci\\u00f3n\",\"Duraci\\u00f3n\",\"Duraci\\u00f3n\",\"Duraci\\u00f3n\",\"Duraci\\u00f3n\",\"Duraci\\u00f3n\",\"Duraci\\u00f3n\",\"Duraci\\u00f3n\",\"Duraci\\u00f3n\",\"Duraci\\u00f3n\",\"Duraci\\u00f3n\",\"Duraci\\u00f3n\",\"Duraci\\u00f3n\",\"Duraci\\u00f3n\",\"Duraci\\u00f3n\",\"Duraci\\u00f3n\",\"Duraci\\u00f3n\",\"Duraci\\u00f3n\",\"Duraci\\u00f3n\",\"Duraci\\u00f3n\",\"Duraci\\u00f3n\",\"Duraci\\u00f3n\",\"Duraci\\u00f3n\",\"Duraci\\u00f3n\",\"Duraci\\u00f3n\",\"Duraci\\u00f3n\",\"Duraci\\u00f3n\",\"Duraci\\u00f3n\",\"Duraci\\u00f3n\",\"Duraci\\u00f3n\",\"Duraci\\u00f3n\",\"Duraci\\u00f3n\",\"Duraci\\u00f3n\",\"Duraci\\u00f3n\",\"Duraci\\u00f3n\",\"Duraci\\u00f3n\",\"Duraci\\u00f3n\",\"Duraci\\u00f3n\",\"Duraci\\u00f3n\",\"Duraci\\u00f3n\",\"Duraci\\u00f3n\",\"Duraci\\u00f3n\",\"Duraci\\u00f3n\",\"Duraci\\u00f3n\",\"Duraci\\u00f3n\",\"Duraci\\u00f3n\",\"Duraci\\u00f3n\",\"Duraci\\u00f3n\",\"Duraci\\u00f3n\",\"Duraci\\u00f3n\",\"Duraci\\u00f3n\",\"Duraci\\u00f3n\",\"Duraci\\u00f3n\",\"Duraci\\u00f3n\",\"Duraci\\u00f3n\",\"Duraci\\u00f3n\",\"Duraci\\u00f3n\",\"Duraci\\u00f3n\",\"Duraci\\u00f3n\",\"Duraci\\u00f3n\",\"Duraci\\u00f3n\",\"Duraci\\u00f3n\",\"Duraci\\u00f3n\",\"Duraci\\u00f3n\",\"Duraci\\u00f3n\",\"Duraci\\u00f3n\",\"Duraci\\u00f3n\",\"Duraci\\u00f3n\",\"Duraci\\u00f3n\",\"Duraci\\u00f3n\",\"Duraci\\u00f3n\",\"Duraci\\u00f3n\",\"Duraci\\u00f3n\",\"Duraci\\u00f3n\",\"Duraci\\u00f3n\",\"Duraci\\u00f3n\",\"Duraci\\u00f3n\",\"Duraci\\u00f3n\",\"Duraci\\u00f3n\",\"Duraci\\u00f3n\",\"Duraci\\u00f3n\",\"Duraci\\u00f3n\",\"Duraci\\u00f3n\",\"Duraci\\u00f3n\",\"Duraci\\u00f3n\",\"Duraci\\u00f3n\",\"Duraci\\u00f3n\",\"Duraci\\u00f3n\",\"Duraci\\u00f3n\",\"Duraci\\u00f3n\",\"Duraci\\u00f3n\",\"Duraci\\u00f3n\",\"Duraci\\u00f3n\",\"Duraci\\u00f3n\",\"Duraci\\u00f3n\",\"Duraci\\u00f3n\",\"Duraci\\u00f3n\",\"Duraci\\u00f3n\",\"Duraci\\u00f3n\",\"Duraci\\u00f3n\",\"Duraci\\u00f3n\",\"Duraci\\u00f3n\",\"Duraci\\u00f3n\",\"Duraci\\u00f3n\",\"Duraci\\u00f3n\",\"Duraci\\u00f3n\",\"Duraci\\u00f3n\",\"Duraci\\u00f3n\",\"Duraci\\u00f3n\",\"Duraci\\u00f3n\",\"Duraci\\u00f3n\",\"Duraci\\u00f3n\",\"Duraci\\u00f3n\",\"Duraci\\u00f3n\",\"Duraci\\u00f3n\",\"Duraci\\u00f3n\",\"Duraci\\u00f3n\",\"Duraci\\u00f3n\",\"Duraci\\u00f3n\",\"Duraci\\u00f3n\",\"Duraci\\u00f3n\",\"Duraci\\u00f3n\",\"Duraci\\u00f3n\",\"Duraci\\u00f3n\",\"Duraci\\u00f3n\",\"Duraci\\u00f3n\",\"Duraci\\u00f3n\",\"Duraci\\u00f3n\",\"Duraci\\u00f3n\",\"Duraci\\u00f3n\",\"Duraci\\u00f3n\",\"Duraci\\u00f3n\",\"Duraci\\u00f3n\",\"Duraci\\u00f3n\",\"Duraci\\u00f3n\",\"Duraci\\u00f3n\",\"Duraci\\u00f3n\",\"Duraci\\u00f3n\",\"Duraci\\u00f3n\",\"Duraci\\u00f3n\",\"Duraci\\u00f3n\",\"Duraci\\u00f3n\",\"Duraci\\u00f3n\",\"Duraci\\u00f3n\",\"Duraci\\u00f3n\",\"Duraci\\u00f3n\",\"Duraci\\u00f3n\",\"Duraci\\u00f3n\",\"Duraci\\u00f3n\",\"Duraci\\u00f3n\",\"Duraci\\u00f3n\",\"Duraci\\u00f3n\",\"Duraci\\u00f3n\",\"Duraci\\u00f3n\",\"Duraci\\u00f3n\",\"Duraci\\u00f3n\",\"Duraci\\u00f3n\",\"Duraci\\u00f3n\",\"Duraci\\u00f3n\",\"Duraci\\u00f3n\",\"Duraci\\u00f3n\",\"Duraci\\u00f3n\",\"Duraci\\u00f3n\",\"Duraci\\u00f3n\",\"Duraci\\u00f3n\",\"Duraci\\u00f3n\",\"Duraci\\u00f3n\",\"Duraci\\u00f3n\",\"Duraci\\u00f3n\",\"Duraci\\u00f3n\",\"Duraci\\u00f3n\",\"Duraci\\u00f3n\",\"Duraci\\u00f3n\",\"Duraci\\u00f3n\",\"Duraci\\u00f3n\",\"Duraci\\u00f3n\",\"Duraci\\u00f3n\",\"Duraci\\u00f3n\",\"Duraci\\u00f3n\",\"Duraci\\u00f3n\",\"Duraci\\u00f3n\",\"Duraci\\u00f3n\",\"Duraci\\u00f3n\",\"Duraci\\u00f3n\",\"Duraci\\u00f3n\",\"Duraci\\u00f3n\",\"Duraci\\u00f3n\",\"Duraci\\u00f3n\",\"Duraci\\u00f3n\",\"Duraci\\u00f3n\",\"Duraci\\u00f3n\",\"Duraci\\u00f3n\",\"Duraci\\u00f3n\",\"Duraci\\u00f3n\",\"Duraci\\u00f3n\",\"Duraci\\u00f3n\",\"Duraci\\u00f3n\",\"Duraci\\u00f3n\",\"Duraci\\u00f3n\",\"Duraci\\u00f3n\",\"Duraci\\u00f3n\",\"Duraci\\u00f3n\",\"Duraci\\u00f3n\",\"Duraci\\u00f3n\",\"Duraci\\u00f3n\",\"Duraci\\u00f3n\",\"Duraci\\u00f3n\",\"Duraci\\u00f3n\",\"Duraci\\u00f3n\",\"Duraci\\u00f3n\",\"Duraci\\u00f3n\",\"Duraci\\u00f3n\",\"Duraci\\u00f3n\",\"Duraci\\u00f3n\",\"Duraci\\u00f3n\",\"Duraci\\u00f3n\",\"Duraci\\u00f3n\",\"Duraci\\u00f3n\",\"Duraci\\u00f3n\",\"Duraci\\u00f3n\",\"Duraci\\u00f3n\",\"Duraci\\u00f3n\",\"Duraci\\u00f3n\",\"Duraci\\u00f3n\",\"Duraci\\u00f3n\",\"Duraci\\u00f3n\",\"Duraci\\u00f3n\",\"Duraci\\u00f3n\",\"Duraci\\u00f3n\",\"Duraci\\u00f3n\",\"Duraci\\u00f3n\",\"Duraci\\u00f3n\",\"Duraci\\u00f3n\",\"Duraci\\u00f3n\",\"Duraci\\u00f3n\",\"Duraci\\u00f3n\",\"Duraci\\u00f3n\",\"Duraci\\u00f3n\",\"Duraci\\u00f3n\",\"Duraci\\u00f3n\",\"Duraci\\u00f3n\",\"Duraci\\u00f3n\",\"Duraci\\u00f3n\",\"Duraci\\u00f3n\",\"Duraci\\u00f3n\",\"Duraci\\u00f3n\",\"Duraci\\u00f3n\",\"Duraci\\u00f3n\",\"Duraci\\u00f3n\",\"Duraci\\u00f3n\",\"Duraci\\u00f3n\",\"Duraci\\u00f3n\",\"Duraci\\u00f3n\",\"Duraci\\u00f3n\",\"Duraci\\u00f3n\",\"Duraci\\u00f3n\",\"Duraci\\u00f3n\",\"Duraci\\u00f3n\",\"Duraci\\u00f3n\",\"Duraci\\u00f3n\",\"Duraci\\u00f3n\",\"Duraci\\u00f3n\",\"Duraci\\u00f3n\",\"Duraci\\u00f3n\",\"Duraci\\u00f3n\",\"Duraci\\u00f3n\",\"Duraci\\u00f3n\",\"Duraci\\u00f3n\",\"Duraci\\u00f3n\",\"Duraci\\u00f3n\",\"Duraci\\u00f3n\",\"Duraci\\u00f3n\",\"Duraci\\u00f3n\",\"Duraci\\u00f3n\",\"Duraci\\u00f3n\",\"Duraci\\u00f3n\",\"Duraci\\u00f3n\",\"Duraci\\u00f3n\",\"Duraci\\u00f3n\",\"Duraci\\u00f3n\",\"Duraci\\u00f3n\",\"Duraci\\u00f3n\",\"Duraci\\u00f3n\",\"Duraci\\u00f3n\",\"Duraci\\u00f3n\",\"Duraci\\u00f3n\",\"Duraci\\u00f3n\",\"Duraci\\u00f3n\",\"Duraci\\u00f3n\",\"Duraci\\u00f3n\",\"Duraci\\u00f3n\",\"Duraci\\u00f3n\",\"Duraci\\u00f3n\",\"Duraci\\u00f3n\",\"Duraci\\u00f3n\",\"Duraci\\u00f3n\",\"Duraci\\u00f3n\",\"Duraci\\u00f3n\",\"Duraci\\u00f3n\",\"Duraci\\u00f3n\",\"Duraci\\u00f3n\",\"Duraci\\u00f3n\",\"Duraci\\u00f3n\",\"Duraci\\u00f3n\",\"Duraci\\u00f3n\",\"Duraci\\u00f3n\",\"Duraci\\u00f3n\",\"Duraci\\u00f3n\",\"Duraci\\u00f3n\",\"Duraci\\u00f3n\",\"Duraci\\u00f3n\",\"Duraci\\u00f3n\",\"Duraci\\u00f3n\",\"Duraci\\u00f3n\",\"Duraci\\u00f3n\",\"Duraci\\u00f3n\",\"Duraci\\u00f3n\",\"Duraci\\u00f3n\",\"Duraci\\u00f3n\",\"Duraci\\u00f3n\",\"Duraci\\u00f3n\",\"Duraci\\u00f3n\",\"Duraci\\u00f3n\",\"Duraci\\u00f3n\",\"Duraci\\u00f3n\",\"Duraci\\u00f3n\",\"Duraci\\u00f3n\",\"Duraci\\u00f3n\",\"Duraci\\u00f3n\",\"Duraci\\u00f3n\",\"Duraci\\u00f3n\",\"Duraci\\u00f3n\",\"Duraci\\u00f3n\",\"Duraci\\u00f3n\",\"Duraci\\u00f3n\",\"Duraci\\u00f3n\",\"Duraci\\u00f3n\",\"Duraci\\u00f3n\",\"Duraci\\u00f3n\",\"Duraci\\u00f3n\",\"Duraci\\u00f3n\",\"Duraci\\u00f3n\",\"Duraci\\u00f3n\",\"Duraci\\u00f3n\",\"Duraci\\u00f3n\",\"Duraci\\u00f3n\",\"Duraci\\u00f3n\",\"Duraci\\u00f3n\",\"Duraci\\u00f3n\",\"Duraci\\u00f3n\",\"Duraci\\u00f3n\",\"Duraci\\u00f3n\",\"Duraci\\u00f3n\",\"Duraci\\u00f3n\",\"Duraci\\u00f3n\",\"Duraci\\u00f3n\",\"Duraci\\u00f3n\",\"Duraci\\u00f3n\",\"Duraci\\u00f3n\",\"Duraci\\u00f3n\",\"Duraci\\u00f3n\",\"Duraci\\u00f3n\",\"Duraci\\u00f3n\",\"Duraci\\u00f3n\",\"Duraci\\u00f3n\",\"Duraci\\u00f3n\",\"Duraci\\u00f3n\",\"Duraci\\u00f3n\",\"Duraci\\u00f3n\",\"Duraci\\u00f3n\",\"Duraci\\u00f3n\",\"Duraci\\u00f3n\",\"Duraci\\u00f3n\",\"Duraci\\u00f3n\",\"Duraci\\u00f3n\",\"Duraci\\u00f3n\",\"Duraci\\u00f3n\",\"Duraci\\u00f3n\",\"Duraci\\u00f3n\",\"Duraci\\u00f3n\",\"Duraci\\u00f3n\",\"Duraci\\u00f3n\",\"Duraci\\u00f3n\",\"Duraci\\u00f3n\",\"Duraci\\u00f3n\",\"Duraci\\u00f3n\",\"Duraci\\u00f3n\",\"Duraci\\u00f3n\",\"Duraci\\u00f3n\",\"Duraci\\u00f3n\",\"Duraci\\u00f3n\",\"Duraci\\u00f3n\",\"Duraci\\u00f3n\",\"Duraci\\u00f3n\",\"Duraci\\u00f3n\",\"Duraci\\u00f3n\",\"Duraci\\u00f3n\",\"Duraci\\u00f3n\",\"Duraci\\u00f3n\",\"Duraci\\u00f3n\",\"Duraci\\u00f3n\",\"Duraci\\u00f3n\",\"Duraci\\u00f3n\",\"Duraci\\u00f3n\",\"Duraci\\u00f3n\",\"Duraci\\u00f3n\",\"Duraci\\u00f3n\",\"Duraci\\u00f3n\",\"Duraci\\u00f3n\",\"Duraci\\u00f3n\",\"Duraci\\u00f3n\",\"Duraci\\u00f3n\",\"Duraci\\u00f3n\",\"Duraci\\u00f3n\",\"Duraci\\u00f3n\",\"Duraci\\u00f3n\",\"Duraci\\u00f3n\",\"Duraci\\u00f3n\",\"Duraci\\u00f3n\",\"Duraci\\u00f3n\",\"Duraci\\u00f3n\",\"Duraci\\u00f3n\",\"Duraci\\u00f3n\",\"Duraci\\u00f3n\",\"Duraci\\u00f3n\",\"Duraci\\u00f3n\",\"Duraci\\u00f3n\",\"Duraci\\u00f3n\",\"Duraci\\u00f3n\",\"Duraci\\u00f3n\",\"Duraci\\u00f3n\",\"Duraci\\u00f3n\",\"Duraci\\u00f3n\",\"Duraci\\u00f3n\",\"Duraci\\u00f3n\",\"Duraci\\u00f3n\",\"Duraci\\u00f3n\",\"Duraci\\u00f3n\",\"Duraci\\u00f3n\",\"Duraci\\u00f3n\",\"Duraci\\u00f3n\",\"Duraci\\u00f3n\",\"Duraci\\u00f3n\",\"Duraci\\u00f3n\",\"Duraci\\u00f3n\",\"Duraci\\u00f3n\",\"Duraci\\u00f3n\",\"Duraci\\u00f3n\",\"Duraci\\u00f3n\",\"Duraci\\u00f3n\",\"Duraci\\u00f3n\",\"Duraci\\u00f3n\",\"Duraci\\u00f3n\",\"Duraci\\u00f3n\",\"Duraci\\u00f3n\",\"Duraci\\u00f3n\",\"Duraci\\u00f3n\",\"Duraci\\u00f3n\",\"Duraci\\u00f3n\",\"Duraci\\u00f3n\",\"Duraci\\u00f3n\",\"Duraci\\u00f3n\",\"Duraci\\u00f3n\",\"Duraci\\u00f3n\",\"Duraci\\u00f3n\",\"Duraci\\u00f3n\"],\"yaxis\":\"y2\",\"type\":\"scatter\"}],                        {\"barmode\":\"overlay\",\"hovermode\":\"closest\",\"legend\":{\"traceorder\":\"reversed\"},\"xaxis\":{\"anchor\":\"y2\",\"domain\":[0.0,1.0],\"zeroline\":false},\"yaxis\":{\"anchor\":\"free\",\"domain\":[0.35,1],\"position\":0.0},\"yaxis2\":{\"anchor\":\"x\",\"domain\":[0,0.25],\"dtick\":1,\"showticklabels\":false},\"template\":{\"data\":{\"histogram2dcontour\":[{\"type\":\"histogram2dcontour\",\"colorbar\":{\"outlinewidth\":0,\"ticks\":\"\"},\"colorscale\":[[0.0,\"#0d0887\"],[0.1111111111111111,\"#46039f\"],[0.2222222222222222,\"#7201a8\"],[0.3333333333333333,\"#9c179e\"],[0.4444444444444444,\"#bd3786\"],[0.5555555555555556,\"#d8576b\"],[0.6666666666666666,\"#ed7953\"],[0.7777777777777778,\"#fb9f3a\"],[0.8888888888888888,\"#fdca26\"],[1.0,\"#f0f921\"]]}],\"choropleth\":[{\"type\":\"choropleth\",\"colorbar\":{\"outlinewidth\":0,\"ticks\":\"\"}}],\"histogram2d\":[{\"type\":\"histogram2d\",\"colorbar\":{\"outlinewidth\":0,\"ticks\":\"\"},\"colorscale\":[[0.0,\"#0d0887\"],[0.1111111111111111,\"#46039f\"],[0.2222222222222222,\"#7201a8\"],[0.3333333333333333,\"#9c179e\"],[0.4444444444444444,\"#bd3786\"],[0.5555555555555556,\"#d8576b\"],[0.6666666666666666,\"#ed7953\"],[0.7777777777777778,\"#fb9f3a\"],[0.8888888888888888,\"#fdca26\"],[1.0,\"#f0f921\"]]}],\"heatmap\":[{\"type\":\"heatmap\",\"colorbar\":{\"outlinewidth\":0,\"ticks\":\"\"},\"colorscale\":[[0.0,\"#0d0887\"],[0.1111111111111111,\"#46039f\"],[0.2222222222222222,\"#7201a8\"],[0.3333333333333333,\"#9c179e\"],[0.4444444444444444,\"#bd3786\"],[0.5555555555555556,\"#d8576b\"],[0.6666666666666666,\"#ed7953\"],[0.7777777777777778,\"#fb9f3a\"],[0.8888888888888888,\"#fdca26\"],[1.0,\"#f0f921\"]]}],\"contourcarpet\":[{\"type\":\"contourcarpet\",\"colorbar\":{\"outlinewidth\":0,\"ticks\":\"\"}}],\"contour\":[{\"type\":\"contour\",\"colorbar\":{\"outlinewidth\":0,\"ticks\":\"\"},\"colorscale\":[[0.0,\"#0d0887\"],[0.1111111111111111,\"#46039f\"],[0.2222222222222222,\"#7201a8\"],[0.3333333333333333,\"#9c179e\"],[0.4444444444444444,\"#bd3786\"],[0.5555555555555556,\"#d8576b\"],[0.6666666666666666,\"#ed7953\"],[0.7777777777777778,\"#fb9f3a\"],[0.8888888888888888,\"#fdca26\"],[1.0,\"#f0f921\"]]}],\"surface\":[{\"type\":\"surface\",\"colorbar\":{\"outlinewidth\":0,\"ticks\":\"\"},\"colorscale\":[[0.0,\"#0d0887\"],[0.1111111111111111,\"#46039f\"],[0.2222222222222222,\"#7201a8\"],[0.3333333333333333,\"#9c179e\"],[0.4444444444444444,\"#bd3786\"],[0.5555555555555556,\"#d8576b\"],[0.6666666666666666,\"#ed7953\"],[0.7777777777777778,\"#fb9f3a\"],[0.8888888888888888,\"#fdca26\"],[1.0,\"#f0f921\"]]}],\"mesh3d\":[{\"type\":\"mesh3d\",\"colorbar\":{\"outlinewidth\":0,\"ticks\":\"\"}}],\"scatter\":[{\"fillpattern\":{\"fillmode\":\"overlay\",\"size\":10,\"solidity\":0.2},\"type\":\"scatter\"}],\"parcoords\":[{\"type\":\"parcoords\",\"line\":{\"colorbar\":{\"outlinewidth\":0,\"ticks\":\"\"}}}],\"scatterpolargl\":[{\"type\":\"scatterpolargl\",\"marker\":{\"colorbar\":{\"outlinewidth\":0,\"ticks\":\"\"}}}],\"bar\":[{\"error_x\":{\"color\":\"#2a3f5f\"},\"error_y\":{\"color\":\"#2a3f5f\"},\"marker\":{\"line\":{\"color\":\"#E5ECF6\",\"width\":0.5},\"pattern\":{\"fillmode\":\"overlay\",\"size\":10,\"solidity\":0.2}},\"type\":\"bar\"}],\"scattergeo\":[{\"type\":\"scattergeo\",\"marker\":{\"colorbar\":{\"outlinewidth\":0,\"ticks\":\"\"}}}],\"scatterpolar\":[{\"type\":\"scatterpolar\",\"marker\":{\"colorbar\":{\"outlinewidth\":0,\"ticks\":\"\"}}}],\"histogram\":[{\"marker\":{\"pattern\":{\"fillmode\":\"overlay\",\"size\":10,\"solidity\":0.2}},\"type\":\"histogram\"}],\"scattergl\":[{\"type\":\"scattergl\",\"marker\":{\"colorbar\":{\"outlinewidth\":0,\"ticks\":\"\"}}}],\"scatter3d\":[{\"type\":\"scatter3d\",\"line\":{\"colorbar\":{\"outlinewidth\":0,\"ticks\":\"\"}},\"marker\":{\"colorbar\":{\"outlinewidth\":0,\"ticks\":\"\"}}}],\"scattermap\":[{\"type\":\"scattermap\",\"marker\":{\"colorbar\":{\"outlinewidth\":0,\"ticks\":\"\"}}}],\"scattermapbox\":[{\"type\":\"scattermapbox\",\"marker\":{\"colorbar\":{\"outlinewidth\":0,\"ticks\":\"\"}}}],\"scatterternary\":[{\"type\":\"scatterternary\",\"marker\":{\"colorbar\":{\"outlinewidth\":0,\"ticks\":\"\"}}}],\"scattercarpet\":[{\"type\":\"scattercarpet\",\"marker\":{\"colorbar\":{\"outlinewidth\":0,\"ticks\":\"\"}}}],\"carpet\":[{\"aaxis\":{\"endlinecolor\":\"#2a3f5f\",\"gridcolor\":\"white\",\"linecolor\":\"white\",\"minorgridcolor\":\"white\",\"startlinecolor\":\"#2a3f5f\"},\"baxis\":{\"endlinecolor\":\"#2a3f5f\",\"gridcolor\":\"white\",\"linecolor\":\"white\",\"minorgridcolor\":\"white\",\"startlinecolor\":\"#2a3f5f\"},\"type\":\"carpet\"}],\"table\":[{\"cells\":{\"fill\":{\"color\":\"#EBF0F8\"},\"line\":{\"color\":\"white\"}},\"header\":{\"fill\":{\"color\":\"#C8D4E3\"},\"line\":{\"color\":\"white\"}},\"type\":\"table\"}],\"barpolar\":[{\"marker\":{\"line\":{\"color\":\"#E5ECF6\",\"width\":0.5},\"pattern\":{\"fillmode\":\"overlay\",\"size\":10,\"solidity\":0.2}},\"type\":\"barpolar\"}],\"pie\":[{\"automargin\":true,\"type\":\"pie\"}]},\"layout\":{\"autotypenumbers\":\"strict\",\"colorway\":[\"#636efa\",\"#EF553B\",\"#00cc96\",\"#ab63fa\",\"#FFA15A\",\"#19d3f3\",\"#FF6692\",\"#B6E880\",\"#FF97FF\",\"#FECB52\"],\"font\":{\"color\":\"#2a3f5f\"},\"hovermode\":\"closest\",\"hoverlabel\":{\"align\":\"left\"},\"paper_bgcolor\":\"white\",\"plot_bgcolor\":\"#E5ECF6\",\"polar\":{\"bgcolor\":\"#E5ECF6\",\"angularaxis\":{\"gridcolor\":\"white\",\"linecolor\":\"white\",\"ticks\":\"\"},\"radialaxis\":{\"gridcolor\":\"white\",\"linecolor\":\"white\",\"ticks\":\"\"}},\"ternary\":{\"bgcolor\":\"#E5ECF6\",\"aaxis\":{\"gridcolor\":\"white\",\"linecolor\":\"white\",\"ticks\":\"\"},\"baxis\":{\"gridcolor\":\"white\",\"linecolor\":\"white\",\"ticks\":\"\"},\"caxis\":{\"gridcolor\":\"white\",\"linecolor\":\"white\",\"ticks\":\"\"}},\"coloraxis\":{\"colorbar\":{\"outlinewidth\":0,\"ticks\":\"\"}},\"colorscale\":{\"sequential\":[[0.0,\"#0d0887\"],[0.1111111111111111,\"#46039f\"],[0.2222222222222222,\"#7201a8\"],[0.3333333333333333,\"#9c179e\"],[0.4444444444444444,\"#bd3786\"],[0.5555555555555556,\"#d8576b\"],[0.6666666666666666,\"#ed7953\"],[0.7777777777777778,\"#fb9f3a\"],[0.8888888888888888,\"#fdca26\"],[1.0,\"#f0f921\"]],\"sequentialminus\":[[0.0,\"#0d0887\"],[0.1111111111111111,\"#46039f\"],[0.2222222222222222,\"#7201a8\"],[0.3333333333333333,\"#9c179e\"],[0.4444444444444444,\"#bd3786\"],[0.5555555555555556,\"#d8576b\"],[0.6666666666666666,\"#ed7953\"],[0.7777777777777778,\"#fb9f3a\"],[0.8888888888888888,\"#fdca26\"],[1.0,\"#f0f921\"]],\"diverging\":[[0,\"#8e0152\"],[0.1,\"#c51b7d\"],[0.2,\"#de77ae\"],[0.3,\"#f1b6da\"],[0.4,\"#fde0ef\"],[0.5,\"#f7f7f7\"],[0.6,\"#e6f5d0\"],[0.7,\"#b8e186\"],[0.8,\"#7fbc41\"],[0.9,\"#4d9221\"],[1,\"#276419\"]]},\"xaxis\":{\"gridcolor\":\"white\",\"linecolor\":\"white\",\"ticks\":\"\",\"title\":{\"standoff\":15},\"zerolinecolor\":\"white\",\"automargin\":true,\"zerolinewidth\":2},\"yaxis\":{\"gridcolor\":\"white\",\"linecolor\":\"white\",\"ticks\":\"\",\"title\":{\"standoff\":15},\"zerolinecolor\":\"white\",\"automargin\":true,\"zerolinewidth\":2},\"scene\":{\"xaxis\":{\"backgroundcolor\":\"#E5ECF6\",\"gridcolor\":\"white\",\"linecolor\":\"white\",\"showbackground\":true,\"ticks\":\"\",\"zerolinecolor\":\"white\",\"gridwidth\":2},\"yaxis\":{\"backgroundcolor\":\"#E5ECF6\",\"gridcolor\":\"white\",\"linecolor\":\"white\",\"showbackground\":true,\"ticks\":\"\",\"zerolinecolor\":\"white\",\"gridwidth\":2},\"zaxis\":{\"backgroundcolor\":\"#E5ECF6\",\"gridcolor\":\"white\",\"linecolor\":\"white\",\"showbackground\":true,\"ticks\":\"\",\"zerolinecolor\":\"white\",\"gridwidth\":2}},\"shapedefaults\":{\"line\":{\"color\":\"#2a3f5f\"}},\"annotationdefaults\":{\"arrowcolor\":\"#2a3f5f\",\"arrowhead\":0,\"arrowwidth\":1},\"geo\":{\"bgcolor\":\"white\",\"landcolor\":\"#E5ECF6\",\"subunitcolor\":\"white\",\"showland\":true,\"showlakes\":true,\"lakecolor\":\"white\"},\"title\":{\"x\":0.05},\"mapbox\":{\"style\":\"light\"}}},\"title\":{\"text\":\"Distribuci\\u00f3n de la duraci\\u00f3n de las Pel\\u00edculas\"}},                        {\"responsive\": true}                    ).then(function(){\n",
       "                            \n",
       "var gd = document.getElementById('f7f6f5e2-3dc2-443c-8aaf-b4e7a9199d66');\n",
       "var x = new MutationObserver(function (mutations, observer) {{\n",
       "        var display = window.getComputedStyle(gd).display;\n",
       "        if (!display || display === 'none') {{\n",
       "            console.log([gd, 'removed!']);\n",
       "            Plotly.purge(gd);\n",
       "            observer.disconnect();\n",
       "        }}\n",
       "}});\n",
       "\n",
       "// Listen for the removal of the full notebook cells\n",
       "var notebookContainer = gd.closest('#notebook-container');\n",
       "if (notebookContainer) {{\n",
       "    x.observe(notebookContainer, {childList: true});\n",
       "}}\n",
       "\n",
       "// Listen for the clearing of the current output cell\n",
       "var outputEl = gd.closest('.output');\n",
       "if (outputEl) {{\n",
       "    x.observe(outputEl, {childList: true});\n",
       "}}\n",
       "\n",
       "                        })                };            </script>        </div>"
      ]
     },
     "metadata": {},
     "output_type": "display_data"
    }
   ],
   "source": [
    "import plotly.figure_factory as ff\n",
    "import numpy as np\n",
    "import pandas as pd\n",
    "import scipy  \n",
    "\n",
    "df = pd.read_csv(\"disney_plus_titles.csv\")\n",
    "\n",
    "df['duration'] = df['duration'].astype(str)\n",
    "\n",
    "d2 = df[df[\"type\"] == \"Movie\"].copy()\n",
    "\n",
    "d2['duration'] = d2['duration'].str.extract(r'(\\d+)')  \n",
    "d2['duration'] = pd.to_numeric(d2['duration'], errors='coerce')  \n",
    "\n",
    "x1 = d2['duration'].dropna()\n",
    "\n",
    "if len(x1) > 0:\n",
    "    fig = ff.create_distplot([x1], ['Duración'], bin_size=5, curve_type='normal', colors=[\"#6ad49b\"])\n",
    "    fig.update_layout(title_text='Distribución de la duración de las Películas')\n",
    "    fig.show()\n",
    "else:\n",
    "    print(\"No hay datos válidos para graficar la distribución.\")\n"
   ]
  },
  {
   "cell_type": "markdown",
   "id": "61f23828",
   "metadata": {
    "papermill": {
     "duration": 0.028065,
     "end_time": "2021-10-02T08:28:43.808216",
     "exception": false,
     "start_time": "2021-10-02T08:28:43.780151",
     "status": "completed"
    },
    "tags": []
   },
   "source": [
    "## 6. TV Shows con muchas temporadas"
   ]
  },
  {
   "cell_type": "code",
   "execution_count": null,
   "id": "bdf34143",
   "metadata": {
    "_kg_hide-input": true,
    "execution": {
     "iopub.execute_input": "2021-10-02T08:28:43.875576Z",
     "iopub.status.busy": "2021-10-02T08:28:43.874887Z",
     "iopub.status.idle": "2021-10-02T08:28:43.885509Z",
     "shell.execute_reply": "2021-10-02T08:28:43.884928Z",
     "shell.execute_reply.started": "2021-10-02T08:26:06.293203Z"
    },
    "papermill": {
     "duration": 0.05005,
     "end_time": "2021-10-02T08:28:43.885653",
     "exception": false,
     "start_time": "2021-10-02T08:28:43.835603",
     "status": "completed"
    },
    "tags": []
   },
   "outputs": [
    {
     "data": {
      "application/vnd.plotly.v1+json": {
       "config": {
        "plotlyServerURL": "https://plot.ly"
       },
       "data": [
        {
         "marker": {
          "color": "#a678de"
         },
         "name": "TV Shows",
         "type": "bar",
         "x": {
          "bdata": "AQIDBAUGBwgJChATIA==",
          "dtype": "i1"
         },
         "y": {
          "bdata": "2wBSAC0AGAALAAMABQACAAIAAgABAAEAAQA=",
          "dtype": "i2"
         }
        }
       ],
       "layout": {
        "legend": {
         "orientation": "h",
         "x": 0.1,
         "y": 1.1
        },
        "template": {
         "data": {
          "bar": [
           {
            "error_x": {
             "color": "#2a3f5f"
            },
            "error_y": {
             "color": "#2a3f5f"
            },
            "marker": {
             "line": {
              "color": "#E5ECF6",
              "width": 0.5
             },
             "pattern": {
              "fillmode": "overlay",
              "size": 10,
              "solidity": 0.2
             }
            },
            "type": "bar"
           }
          ],
          "barpolar": [
           {
            "marker": {
             "line": {
              "color": "#E5ECF6",
              "width": 0.5
             },
             "pattern": {
              "fillmode": "overlay",
              "size": 10,
              "solidity": 0.2
             }
            },
            "type": "barpolar"
           }
          ],
          "carpet": [
           {
            "aaxis": {
             "endlinecolor": "#2a3f5f",
             "gridcolor": "white",
             "linecolor": "white",
             "minorgridcolor": "white",
             "startlinecolor": "#2a3f5f"
            },
            "baxis": {
             "endlinecolor": "#2a3f5f",
             "gridcolor": "white",
             "linecolor": "white",
             "minorgridcolor": "white",
             "startlinecolor": "#2a3f5f"
            },
            "type": "carpet"
           }
          ],
          "choropleth": [
           {
            "colorbar": {
             "outlinewidth": 0,
             "ticks": ""
            },
            "type": "choropleth"
           }
          ],
          "contour": [
           {
            "colorbar": {
             "outlinewidth": 0,
             "ticks": ""
            },
            "colorscale": [
             [
              0,
              "#0d0887"
             ],
             [
              0.1111111111111111,
              "#46039f"
             ],
             [
              0.2222222222222222,
              "#7201a8"
             ],
             [
              0.3333333333333333,
              "#9c179e"
             ],
             [
              0.4444444444444444,
              "#bd3786"
             ],
             [
              0.5555555555555556,
              "#d8576b"
             ],
             [
              0.6666666666666666,
              "#ed7953"
             ],
             [
              0.7777777777777778,
              "#fb9f3a"
             ],
             [
              0.8888888888888888,
              "#fdca26"
             ],
             [
              1,
              "#f0f921"
             ]
            ],
            "type": "contour"
           }
          ],
          "contourcarpet": [
           {
            "colorbar": {
             "outlinewidth": 0,
             "ticks": ""
            },
            "type": "contourcarpet"
           }
          ],
          "heatmap": [
           {
            "colorbar": {
             "outlinewidth": 0,
             "ticks": ""
            },
            "colorscale": [
             [
              0,
              "#0d0887"
             ],
             [
              0.1111111111111111,
              "#46039f"
             ],
             [
              0.2222222222222222,
              "#7201a8"
             ],
             [
              0.3333333333333333,
              "#9c179e"
             ],
             [
              0.4444444444444444,
              "#bd3786"
             ],
             [
              0.5555555555555556,
              "#d8576b"
             ],
             [
              0.6666666666666666,
              "#ed7953"
             ],
             [
              0.7777777777777778,
              "#fb9f3a"
             ],
             [
              0.8888888888888888,
              "#fdca26"
             ],
             [
              1,
              "#f0f921"
             ]
            ],
            "type": "heatmap"
           }
          ],
          "histogram": [
           {
            "marker": {
             "pattern": {
              "fillmode": "overlay",
              "size": 10,
              "solidity": 0.2
             }
            },
            "type": "histogram"
           }
          ],
          "histogram2d": [
           {
            "colorbar": {
             "outlinewidth": 0,
             "ticks": ""
            },
            "colorscale": [
             [
              0,
              "#0d0887"
             ],
             [
              0.1111111111111111,
              "#46039f"
             ],
             [
              0.2222222222222222,
              "#7201a8"
             ],
             [
              0.3333333333333333,
              "#9c179e"
             ],
             [
              0.4444444444444444,
              "#bd3786"
             ],
             [
              0.5555555555555556,
              "#d8576b"
             ],
             [
              0.6666666666666666,
              "#ed7953"
             ],
             [
              0.7777777777777778,
              "#fb9f3a"
             ],
             [
              0.8888888888888888,
              "#fdca26"
             ],
             [
              1,
              "#f0f921"
             ]
            ],
            "type": "histogram2d"
           }
          ],
          "histogram2dcontour": [
           {
            "colorbar": {
             "outlinewidth": 0,
             "ticks": ""
            },
            "colorscale": [
             [
              0,
              "#0d0887"
             ],
             [
              0.1111111111111111,
              "#46039f"
             ],
             [
              0.2222222222222222,
              "#7201a8"
             ],
             [
              0.3333333333333333,
              "#9c179e"
             ],
             [
              0.4444444444444444,
              "#bd3786"
             ],
             [
              0.5555555555555556,
              "#d8576b"
             ],
             [
              0.6666666666666666,
              "#ed7953"
             ],
             [
              0.7777777777777778,
              "#fb9f3a"
             ],
             [
              0.8888888888888888,
              "#fdca26"
             ],
             [
              1,
              "#f0f921"
             ]
            ],
            "type": "histogram2dcontour"
           }
          ],
          "mesh3d": [
           {
            "colorbar": {
             "outlinewidth": 0,
             "ticks": ""
            },
            "type": "mesh3d"
           }
          ],
          "parcoords": [
           {
            "line": {
             "colorbar": {
              "outlinewidth": 0,
              "ticks": ""
             }
            },
            "type": "parcoords"
           }
          ],
          "pie": [
           {
            "automargin": true,
            "type": "pie"
           }
          ],
          "scatter": [
           {
            "fillpattern": {
             "fillmode": "overlay",
             "size": 10,
             "solidity": 0.2
            },
            "type": "scatter"
           }
          ],
          "scatter3d": [
           {
            "line": {
             "colorbar": {
              "outlinewidth": 0,
              "ticks": ""
             }
            },
            "marker": {
             "colorbar": {
              "outlinewidth": 0,
              "ticks": ""
             }
            },
            "type": "scatter3d"
           }
          ],
          "scattercarpet": [
           {
            "marker": {
             "colorbar": {
              "outlinewidth": 0,
              "ticks": ""
             }
            },
            "type": "scattercarpet"
           }
          ],
          "scattergeo": [
           {
            "marker": {
             "colorbar": {
              "outlinewidth": 0,
              "ticks": ""
             }
            },
            "type": "scattergeo"
           }
          ],
          "scattergl": [
           {
            "marker": {
             "colorbar": {
              "outlinewidth": 0,
              "ticks": ""
             }
            },
            "type": "scattergl"
           }
          ],
          "scattermap": [
           {
            "marker": {
             "colorbar": {
              "outlinewidth": 0,
              "ticks": ""
             }
            },
            "type": "scattermap"
           }
          ],
          "scattermapbox": [
           {
            "marker": {
             "colorbar": {
              "outlinewidth": 0,
              "ticks": ""
             }
            },
            "type": "scattermapbox"
           }
          ],
          "scatterpolar": [
           {
            "marker": {
             "colorbar": {
              "outlinewidth": 0,
              "ticks": ""
             }
            },
            "type": "scatterpolar"
           }
          ],
          "scatterpolargl": [
           {
            "marker": {
             "colorbar": {
              "outlinewidth": 0,
              "ticks": ""
             }
            },
            "type": "scatterpolargl"
           }
          ],
          "scatterternary": [
           {
            "marker": {
             "colorbar": {
              "outlinewidth": 0,
              "ticks": ""
             }
            },
            "type": "scatterternary"
           }
          ],
          "surface": [
           {
            "colorbar": {
             "outlinewidth": 0,
             "ticks": ""
            },
            "colorscale": [
             [
              0,
              "#0d0887"
             ],
             [
              0.1111111111111111,
              "#46039f"
             ],
             [
              0.2222222222222222,
              "#7201a8"
             ],
             [
              0.3333333333333333,
              "#9c179e"
             ],
             [
              0.4444444444444444,
              "#bd3786"
             ],
             [
              0.5555555555555556,
              "#d8576b"
             ],
             [
              0.6666666666666666,
              "#ed7953"
             ],
             [
              0.7777777777777778,
              "#fb9f3a"
             ],
             [
              0.8888888888888888,
              "#fdca26"
             ],
             [
              1,
              "#f0f921"
             ]
            ],
            "type": "surface"
           }
          ],
          "table": [
           {
            "cells": {
             "fill": {
              "color": "#EBF0F8"
             },
             "line": {
              "color": "white"
             }
            },
            "header": {
             "fill": {
              "color": "#C8D4E3"
             },
             "line": {
              "color": "white"
             }
            },
            "type": "table"
           }
          ]
         },
         "layout": {
          "annotationdefaults": {
           "arrowcolor": "#2a3f5f",
           "arrowhead": 0,
           "arrowwidth": 1
          },
          "autotypenumbers": "strict",
          "coloraxis": {
           "colorbar": {
            "outlinewidth": 0,
            "ticks": ""
           }
          },
          "colorscale": {
           "diverging": [
            [
             0,
             "#8e0152"
            ],
            [
             0.1,
             "#c51b7d"
            ],
            [
             0.2,
             "#de77ae"
            ],
            [
             0.3,
             "#f1b6da"
            ],
            [
             0.4,
             "#fde0ef"
            ],
            [
             0.5,
             "#f7f7f7"
            ],
            [
             0.6,
             "#e6f5d0"
            ],
            [
             0.7,
             "#b8e186"
            ],
            [
             0.8,
             "#7fbc41"
            ],
            [
             0.9,
             "#4d9221"
            ],
            [
             1,
             "#276419"
            ]
           ],
           "sequential": [
            [
             0,
             "#0d0887"
            ],
            [
             0.1111111111111111,
             "#46039f"
            ],
            [
             0.2222222222222222,
             "#7201a8"
            ],
            [
             0.3333333333333333,
             "#9c179e"
            ],
            [
             0.4444444444444444,
             "#bd3786"
            ],
            [
             0.5555555555555556,
             "#d8576b"
            ],
            [
             0.6666666666666666,
             "#ed7953"
            ],
            [
             0.7777777777777778,
             "#fb9f3a"
            ],
            [
             0.8888888888888888,
             "#fdca26"
            ],
            [
             1,
             "#f0f921"
            ]
           ],
           "sequentialminus": [
            [
             0,
             "#0d0887"
            ],
            [
             0.1111111111111111,
             "#46039f"
            ],
            [
             0.2222222222222222,
             "#7201a8"
            ],
            [
             0.3333333333333333,
             "#9c179e"
            ],
            [
             0.4444444444444444,
             "#bd3786"
            ],
            [
             0.5555555555555556,
             "#d8576b"
            ],
            [
             0.6666666666666666,
             "#ed7953"
            ],
            [
             0.7777777777777778,
             "#fb9f3a"
            ],
            [
             0.8888888888888888,
             "#fdca26"
            ],
            [
             1,
             "#f0f921"
            ]
           ]
          },
          "colorway": [
           "#636efa",
           "#EF553B",
           "#00cc96",
           "#ab63fa",
           "#FFA15A",
           "#19d3f3",
           "#FF6692",
           "#B6E880",
           "#FF97FF",
           "#FECB52"
          ],
          "font": {
           "color": "#2a3f5f"
          },
          "geo": {
           "bgcolor": "white",
           "lakecolor": "white",
           "landcolor": "#E5ECF6",
           "showlakes": true,
           "showland": true,
           "subunitcolor": "white"
          },
          "hoverlabel": {
           "align": "left"
          },
          "hovermode": "closest",
          "mapbox": {
           "style": "light"
          },
          "paper_bgcolor": "white",
          "plot_bgcolor": "#E5ECF6",
          "polar": {
           "angularaxis": {
            "gridcolor": "white",
            "linecolor": "white",
            "ticks": ""
           },
           "bgcolor": "#E5ECF6",
           "radialaxis": {
            "gridcolor": "white",
            "linecolor": "white",
            "ticks": ""
           }
          },
          "scene": {
           "xaxis": {
            "backgroundcolor": "#E5ECF6",
            "gridcolor": "white",
            "gridwidth": 2,
            "linecolor": "white",
            "showbackground": true,
            "ticks": "",
            "zerolinecolor": "white"
           },
           "yaxis": {
            "backgroundcolor": "#E5ECF6",
            "gridcolor": "white",
            "gridwidth": 2,
            "linecolor": "white",
            "showbackground": true,
            "ticks": "",
            "zerolinecolor": "white"
           },
           "zaxis": {
            "backgroundcolor": "#E5ECF6",
            "gridcolor": "white",
            "gridwidth": 2,
            "linecolor": "white",
            "showbackground": true,
            "ticks": "",
            "zerolinecolor": "white"
           }
          },
          "shapedefaults": {
           "line": {
            "color": "#2a3f5f"
           }
          },
          "ternary": {
           "aaxis": {
            "gridcolor": "white",
            "linecolor": "white",
            "ticks": ""
           },
           "baxis": {
            "gridcolor": "white",
            "linecolor": "white",
            "ticks": ""
           },
           "bgcolor": "#E5ECF6",
           "caxis": {
            "gridcolor": "white",
            "linecolor": "white",
            "ticks": ""
           }
          },
          "title": {
           "x": 0.05
          },
          "xaxis": {
           "automargin": true,
           "gridcolor": "white",
           "linecolor": "white",
           "ticks": "",
           "title": {
            "standoff": 15
           },
           "zerolinecolor": "white",
           "zerolinewidth": 2
          },
          "yaxis": {
           "automargin": true,
           "gridcolor": "white",
           "linecolor": "white",
           "ticks": "",
           "title": {
            "standoff": 15
           },
           "zerolinecolor": "white",
           "zerolinewidth": 2
          }
         }
        },
        "title": {
         "text": "Number of Seasons in TV Shows"
        },
        "xaxis": {
         "title": {
          "text": "Seasons"
         }
        },
        "yaxis": {
         "title": {
          "text": "Count"
         }
        }
       }
      },
      "text/html": [
       "<div>            <script src=\"https://cdnjs.cloudflare.com/ajax/libs/mathjax/2.7.5/MathJax.js?config=TeX-AMS-MML_SVG\"></script><script type=\"text/javascript\">if (window.MathJax && window.MathJax.Hub && window.MathJax.Hub.Config) {window.MathJax.Hub.Config({SVG: {font: \"STIX-Web\"}});}</script>                <script type=\"text/javascript\">window.PlotlyConfig = {MathJaxConfig: 'local'};</script>\n",
       "        <script charset=\"utf-8\" src=\"https://cdn.plot.ly/plotly-3.0.0.min.js\"></script>                <div id=\"3d19bba4-2b4f-4f67-859e-a0c905230706\" class=\"plotly-graph-div\" style=\"height:525px; width:100%;\"></div>            <script type=\"text/javascript\">                window.PLOTLYENV=window.PLOTLYENV || {};                                if (document.getElementById(\"3d19bba4-2b4f-4f67-859e-a0c905230706\")) {                    Plotly.newPlot(                        \"3d19bba4-2b4f-4f67-859e-a0c905230706\",                        [{\"marker\":{\"color\":\"#a678de\"},\"name\":\"TV Shows\",\"x\":{\"dtype\":\"i1\",\"bdata\":\"AQIDBAUGBwgJChATIA==\"},\"y\":{\"dtype\":\"i2\",\"bdata\":\"2wBSAC0AGAALAAMABQACAAIAAgABAAEAAQA=\"},\"type\":\"bar\"}],                        {\"legend\":{\"orientation\":\"h\",\"x\":0.1,\"y\":1.1},\"title\":{\"text\":\"Number of Seasons in TV Shows\"},\"xaxis\":{\"title\":{\"text\":\"Seasons\"}},\"yaxis\":{\"title\":{\"text\":\"Count\"}},\"template\":{\"data\":{\"histogram2dcontour\":[{\"type\":\"histogram2dcontour\",\"colorbar\":{\"outlinewidth\":0,\"ticks\":\"\"},\"colorscale\":[[0.0,\"#0d0887\"],[0.1111111111111111,\"#46039f\"],[0.2222222222222222,\"#7201a8\"],[0.3333333333333333,\"#9c179e\"],[0.4444444444444444,\"#bd3786\"],[0.5555555555555556,\"#d8576b\"],[0.6666666666666666,\"#ed7953\"],[0.7777777777777778,\"#fb9f3a\"],[0.8888888888888888,\"#fdca26\"],[1.0,\"#f0f921\"]]}],\"choropleth\":[{\"type\":\"choropleth\",\"colorbar\":{\"outlinewidth\":0,\"ticks\":\"\"}}],\"histogram2d\":[{\"type\":\"histogram2d\",\"colorbar\":{\"outlinewidth\":0,\"ticks\":\"\"},\"colorscale\":[[0.0,\"#0d0887\"],[0.1111111111111111,\"#46039f\"],[0.2222222222222222,\"#7201a8\"],[0.3333333333333333,\"#9c179e\"],[0.4444444444444444,\"#bd3786\"],[0.5555555555555556,\"#d8576b\"],[0.6666666666666666,\"#ed7953\"],[0.7777777777777778,\"#fb9f3a\"],[0.8888888888888888,\"#fdca26\"],[1.0,\"#f0f921\"]]}],\"heatmap\":[{\"type\":\"heatmap\",\"colorbar\":{\"outlinewidth\":0,\"ticks\":\"\"},\"colorscale\":[[0.0,\"#0d0887\"],[0.1111111111111111,\"#46039f\"],[0.2222222222222222,\"#7201a8\"],[0.3333333333333333,\"#9c179e\"],[0.4444444444444444,\"#bd3786\"],[0.5555555555555556,\"#d8576b\"],[0.6666666666666666,\"#ed7953\"],[0.7777777777777778,\"#fb9f3a\"],[0.8888888888888888,\"#fdca26\"],[1.0,\"#f0f921\"]]}],\"contourcarpet\":[{\"type\":\"contourcarpet\",\"colorbar\":{\"outlinewidth\":0,\"ticks\":\"\"}}],\"contour\":[{\"type\":\"contour\",\"colorbar\":{\"outlinewidth\":0,\"ticks\":\"\"},\"colorscale\":[[0.0,\"#0d0887\"],[0.1111111111111111,\"#46039f\"],[0.2222222222222222,\"#7201a8\"],[0.3333333333333333,\"#9c179e\"],[0.4444444444444444,\"#bd3786\"],[0.5555555555555556,\"#d8576b\"],[0.6666666666666666,\"#ed7953\"],[0.7777777777777778,\"#fb9f3a\"],[0.8888888888888888,\"#fdca26\"],[1.0,\"#f0f921\"]]}],\"surface\":[{\"type\":\"surface\",\"colorbar\":{\"outlinewidth\":0,\"ticks\":\"\"},\"colorscale\":[[0.0,\"#0d0887\"],[0.1111111111111111,\"#46039f\"],[0.2222222222222222,\"#7201a8\"],[0.3333333333333333,\"#9c179e\"],[0.4444444444444444,\"#bd3786\"],[0.5555555555555556,\"#d8576b\"],[0.6666666666666666,\"#ed7953\"],[0.7777777777777778,\"#fb9f3a\"],[0.8888888888888888,\"#fdca26\"],[1.0,\"#f0f921\"]]}],\"mesh3d\":[{\"type\":\"mesh3d\",\"colorbar\":{\"outlinewidth\":0,\"ticks\":\"\"}}],\"scatter\":[{\"fillpattern\":{\"fillmode\":\"overlay\",\"size\":10,\"solidity\":0.2},\"type\":\"scatter\"}],\"parcoords\":[{\"type\":\"parcoords\",\"line\":{\"colorbar\":{\"outlinewidth\":0,\"ticks\":\"\"}}}],\"scatterpolargl\":[{\"type\":\"scatterpolargl\",\"marker\":{\"colorbar\":{\"outlinewidth\":0,\"ticks\":\"\"}}}],\"bar\":[{\"error_x\":{\"color\":\"#2a3f5f\"},\"error_y\":{\"color\":\"#2a3f5f\"},\"marker\":{\"line\":{\"color\":\"#E5ECF6\",\"width\":0.5},\"pattern\":{\"fillmode\":\"overlay\",\"size\":10,\"solidity\":0.2}},\"type\":\"bar\"}],\"scattergeo\":[{\"type\":\"scattergeo\",\"marker\":{\"colorbar\":{\"outlinewidth\":0,\"ticks\":\"\"}}}],\"scatterpolar\":[{\"type\":\"scatterpolar\",\"marker\":{\"colorbar\":{\"outlinewidth\":0,\"ticks\":\"\"}}}],\"histogram\":[{\"marker\":{\"pattern\":{\"fillmode\":\"overlay\",\"size\":10,\"solidity\":0.2}},\"type\":\"histogram\"}],\"scattergl\":[{\"type\":\"scattergl\",\"marker\":{\"colorbar\":{\"outlinewidth\":0,\"ticks\":\"\"}}}],\"scatter3d\":[{\"type\":\"scatter3d\",\"line\":{\"colorbar\":{\"outlinewidth\":0,\"ticks\":\"\"}},\"marker\":{\"colorbar\":{\"outlinewidth\":0,\"ticks\":\"\"}}}],\"scattermap\":[{\"type\":\"scattermap\",\"marker\":{\"colorbar\":{\"outlinewidth\":0,\"ticks\":\"\"}}}],\"scattermapbox\":[{\"type\":\"scattermapbox\",\"marker\":{\"colorbar\":{\"outlinewidth\":0,\"ticks\":\"\"}}}],\"scatterternary\":[{\"type\":\"scatterternary\",\"marker\":{\"colorbar\":{\"outlinewidth\":0,\"ticks\":\"\"}}}],\"scattercarpet\":[{\"type\":\"scattercarpet\",\"marker\":{\"colorbar\":{\"outlinewidth\":0,\"ticks\":\"\"}}}],\"carpet\":[{\"aaxis\":{\"endlinecolor\":\"#2a3f5f\",\"gridcolor\":\"white\",\"linecolor\":\"white\",\"minorgridcolor\":\"white\",\"startlinecolor\":\"#2a3f5f\"},\"baxis\":{\"endlinecolor\":\"#2a3f5f\",\"gridcolor\":\"white\",\"linecolor\":\"white\",\"minorgridcolor\":\"white\",\"startlinecolor\":\"#2a3f5f\"},\"type\":\"carpet\"}],\"table\":[{\"cells\":{\"fill\":{\"color\":\"#EBF0F8\"},\"line\":{\"color\":\"white\"}},\"header\":{\"fill\":{\"color\":\"#C8D4E3\"},\"line\":{\"color\":\"white\"}},\"type\":\"table\"}],\"barpolar\":[{\"marker\":{\"line\":{\"color\":\"#E5ECF6\",\"width\":0.5},\"pattern\":{\"fillmode\":\"overlay\",\"size\":10,\"solidity\":0.2}},\"type\":\"barpolar\"}],\"pie\":[{\"automargin\":true,\"type\":\"pie\"}]},\"layout\":{\"autotypenumbers\":\"strict\",\"colorway\":[\"#636efa\",\"#EF553B\",\"#00cc96\",\"#ab63fa\",\"#FFA15A\",\"#19d3f3\",\"#FF6692\",\"#B6E880\",\"#FF97FF\",\"#FECB52\"],\"font\":{\"color\":\"#2a3f5f\"},\"hovermode\":\"closest\",\"hoverlabel\":{\"align\":\"left\"},\"paper_bgcolor\":\"white\",\"plot_bgcolor\":\"#E5ECF6\",\"polar\":{\"bgcolor\":\"#E5ECF6\",\"angularaxis\":{\"gridcolor\":\"white\",\"linecolor\":\"white\",\"ticks\":\"\"},\"radialaxis\":{\"gridcolor\":\"white\",\"linecolor\":\"white\",\"ticks\":\"\"}},\"ternary\":{\"bgcolor\":\"#E5ECF6\",\"aaxis\":{\"gridcolor\":\"white\",\"linecolor\":\"white\",\"ticks\":\"\"},\"baxis\":{\"gridcolor\":\"white\",\"linecolor\":\"white\",\"ticks\":\"\"},\"caxis\":{\"gridcolor\":\"white\",\"linecolor\":\"white\",\"ticks\":\"\"}},\"coloraxis\":{\"colorbar\":{\"outlinewidth\":0,\"ticks\":\"\"}},\"colorscale\":{\"sequential\":[[0.0,\"#0d0887\"],[0.1111111111111111,\"#46039f\"],[0.2222222222222222,\"#7201a8\"],[0.3333333333333333,\"#9c179e\"],[0.4444444444444444,\"#bd3786\"],[0.5555555555555556,\"#d8576b\"],[0.6666666666666666,\"#ed7953\"],[0.7777777777777778,\"#fb9f3a\"],[0.8888888888888888,\"#fdca26\"],[1.0,\"#f0f921\"]],\"sequentialminus\":[[0.0,\"#0d0887\"],[0.1111111111111111,\"#46039f\"],[0.2222222222222222,\"#7201a8\"],[0.3333333333333333,\"#9c179e\"],[0.4444444444444444,\"#bd3786\"],[0.5555555555555556,\"#d8576b\"],[0.6666666666666666,\"#ed7953\"],[0.7777777777777778,\"#fb9f3a\"],[0.8888888888888888,\"#fdca26\"],[1.0,\"#f0f921\"]],\"diverging\":[[0,\"#8e0152\"],[0.1,\"#c51b7d\"],[0.2,\"#de77ae\"],[0.3,\"#f1b6da\"],[0.4,\"#fde0ef\"],[0.5,\"#f7f7f7\"],[0.6,\"#e6f5d0\"],[0.7,\"#b8e186\"],[0.8,\"#7fbc41\"],[0.9,\"#4d9221\"],[1,\"#276419\"]]},\"xaxis\":{\"gridcolor\":\"white\",\"linecolor\":\"white\",\"ticks\":\"\",\"title\":{\"standoff\":15},\"zerolinecolor\":\"white\",\"automargin\":true,\"zerolinewidth\":2},\"yaxis\":{\"gridcolor\":\"white\",\"linecolor\":\"white\",\"ticks\":\"\",\"title\":{\"standoff\":15},\"zerolinecolor\":\"white\",\"automargin\":true,\"zerolinewidth\":2},\"scene\":{\"xaxis\":{\"backgroundcolor\":\"#E5ECF6\",\"gridcolor\":\"white\",\"linecolor\":\"white\",\"showbackground\":true,\"ticks\":\"\",\"zerolinecolor\":\"white\",\"gridwidth\":2},\"yaxis\":{\"backgroundcolor\":\"#E5ECF6\",\"gridcolor\":\"white\",\"linecolor\":\"white\",\"showbackground\":true,\"ticks\":\"\",\"zerolinecolor\":\"white\",\"gridwidth\":2},\"zaxis\":{\"backgroundcolor\":\"#E5ECF6\",\"gridcolor\":\"white\",\"linecolor\":\"white\",\"showbackground\":true,\"ticks\":\"\",\"zerolinecolor\":\"white\",\"gridwidth\":2}},\"shapedefaults\":{\"line\":{\"color\":\"#2a3f5f\"}},\"annotationdefaults\":{\"arrowcolor\":\"#2a3f5f\",\"arrowhead\":0,\"arrowwidth\":1},\"geo\":{\"bgcolor\":\"white\",\"landcolor\":\"#E5ECF6\",\"subunitcolor\":\"white\",\"showland\":true,\"showlakes\":true,\"lakecolor\":\"white\"},\"title\":{\"x\":0.05},\"mapbox\":{\"style\":\"light\"}}}},                        {\"responsive\": true}                    ).then(function(){\n",
       "                            \n",
       "var gd = document.getElementById('3d19bba4-2b4f-4f67-859e-a0c905230706');\n",
       "var x = new MutationObserver(function (mutations, observer) {{\n",
       "        var display = window.getComputedStyle(gd).display;\n",
       "        if (!display || display === 'none') {{\n",
       "            console.log([gd, 'removed!']);\n",
       "            Plotly.purge(gd);\n",
       "            observer.disconnect();\n",
       "        }}\n",
       "}});\n",
       "\n",
       "// Listen for the removal of the full notebook cells\n",
       "var notebookContainer = gd.closest('#notebook-container');\n",
       "if (notebookContainer) {{\n",
       "    x.observe(notebookContainer, {childList: true});\n",
       "}}\n",
       "\n",
       "// Listen for the clearing of the current output cell\n",
       "var outputEl = gd.closest('.output');\n",
       "if (outputEl) {{\n",
       "    x.observe(outputEl, {childList: true});\n",
       "}}\n",
       "\n",
       "                        })                };            </script>        </div>"
      ]
     },
     "metadata": {},
     "output_type": "display_data"
    }
   ],
   "source": [
    "import pandas as pd\n",
    "import plotly.graph_objects as go\n",
    "\n",
    "df = pd.read_csv(\"disney_plus_titles.csv\")\n",
    "\n",
    "df['season_count'] = df['duration'].astype(str).str.extract(r'(\\d+)')  \n",
    "df['season_count'] = pd.to_numeric(df['season_count'], errors='coerce')  \n",
    "\n",
    "# Filtrar TV Shows\n",
    "d1 = df[df[\"type\"] == \"TV Show\"].copy()\n",
    "\n",
    "# Contar valores por cantidad de temporadas\n",
    "vc1 = d1['season_count'].value_counts().reset_index()\n",
    "vc1.columns = ['season_count', \"count\"]  \n",
    "vc1 = vc1.dropna()  \n",
    "vc1['season_count'] = vc1['season_count'].astype(int)  \n",
    "vc1 = vc1.sort_values('season_count')  \n",
    "\n",
    "# Crear el gráfico\n",
    "trace1 = go.Bar(x=vc1['season_count'], y=vc1[\"count\"], name=\"TV Shows\", marker=dict(color=\"#a678de\"))\n",
    "data = [trace1]\n",
    "layout = go.Layout(title=\"Number of Seasons in TV Shows\", \n",
    "                   xaxis=dict(title=\"Seasons\"), \n",
    "                   yaxis=dict(title=\"Count\"), \n",
    "                   legend=dict(x=0.1, y=1.1, orientation=\"h\"))\n",
    "\n",
    "fig = go.Figure(data, layout=layout)\n",
    "\n",
    "# Mostrar el gráfico\n",
    "fig.show()\n"
   ]
  },
  {
   "cell_type": "markdown",
   "id": "bbcfc765",
   "metadata": {
    "papermill": {
     "duration": 0.027815,
     "end_time": "2021-10-02T08:28:43.941562",
     "exception": false,
     "start_time": "2021-10-02T08:28:43.913747",
     "status": "completed"
    },
    "tags": []
   },
   "source": [
    "## 7. The ratings of the content ? "
   ]
  },
  {
   "cell_type": "code",
   "execution_count": null,
   "id": "7d3808b9",
   "metadata": {
    "_kg_hide-input": true,
    "execution": {
     "iopub.execute_input": "2021-10-02T08:28:44.009318Z",
     "iopub.status.busy": "2021-10-02T08:28:44.008643Z",
     "iopub.status.idle": "2021-10-02T08:28:44.026147Z",
     "shell.execute_reply": "2021-10-02T08:28:44.027058Z",
     "shell.execute_reply.started": "2021-10-02T08:26:12.782222Z"
    },
    "papermill": {
     "duration": 0.057113,
     "end_time": "2021-10-02T08:28:44.027295",
     "exception": false,
     "start_time": "2021-10-02T08:28:43.970182",
     "status": "completed"
    },
    "tags": []
   },
   "outputs": [
    {
     "data": {
      "application/vnd.plotly.v1+json": {
       "config": {
        "plotlyServerURL": "https://plot.ly"
       },
       "data": [
        {
         "marker": {
          "color": "#a678de"
         },
         "name": "TV Shows",
         "type": "bar",
         "x": [
          "PG",
          "TV-14",
          "TV-G",
          "TV-PG",
          "TV-Y",
          "TV-Y7",
          "TV-Y7-FV"
         ],
         "y": {
          "bdata": "ASpVeC9fBg==",
          "dtype": "i1"
         }
        },
        {
         "marker": {
          "color": "#6ad49b"
         },
         "name": "Movies",
         "type": "bar",
         "x": [
          "G",
          "PG",
          "PG-13",
          "TV-14",
          "TV-G",
          "TV-PG",
          "TV-Y",
          "TV-Y7",
          "TV-Y7-FV"
         ],
         "y": {
          "bdata": "/QDrAEIAJQDpALUAAwAkAAcA",
          "dtype": "i2"
         }
        }
       ],
       "layout": {
        "legend": {
         "orientation": "h",
         "x": 0.1,
         "y": 1.1
        },
        "template": {
         "data": {
          "bar": [
           {
            "error_x": {
             "color": "#2a3f5f"
            },
            "error_y": {
             "color": "#2a3f5f"
            },
            "marker": {
             "line": {
              "color": "#E5ECF6",
              "width": 0.5
             },
             "pattern": {
              "fillmode": "overlay",
              "size": 10,
              "solidity": 0.2
             }
            },
            "type": "bar"
           }
          ],
          "barpolar": [
           {
            "marker": {
             "line": {
              "color": "#E5ECF6",
              "width": 0.5
             },
             "pattern": {
              "fillmode": "overlay",
              "size": 10,
              "solidity": 0.2
             }
            },
            "type": "barpolar"
           }
          ],
          "carpet": [
           {
            "aaxis": {
             "endlinecolor": "#2a3f5f",
             "gridcolor": "white",
             "linecolor": "white",
             "minorgridcolor": "white",
             "startlinecolor": "#2a3f5f"
            },
            "baxis": {
             "endlinecolor": "#2a3f5f",
             "gridcolor": "white",
             "linecolor": "white",
             "minorgridcolor": "white",
             "startlinecolor": "#2a3f5f"
            },
            "type": "carpet"
           }
          ],
          "choropleth": [
           {
            "colorbar": {
             "outlinewidth": 0,
             "ticks": ""
            },
            "type": "choropleth"
           }
          ],
          "contour": [
           {
            "colorbar": {
             "outlinewidth": 0,
             "ticks": ""
            },
            "colorscale": [
             [
              0,
              "#0d0887"
             ],
             [
              0.1111111111111111,
              "#46039f"
             ],
             [
              0.2222222222222222,
              "#7201a8"
             ],
             [
              0.3333333333333333,
              "#9c179e"
             ],
             [
              0.4444444444444444,
              "#bd3786"
             ],
             [
              0.5555555555555556,
              "#d8576b"
             ],
             [
              0.6666666666666666,
              "#ed7953"
             ],
             [
              0.7777777777777778,
              "#fb9f3a"
             ],
             [
              0.8888888888888888,
              "#fdca26"
             ],
             [
              1,
              "#f0f921"
             ]
            ],
            "type": "contour"
           }
          ],
          "contourcarpet": [
           {
            "colorbar": {
             "outlinewidth": 0,
             "ticks": ""
            },
            "type": "contourcarpet"
           }
          ],
          "heatmap": [
           {
            "colorbar": {
             "outlinewidth": 0,
             "ticks": ""
            },
            "colorscale": [
             [
              0,
              "#0d0887"
             ],
             [
              0.1111111111111111,
              "#46039f"
             ],
             [
              0.2222222222222222,
              "#7201a8"
             ],
             [
              0.3333333333333333,
              "#9c179e"
             ],
             [
              0.4444444444444444,
              "#bd3786"
             ],
             [
              0.5555555555555556,
              "#d8576b"
             ],
             [
              0.6666666666666666,
              "#ed7953"
             ],
             [
              0.7777777777777778,
              "#fb9f3a"
             ],
             [
              0.8888888888888888,
              "#fdca26"
             ],
             [
              1,
              "#f0f921"
             ]
            ],
            "type": "heatmap"
           }
          ],
          "histogram": [
           {
            "marker": {
             "pattern": {
              "fillmode": "overlay",
              "size": 10,
              "solidity": 0.2
             }
            },
            "type": "histogram"
           }
          ],
          "histogram2d": [
           {
            "colorbar": {
             "outlinewidth": 0,
             "ticks": ""
            },
            "colorscale": [
             [
              0,
              "#0d0887"
             ],
             [
              0.1111111111111111,
              "#46039f"
             ],
             [
              0.2222222222222222,
              "#7201a8"
             ],
             [
              0.3333333333333333,
              "#9c179e"
             ],
             [
              0.4444444444444444,
              "#bd3786"
             ],
             [
              0.5555555555555556,
              "#d8576b"
             ],
             [
              0.6666666666666666,
              "#ed7953"
             ],
             [
              0.7777777777777778,
              "#fb9f3a"
             ],
             [
              0.8888888888888888,
              "#fdca26"
             ],
             [
              1,
              "#f0f921"
             ]
            ],
            "type": "histogram2d"
           }
          ],
          "histogram2dcontour": [
           {
            "colorbar": {
             "outlinewidth": 0,
             "ticks": ""
            },
            "colorscale": [
             [
              0,
              "#0d0887"
             ],
             [
              0.1111111111111111,
              "#46039f"
             ],
             [
              0.2222222222222222,
              "#7201a8"
             ],
             [
              0.3333333333333333,
              "#9c179e"
             ],
             [
              0.4444444444444444,
              "#bd3786"
             ],
             [
              0.5555555555555556,
              "#d8576b"
             ],
             [
              0.6666666666666666,
              "#ed7953"
             ],
             [
              0.7777777777777778,
              "#fb9f3a"
             ],
             [
              0.8888888888888888,
              "#fdca26"
             ],
             [
              1,
              "#f0f921"
             ]
            ],
            "type": "histogram2dcontour"
           }
          ],
          "mesh3d": [
           {
            "colorbar": {
             "outlinewidth": 0,
             "ticks": ""
            },
            "type": "mesh3d"
           }
          ],
          "parcoords": [
           {
            "line": {
             "colorbar": {
              "outlinewidth": 0,
              "ticks": ""
             }
            },
            "type": "parcoords"
           }
          ],
          "pie": [
           {
            "automargin": true,
            "type": "pie"
           }
          ],
          "scatter": [
           {
            "fillpattern": {
             "fillmode": "overlay",
             "size": 10,
             "solidity": 0.2
            },
            "type": "scatter"
           }
          ],
          "scatter3d": [
           {
            "line": {
             "colorbar": {
              "outlinewidth": 0,
              "ticks": ""
             }
            },
            "marker": {
             "colorbar": {
              "outlinewidth": 0,
              "ticks": ""
             }
            },
            "type": "scatter3d"
           }
          ],
          "scattercarpet": [
           {
            "marker": {
             "colorbar": {
              "outlinewidth": 0,
              "ticks": ""
             }
            },
            "type": "scattercarpet"
           }
          ],
          "scattergeo": [
           {
            "marker": {
             "colorbar": {
              "outlinewidth": 0,
              "ticks": ""
             }
            },
            "type": "scattergeo"
           }
          ],
          "scattergl": [
           {
            "marker": {
             "colorbar": {
              "outlinewidth": 0,
              "ticks": ""
             }
            },
            "type": "scattergl"
           }
          ],
          "scattermap": [
           {
            "marker": {
             "colorbar": {
              "outlinewidth": 0,
              "ticks": ""
             }
            },
            "type": "scattermap"
           }
          ],
          "scattermapbox": [
           {
            "marker": {
             "colorbar": {
              "outlinewidth": 0,
              "ticks": ""
             }
            },
            "type": "scattermapbox"
           }
          ],
          "scatterpolar": [
           {
            "marker": {
             "colorbar": {
              "outlinewidth": 0,
              "ticks": ""
             }
            },
            "type": "scatterpolar"
           }
          ],
          "scatterpolargl": [
           {
            "marker": {
             "colorbar": {
              "outlinewidth": 0,
              "ticks": ""
             }
            },
            "type": "scatterpolargl"
           }
          ],
          "scatterternary": [
           {
            "marker": {
             "colorbar": {
              "outlinewidth": 0,
              "ticks": ""
             }
            },
            "type": "scatterternary"
           }
          ],
          "surface": [
           {
            "colorbar": {
             "outlinewidth": 0,
             "ticks": ""
            },
            "colorscale": [
             [
              0,
              "#0d0887"
             ],
             [
              0.1111111111111111,
              "#46039f"
             ],
             [
              0.2222222222222222,
              "#7201a8"
             ],
             [
              0.3333333333333333,
              "#9c179e"
             ],
             [
              0.4444444444444444,
              "#bd3786"
             ],
             [
              0.5555555555555556,
              "#d8576b"
             ],
             [
              0.6666666666666666,
              "#ed7953"
             ],
             [
              0.7777777777777778,
              "#fb9f3a"
             ],
             [
              0.8888888888888888,
              "#fdca26"
             ],
             [
              1,
              "#f0f921"
             ]
            ],
            "type": "surface"
           }
          ],
          "table": [
           {
            "cells": {
             "fill": {
              "color": "#EBF0F8"
             },
             "line": {
              "color": "white"
             }
            },
            "header": {
             "fill": {
              "color": "#C8D4E3"
             },
             "line": {
              "color": "white"
             }
            },
            "type": "table"
           }
          ]
         },
         "layout": {
          "annotationdefaults": {
           "arrowcolor": "#2a3f5f",
           "arrowhead": 0,
           "arrowwidth": 1
          },
          "autotypenumbers": "strict",
          "coloraxis": {
           "colorbar": {
            "outlinewidth": 0,
            "ticks": ""
           }
          },
          "colorscale": {
           "diverging": [
            [
             0,
             "#8e0152"
            ],
            [
             0.1,
             "#c51b7d"
            ],
            [
             0.2,
             "#de77ae"
            ],
            [
             0.3,
             "#f1b6da"
            ],
            [
             0.4,
             "#fde0ef"
            ],
            [
             0.5,
             "#f7f7f7"
            ],
            [
             0.6,
             "#e6f5d0"
            ],
            [
             0.7,
             "#b8e186"
            ],
            [
             0.8,
             "#7fbc41"
            ],
            [
             0.9,
             "#4d9221"
            ],
            [
             1,
             "#276419"
            ]
           ],
           "sequential": [
            [
             0,
             "#0d0887"
            ],
            [
             0.1111111111111111,
             "#46039f"
            ],
            [
             0.2222222222222222,
             "#7201a8"
            ],
            [
             0.3333333333333333,
             "#9c179e"
            ],
            [
             0.4444444444444444,
             "#bd3786"
            ],
            [
             0.5555555555555556,
             "#d8576b"
            ],
            [
             0.6666666666666666,
             "#ed7953"
            ],
            [
             0.7777777777777778,
             "#fb9f3a"
            ],
            [
             0.8888888888888888,
             "#fdca26"
            ],
            [
             1,
             "#f0f921"
            ]
           ],
           "sequentialminus": [
            [
             0,
             "#0d0887"
            ],
            [
             0.1111111111111111,
             "#46039f"
            ],
            [
             0.2222222222222222,
             "#7201a8"
            ],
            [
             0.3333333333333333,
             "#9c179e"
            ],
            [
             0.4444444444444444,
             "#bd3786"
            ],
            [
             0.5555555555555556,
             "#d8576b"
            ],
            [
             0.6666666666666666,
             "#ed7953"
            ],
            [
             0.7777777777777778,
             "#fb9f3a"
            ],
            [
             0.8888888888888888,
             "#fdca26"
            ],
            [
             1,
             "#f0f921"
            ]
           ]
          },
          "colorway": [
           "#636efa",
           "#EF553B",
           "#00cc96",
           "#ab63fa",
           "#FFA15A",
           "#19d3f3",
           "#FF6692",
           "#B6E880",
           "#FF97FF",
           "#FECB52"
          ],
          "font": {
           "color": "#2a3f5f"
          },
          "geo": {
           "bgcolor": "white",
           "lakecolor": "white",
           "landcolor": "#E5ECF6",
           "showlakes": true,
           "showland": true,
           "subunitcolor": "white"
          },
          "hoverlabel": {
           "align": "left"
          },
          "hovermode": "closest",
          "mapbox": {
           "style": "light"
          },
          "paper_bgcolor": "white",
          "plot_bgcolor": "#E5ECF6",
          "polar": {
           "angularaxis": {
            "gridcolor": "white",
            "linecolor": "white",
            "ticks": ""
           },
           "bgcolor": "#E5ECF6",
           "radialaxis": {
            "gridcolor": "white",
            "linecolor": "white",
            "ticks": ""
           }
          },
          "scene": {
           "xaxis": {
            "backgroundcolor": "#E5ECF6",
            "gridcolor": "white",
            "gridwidth": 2,
            "linecolor": "white",
            "showbackground": true,
            "ticks": "",
            "zerolinecolor": "white"
           },
           "yaxis": {
            "backgroundcolor": "#E5ECF6",
            "gridcolor": "white",
            "gridwidth": 2,
            "linecolor": "white",
            "showbackground": true,
            "ticks": "",
            "zerolinecolor": "white"
           },
           "zaxis": {
            "backgroundcolor": "#E5ECF6",
            "gridcolor": "white",
            "gridwidth": 2,
            "linecolor": "white",
            "showbackground": true,
            "ticks": "",
            "zerolinecolor": "white"
           }
          },
          "shapedefaults": {
           "line": {
            "color": "#2a3f5f"
           }
          },
          "ternary": {
           "aaxis": {
            "gridcolor": "white",
            "linecolor": "white",
            "ticks": ""
           },
           "baxis": {
            "gridcolor": "white",
            "linecolor": "white",
            "ticks": ""
           },
           "bgcolor": "#E5ECF6",
           "caxis": {
            "gridcolor": "white",
            "linecolor": "white",
            "ticks": ""
           }
          },
          "title": {
           "x": 0.05
          },
          "xaxis": {
           "automargin": true,
           "gridcolor": "white",
           "linecolor": "white",
           "ticks": "",
           "title": {
            "standoff": 15
           },
           "zerolinecolor": "white",
           "zerolinewidth": 2
          },
          "yaxis": {
           "automargin": true,
           "gridcolor": "white",
           "linecolor": "white",
           "ticks": "",
           "title": {
            "standoff": 15
           },
           "zerolinecolor": "white",
           "zerolinewidth": 2
          }
         }
        },
        "title": {
         "text": "Distribución del Rating en TV Shows y Movies"
        },
        "xaxis": {
         "title": {
          "text": "Rating"
         }
        },
        "yaxis": {
         "title": {
          "text": "Count"
         }
        }
       }
      },
      "text/html": [
       "<div>            <script src=\"https://cdnjs.cloudflare.com/ajax/libs/mathjax/2.7.5/MathJax.js?config=TeX-AMS-MML_SVG\"></script><script type=\"text/javascript\">if (window.MathJax && window.MathJax.Hub && window.MathJax.Hub.Config) {window.MathJax.Hub.Config({SVG: {font: \"STIX-Web\"}});}</script>                <script type=\"text/javascript\">window.PlotlyConfig = {MathJaxConfig: 'local'};</script>\n",
       "        <script charset=\"utf-8\" src=\"https://cdn.plot.ly/plotly-3.0.0.min.js\"></script>                <div id=\"43f46037-9764-466c-a7dd-d22d4be7c986\" class=\"plotly-graph-div\" style=\"height:525px; width:100%;\"></div>            <script type=\"text/javascript\">                window.PLOTLYENV=window.PLOTLYENV || {};                                if (document.getElementById(\"43f46037-9764-466c-a7dd-d22d4be7c986\")) {                    Plotly.newPlot(                        \"43f46037-9764-466c-a7dd-d22d4be7c986\",                        [{\"marker\":{\"color\":\"#a678de\"},\"name\":\"TV Shows\",\"x\":[\"PG\",\"TV-14\",\"TV-G\",\"TV-PG\",\"TV-Y\",\"TV-Y7\",\"TV-Y7-FV\"],\"y\":{\"dtype\":\"i1\",\"bdata\":\"ASpVeC9fBg==\"},\"type\":\"bar\"},{\"marker\":{\"color\":\"#6ad49b\"},\"name\":\"Movies\",\"x\":[\"G\",\"PG\",\"PG-13\",\"TV-14\",\"TV-G\",\"TV-PG\",\"TV-Y\",\"TV-Y7\",\"TV-Y7-FV\"],\"y\":{\"dtype\":\"i2\",\"bdata\":\"\\u002fQDrAEIAJQDpALUAAwAkAAcA\"},\"type\":\"bar\"}],                        {\"legend\":{\"orientation\":\"h\",\"x\":0.1,\"y\":1.1},\"title\":{\"text\":\"Distribuci\\u00f3n del Rating en TV Shows y Movies\"},\"xaxis\":{\"title\":{\"text\":\"Rating\"}},\"yaxis\":{\"title\":{\"text\":\"Count\"}},\"template\":{\"data\":{\"histogram2dcontour\":[{\"type\":\"histogram2dcontour\",\"colorbar\":{\"outlinewidth\":0,\"ticks\":\"\"},\"colorscale\":[[0.0,\"#0d0887\"],[0.1111111111111111,\"#46039f\"],[0.2222222222222222,\"#7201a8\"],[0.3333333333333333,\"#9c179e\"],[0.4444444444444444,\"#bd3786\"],[0.5555555555555556,\"#d8576b\"],[0.6666666666666666,\"#ed7953\"],[0.7777777777777778,\"#fb9f3a\"],[0.8888888888888888,\"#fdca26\"],[1.0,\"#f0f921\"]]}],\"choropleth\":[{\"type\":\"choropleth\",\"colorbar\":{\"outlinewidth\":0,\"ticks\":\"\"}}],\"histogram2d\":[{\"type\":\"histogram2d\",\"colorbar\":{\"outlinewidth\":0,\"ticks\":\"\"},\"colorscale\":[[0.0,\"#0d0887\"],[0.1111111111111111,\"#46039f\"],[0.2222222222222222,\"#7201a8\"],[0.3333333333333333,\"#9c179e\"],[0.4444444444444444,\"#bd3786\"],[0.5555555555555556,\"#d8576b\"],[0.6666666666666666,\"#ed7953\"],[0.7777777777777778,\"#fb9f3a\"],[0.8888888888888888,\"#fdca26\"],[1.0,\"#f0f921\"]]}],\"heatmap\":[{\"type\":\"heatmap\",\"colorbar\":{\"outlinewidth\":0,\"ticks\":\"\"},\"colorscale\":[[0.0,\"#0d0887\"],[0.1111111111111111,\"#46039f\"],[0.2222222222222222,\"#7201a8\"],[0.3333333333333333,\"#9c179e\"],[0.4444444444444444,\"#bd3786\"],[0.5555555555555556,\"#d8576b\"],[0.6666666666666666,\"#ed7953\"],[0.7777777777777778,\"#fb9f3a\"],[0.8888888888888888,\"#fdca26\"],[1.0,\"#f0f921\"]]}],\"contourcarpet\":[{\"type\":\"contourcarpet\",\"colorbar\":{\"outlinewidth\":0,\"ticks\":\"\"}}],\"contour\":[{\"type\":\"contour\",\"colorbar\":{\"outlinewidth\":0,\"ticks\":\"\"},\"colorscale\":[[0.0,\"#0d0887\"],[0.1111111111111111,\"#46039f\"],[0.2222222222222222,\"#7201a8\"],[0.3333333333333333,\"#9c179e\"],[0.4444444444444444,\"#bd3786\"],[0.5555555555555556,\"#d8576b\"],[0.6666666666666666,\"#ed7953\"],[0.7777777777777778,\"#fb9f3a\"],[0.8888888888888888,\"#fdca26\"],[1.0,\"#f0f921\"]]}],\"surface\":[{\"type\":\"surface\",\"colorbar\":{\"outlinewidth\":0,\"ticks\":\"\"},\"colorscale\":[[0.0,\"#0d0887\"],[0.1111111111111111,\"#46039f\"],[0.2222222222222222,\"#7201a8\"],[0.3333333333333333,\"#9c179e\"],[0.4444444444444444,\"#bd3786\"],[0.5555555555555556,\"#d8576b\"],[0.6666666666666666,\"#ed7953\"],[0.7777777777777778,\"#fb9f3a\"],[0.8888888888888888,\"#fdca26\"],[1.0,\"#f0f921\"]]}],\"mesh3d\":[{\"type\":\"mesh3d\",\"colorbar\":{\"outlinewidth\":0,\"ticks\":\"\"}}],\"scatter\":[{\"fillpattern\":{\"fillmode\":\"overlay\",\"size\":10,\"solidity\":0.2},\"type\":\"scatter\"}],\"parcoords\":[{\"type\":\"parcoords\",\"line\":{\"colorbar\":{\"outlinewidth\":0,\"ticks\":\"\"}}}],\"scatterpolargl\":[{\"type\":\"scatterpolargl\",\"marker\":{\"colorbar\":{\"outlinewidth\":0,\"ticks\":\"\"}}}],\"bar\":[{\"error_x\":{\"color\":\"#2a3f5f\"},\"error_y\":{\"color\":\"#2a3f5f\"},\"marker\":{\"line\":{\"color\":\"#E5ECF6\",\"width\":0.5},\"pattern\":{\"fillmode\":\"overlay\",\"size\":10,\"solidity\":0.2}},\"type\":\"bar\"}],\"scattergeo\":[{\"type\":\"scattergeo\",\"marker\":{\"colorbar\":{\"outlinewidth\":0,\"ticks\":\"\"}}}],\"scatterpolar\":[{\"type\":\"scatterpolar\",\"marker\":{\"colorbar\":{\"outlinewidth\":0,\"ticks\":\"\"}}}],\"histogram\":[{\"marker\":{\"pattern\":{\"fillmode\":\"overlay\",\"size\":10,\"solidity\":0.2}},\"type\":\"histogram\"}],\"scattergl\":[{\"type\":\"scattergl\",\"marker\":{\"colorbar\":{\"outlinewidth\":0,\"ticks\":\"\"}}}],\"scatter3d\":[{\"type\":\"scatter3d\",\"line\":{\"colorbar\":{\"outlinewidth\":0,\"ticks\":\"\"}},\"marker\":{\"colorbar\":{\"outlinewidth\":0,\"ticks\":\"\"}}}],\"scattermap\":[{\"type\":\"scattermap\",\"marker\":{\"colorbar\":{\"outlinewidth\":0,\"ticks\":\"\"}}}],\"scattermapbox\":[{\"type\":\"scattermapbox\",\"marker\":{\"colorbar\":{\"outlinewidth\":0,\"ticks\":\"\"}}}],\"scatterternary\":[{\"type\":\"scatterternary\",\"marker\":{\"colorbar\":{\"outlinewidth\":0,\"ticks\":\"\"}}}],\"scattercarpet\":[{\"type\":\"scattercarpet\",\"marker\":{\"colorbar\":{\"outlinewidth\":0,\"ticks\":\"\"}}}],\"carpet\":[{\"aaxis\":{\"endlinecolor\":\"#2a3f5f\",\"gridcolor\":\"white\",\"linecolor\":\"white\",\"minorgridcolor\":\"white\",\"startlinecolor\":\"#2a3f5f\"},\"baxis\":{\"endlinecolor\":\"#2a3f5f\",\"gridcolor\":\"white\",\"linecolor\":\"white\",\"minorgridcolor\":\"white\",\"startlinecolor\":\"#2a3f5f\"},\"type\":\"carpet\"}],\"table\":[{\"cells\":{\"fill\":{\"color\":\"#EBF0F8\"},\"line\":{\"color\":\"white\"}},\"header\":{\"fill\":{\"color\":\"#C8D4E3\"},\"line\":{\"color\":\"white\"}},\"type\":\"table\"}],\"barpolar\":[{\"marker\":{\"line\":{\"color\":\"#E5ECF6\",\"width\":0.5},\"pattern\":{\"fillmode\":\"overlay\",\"size\":10,\"solidity\":0.2}},\"type\":\"barpolar\"}],\"pie\":[{\"automargin\":true,\"type\":\"pie\"}]},\"layout\":{\"autotypenumbers\":\"strict\",\"colorway\":[\"#636efa\",\"#EF553B\",\"#00cc96\",\"#ab63fa\",\"#FFA15A\",\"#19d3f3\",\"#FF6692\",\"#B6E880\",\"#FF97FF\",\"#FECB52\"],\"font\":{\"color\":\"#2a3f5f\"},\"hovermode\":\"closest\",\"hoverlabel\":{\"align\":\"left\"},\"paper_bgcolor\":\"white\",\"plot_bgcolor\":\"#E5ECF6\",\"polar\":{\"bgcolor\":\"#E5ECF6\",\"angularaxis\":{\"gridcolor\":\"white\",\"linecolor\":\"white\",\"ticks\":\"\"},\"radialaxis\":{\"gridcolor\":\"white\",\"linecolor\":\"white\",\"ticks\":\"\"}},\"ternary\":{\"bgcolor\":\"#E5ECF6\",\"aaxis\":{\"gridcolor\":\"white\",\"linecolor\":\"white\",\"ticks\":\"\"},\"baxis\":{\"gridcolor\":\"white\",\"linecolor\":\"white\",\"ticks\":\"\"},\"caxis\":{\"gridcolor\":\"white\",\"linecolor\":\"white\",\"ticks\":\"\"}},\"coloraxis\":{\"colorbar\":{\"outlinewidth\":0,\"ticks\":\"\"}},\"colorscale\":{\"sequential\":[[0.0,\"#0d0887\"],[0.1111111111111111,\"#46039f\"],[0.2222222222222222,\"#7201a8\"],[0.3333333333333333,\"#9c179e\"],[0.4444444444444444,\"#bd3786\"],[0.5555555555555556,\"#d8576b\"],[0.6666666666666666,\"#ed7953\"],[0.7777777777777778,\"#fb9f3a\"],[0.8888888888888888,\"#fdca26\"],[1.0,\"#f0f921\"]],\"sequentialminus\":[[0.0,\"#0d0887\"],[0.1111111111111111,\"#46039f\"],[0.2222222222222222,\"#7201a8\"],[0.3333333333333333,\"#9c179e\"],[0.4444444444444444,\"#bd3786\"],[0.5555555555555556,\"#d8576b\"],[0.6666666666666666,\"#ed7953\"],[0.7777777777777778,\"#fb9f3a\"],[0.8888888888888888,\"#fdca26\"],[1.0,\"#f0f921\"]],\"diverging\":[[0,\"#8e0152\"],[0.1,\"#c51b7d\"],[0.2,\"#de77ae\"],[0.3,\"#f1b6da\"],[0.4,\"#fde0ef\"],[0.5,\"#f7f7f7\"],[0.6,\"#e6f5d0\"],[0.7,\"#b8e186\"],[0.8,\"#7fbc41\"],[0.9,\"#4d9221\"],[1,\"#276419\"]]},\"xaxis\":{\"gridcolor\":\"white\",\"linecolor\":\"white\",\"ticks\":\"\",\"title\":{\"standoff\":15},\"zerolinecolor\":\"white\",\"automargin\":true,\"zerolinewidth\":2},\"yaxis\":{\"gridcolor\":\"white\",\"linecolor\":\"white\",\"ticks\":\"\",\"title\":{\"standoff\":15},\"zerolinecolor\":\"white\",\"automargin\":true,\"zerolinewidth\":2},\"scene\":{\"xaxis\":{\"backgroundcolor\":\"#E5ECF6\",\"gridcolor\":\"white\",\"linecolor\":\"white\",\"showbackground\":true,\"ticks\":\"\",\"zerolinecolor\":\"white\",\"gridwidth\":2},\"yaxis\":{\"backgroundcolor\":\"#E5ECF6\",\"gridcolor\":\"white\",\"linecolor\":\"white\",\"showbackground\":true,\"ticks\":\"\",\"zerolinecolor\":\"white\",\"gridwidth\":2},\"zaxis\":{\"backgroundcolor\":\"#E5ECF6\",\"gridcolor\":\"white\",\"linecolor\":\"white\",\"showbackground\":true,\"ticks\":\"\",\"zerolinecolor\":\"white\",\"gridwidth\":2}},\"shapedefaults\":{\"line\":{\"color\":\"#2a3f5f\"}},\"annotationdefaults\":{\"arrowcolor\":\"#2a3f5f\",\"arrowhead\":0,\"arrowwidth\":1},\"geo\":{\"bgcolor\":\"white\",\"landcolor\":\"#E5ECF6\",\"subunitcolor\":\"white\",\"showland\":true,\"showlakes\":true,\"lakecolor\":\"white\"},\"title\":{\"x\":0.05},\"mapbox\":{\"style\":\"light\"}}}},                        {\"responsive\": true}                    ).then(function(){\n",
       "                            \n",
       "var gd = document.getElementById('43f46037-9764-466c-a7dd-d22d4be7c986');\n",
       "var x = new MutationObserver(function (mutations, observer) {{\n",
       "        var display = window.getComputedStyle(gd).display;\n",
       "        if (!display || display === 'none') {{\n",
       "            console.log([gd, 'removed!']);\n",
       "            Plotly.purge(gd);\n",
       "            observer.disconnect();\n",
       "        }}\n",
       "}});\n",
       "\n",
       "// Listen for the removal of the full notebook cells\n",
       "var notebookContainer = gd.closest('#notebook-container');\n",
       "if (notebookContainer) {{\n",
       "    x.observe(notebookContainer, {childList: true});\n",
       "}}\n",
       "\n",
       "// Listen for the clearing of the current output cell\n",
       "var outputEl = gd.closest('.output');\n",
       "if (outputEl) {{\n",
       "    x.observe(outputEl, {childList: true});\n",
       "}}\n",
       "\n",
       "                        })                };            </script>        </div>"
      ]
     },
     "metadata": {},
     "output_type": "display_data"
    }
   ],
   "source": [
    "col = \"rating\"\n",
    "\n",
    "# Procesar datos para TV Shows\n",
    "vc1 = d1[col].value_counts().reset_index()\n",
    "vc1.columns = [col, \"count\"]  \n",
    "vc1['count'] = pd.to_numeric(vc1['count'], errors='coerce')  \n",
    "vc1 = vc1.dropna()  \n",
    "vc1['count'] = vc1['count'].astype(int)  \n",
    "vc1['percent'] = vc1['count'] / vc1['count'].sum() * 100  \n",
    "vc1 = vc1.sort_values(col)\n",
    "\n",
    "# Procesar datos para Movies\n",
    "vc2 = d2[col].value_counts().reset_index()\n",
    "vc2.columns = [col, \"count\"]  \n",
    "vc2['count'] = pd.to_numeric(vc2['count'], errors='coerce')  \n",
    "vc2 = vc2.dropna()  \n",
    "vc2['count'] = vc2['count'].astype(int)  \n",
    "vc2['percent'] = vc2['count'] / vc2['count'].sum() * 100  \n",
    "vc2 = vc2.sort_values(col)\n",
    "\n",
    "# Crear el gráfico\n",
    "trace1 = go.Bar(x=vc1[col], y=vc1[\"count\"], name=\"TV Shows\", marker=dict(color=\"#a678de\"))\n",
    "trace2 = go.Bar(x=vc2[col], y=vc2[\"count\"], name=\"Movies\", marker=dict(color=\"#6ad49b\"))\n",
    "data = [trace1, trace2]\n",
    "\n",
    "layout = go.Layout(\n",
    "    title=\"Distribución del Rating en TV Shows y Movies\",\n",
    "    xaxis=dict(title=\"Rating\"),\n",
    "    yaxis=dict(title=\"Count\"),\n",
    "    legend=dict(x=0.1, y=1.1, orientation=\"h\")\n",
    ")\n",
    "\n",
    "fig = go.Figure(data, layout=layout)\n",
    "\n",
    "# Mostrar el gráfico\n",
    "fig.show()\n"
   ]
  },
  {
   "cell_type": "markdown",
   "id": "c0153776",
   "metadata": {
    "papermill": {
     "duration": 0.029158,
     "end_time": "2021-10-02T08:28:44.086290",
     "exception": false,
     "start_time": "2021-10-02T08:28:44.057132",
     "status": "completed"
    },
    "tags": []
   },
   "source": [
    "## 8. What are the top Categories ?"
   ]
  },
  {
   "cell_type": "code",
   "execution_count": 22,
   "id": "456ca054",
   "metadata": {
    "_kg_hide-input": true,
    "execution": {
     "iopub.execute_input": "2021-10-02T08:28:44.147504Z",
     "iopub.status.busy": "2021-10-02T08:28:44.146877Z",
     "iopub.status.idle": "2021-10-02T08:28:44.162188Z",
     "shell.execute_reply": "2021-10-02T08:28:44.162790Z",
     "shell.execute_reply.started": "2021-10-02T08:26:17.751481Z"
    },
    "papermill": {
     "duration": 0.04748,
     "end_time": "2021-10-02T08:28:44.162963",
     "exception": false,
     "start_time": "2021-10-02T08:28:44.115483",
     "status": "completed"
    },
    "tags": []
   },
   "outputs": [
    {
     "data": {
      "application/vnd.plotly.v1+json": {
       "config": {
        "plotlyServerURL": "https://plot.ly"
       },
       "data": [
        {
         "marker": {
          "color": "#a678de"
         },
         "name": "TV Shows",
         "orientation": "h",
         "type": "bar",
         "x": [
          2,
          2,
          2,
          2,
          3,
          3,
          3,
          4,
          5,
          5,
          6,
          7,
          7,
          7,
          7,
          8,
          16,
          16,
          19,
          24,
          38,
          38,
          38,
          39,
          40,
          41,
          76,
          121,
          130,
          153,
          158,
          174,
          314,
          381,
          407,
          533
         ],
         "y": [
          "Disaster",
          "Medical",
          "Romantic Comedy",
          "Spy/Espionage",
          "Survival",
          "Movies",
          "Lifestyle",
          "Reality",
          "Western",
          "Thriller",
          "Dance",
          "Anthology",
          "Parody",
          "Variety",
          "Concert Film",
          "Mystery",
          "Crime",
          "Superhero",
          "Romance",
          "Buddy",
          "Historical",
          "Sports",
          "Music",
          "Kids",
          "Musical",
          "Biographical",
          "Science Fiction",
          "Drama",
          "Animals & Nature",
          "Coming of Age",
          "Fantasy",
          "Documentary",
          "Action-Adventure",
          "Animation",
          "Comedy",
          "Family"
         ]
        }
       ],
       "layout": {
        "legend": {
         "orientation": "h",
         "x": 0.1,
         "y": 1.1
        },
        "template": {
         "data": {
          "bar": [
           {
            "error_x": {
             "color": "#2a3f5f"
            },
            "error_y": {
             "color": "#2a3f5f"
            },
            "marker": {
             "line": {
              "color": "#E5ECF6",
              "width": 0.5
             },
             "pattern": {
              "fillmode": "overlay",
              "size": 10,
              "solidity": 0.2
             }
            },
            "type": "bar"
           }
          ],
          "barpolar": [
           {
            "marker": {
             "line": {
              "color": "#E5ECF6",
              "width": 0.5
             },
             "pattern": {
              "fillmode": "overlay",
              "size": 10,
              "solidity": 0.2
             }
            },
            "type": "barpolar"
           }
          ],
          "carpet": [
           {
            "aaxis": {
             "endlinecolor": "#2a3f5f",
             "gridcolor": "white",
             "linecolor": "white",
             "minorgridcolor": "white",
             "startlinecolor": "#2a3f5f"
            },
            "baxis": {
             "endlinecolor": "#2a3f5f",
             "gridcolor": "white",
             "linecolor": "white",
             "minorgridcolor": "white",
             "startlinecolor": "#2a3f5f"
            },
            "type": "carpet"
           }
          ],
          "choropleth": [
           {
            "colorbar": {
             "outlinewidth": 0,
             "ticks": ""
            },
            "type": "choropleth"
           }
          ],
          "contour": [
           {
            "colorbar": {
             "outlinewidth": 0,
             "ticks": ""
            },
            "colorscale": [
             [
              0,
              "#0d0887"
             ],
             [
              0.1111111111111111,
              "#46039f"
             ],
             [
              0.2222222222222222,
              "#7201a8"
             ],
             [
              0.3333333333333333,
              "#9c179e"
             ],
             [
              0.4444444444444444,
              "#bd3786"
             ],
             [
              0.5555555555555556,
              "#d8576b"
             ],
             [
              0.6666666666666666,
              "#ed7953"
             ],
             [
              0.7777777777777778,
              "#fb9f3a"
             ],
             [
              0.8888888888888888,
              "#fdca26"
             ],
             [
              1,
              "#f0f921"
             ]
            ],
            "type": "contour"
           }
          ],
          "contourcarpet": [
           {
            "colorbar": {
             "outlinewidth": 0,
             "ticks": ""
            },
            "type": "contourcarpet"
           }
          ],
          "heatmap": [
           {
            "colorbar": {
             "outlinewidth": 0,
             "ticks": ""
            },
            "colorscale": [
             [
              0,
              "#0d0887"
             ],
             [
              0.1111111111111111,
              "#46039f"
             ],
             [
              0.2222222222222222,
              "#7201a8"
             ],
             [
              0.3333333333333333,
              "#9c179e"
             ],
             [
              0.4444444444444444,
              "#bd3786"
             ],
             [
              0.5555555555555556,
              "#d8576b"
             ],
             [
              0.6666666666666666,
              "#ed7953"
             ],
             [
              0.7777777777777778,
              "#fb9f3a"
             ],
             [
              0.8888888888888888,
              "#fdca26"
             ],
             [
              1,
              "#f0f921"
             ]
            ],
            "type": "heatmap"
           }
          ],
          "histogram": [
           {
            "marker": {
             "pattern": {
              "fillmode": "overlay",
              "size": 10,
              "solidity": 0.2
             }
            },
            "type": "histogram"
           }
          ],
          "histogram2d": [
           {
            "colorbar": {
             "outlinewidth": 0,
             "ticks": ""
            },
            "colorscale": [
             [
              0,
              "#0d0887"
             ],
             [
              0.1111111111111111,
              "#46039f"
             ],
             [
              0.2222222222222222,
              "#7201a8"
             ],
             [
              0.3333333333333333,
              "#9c179e"
             ],
             [
              0.4444444444444444,
              "#bd3786"
             ],
             [
              0.5555555555555556,
              "#d8576b"
             ],
             [
              0.6666666666666666,
              "#ed7953"
             ],
             [
              0.7777777777777778,
              "#fb9f3a"
             ],
             [
              0.8888888888888888,
              "#fdca26"
             ],
             [
              1,
              "#f0f921"
             ]
            ],
            "type": "histogram2d"
           }
          ],
          "histogram2dcontour": [
           {
            "colorbar": {
             "outlinewidth": 0,
             "ticks": ""
            },
            "colorscale": [
             [
              0,
              "#0d0887"
             ],
             [
              0.1111111111111111,
              "#46039f"
             ],
             [
              0.2222222222222222,
              "#7201a8"
             ],
             [
              0.3333333333333333,
              "#9c179e"
             ],
             [
              0.4444444444444444,
              "#bd3786"
             ],
             [
              0.5555555555555556,
              "#d8576b"
             ],
             [
              0.6666666666666666,
              "#ed7953"
             ],
             [
              0.7777777777777778,
              "#fb9f3a"
             ],
             [
              0.8888888888888888,
              "#fdca26"
             ],
             [
              1,
              "#f0f921"
             ]
            ],
            "type": "histogram2dcontour"
           }
          ],
          "mesh3d": [
           {
            "colorbar": {
             "outlinewidth": 0,
             "ticks": ""
            },
            "type": "mesh3d"
           }
          ],
          "parcoords": [
           {
            "line": {
             "colorbar": {
              "outlinewidth": 0,
              "ticks": ""
             }
            },
            "type": "parcoords"
           }
          ],
          "pie": [
           {
            "automargin": true,
            "type": "pie"
           }
          ],
          "scatter": [
           {
            "fillpattern": {
             "fillmode": "overlay",
             "size": 10,
             "solidity": 0.2
            },
            "type": "scatter"
           }
          ],
          "scatter3d": [
           {
            "line": {
             "colorbar": {
              "outlinewidth": 0,
              "ticks": ""
             }
            },
            "marker": {
             "colorbar": {
              "outlinewidth": 0,
              "ticks": ""
             }
            },
            "type": "scatter3d"
           }
          ],
          "scattercarpet": [
           {
            "marker": {
             "colorbar": {
              "outlinewidth": 0,
              "ticks": ""
             }
            },
            "type": "scattercarpet"
           }
          ],
          "scattergeo": [
           {
            "marker": {
             "colorbar": {
              "outlinewidth": 0,
              "ticks": ""
             }
            },
            "type": "scattergeo"
           }
          ],
          "scattergl": [
           {
            "marker": {
             "colorbar": {
              "outlinewidth": 0,
              "ticks": ""
             }
            },
            "type": "scattergl"
           }
          ],
          "scattermap": [
           {
            "marker": {
             "colorbar": {
              "outlinewidth": 0,
              "ticks": ""
             }
            },
            "type": "scattermap"
           }
          ],
          "scattermapbox": [
           {
            "marker": {
             "colorbar": {
              "outlinewidth": 0,
              "ticks": ""
             }
            },
            "type": "scattermapbox"
           }
          ],
          "scatterpolar": [
           {
            "marker": {
             "colorbar": {
              "outlinewidth": 0,
              "ticks": ""
             }
            },
            "type": "scatterpolar"
           }
          ],
          "scatterpolargl": [
           {
            "marker": {
             "colorbar": {
              "outlinewidth": 0,
              "ticks": ""
             }
            },
            "type": "scatterpolargl"
           }
          ],
          "scatterternary": [
           {
            "marker": {
             "colorbar": {
              "outlinewidth": 0,
              "ticks": ""
             }
            },
            "type": "scatterternary"
           }
          ],
          "surface": [
           {
            "colorbar": {
             "outlinewidth": 0,
             "ticks": ""
            },
            "colorscale": [
             [
              0,
              "#0d0887"
             ],
             [
              0.1111111111111111,
              "#46039f"
             ],
             [
              0.2222222222222222,
              "#7201a8"
             ],
             [
              0.3333333333333333,
              "#9c179e"
             ],
             [
              0.4444444444444444,
              "#bd3786"
             ],
             [
              0.5555555555555556,
              "#d8576b"
             ],
             [
              0.6666666666666666,
              "#ed7953"
             ],
             [
              0.7777777777777778,
              "#fb9f3a"
             ],
             [
              0.8888888888888888,
              "#fdca26"
             ],
             [
              1,
              "#f0f921"
             ]
            ],
            "type": "surface"
           }
          ],
          "table": [
           {
            "cells": {
             "fill": {
              "color": "#EBF0F8"
             },
             "line": {
              "color": "white"
             }
            },
            "header": {
             "fill": {
              "color": "#C8D4E3"
             },
             "line": {
              "color": "white"
             }
            },
            "type": "table"
           }
          ]
         },
         "layout": {
          "annotationdefaults": {
           "arrowcolor": "#2a3f5f",
           "arrowhead": 0,
           "arrowwidth": 1
          },
          "autotypenumbers": "strict",
          "coloraxis": {
           "colorbar": {
            "outlinewidth": 0,
            "ticks": ""
           }
          },
          "colorscale": {
           "diverging": [
            [
             0,
             "#8e0152"
            ],
            [
             0.1,
             "#c51b7d"
            ],
            [
             0.2,
             "#de77ae"
            ],
            [
             0.3,
             "#f1b6da"
            ],
            [
             0.4,
             "#fde0ef"
            ],
            [
             0.5,
             "#f7f7f7"
            ],
            [
             0.6,
             "#e6f5d0"
            ],
            [
             0.7,
             "#b8e186"
            ],
            [
             0.8,
             "#7fbc41"
            ],
            [
             0.9,
             "#4d9221"
            ],
            [
             1,
             "#276419"
            ]
           ],
           "sequential": [
            [
             0,
             "#0d0887"
            ],
            [
             0.1111111111111111,
             "#46039f"
            ],
            [
             0.2222222222222222,
             "#7201a8"
            ],
            [
             0.3333333333333333,
             "#9c179e"
            ],
            [
             0.4444444444444444,
             "#bd3786"
            ],
            [
             0.5555555555555556,
             "#d8576b"
            ],
            [
             0.6666666666666666,
             "#ed7953"
            ],
            [
             0.7777777777777778,
             "#fb9f3a"
            ],
            [
             0.8888888888888888,
             "#fdca26"
            ],
            [
             1,
             "#f0f921"
            ]
           ],
           "sequentialminus": [
            [
             0,
             "#0d0887"
            ],
            [
             0.1111111111111111,
             "#46039f"
            ],
            [
             0.2222222222222222,
             "#7201a8"
            ],
            [
             0.3333333333333333,
             "#9c179e"
            ],
            [
             0.4444444444444444,
             "#bd3786"
            ],
            [
             0.5555555555555556,
             "#d8576b"
            ],
            [
             0.6666666666666666,
             "#ed7953"
            ],
            [
             0.7777777777777778,
             "#fb9f3a"
            ],
            [
             0.8888888888888888,
             "#fdca26"
            ],
            [
             1,
             "#f0f921"
            ]
           ]
          },
          "colorway": [
           "#636efa",
           "#EF553B",
           "#00cc96",
           "#ab63fa",
           "#FFA15A",
           "#19d3f3",
           "#FF6692",
           "#B6E880",
           "#FF97FF",
           "#FECB52"
          ],
          "font": {
           "color": "#2a3f5f"
          },
          "geo": {
           "bgcolor": "white",
           "lakecolor": "white",
           "landcolor": "#E5ECF6",
           "showlakes": true,
           "showland": true,
           "subunitcolor": "white"
          },
          "hoverlabel": {
           "align": "left"
          },
          "hovermode": "closest",
          "mapbox": {
           "style": "light"
          },
          "paper_bgcolor": "white",
          "plot_bgcolor": "#E5ECF6",
          "polar": {
           "angularaxis": {
            "gridcolor": "white",
            "linecolor": "white",
            "ticks": ""
           },
           "bgcolor": "#E5ECF6",
           "radialaxis": {
            "gridcolor": "white",
            "linecolor": "white",
            "ticks": ""
           }
          },
          "scene": {
           "xaxis": {
            "backgroundcolor": "#E5ECF6",
            "gridcolor": "white",
            "gridwidth": 2,
            "linecolor": "white",
            "showbackground": true,
            "ticks": "",
            "zerolinecolor": "white"
           },
           "yaxis": {
            "backgroundcolor": "#E5ECF6",
            "gridcolor": "white",
            "gridwidth": 2,
            "linecolor": "white",
            "showbackground": true,
            "ticks": "",
            "zerolinecolor": "white"
           },
           "zaxis": {
            "backgroundcolor": "#E5ECF6",
            "gridcolor": "white",
            "gridwidth": 2,
            "linecolor": "white",
            "showbackground": true,
            "ticks": "",
            "zerolinecolor": "white"
           }
          },
          "shapedefaults": {
           "line": {
            "color": "#2a3f5f"
           }
          },
          "ternary": {
           "aaxis": {
            "gridcolor": "white",
            "linecolor": "white",
            "ticks": ""
           },
           "baxis": {
            "gridcolor": "white",
            "linecolor": "white",
            "ticks": ""
           },
           "bgcolor": "#E5ECF6",
           "caxis": {
            "gridcolor": "white",
            "linecolor": "white",
            "ticks": ""
           }
          },
          "title": {
           "x": 0.05
          },
          "xaxis": {
           "automargin": true,
           "gridcolor": "white",
           "linecolor": "white",
           "ticks": "",
           "title": {
            "standoff": 15
           },
           "zerolinecolor": "white",
           "zerolinewidth": 2
          },
          "yaxis": {
           "automargin": true,
           "gridcolor": "white",
           "linecolor": "white",
           "ticks": "",
           "title": {
            "standoff": 15
           },
           "zerolinecolor": "white",
           "zerolinewidth": 2
          }
         }
        },
        "title": {
         "text": "Content added over the years"
        }
       }
      },
      "text/html": [
       "<div>            <script src=\"https://cdnjs.cloudflare.com/ajax/libs/mathjax/2.7.5/MathJax.js?config=TeX-AMS-MML_SVG\"></script><script type=\"text/javascript\">if (window.MathJax && window.MathJax.Hub && window.MathJax.Hub.Config) {window.MathJax.Hub.Config({SVG: {font: \"STIX-Web\"}});}</script>                <script type=\"text/javascript\">window.PlotlyConfig = {MathJaxConfig: 'local'};</script>\n",
       "        <script charset=\"utf-8\" src=\"https://cdn.plot.ly/plotly-3.0.0.min.js\"></script>                <div id=\"6385c39e-cd5b-4751-b8fc-aa31354e148d\" class=\"plotly-graph-div\" style=\"height:525px; width:100%;\"></div>            <script type=\"text/javascript\">                window.PLOTLYENV=window.PLOTLYENV || {};                                if (document.getElementById(\"6385c39e-cd5b-4751-b8fc-aa31354e148d\")) {                    Plotly.newPlot(                        \"6385c39e-cd5b-4751-b8fc-aa31354e148d\",                        [{\"marker\":{\"color\":\"#a678de\"},\"name\":\"TV Shows\",\"orientation\":\"h\",\"x\":[2,2,2,2,3,3,3,4,5,5,6,7,7,7,7,8,16,16,19,24,38,38,38,39,40,41,76,121,130,153,158,174,314,381,407,533],\"y\":[\"Disaster\",\"Medical\",\"Romantic Comedy\",\"Spy\\u002fEspionage\",\"Survival\",\"Movies\",\"Lifestyle\",\"Reality\",\"Western\",\"Thriller\",\"Dance\",\"Anthology\",\"Parody\",\"Variety\",\"Concert Film\",\"Mystery\",\"Crime\",\"Superhero\",\"Romance\",\"Buddy\",\"Historical\",\"Sports\",\"Music\",\"Kids\",\"Musical\",\"Biographical\",\"Science Fiction\",\"Drama\",\"Animals & Nature\",\"Coming of Age\",\"Fantasy\",\"Documentary\",\"Action-Adventure\",\"Animation\",\"Comedy\",\"Family\"],\"type\":\"bar\"}],                        {\"legend\":{\"orientation\":\"h\",\"x\":0.1,\"y\":1.1},\"title\":{\"text\":\"Content added over the years\"},\"template\":{\"data\":{\"histogram2dcontour\":[{\"type\":\"histogram2dcontour\",\"colorbar\":{\"outlinewidth\":0,\"ticks\":\"\"},\"colorscale\":[[0.0,\"#0d0887\"],[0.1111111111111111,\"#46039f\"],[0.2222222222222222,\"#7201a8\"],[0.3333333333333333,\"#9c179e\"],[0.4444444444444444,\"#bd3786\"],[0.5555555555555556,\"#d8576b\"],[0.6666666666666666,\"#ed7953\"],[0.7777777777777778,\"#fb9f3a\"],[0.8888888888888888,\"#fdca26\"],[1.0,\"#f0f921\"]]}],\"choropleth\":[{\"type\":\"choropleth\",\"colorbar\":{\"outlinewidth\":0,\"ticks\":\"\"}}],\"histogram2d\":[{\"type\":\"histogram2d\",\"colorbar\":{\"outlinewidth\":0,\"ticks\":\"\"},\"colorscale\":[[0.0,\"#0d0887\"],[0.1111111111111111,\"#46039f\"],[0.2222222222222222,\"#7201a8\"],[0.3333333333333333,\"#9c179e\"],[0.4444444444444444,\"#bd3786\"],[0.5555555555555556,\"#d8576b\"],[0.6666666666666666,\"#ed7953\"],[0.7777777777777778,\"#fb9f3a\"],[0.8888888888888888,\"#fdca26\"],[1.0,\"#f0f921\"]]}],\"heatmap\":[{\"type\":\"heatmap\",\"colorbar\":{\"outlinewidth\":0,\"ticks\":\"\"},\"colorscale\":[[0.0,\"#0d0887\"],[0.1111111111111111,\"#46039f\"],[0.2222222222222222,\"#7201a8\"],[0.3333333333333333,\"#9c179e\"],[0.4444444444444444,\"#bd3786\"],[0.5555555555555556,\"#d8576b\"],[0.6666666666666666,\"#ed7953\"],[0.7777777777777778,\"#fb9f3a\"],[0.8888888888888888,\"#fdca26\"],[1.0,\"#f0f921\"]]}],\"contourcarpet\":[{\"type\":\"contourcarpet\",\"colorbar\":{\"outlinewidth\":0,\"ticks\":\"\"}}],\"contour\":[{\"type\":\"contour\",\"colorbar\":{\"outlinewidth\":0,\"ticks\":\"\"},\"colorscale\":[[0.0,\"#0d0887\"],[0.1111111111111111,\"#46039f\"],[0.2222222222222222,\"#7201a8\"],[0.3333333333333333,\"#9c179e\"],[0.4444444444444444,\"#bd3786\"],[0.5555555555555556,\"#d8576b\"],[0.6666666666666666,\"#ed7953\"],[0.7777777777777778,\"#fb9f3a\"],[0.8888888888888888,\"#fdca26\"],[1.0,\"#f0f921\"]]}],\"surface\":[{\"type\":\"surface\",\"colorbar\":{\"outlinewidth\":0,\"ticks\":\"\"},\"colorscale\":[[0.0,\"#0d0887\"],[0.1111111111111111,\"#46039f\"],[0.2222222222222222,\"#7201a8\"],[0.3333333333333333,\"#9c179e\"],[0.4444444444444444,\"#bd3786\"],[0.5555555555555556,\"#d8576b\"],[0.6666666666666666,\"#ed7953\"],[0.7777777777777778,\"#fb9f3a\"],[0.8888888888888888,\"#fdca26\"],[1.0,\"#f0f921\"]]}],\"mesh3d\":[{\"type\":\"mesh3d\",\"colorbar\":{\"outlinewidth\":0,\"ticks\":\"\"}}],\"scatter\":[{\"fillpattern\":{\"fillmode\":\"overlay\",\"size\":10,\"solidity\":0.2},\"type\":\"scatter\"}],\"parcoords\":[{\"type\":\"parcoords\",\"line\":{\"colorbar\":{\"outlinewidth\":0,\"ticks\":\"\"}}}],\"scatterpolargl\":[{\"type\":\"scatterpolargl\",\"marker\":{\"colorbar\":{\"outlinewidth\":0,\"ticks\":\"\"}}}],\"bar\":[{\"error_x\":{\"color\":\"#2a3f5f\"},\"error_y\":{\"color\":\"#2a3f5f\"},\"marker\":{\"line\":{\"color\":\"#E5ECF6\",\"width\":0.5},\"pattern\":{\"fillmode\":\"overlay\",\"size\":10,\"solidity\":0.2}},\"type\":\"bar\"}],\"scattergeo\":[{\"type\":\"scattergeo\",\"marker\":{\"colorbar\":{\"outlinewidth\":0,\"ticks\":\"\"}}}],\"scatterpolar\":[{\"type\":\"scatterpolar\",\"marker\":{\"colorbar\":{\"outlinewidth\":0,\"ticks\":\"\"}}}],\"histogram\":[{\"marker\":{\"pattern\":{\"fillmode\":\"overlay\",\"size\":10,\"solidity\":0.2}},\"type\":\"histogram\"}],\"scattergl\":[{\"type\":\"scattergl\",\"marker\":{\"colorbar\":{\"outlinewidth\":0,\"ticks\":\"\"}}}],\"scatter3d\":[{\"type\":\"scatter3d\",\"line\":{\"colorbar\":{\"outlinewidth\":0,\"ticks\":\"\"}},\"marker\":{\"colorbar\":{\"outlinewidth\":0,\"ticks\":\"\"}}}],\"scattermap\":[{\"type\":\"scattermap\",\"marker\":{\"colorbar\":{\"outlinewidth\":0,\"ticks\":\"\"}}}],\"scattermapbox\":[{\"type\":\"scattermapbox\",\"marker\":{\"colorbar\":{\"outlinewidth\":0,\"ticks\":\"\"}}}],\"scatterternary\":[{\"type\":\"scatterternary\",\"marker\":{\"colorbar\":{\"outlinewidth\":0,\"ticks\":\"\"}}}],\"scattercarpet\":[{\"type\":\"scattercarpet\",\"marker\":{\"colorbar\":{\"outlinewidth\":0,\"ticks\":\"\"}}}],\"carpet\":[{\"aaxis\":{\"endlinecolor\":\"#2a3f5f\",\"gridcolor\":\"white\",\"linecolor\":\"white\",\"minorgridcolor\":\"white\",\"startlinecolor\":\"#2a3f5f\"},\"baxis\":{\"endlinecolor\":\"#2a3f5f\",\"gridcolor\":\"white\",\"linecolor\":\"white\",\"minorgridcolor\":\"white\",\"startlinecolor\":\"#2a3f5f\"},\"type\":\"carpet\"}],\"table\":[{\"cells\":{\"fill\":{\"color\":\"#EBF0F8\"},\"line\":{\"color\":\"white\"}},\"header\":{\"fill\":{\"color\":\"#C8D4E3\"},\"line\":{\"color\":\"white\"}},\"type\":\"table\"}],\"barpolar\":[{\"marker\":{\"line\":{\"color\":\"#E5ECF6\",\"width\":0.5},\"pattern\":{\"fillmode\":\"overlay\",\"size\":10,\"solidity\":0.2}},\"type\":\"barpolar\"}],\"pie\":[{\"automargin\":true,\"type\":\"pie\"}]},\"layout\":{\"autotypenumbers\":\"strict\",\"colorway\":[\"#636efa\",\"#EF553B\",\"#00cc96\",\"#ab63fa\",\"#FFA15A\",\"#19d3f3\",\"#FF6692\",\"#B6E880\",\"#FF97FF\",\"#FECB52\"],\"font\":{\"color\":\"#2a3f5f\"},\"hovermode\":\"closest\",\"hoverlabel\":{\"align\":\"left\"},\"paper_bgcolor\":\"white\",\"plot_bgcolor\":\"#E5ECF6\",\"polar\":{\"bgcolor\":\"#E5ECF6\",\"angularaxis\":{\"gridcolor\":\"white\",\"linecolor\":\"white\",\"ticks\":\"\"},\"radialaxis\":{\"gridcolor\":\"white\",\"linecolor\":\"white\",\"ticks\":\"\"}},\"ternary\":{\"bgcolor\":\"#E5ECF6\",\"aaxis\":{\"gridcolor\":\"white\",\"linecolor\":\"white\",\"ticks\":\"\"},\"baxis\":{\"gridcolor\":\"white\",\"linecolor\":\"white\",\"ticks\":\"\"},\"caxis\":{\"gridcolor\":\"white\",\"linecolor\":\"white\",\"ticks\":\"\"}},\"coloraxis\":{\"colorbar\":{\"outlinewidth\":0,\"ticks\":\"\"}},\"colorscale\":{\"sequential\":[[0.0,\"#0d0887\"],[0.1111111111111111,\"#46039f\"],[0.2222222222222222,\"#7201a8\"],[0.3333333333333333,\"#9c179e\"],[0.4444444444444444,\"#bd3786\"],[0.5555555555555556,\"#d8576b\"],[0.6666666666666666,\"#ed7953\"],[0.7777777777777778,\"#fb9f3a\"],[0.8888888888888888,\"#fdca26\"],[1.0,\"#f0f921\"]],\"sequentialminus\":[[0.0,\"#0d0887\"],[0.1111111111111111,\"#46039f\"],[0.2222222222222222,\"#7201a8\"],[0.3333333333333333,\"#9c179e\"],[0.4444444444444444,\"#bd3786\"],[0.5555555555555556,\"#d8576b\"],[0.6666666666666666,\"#ed7953\"],[0.7777777777777778,\"#fb9f3a\"],[0.8888888888888888,\"#fdca26\"],[1.0,\"#f0f921\"]],\"diverging\":[[0,\"#8e0152\"],[0.1,\"#c51b7d\"],[0.2,\"#de77ae\"],[0.3,\"#f1b6da\"],[0.4,\"#fde0ef\"],[0.5,\"#f7f7f7\"],[0.6,\"#e6f5d0\"],[0.7,\"#b8e186\"],[0.8,\"#7fbc41\"],[0.9,\"#4d9221\"],[1,\"#276419\"]]},\"xaxis\":{\"gridcolor\":\"white\",\"linecolor\":\"white\",\"ticks\":\"\",\"title\":{\"standoff\":15},\"zerolinecolor\":\"white\",\"automargin\":true,\"zerolinewidth\":2},\"yaxis\":{\"gridcolor\":\"white\",\"linecolor\":\"white\",\"ticks\":\"\",\"title\":{\"standoff\":15},\"zerolinecolor\":\"white\",\"automargin\":true,\"zerolinewidth\":2},\"scene\":{\"xaxis\":{\"backgroundcolor\":\"#E5ECF6\",\"gridcolor\":\"white\",\"linecolor\":\"white\",\"showbackground\":true,\"ticks\":\"\",\"zerolinecolor\":\"white\",\"gridwidth\":2},\"yaxis\":{\"backgroundcolor\":\"#E5ECF6\",\"gridcolor\":\"white\",\"linecolor\":\"white\",\"showbackground\":true,\"ticks\":\"\",\"zerolinecolor\":\"white\",\"gridwidth\":2},\"zaxis\":{\"backgroundcolor\":\"#E5ECF6\",\"gridcolor\":\"white\",\"linecolor\":\"white\",\"showbackground\":true,\"ticks\":\"\",\"zerolinecolor\":\"white\",\"gridwidth\":2}},\"shapedefaults\":{\"line\":{\"color\":\"#2a3f5f\"}},\"annotationdefaults\":{\"arrowcolor\":\"#2a3f5f\",\"arrowhead\":0,\"arrowwidth\":1},\"geo\":{\"bgcolor\":\"white\",\"landcolor\":\"#E5ECF6\",\"subunitcolor\":\"white\",\"showland\":true,\"showlakes\":true,\"lakecolor\":\"white\"},\"title\":{\"x\":0.05},\"mapbox\":{\"style\":\"light\"}}}},                        {\"responsive\": true}                    ).then(function(){\n",
       "                            \n",
       "var gd = document.getElementById('6385c39e-cd5b-4751-b8fc-aa31354e148d');\n",
       "var x = new MutationObserver(function (mutations, observer) {{\n",
       "        var display = window.getComputedStyle(gd).display;\n",
       "        if (!display || display === 'none') {{\n",
       "            console.log([gd, 'removed!']);\n",
       "            Plotly.purge(gd);\n",
       "            observer.disconnect();\n",
       "        }}\n",
       "}});\n",
       "\n",
       "// Listen for the removal of the full notebook cells\n",
       "var notebookContainer = gd.closest('#notebook-container');\n",
       "if (notebookContainer) {{\n",
       "    x.observe(notebookContainer, {childList: true});\n",
       "}}\n",
       "\n",
       "// Listen for the clearing of the current output cell\n",
       "var outputEl = gd.closest('.output');\n",
       "if (outputEl) {{\n",
       "    x.observe(outputEl, {childList: true});\n",
       "}}\n",
       "\n",
       "                        })                };            </script>        </div>"
      ]
     },
     "metadata": {},
     "output_type": "display_data"
    }
   ],
   "source": [
    "col = \"listed_in\"\n",
    "categories = \", \".join(d2['listed_in']).split(\", \")\n",
    "counter_list = Counter(categories).most_common(50)\n",
    "labels = [_[0] for _ in counter_list][::-1]\n",
    "values = [_[1] for _ in counter_list][::-1]\n",
    "trace1 = go.Bar(y=labels, x=values, orientation=\"h\", name=\"TV Shows\", marker=dict(color=\"#a678de\"))\n",
    "\n",
    "data = [trace1]\n",
    "layout = go.Layout(title=\"Content added over the years\", legend=dict(x=0.1, y=1.1, orientation=\"h\"))\n",
    "fig = go.Figure(data, layout=layout)\n",
    "fig.show()"
   ]
  },
  {
   "cell_type": "markdown",
   "id": "0b1e86f0",
   "metadata": {
    "papermill": {
     "duration": 0.02853,
     "end_time": "2021-10-02T08:28:44.220378",
     "exception": false,
     "start_time": "2021-10-02T08:28:44.191848",
     "status": "completed"
    },
    "tags": []
   },
   "source": [
    "## 9. Top Actors on Disney+ with Most Movies"
   ]
  },
  {
   "cell_type": "code",
   "execution_count": 23,
   "id": "b46820ec",
   "metadata": {
    "_kg_hide-input": true,
    "execution": {
     "iopub.execute_input": "2021-10-02T08:28:44.281250Z",
     "iopub.status.busy": "2021-10-02T08:28:44.280621Z",
     "iopub.status.idle": "2021-10-02T08:28:44.543619Z",
     "shell.execute_reply": "2021-10-02T08:28:44.544056Z",
     "shell.execute_reply.started": "2021-10-02T08:27:01.381369Z"
    },
    "papermill": {
     "duration": 0.295057,
     "end_time": "2021-10-02T08:28:44.544220",
     "exception": false,
     "start_time": "2021-10-02T08:28:44.249163",
     "status": "completed"
    },
    "tags": []
   },
   "outputs": [
    {
     "data": {
      "application/vnd.plotly.v1+json": {
       "config": {
        "plotlyServerURL": "https://plot.ly"
       },
       "data": [
        {
         "marker": {
          "color": "#a678de"
         },
         "name": "",
         "orientation": "h",
         "type": "bar",
         "x": [
          9,
          9,
          9,
          9,
          9,
          9,
          10,
          10,
          10,
          11,
          11,
          11,
          11,
          12,
          13,
          13,
          14,
          14,
          15,
          15,
          16,
          17,
          20,
          31
         ],
         "xaxis": "x",
         "y": [
          "Tony Anselmo  ",
          "Tom Kenny  ",
          "Chris Evans  ",
          "John Goodman  ",
          "Brenda Song  ",
          "Dave Goelz  ",
          "Clarence Nash  ",
          "Dove Cameron  ",
          "Scarlett Johansson  ",
          "Winston Hibler  ",
          "Tom Hanks  ",
          "Dee Baker  ",
          "Bill Farmer  ",
          "Corey Burton  ",
          "Wallace Shawn  ",
          "Tony Hale  ",
          "Tim Allen  ",
          "Jeff Bennett  ",
          "Pinto Colvig  ",
          "Bob Peterson  ",
          "Keith Ferguson  ",
          "Larry the Cable Guy   ",
          "Walt Disney  ",
          "Jim Cummings  "
         ],
         "yaxis": "y"
        },
        {
         "marker": {
          "color": "#a678de"
         },
         "name": "",
         "orientation": "h",
         "type": "bar",
         "x": [
          1,
          1,
          1,
          1,
          1,
          1,
          1,
          1,
          1,
          1,
          2,
          2,
          2,
          2,
          2,
          2,
          2,
          2,
          2,
          2,
          3,
          3,
          3,
          3,
          3
         ],
         "xaxis": "x3",
         "y": [
          "Evan Rachel Wood  ",
          "Alan Cumming  ",
          "Queen Latifah  ",
          "Russell Boulter  ",
          "Ben Kingsley  ",
          "Meng'er Zhang  ",
          "Michelle Yeoh  ",
          "Tony Leung  ",
          "Awkwafina  ",
          "Simu Liu  ",
          "Jodi Benson  ",
          "Robert Guillaume  ",
          "Matthew Broderick  ",
          "Colin Farrell  ",
          "Corey Burton  ",
          "Brad Garrett  ",
          "Jason Marsden  ",
          "Bill Farmer  ",
          "Josh Peck  ",
          "Seann William Scott  ",
          "Jeff Bennett  ",
          "Jim Cummings  ",
          "Denis Leary  ",
          "John Leguizamo  ",
          "Ray Romano  "
         ],
         "yaxis": "y3"
        },
        {
         "marker": {
          "color": "#a678de"
         },
         "name": "",
         "orientation": "h",
         "type": "bar",
         "x": [
          2,
          2,
          2,
          2,
          2,
          2,
          2,
          3,
          3,
          3,
          3,
          3,
          3,
          3,
          3,
          3,
          3,
          3,
          3,
          3,
          4,
          4,
          4,
          4
         ],
         "xaxis": "x5",
         "y": [
          "Johnny Depp  ",
          "Sam Riley  ",
          "Elle Fanning  ",
          "Angelina Jolie  ",
          "Nicholas Hoult  ",
          "Jennifer Lawrence  ",
          "Michael Fassbender  ",
          "Jerry Nelson  ",
          "Tim Curry  ",
          "Skandar Keynes  ",
          "Georgie Henley  ",
          "Richard Hunt  ",
          "Jim Henson  ",
          "Jim Cummings  ",
          "Hugh Jackman  ",
          "Denis Leary  ",
          "John Leguizamo  ",
          "Ray Romano  ",
          "Emma Thompson  ",
          "Russell Boulter  ",
          "Dave Goelz  ",
          "Frank Oz  ",
          "Bill Murray  ",
          "James McAvoy  "
         ],
         "yaxis": "y5"
        },
        {
         "marker": {
          "color": "#a678de"
         },
         "name": "",
         "orientation": "h",
         "type": "bar",
         "x": [
          2,
          2,
          2,
          2,
          2,
          2,
          2,
          2,
          2,
          2,
          2,
          2,
          2,
          2,
          2,
          3,
          3,
          3,
          3,
          3,
          3,
          3,
          3,
          3,
          3
         ],
         "xaxis": "x6",
         "y": [
          "Kath Soucie  ",
          "Corey Burton  ",
          "Eva Green  ",
          "Owen Wilson  ",
          "Steve Martin  ",
          "Famke Janssen  ",
          "Ian McKellen  ",
          "Chris Potter  ",
          "Nicholas Hoult  ",
          "Jennifer Lawrence  ",
          "Michael Fassbender  ",
          "Catherine Disher  ",
          "Kenneth Mars  ",
          "Jodi Benson  ",
          "Ameko Eks Mass Carroll  ",
          "Eric Lloyd  ",
          "Wendy Crewson  ",
          "Judge Reinhold  ",
          "Tim Allen  ",
          "Jim Cummings  ",
          "Tom Kenny  ",
          "Halle Berry  ",
          "Hugh Jackman  ",
          "James McAvoy  ",
          "Diedrich Bader  "
         ],
         "yaxis": "y6"
        },
        {
         "marker": {
          "color": "#a678de"
         },
         "name": "",
         "orientation": "h",
         "type": "bar",
         "x": [
          1,
          1,
          1,
          1,
          1,
          1,
          1,
          1,
          1,
          1,
          1,
          1,
          1,
          1,
          1,
          1,
          1,
          1,
          1,
          1
         ],
         "xaxis": "x8",
         "y": [
          "Kathryn Hahn  ",
          "Tim McGraw  ",
          "Raffey Cassidy  ",
          "Britt Robertson  ",
          "Hugh Laurie  ",
          "George Clooney  ",
          "Lancelot Perrin  ",
          "Pierce Brosnan  ",
          "Jeremy Sisto  ",
          "Carlos Saldanha  ",
          "Colin H. Murphy  ",
          "Nile Diaz  ",
          "Jet Jurgensmeyer  ",
          "Jack Gore  ",
          "Kenneth Mars  ",
          "June Foray  ",
          "Will Ryan  ",
          "Jodi Benson  ",
          "Barbara Cook  ",
          "Gino Conforti  "
         ],
         "yaxis": "y8"
        },
        {
         "marker": {
          "color": "#a678de"
         },
         "name": "",
         "orientation": "h",
         "type": "bar",
         "x": [
          1,
          1,
          1,
          1,
          1,
          1,
          1,
          1,
          1,
          1,
          1,
          1,
          1,
          1,
          1,
          1,
          1,
          1,
          1,
          1,
          1,
          1,
          2,
          2,
          3
         ],
         "xaxis": "x10",
         "y": [
          "Jesse Corti  ",
          "Charlie Adler  ",
          "Bray Poor  ",
          "Corey Feldman  ",
          "Clancy Brown  ",
          "Kari Wahlgren  ",
          "Tom Kenny  ",
          "Kevin Michael\tRichardson  ",
          "Greg Cipes  ",
          "YOSHIKI  ",
          "Jessica DiCicco  ",
          "Dee Baker  ",
          "Eric Bauza  ",
          "Ben Diskin  ",
          "Melanie Harrison  ",
          "Matt Danner  ",
          "Carrie Keranen  ",
          "Max Mittelman  ",
          "Mela Lee  ",
          "Keith Silverstein  ",
          "Bryce Papenbrook  ",
          "Cristina Vee  ",
          "Peter Cullen  ",
          "Corey Burton  ",
          "Jim Cummings  "
         ],
         "yaxis": "y10"
        }
       ],
       "layout": {
        "annotations": [
         {
          "font": {
           "size": 16
          },
          "showarrow": false,
          "text": "United States",
          "x": 0.08399999999999999,
          "xanchor": "center",
          "xref": "paper",
          "y": 1,
          "yanchor": "bottom",
          "yref": "paper"
         },
         {
          "font": {
           "size": 16
          },
          "showarrow": false,
          "text": "Australia",
          "x": 0.5,
          "xanchor": "center",
          "xref": "paper",
          "y": 1,
          "yanchor": "bottom",
          "yref": "paper"
         },
         {
          "font": {
           "size": 16
          },
          "showarrow": false,
          "text": "United Kingdom",
          "x": 0.9159999999999999,
          "xanchor": "center",
          "xref": "paper",
          "y": 1,
          "yanchor": "bottom",
          "yref": "paper"
         },
         {
          "font": {
           "size": 16
          },
          "showarrow": false,
          "text": "Canada",
          "x": 0.08399999999999999,
          "xanchor": "center",
          "xref": "paper",
          "y": 0.375,
          "yanchor": "bottom",
          "yref": "paper"
         },
         {
          "font": {
           "size": 16
          },
          "showarrow": false,
          "text": "Spain",
          "x": 0.5,
          "xanchor": "center",
          "xref": "paper",
          "y": 0.375,
          "yanchor": "bottom",
          "yref": "paper"
         },
         {
          "font": {
           "size": 16
          },
          "showarrow": false,
          "text": "Japan",
          "x": 0.9159999999999999,
          "xanchor": "center",
          "xref": "paper",
          "y": 0.375,
          "yanchor": "bottom",
          "yref": "paper"
         }
        ],
        "height": 1200,
        "showlegend": false,
        "template": {
         "data": {
          "bar": [
           {
            "error_x": {
             "color": "#2a3f5f"
            },
            "error_y": {
             "color": "#2a3f5f"
            },
            "marker": {
             "line": {
              "color": "#E5ECF6",
              "width": 0.5
             },
             "pattern": {
              "fillmode": "overlay",
              "size": 10,
              "solidity": 0.2
             }
            },
            "type": "bar"
           }
          ],
          "barpolar": [
           {
            "marker": {
             "line": {
              "color": "#E5ECF6",
              "width": 0.5
             },
             "pattern": {
              "fillmode": "overlay",
              "size": 10,
              "solidity": 0.2
             }
            },
            "type": "barpolar"
           }
          ],
          "carpet": [
           {
            "aaxis": {
             "endlinecolor": "#2a3f5f",
             "gridcolor": "white",
             "linecolor": "white",
             "minorgridcolor": "white",
             "startlinecolor": "#2a3f5f"
            },
            "baxis": {
             "endlinecolor": "#2a3f5f",
             "gridcolor": "white",
             "linecolor": "white",
             "minorgridcolor": "white",
             "startlinecolor": "#2a3f5f"
            },
            "type": "carpet"
           }
          ],
          "choropleth": [
           {
            "colorbar": {
             "outlinewidth": 0,
             "ticks": ""
            },
            "type": "choropleth"
           }
          ],
          "contour": [
           {
            "colorbar": {
             "outlinewidth": 0,
             "ticks": ""
            },
            "colorscale": [
             [
              0,
              "#0d0887"
             ],
             [
              0.1111111111111111,
              "#46039f"
             ],
             [
              0.2222222222222222,
              "#7201a8"
             ],
             [
              0.3333333333333333,
              "#9c179e"
             ],
             [
              0.4444444444444444,
              "#bd3786"
             ],
             [
              0.5555555555555556,
              "#d8576b"
             ],
             [
              0.6666666666666666,
              "#ed7953"
             ],
             [
              0.7777777777777778,
              "#fb9f3a"
             ],
             [
              0.8888888888888888,
              "#fdca26"
             ],
             [
              1,
              "#f0f921"
             ]
            ],
            "type": "contour"
           }
          ],
          "contourcarpet": [
           {
            "colorbar": {
             "outlinewidth": 0,
             "ticks": ""
            },
            "type": "contourcarpet"
           }
          ],
          "heatmap": [
           {
            "colorbar": {
             "outlinewidth": 0,
             "ticks": ""
            },
            "colorscale": [
             [
              0,
              "#0d0887"
             ],
             [
              0.1111111111111111,
              "#46039f"
             ],
             [
              0.2222222222222222,
              "#7201a8"
             ],
             [
              0.3333333333333333,
              "#9c179e"
             ],
             [
              0.4444444444444444,
              "#bd3786"
             ],
             [
              0.5555555555555556,
              "#d8576b"
             ],
             [
              0.6666666666666666,
              "#ed7953"
             ],
             [
              0.7777777777777778,
              "#fb9f3a"
             ],
             [
              0.8888888888888888,
              "#fdca26"
             ],
             [
              1,
              "#f0f921"
             ]
            ],
            "type": "heatmap"
           }
          ],
          "histogram": [
           {
            "marker": {
             "pattern": {
              "fillmode": "overlay",
              "size": 10,
              "solidity": 0.2
             }
            },
            "type": "histogram"
           }
          ],
          "histogram2d": [
           {
            "colorbar": {
             "outlinewidth": 0,
             "ticks": ""
            },
            "colorscale": [
             [
              0,
              "#0d0887"
             ],
             [
              0.1111111111111111,
              "#46039f"
             ],
             [
              0.2222222222222222,
              "#7201a8"
             ],
             [
              0.3333333333333333,
              "#9c179e"
             ],
             [
              0.4444444444444444,
              "#bd3786"
             ],
             [
              0.5555555555555556,
              "#d8576b"
             ],
             [
              0.6666666666666666,
              "#ed7953"
             ],
             [
              0.7777777777777778,
              "#fb9f3a"
             ],
             [
              0.8888888888888888,
              "#fdca26"
             ],
             [
              1,
              "#f0f921"
             ]
            ],
            "type": "histogram2d"
           }
          ],
          "histogram2dcontour": [
           {
            "colorbar": {
             "outlinewidth": 0,
             "ticks": ""
            },
            "colorscale": [
             [
              0,
              "#0d0887"
             ],
             [
              0.1111111111111111,
              "#46039f"
             ],
             [
              0.2222222222222222,
              "#7201a8"
             ],
             [
              0.3333333333333333,
              "#9c179e"
             ],
             [
              0.4444444444444444,
              "#bd3786"
             ],
             [
              0.5555555555555556,
              "#d8576b"
             ],
             [
              0.6666666666666666,
              "#ed7953"
             ],
             [
              0.7777777777777778,
              "#fb9f3a"
             ],
             [
              0.8888888888888888,
              "#fdca26"
             ],
             [
              1,
              "#f0f921"
             ]
            ],
            "type": "histogram2dcontour"
           }
          ],
          "mesh3d": [
           {
            "colorbar": {
             "outlinewidth": 0,
             "ticks": ""
            },
            "type": "mesh3d"
           }
          ],
          "parcoords": [
           {
            "line": {
             "colorbar": {
              "outlinewidth": 0,
              "ticks": ""
             }
            },
            "type": "parcoords"
           }
          ],
          "pie": [
           {
            "automargin": true,
            "type": "pie"
           }
          ],
          "scatter": [
           {
            "fillpattern": {
             "fillmode": "overlay",
             "size": 10,
             "solidity": 0.2
            },
            "type": "scatter"
           }
          ],
          "scatter3d": [
           {
            "line": {
             "colorbar": {
              "outlinewidth": 0,
              "ticks": ""
             }
            },
            "marker": {
             "colorbar": {
              "outlinewidth": 0,
              "ticks": ""
             }
            },
            "type": "scatter3d"
           }
          ],
          "scattercarpet": [
           {
            "marker": {
             "colorbar": {
              "outlinewidth": 0,
              "ticks": ""
             }
            },
            "type": "scattercarpet"
           }
          ],
          "scattergeo": [
           {
            "marker": {
             "colorbar": {
              "outlinewidth": 0,
              "ticks": ""
             }
            },
            "type": "scattergeo"
           }
          ],
          "scattergl": [
           {
            "marker": {
             "colorbar": {
              "outlinewidth": 0,
              "ticks": ""
             }
            },
            "type": "scattergl"
           }
          ],
          "scattermap": [
           {
            "marker": {
             "colorbar": {
              "outlinewidth": 0,
              "ticks": ""
             }
            },
            "type": "scattermap"
           }
          ],
          "scattermapbox": [
           {
            "marker": {
             "colorbar": {
              "outlinewidth": 0,
              "ticks": ""
             }
            },
            "type": "scattermapbox"
           }
          ],
          "scatterpolar": [
           {
            "marker": {
             "colorbar": {
              "outlinewidth": 0,
              "ticks": ""
             }
            },
            "type": "scatterpolar"
           }
          ],
          "scatterpolargl": [
           {
            "marker": {
             "colorbar": {
              "outlinewidth": 0,
              "ticks": ""
             }
            },
            "type": "scatterpolargl"
           }
          ],
          "scatterternary": [
           {
            "marker": {
             "colorbar": {
              "outlinewidth": 0,
              "ticks": ""
             }
            },
            "type": "scatterternary"
           }
          ],
          "surface": [
           {
            "colorbar": {
             "outlinewidth": 0,
             "ticks": ""
            },
            "colorscale": [
             [
              0,
              "#0d0887"
             ],
             [
              0.1111111111111111,
              "#46039f"
             ],
             [
              0.2222222222222222,
              "#7201a8"
             ],
             [
              0.3333333333333333,
              "#9c179e"
             ],
             [
              0.4444444444444444,
              "#bd3786"
             ],
             [
              0.5555555555555556,
              "#d8576b"
             ],
             [
              0.6666666666666666,
              "#ed7953"
             ],
             [
              0.7777777777777778,
              "#fb9f3a"
             ],
             [
              0.8888888888888888,
              "#fdca26"
             ],
             [
              1,
              "#f0f921"
             ]
            ],
            "type": "surface"
           }
          ],
          "table": [
           {
            "cells": {
             "fill": {
              "color": "#EBF0F8"
             },
             "line": {
              "color": "white"
             }
            },
            "header": {
             "fill": {
              "color": "#C8D4E3"
             },
             "line": {
              "color": "white"
             }
            },
            "type": "table"
           }
          ]
         },
         "layout": {
          "annotationdefaults": {
           "arrowcolor": "#2a3f5f",
           "arrowhead": 0,
           "arrowwidth": 1
          },
          "autotypenumbers": "strict",
          "coloraxis": {
           "colorbar": {
            "outlinewidth": 0,
            "ticks": ""
           }
          },
          "colorscale": {
           "diverging": [
            [
             0,
             "#8e0152"
            ],
            [
             0.1,
             "#c51b7d"
            ],
            [
             0.2,
             "#de77ae"
            ],
            [
             0.3,
             "#f1b6da"
            ],
            [
             0.4,
             "#fde0ef"
            ],
            [
             0.5,
             "#f7f7f7"
            ],
            [
             0.6,
             "#e6f5d0"
            ],
            [
             0.7,
             "#b8e186"
            ],
            [
             0.8,
             "#7fbc41"
            ],
            [
             0.9,
             "#4d9221"
            ],
            [
             1,
             "#276419"
            ]
           ],
           "sequential": [
            [
             0,
             "#0d0887"
            ],
            [
             0.1111111111111111,
             "#46039f"
            ],
            [
             0.2222222222222222,
             "#7201a8"
            ],
            [
             0.3333333333333333,
             "#9c179e"
            ],
            [
             0.4444444444444444,
             "#bd3786"
            ],
            [
             0.5555555555555556,
             "#d8576b"
            ],
            [
             0.6666666666666666,
             "#ed7953"
            ],
            [
             0.7777777777777778,
             "#fb9f3a"
            ],
            [
             0.8888888888888888,
             "#fdca26"
            ],
            [
             1,
             "#f0f921"
            ]
           ],
           "sequentialminus": [
            [
             0,
             "#0d0887"
            ],
            [
             0.1111111111111111,
             "#46039f"
            ],
            [
             0.2222222222222222,
             "#7201a8"
            ],
            [
             0.3333333333333333,
             "#9c179e"
            ],
            [
             0.4444444444444444,
             "#bd3786"
            ],
            [
             0.5555555555555556,
             "#d8576b"
            ],
            [
             0.6666666666666666,
             "#ed7953"
            ],
            [
             0.7777777777777778,
             "#fb9f3a"
            ],
            [
             0.8888888888888888,
             "#fdca26"
            ],
            [
             1,
             "#f0f921"
            ]
           ]
          },
          "colorway": [
           "#636efa",
           "#EF553B",
           "#00cc96",
           "#ab63fa",
           "#FFA15A",
           "#19d3f3",
           "#FF6692",
           "#B6E880",
           "#FF97FF",
           "#FECB52"
          ],
          "font": {
           "color": "#2a3f5f"
          },
          "geo": {
           "bgcolor": "white",
           "lakecolor": "white",
           "landcolor": "#E5ECF6",
           "showlakes": true,
           "showland": true,
           "subunitcolor": "white"
          },
          "hoverlabel": {
           "align": "left"
          },
          "hovermode": "closest",
          "mapbox": {
           "style": "light"
          },
          "paper_bgcolor": "white",
          "plot_bgcolor": "#E5ECF6",
          "polar": {
           "angularaxis": {
            "gridcolor": "white",
            "linecolor": "white",
            "ticks": ""
           },
           "bgcolor": "#E5ECF6",
           "radialaxis": {
            "gridcolor": "white",
            "linecolor": "white",
            "ticks": ""
           }
          },
          "scene": {
           "xaxis": {
            "backgroundcolor": "#E5ECF6",
            "gridcolor": "white",
            "gridwidth": 2,
            "linecolor": "white",
            "showbackground": true,
            "ticks": "",
            "zerolinecolor": "white"
           },
           "yaxis": {
            "backgroundcolor": "#E5ECF6",
            "gridcolor": "white",
            "gridwidth": 2,
            "linecolor": "white",
            "showbackground": true,
            "ticks": "",
            "zerolinecolor": "white"
           },
           "zaxis": {
            "backgroundcolor": "#E5ECF6",
            "gridcolor": "white",
            "gridwidth": 2,
            "linecolor": "white",
            "showbackground": true,
            "ticks": "",
            "zerolinecolor": "white"
           }
          },
          "shapedefaults": {
           "line": {
            "color": "#2a3f5f"
           }
          },
          "ternary": {
           "aaxis": {
            "gridcolor": "white",
            "linecolor": "white",
            "ticks": ""
           },
           "baxis": {
            "gridcolor": "white",
            "linecolor": "white",
            "ticks": ""
           },
           "bgcolor": "#E5ECF6",
           "caxis": {
            "gridcolor": "white",
            "linecolor": "white",
            "ticks": ""
           }
          },
          "title": {
           "x": 0.05
          },
          "xaxis": {
           "automargin": true,
           "gridcolor": "white",
           "linecolor": "white",
           "ticks": "",
           "title": {
            "standoff": 15
           },
           "zerolinecolor": "white",
           "zerolinewidth": 2
          },
          "yaxis": {
           "automargin": true,
           "gridcolor": "white",
           "linecolor": "white",
           "ticks": "",
           "title": {
            "standoff": 15
           },
           "zerolinecolor": "white",
           "zerolinewidth": 2
          }
         }
        },
        "xaxis": {
         "anchor": "y",
         "domain": [
          0,
          0.16799999999999998
         ]
        },
        "xaxis10": {
         "anchor": "y10",
         "domain": [
          0.832,
          1
         ]
        },
        "xaxis2": {
         "anchor": "y2",
         "domain": [
          0.208,
          0.376
         ]
        },
        "xaxis3": {
         "anchor": "y3",
         "domain": [
          0.416,
          0.584
         ]
        },
        "xaxis4": {
         "anchor": "y4",
         "domain": [
          0.624,
          0.792
         ]
        },
        "xaxis5": {
         "anchor": "y5",
         "domain": [
          0.832,
          1
         ]
        },
        "xaxis6": {
         "anchor": "y6",
         "domain": [
          0,
          0.16799999999999998
         ]
        },
        "xaxis7": {
         "anchor": "y7",
         "domain": [
          0.208,
          0.376
         ]
        },
        "xaxis8": {
         "anchor": "y8",
         "domain": [
          0.416,
          0.584
         ]
        },
        "xaxis9": {
         "anchor": "y9",
         "domain": [
          0.624,
          0.792
         ]
        },
        "yaxis": {
         "anchor": "x",
         "domain": [
          0.625,
          1
         ]
        },
        "yaxis10": {
         "anchor": "x10",
         "domain": [
          0,
          0.375
         ]
        },
        "yaxis2": {
         "anchor": "x2",
         "domain": [
          0.625,
          1
         ]
        },
        "yaxis3": {
         "anchor": "x3",
         "domain": [
          0.625,
          1
         ]
        },
        "yaxis4": {
         "anchor": "x4",
         "domain": [
          0.625,
          1
         ]
        },
        "yaxis5": {
         "anchor": "x5",
         "domain": [
          0.625,
          1
         ]
        },
        "yaxis6": {
         "anchor": "x6",
         "domain": [
          0,
          0.375
         ]
        },
        "yaxis7": {
         "anchor": "x7",
         "domain": [
          0,
          0.375
         ]
        },
        "yaxis8": {
         "anchor": "x8",
         "domain": [
          0,
          0.375
         ]
        },
        "yaxis9": {
         "anchor": "x9",
         "domain": [
          0,
          0.375
         ]
        }
       }
      },
      "text/html": [
       "<div>            <script src=\"https://cdnjs.cloudflare.com/ajax/libs/mathjax/2.7.5/MathJax.js?config=TeX-AMS-MML_SVG\"></script><script type=\"text/javascript\">if (window.MathJax && window.MathJax.Hub && window.MathJax.Hub.Config) {window.MathJax.Hub.Config({SVG: {font: \"STIX-Web\"}});}</script>                <script type=\"text/javascript\">window.PlotlyConfig = {MathJaxConfig: 'local'};</script>\n",
       "        <script charset=\"utf-8\" src=\"https://cdn.plot.ly/plotly-3.0.0.min.js\"></script>                <div id=\"6c6074a3-abbd-4dcd-89a9-2249952d563d\" class=\"plotly-graph-div\" style=\"height:1200px; width:100%;\"></div>            <script type=\"text/javascript\">                window.PLOTLYENV=window.PLOTLYENV || {};                                if (document.getElementById(\"6c6074a3-abbd-4dcd-89a9-2249952d563d\")) {                    Plotly.newPlot(                        \"6c6074a3-abbd-4dcd-89a9-2249952d563d\",                        [{\"marker\":{\"color\":\"#a678de\"},\"name\":\"\",\"orientation\":\"h\",\"x\":[9,9,9,9,9,9,10,10,10,11,11,11,11,12,13,13,14,14,15,15,16,17,20,31],\"y\":[\"Tony Anselmo  \",\"Tom Kenny  \",\"Chris Evans  \",\"John Goodman  \",\"Brenda Song  \",\"Dave Goelz  \",\"Clarence Nash  \",\"Dove Cameron  \",\"Scarlett Johansson  \",\"Winston Hibler  \",\"Tom Hanks  \",\"Dee Baker  \",\"Bill Farmer  \",\"Corey Burton  \",\"Wallace Shawn  \",\"Tony Hale  \",\"Tim Allen  \",\"Jeff Bennett  \",\"Pinto Colvig  \",\"Bob Peterson  \",\"Keith Ferguson  \",\"Larry the Cable Guy   \",\"Walt Disney  \",\"Jim Cummings  \"],\"type\":\"bar\",\"xaxis\":\"x\",\"yaxis\":\"y\"},{\"marker\":{\"color\":\"#a678de\"},\"name\":\"\",\"orientation\":\"h\",\"x\":[1,1,1,1,1,1,1,1,1,1,2,2,2,2,2,2,2,2,2,2,3,3,3,3,3],\"y\":[\"Evan Rachel Wood  \",\"Alan Cumming  \",\"Queen Latifah  \",\"Russell Boulter  \",\"Ben Kingsley  \",\"Meng'er Zhang  \",\"Michelle Yeoh  \",\"Tony Leung  \",\"Awkwafina  \",\"Simu Liu  \",\"Jodi Benson  \",\"Robert Guillaume  \",\"Matthew Broderick  \",\"Colin Farrell  \",\"Corey Burton  \",\"Brad Garrett  \",\"Jason Marsden  \",\"Bill Farmer  \",\"Josh Peck  \",\"Seann William Scott  \",\"Jeff Bennett  \",\"Jim Cummings  \",\"Denis Leary  \",\"John Leguizamo  \",\"Ray Romano  \"],\"type\":\"bar\",\"xaxis\":\"x3\",\"yaxis\":\"y3\"},{\"marker\":{\"color\":\"#a678de\"},\"name\":\"\",\"orientation\":\"h\",\"x\":[2,2,2,2,2,2,2,3,3,3,3,3,3,3,3,3,3,3,3,3,4,4,4,4],\"y\":[\"Johnny Depp  \",\"Sam Riley  \",\"Elle Fanning  \",\"Angelina Jolie  \",\"Nicholas Hoult  \",\"Jennifer Lawrence  \",\"Michael Fassbender  \",\"Jerry Nelson  \",\"Tim Curry  \",\"Skandar Keynes  \",\"Georgie Henley  \",\"Richard Hunt  \",\"Jim Henson  \",\"Jim Cummings  \",\"Hugh Jackman  \",\"Denis Leary  \",\"John Leguizamo  \",\"Ray Romano  \",\"Emma Thompson  \",\"Russell Boulter  \",\"Dave Goelz  \",\"Frank Oz  \",\"Bill Murray  \",\"James McAvoy  \"],\"type\":\"bar\",\"xaxis\":\"x5\",\"yaxis\":\"y5\"},{\"marker\":{\"color\":\"#a678de\"},\"name\":\"\",\"orientation\":\"h\",\"x\":[2,2,2,2,2,2,2,2,2,2,2,2,2,2,2,3,3,3,3,3,3,3,3,3,3],\"y\":[\"Kath Soucie  \",\"Corey Burton  \",\"Eva Green  \",\"Owen Wilson  \",\"Steve Martin  \",\"Famke Janssen  \",\"Ian McKellen  \",\"Chris Potter  \",\"Nicholas Hoult  \",\"Jennifer Lawrence  \",\"Michael Fassbender  \",\"Catherine Disher  \",\"Kenneth Mars  \",\"Jodi Benson  \",\"Ameko Eks Mass Carroll  \",\"Eric Lloyd  \",\"Wendy Crewson  \",\"Judge Reinhold  \",\"Tim Allen  \",\"Jim Cummings  \",\"Tom Kenny  \",\"Halle Berry  \",\"Hugh Jackman  \",\"James McAvoy  \",\"Diedrich Bader  \"],\"type\":\"bar\",\"xaxis\":\"x6\",\"yaxis\":\"y6\"},{\"marker\":{\"color\":\"#a678de\"},\"name\":\"\",\"orientation\":\"h\",\"x\":[1,1,1,1,1,1,1,1,1,1,1,1,1,1,1,1,1,1,1,1],\"y\":[\"Kathryn Hahn  \",\"Tim McGraw  \",\"Raffey Cassidy  \",\"Britt Robertson  \",\"Hugh Laurie  \",\"George Clooney  \",\"Lancelot Perrin  \",\"Pierce Brosnan  \",\"Jeremy Sisto  \",\"Carlos Saldanha  \",\"Colin H. Murphy  \",\"Nile Diaz  \",\"Jet Jurgensmeyer  \",\"Jack Gore  \",\"Kenneth Mars  \",\"June Foray  \",\"Will Ryan  \",\"Jodi Benson  \",\"Barbara Cook  \",\"Gino Conforti  \"],\"type\":\"bar\",\"xaxis\":\"x8\",\"yaxis\":\"y8\"},{\"marker\":{\"color\":\"#a678de\"},\"name\":\"\",\"orientation\":\"h\",\"x\":[1,1,1,1,1,1,1,1,1,1,1,1,1,1,1,1,1,1,1,1,1,1,2,2,3],\"y\":[\"Jesse Corti  \",\"Charlie Adler  \",\"Bray Poor  \",\"Corey Feldman  \",\"Clancy Brown  \",\"Kari Wahlgren  \",\"Tom Kenny  \",\"Kevin Michael\\tRichardson  \",\"Greg Cipes  \",\"YOSHIKI  \",\"Jessica DiCicco  \",\"Dee Baker  \",\"Eric Bauza  \",\"Ben Diskin  \",\"Melanie Harrison  \",\"Matt Danner  \",\"Carrie Keranen  \",\"Max Mittelman  \",\"Mela Lee  \",\"Keith Silverstein  \",\"Bryce Papenbrook  \",\"Cristina Vee  \",\"Peter Cullen  \",\"Corey Burton  \",\"Jim Cummings  \"],\"type\":\"bar\",\"xaxis\":\"x10\",\"yaxis\":\"y10\"}],                        {\"template\":{\"data\":{\"histogram2dcontour\":[{\"type\":\"histogram2dcontour\",\"colorbar\":{\"outlinewidth\":0,\"ticks\":\"\"},\"colorscale\":[[0.0,\"#0d0887\"],[0.1111111111111111,\"#46039f\"],[0.2222222222222222,\"#7201a8\"],[0.3333333333333333,\"#9c179e\"],[0.4444444444444444,\"#bd3786\"],[0.5555555555555556,\"#d8576b\"],[0.6666666666666666,\"#ed7953\"],[0.7777777777777778,\"#fb9f3a\"],[0.8888888888888888,\"#fdca26\"],[1.0,\"#f0f921\"]]}],\"choropleth\":[{\"type\":\"choropleth\",\"colorbar\":{\"outlinewidth\":0,\"ticks\":\"\"}}],\"histogram2d\":[{\"type\":\"histogram2d\",\"colorbar\":{\"outlinewidth\":0,\"ticks\":\"\"},\"colorscale\":[[0.0,\"#0d0887\"],[0.1111111111111111,\"#46039f\"],[0.2222222222222222,\"#7201a8\"],[0.3333333333333333,\"#9c179e\"],[0.4444444444444444,\"#bd3786\"],[0.5555555555555556,\"#d8576b\"],[0.6666666666666666,\"#ed7953\"],[0.7777777777777778,\"#fb9f3a\"],[0.8888888888888888,\"#fdca26\"],[1.0,\"#f0f921\"]]}],\"heatmap\":[{\"type\":\"heatmap\",\"colorbar\":{\"outlinewidth\":0,\"ticks\":\"\"},\"colorscale\":[[0.0,\"#0d0887\"],[0.1111111111111111,\"#46039f\"],[0.2222222222222222,\"#7201a8\"],[0.3333333333333333,\"#9c179e\"],[0.4444444444444444,\"#bd3786\"],[0.5555555555555556,\"#d8576b\"],[0.6666666666666666,\"#ed7953\"],[0.7777777777777778,\"#fb9f3a\"],[0.8888888888888888,\"#fdca26\"],[1.0,\"#f0f921\"]]}],\"contourcarpet\":[{\"type\":\"contourcarpet\",\"colorbar\":{\"outlinewidth\":0,\"ticks\":\"\"}}],\"contour\":[{\"type\":\"contour\",\"colorbar\":{\"outlinewidth\":0,\"ticks\":\"\"},\"colorscale\":[[0.0,\"#0d0887\"],[0.1111111111111111,\"#46039f\"],[0.2222222222222222,\"#7201a8\"],[0.3333333333333333,\"#9c179e\"],[0.4444444444444444,\"#bd3786\"],[0.5555555555555556,\"#d8576b\"],[0.6666666666666666,\"#ed7953\"],[0.7777777777777778,\"#fb9f3a\"],[0.8888888888888888,\"#fdca26\"],[1.0,\"#f0f921\"]]}],\"surface\":[{\"type\":\"surface\",\"colorbar\":{\"outlinewidth\":0,\"ticks\":\"\"},\"colorscale\":[[0.0,\"#0d0887\"],[0.1111111111111111,\"#46039f\"],[0.2222222222222222,\"#7201a8\"],[0.3333333333333333,\"#9c179e\"],[0.4444444444444444,\"#bd3786\"],[0.5555555555555556,\"#d8576b\"],[0.6666666666666666,\"#ed7953\"],[0.7777777777777778,\"#fb9f3a\"],[0.8888888888888888,\"#fdca26\"],[1.0,\"#f0f921\"]]}],\"mesh3d\":[{\"type\":\"mesh3d\",\"colorbar\":{\"outlinewidth\":0,\"ticks\":\"\"}}],\"scatter\":[{\"fillpattern\":{\"fillmode\":\"overlay\",\"size\":10,\"solidity\":0.2},\"type\":\"scatter\"}],\"parcoords\":[{\"type\":\"parcoords\",\"line\":{\"colorbar\":{\"outlinewidth\":0,\"ticks\":\"\"}}}],\"scatterpolargl\":[{\"type\":\"scatterpolargl\",\"marker\":{\"colorbar\":{\"outlinewidth\":0,\"ticks\":\"\"}}}],\"bar\":[{\"error_x\":{\"color\":\"#2a3f5f\"},\"error_y\":{\"color\":\"#2a3f5f\"},\"marker\":{\"line\":{\"color\":\"#E5ECF6\",\"width\":0.5},\"pattern\":{\"fillmode\":\"overlay\",\"size\":10,\"solidity\":0.2}},\"type\":\"bar\"}],\"scattergeo\":[{\"type\":\"scattergeo\",\"marker\":{\"colorbar\":{\"outlinewidth\":0,\"ticks\":\"\"}}}],\"scatterpolar\":[{\"type\":\"scatterpolar\",\"marker\":{\"colorbar\":{\"outlinewidth\":0,\"ticks\":\"\"}}}],\"histogram\":[{\"marker\":{\"pattern\":{\"fillmode\":\"overlay\",\"size\":10,\"solidity\":0.2}},\"type\":\"histogram\"}],\"scattergl\":[{\"type\":\"scattergl\",\"marker\":{\"colorbar\":{\"outlinewidth\":0,\"ticks\":\"\"}}}],\"scatter3d\":[{\"type\":\"scatter3d\",\"line\":{\"colorbar\":{\"outlinewidth\":0,\"ticks\":\"\"}},\"marker\":{\"colorbar\":{\"outlinewidth\":0,\"ticks\":\"\"}}}],\"scattermap\":[{\"type\":\"scattermap\",\"marker\":{\"colorbar\":{\"outlinewidth\":0,\"ticks\":\"\"}}}],\"scattermapbox\":[{\"type\":\"scattermapbox\",\"marker\":{\"colorbar\":{\"outlinewidth\":0,\"ticks\":\"\"}}}],\"scatterternary\":[{\"type\":\"scatterternary\",\"marker\":{\"colorbar\":{\"outlinewidth\":0,\"ticks\":\"\"}}}],\"scattercarpet\":[{\"type\":\"scattercarpet\",\"marker\":{\"colorbar\":{\"outlinewidth\":0,\"ticks\":\"\"}}}],\"carpet\":[{\"aaxis\":{\"endlinecolor\":\"#2a3f5f\",\"gridcolor\":\"white\",\"linecolor\":\"white\",\"minorgridcolor\":\"white\",\"startlinecolor\":\"#2a3f5f\"},\"baxis\":{\"endlinecolor\":\"#2a3f5f\",\"gridcolor\":\"white\",\"linecolor\":\"white\",\"minorgridcolor\":\"white\",\"startlinecolor\":\"#2a3f5f\"},\"type\":\"carpet\"}],\"table\":[{\"cells\":{\"fill\":{\"color\":\"#EBF0F8\"},\"line\":{\"color\":\"white\"}},\"header\":{\"fill\":{\"color\":\"#C8D4E3\"},\"line\":{\"color\":\"white\"}},\"type\":\"table\"}],\"barpolar\":[{\"marker\":{\"line\":{\"color\":\"#E5ECF6\",\"width\":0.5},\"pattern\":{\"fillmode\":\"overlay\",\"size\":10,\"solidity\":0.2}},\"type\":\"barpolar\"}],\"pie\":[{\"automargin\":true,\"type\":\"pie\"}]},\"layout\":{\"autotypenumbers\":\"strict\",\"colorway\":[\"#636efa\",\"#EF553B\",\"#00cc96\",\"#ab63fa\",\"#FFA15A\",\"#19d3f3\",\"#FF6692\",\"#B6E880\",\"#FF97FF\",\"#FECB52\"],\"font\":{\"color\":\"#2a3f5f\"},\"hovermode\":\"closest\",\"hoverlabel\":{\"align\":\"left\"},\"paper_bgcolor\":\"white\",\"plot_bgcolor\":\"#E5ECF6\",\"polar\":{\"bgcolor\":\"#E5ECF6\",\"angularaxis\":{\"gridcolor\":\"white\",\"linecolor\":\"white\",\"ticks\":\"\"},\"radialaxis\":{\"gridcolor\":\"white\",\"linecolor\":\"white\",\"ticks\":\"\"}},\"ternary\":{\"bgcolor\":\"#E5ECF6\",\"aaxis\":{\"gridcolor\":\"white\",\"linecolor\":\"white\",\"ticks\":\"\"},\"baxis\":{\"gridcolor\":\"white\",\"linecolor\":\"white\",\"ticks\":\"\"},\"caxis\":{\"gridcolor\":\"white\",\"linecolor\":\"white\",\"ticks\":\"\"}},\"coloraxis\":{\"colorbar\":{\"outlinewidth\":0,\"ticks\":\"\"}},\"colorscale\":{\"sequential\":[[0.0,\"#0d0887\"],[0.1111111111111111,\"#46039f\"],[0.2222222222222222,\"#7201a8\"],[0.3333333333333333,\"#9c179e\"],[0.4444444444444444,\"#bd3786\"],[0.5555555555555556,\"#d8576b\"],[0.6666666666666666,\"#ed7953\"],[0.7777777777777778,\"#fb9f3a\"],[0.8888888888888888,\"#fdca26\"],[1.0,\"#f0f921\"]],\"sequentialminus\":[[0.0,\"#0d0887\"],[0.1111111111111111,\"#46039f\"],[0.2222222222222222,\"#7201a8\"],[0.3333333333333333,\"#9c179e\"],[0.4444444444444444,\"#bd3786\"],[0.5555555555555556,\"#d8576b\"],[0.6666666666666666,\"#ed7953\"],[0.7777777777777778,\"#fb9f3a\"],[0.8888888888888888,\"#fdca26\"],[1.0,\"#f0f921\"]],\"diverging\":[[0,\"#8e0152\"],[0.1,\"#c51b7d\"],[0.2,\"#de77ae\"],[0.3,\"#f1b6da\"],[0.4,\"#fde0ef\"],[0.5,\"#f7f7f7\"],[0.6,\"#e6f5d0\"],[0.7,\"#b8e186\"],[0.8,\"#7fbc41\"],[0.9,\"#4d9221\"],[1,\"#276419\"]]},\"xaxis\":{\"gridcolor\":\"white\",\"linecolor\":\"white\",\"ticks\":\"\",\"title\":{\"standoff\":15},\"zerolinecolor\":\"white\",\"automargin\":true,\"zerolinewidth\":2},\"yaxis\":{\"gridcolor\":\"white\",\"linecolor\":\"white\",\"ticks\":\"\",\"title\":{\"standoff\":15},\"zerolinecolor\":\"white\",\"automargin\":true,\"zerolinewidth\":2},\"scene\":{\"xaxis\":{\"backgroundcolor\":\"#E5ECF6\",\"gridcolor\":\"white\",\"linecolor\":\"white\",\"showbackground\":true,\"ticks\":\"\",\"zerolinecolor\":\"white\",\"gridwidth\":2},\"yaxis\":{\"backgroundcolor\":\"#E5ECF6\",\"gridcolor\":\"white\",\"linecolor\":\"white\",\"showbackground\":true,\"ticks\":\"\",\"zerolinecolor\":\"white\",\"gridwidth\":2},\"zaxis\":{\"backgroundcolor\":\"#E5ECF6\",\"gridcolor\":\"white\",\"linecolor\":\"white\",\"showbackground\":true,\"ticks\":\"\",\"zerolinecolor\":\"white\",\"gridwidth\":2}},\"shapedefaults\":{\"line\":{\"color\":\"#2a3f5f\"}},\"annotationdefaults\":{\"arrowcolor\":\"#2a3f5f\",\"arrowhead\":0,\"arrowwidth\":1},\"geo\":{\"bgcolor\":\"white\",\"landcolor\":\"#E5ECF6\",\"subunitcolor\":\"white\",\"showland\":true,\"showlakes\":true,\"lakecolor\":\"white\"},\"title\":{\"x\":0.05},\"mapbox\":{\"style\":\"light\"}}},\"xaxis\":{\"anchor\":\"y\",\"domain\":[0.0,0.16799999999999998]},\"yaxis\":{\"anchor\":\"x\",\"domain\":[0.625,1.0]},\"xaxis2\":{\"anchor\":\"y2\",\"domain\":[0.208,0.376]},\"yaxis2\":{\"anchor\":\"x2\",\"domain\":[0.625,1.0]},\"xaxis3\":{\"anchor\":\"y3\",\"domain\":[0.416,0.584]},\"yaxis3\":{\"anchor\":\"x3\",\"domain\":[0.625,1.0]},\"xaxis4\":{\"anchor\":\"y4\",\"domain\":[0.624,0.792]},\"yaxis4\":{\"anchor\":\"x4\",\"domain\":[0.625,1.0]},\"xaxis5\":{\"anchor\":\"y5\",\"domain\":[0.832,1.0]},\"yaxis5\":{\"anchor\":\"x5\",\"domain\":[0.625,1.0]},\"xaxis6\":{\"anchor\":\"y6\",\"domain\":[0.0,0.16799999999999998]},\"yaxis6\":{\"anchor\":\"x6\",\"domain\":[0.0,0.375]},\"xaxis7\":{\"anchor\":\"y7\",\"domain\":[0.208,0.376]},\"yaxis7\":{\"anchor\":\"x7\",\"domain\":[0.0,0.375]},\"xaxis8\":{\"anchor\":\"y8\",\"domain\":[0.416,0.584]},\"yaxis8\":{\"anchor\":\"x8\",\"domain\":[0.0,0.375]},\"xaxis9\":{\"anchor\":\"y9\",\"domain\":[0.624,0.792]},\"yaxis9\":{\"anchor\":\"x9\",\"domain\":[0.0,0.375]},\"xaxis10\":{\"anchor\":\"y10\",\"domain\":[0.832,1.0]},\"yaxis10\":{\"anchor\":\"x10\",\"domain\":[0.0,0.375]},\"annotations\":[{\"font\":{\"size\":16},\"showarrow\":false,\"text\":\"United States\",\"x\":0.08399999999999999,\"xanchor\":\"center\",\"xref\":\"paper\",\"y\":1.0,\"yanchor\":\"bottom\",\"yref\":\"paper\"},{\"font\":{\"size\":16},\"showarrow\":false,\"text\":\"Australia\",\"x\":0.5,\"xanchor\":\"center\",\"xref\":\"paper\",\"y\":1.0,\"yanchor\":\"bottom\",\"yref\":\"paper\"},{\"font\":{\"size\":16},\"showarrow\":false,\"text\":\"United Kingdom\",\"x\":0.9159999999999999,\"xanchor\":\"center\",\"xref\":\"paper\",\"y\":1.0,\"yanchor\":\"bottom\",\"yref\":\"paper\"},{\"font\":{\"size\":16},\"showarrow\":false,\"text\":\"Canada\",\"x\":0.08399999999999999,\"xanchor\":\"center\",\"xref\":\"paper\",\"y\":0.375,\"yanchor\":\"bottom\",\"yref\":\"paper\"},{\"font\":{\"size\":16},\"showarrow\":false,\"text\":\"Spain\",\"x\":0.5,\"xanchor\":\"center\",\"xref\":\"paper\",\"y\":0.375,\"yanchor\":\"bottom\",\"yref\":\"paper\"},{\"font\":{\"size\":16},\"showarrow\":false,\"text\":\"Japan\",\"x\":0.9159999999999999,\"xanchor\":\"center\",\"xref\":\"paper\",\"y\":0.375,\"yanchor\":\"bottom\",\"yref\":\"paper\"}],\"height\":1200,\"showlegend\":false},                        {\"responsive\": true}                    ).then(function(){\n",
       "                            \n",
       "var gd = document.getElementById('6c6074a3-abbd-4dcd-89a9-2249952d563d');\n",
       "var x = new MutationObserver(function (mutations, observer) {{\n",
       "        var display = window.getComputedStyle(gd).display;\n",
       "        if (!display || display === 'none') {{\n",
       "            console.log([gd, 'removed!']);\n",
       "            Plotly.purge(gd);\n",
       "            observer.disconnect();\n",
       "        }}\n",
       "}});\n",
       "\n",
       "// Listen for the removal of the full notebook cells\n",
       "var notebookContainer = gd.closest('#notebook-container');\n",
       "if (notebookContainer) {{\n",
       "    x.observe(notebookContainer, {childList: true});\n",
       "}}\n",
       "\n",
       "// Listen for the clearing of the current output cell\n",
       "var outputEl = gd.closest('.output');\n",
       "if (outputEl) {{\n",
       "    x.observe(outputEl, {childList: true});\n",
       "}}\n",
       "\n",
       "                        })                };            </script>        </div>"
      ]
     },
     "metadata": {},
     "output_type": "display_data"
    }
   ],
   "source": [
    "def country_trace(country, flag = \"movie\"):\n",
    "    df[\"from_us\"] = df['country'].fillna(\"\").apply(lambda x : 1 if country.lower() in x.lower() else 0)\n",
    "    small = df[df[\"from_us\"] == 1]\n",
    "    if flag == \"movie\":\n",
    "        small = small[small[\"duration\"] != \"\"]\n",
    "    else:\n",
    "        small = small[small[\"season_count\"] != \"\"]\n",
    "    cast = \", \".join(small['cast'].fillna(\"\")).split(\", \")\n",
    "    tags = Counter(cast).most_common(25)\n",
    "    tags = [_ for _ in tags if \"\" != _[0]]\n",
    "\n",
    "    labels, values = [_[0]+\"  \" for _ in tags], [_[1] for _ in tags]\n",
    "    trace = go.Bar(y=labels[::-1], x=values[::-1], orientation=\"h\", name=\"\", marker=dict(color=\"#a678de\"))\n",
    "    return trace\n",
    "\n",
    "from plotly.subplots import make_subplots\n",
    "traces = []\n",
    "titles = [\"United States\", \"\",\"Australia\",\"\", \"United Kingdom\", \"Canada\",\"\", \"Spain\",\"\", \"Japan\"]\n",
    "for title in titles:\n",
    "    if title != \"\":\n",
    "        traces.append(country_trace(title))\n",
    "\n",
    "fig = make_subplots(rows=2, cols=5, subplot_titles=titles)\n",
    "fig.add_trace(traces[0], 1,1)\n",
    "fig.add_trace(traces[1], 1,3)\n",
    "fig.add_trace(traces[2], 1,5)\n",
    "fig.add_trace(traces[3], 2,1)\n",
    "fig.add_trace(traces[4], 2,3)\n",
    "fig.add_trace(traces[5], 2,5)\n",
    "\n",
    "fig.update_layout(height=1200, showlegend=False)\n",
    "fig.show()"
   ]
  },
  {
   "cell_type": "markdown",
   "id": "f869da31",
   "metadata": {
    "papermill": {
     "duration": 0.02928,
     "end_time": "2021-10-02T08:28:44.603286",
     "exception": false,
     "start_time": "2021-10-02T08:28:44.574006",
     "status": "completed"
    },
    "tags": []
   },
   "source": [
    "## 9. Top Actors on Disney+ with Most TV Shows"
   ]
  },
  {
   "cell_type": "code",
   "execution_count": 28,
   "id": "a260c89a",
   "metadata": {
    "_kg_hide-input": true,
    "execution": {
     "iopub.execute_input": "2021-10-02T08:28:44.665417Z",
     "iopub.status.busy": "2021-10-02T08:28:44.664783Z",
     "iopub.status.idle": "2021-10-02T08:28:44.720468Z",
     "shell.execute_reply": "2021-10-02T08:28:44.720990Z",
     "shell.execute_reply.started": "2021-10-02T08:27:12.357638Z"
    },
    "papermill": {
     "duration": 0.088335,
     "end_time": "2021-10-02T08:28:44.721171",
     "exception": false,
     "start_time": "2021-10-02T08:28:44.632836",
     "status": "completed"
    },
    "tags": []
   },
   "outputs": [
    {
     "data": {
      "application/vnd.plotly.v1+json": {
       "config": {
        "plotlyServerURL": "https://plot.ly"
       },
       "data": [
        {
         "marker": {
          "color": "#a678de"
         },
         "name": "",
         "orientation": "h",
         "type": "bar",
         "x": [
          9,
          9,
          9,
          9,
          9,
          9,
          10,
          10,
          10,
          11,
          11,
          11,
          11,
          12,
          13,
          13,
          14,
          14,
          15,
          15,
          16,
          17,
          20,
          31
         ],
         "xaxis": "x",
         "y": [
          "Tony Anselmo  ",
          "Tom Kenny  ",
          "Chris Evans  ",
          "John Goodman  ",
          "Brenda Song  ",
          "Dave Goelz  ",
          "Clarence Nash  ",
          "Dove Cameron  ",
          "Scarlett Johansson  ",
          "Winston Hibler  ",
          "Tom Hanks  ",
          "Dee Baker  ",
          "Bill Farmer  ",
          "Corey Burton  ",
          "Wallace Shawn  ",
          "Tony Hale  ",
          "Tim Allen  ",
          "Jeff Bennett  ",
          "Pinto Colvig  ",
          "Bob Peterson  ",
          "Keith Ferguson  ",
          "Larry the Cable Guy   ",
          "Walt Disney  ",
          "Jim Cummings  "
         ],
         "yaxis": "y"
        },
        {
         "marker": {
          "color": "#a678de"
         },
         "name": "",
         "orientation": "h",
         "type": "bar",
         "x": [
          2,
          2,
          2,
          2,
          2,
          2,
          2,
          3,
          3,
          3,
          3,
          3,
          3,
          3,
          3,
          3,
          3,
          3,
          3,
          3,
          4,
          4,
          4,
          4
         ],
         "xaxis": "x3",
         "y": [
          "Johnny Depp  ",
          "Sam Riley  ",
          "Elle Fanning  ",
          "Angelina Jolie  ",
          "Nicholas Hoult  ",
          "Jennifer Lawrence  ",
          "Michael Fassbender  ",
          "Jerry Nelson  ",
          "Tim Curry  ",
          "Skandar Keynes  ",
          "Georgie Henley  ",
          "Richard Hunt  ",
          "Jim Henson  ",
          "Jim Cummings  ",
          "Hugh Jackman  ",
          "Denis Leary  ",
          "John Leguizamo  ",
          "Ray Romano  ",
          "Emma Thompson  ",
          "Russell Boulter  ",
          "Dave Goelz  ",
          "Frank Oz  ",
          "Bill Murray  ",
          "James McAvoy  "
         ],
         "yaxis": "y3"
        }
       ],
       "layout": {
        "annotations": [
         {
          "font": {
           "size": 16
          },
          "showarrow": false,
          "text": "United States",
          "x": 0.14444444444444446,
          "xanchor": "center",
          "xref": "paper",
          "y": 1,
          "yanchor": "bottom",
          "yref": "paper"
         },
         {
          "font": {
           "size": 16
          },
          "showarrow": false,
          "text": "United Kingdom",
          "x": 0.8555555555555556,
          "xanchor": "center",
          "xref": "paper",
          "y": 1,
          "yanchor": "bottom",
          "yref": "paper"
         }
        ],
        "height": 600,
        "showlegend": false,
        "template": {
         "data": {
          "bar": [
           {
            "error_x": {
             "color": "#2a3f5f"
            },
            "error_y": {
             "color": "#2a3f5f"
            },
            "marker": {
             "line": {
              "color": "#E5ECF6",
              "width": 0.5
             },
             "pattern": {
              "fillmode": "overlay",
              "size": 10,
              "solidity": 0.2
             }
            },
            "type": "bar"
           }
          ],
          "barpolar": [
           {
            "marker": {
             "line": {
              "color": "#E5ECF6",
              "width": 0.5
             },
             "pattern": {
              "fillmode": "overlay",
              "size": 10,
              "solidity": 0.2
             }
            },
            "type": "barpolar"
           }
          ],
          "carpet": [
           {
            "aaxis": {
             "endlinecolor": "#2a3f5f",
             "gridcolor": "white",
             "linecolor": "white",
             "minorgridcolor": "white",
             "startlinecolor": "#2a3f5f"
            },
            "baxis": {
             "endlinecolor": "#2a3f5f",
             "gridcolor": "white",
             "linecolor": "white",
             "minorgridcolor": "white",
             "startlinecolor": "#2a3f5f"
            },
            "type": "carpet"
           }
          ],
          "choropleth": [
           {
            "colorbar": {
             "outlinewidth": 0,
             "ticks": ""
            },
            "type": "choropleth"
           }
          ],
          "contour": [
           {
            "colorbar": {
             "outlinewidth": 0,
             "ticks": ""
            },
            "colorscale": [
             [
              0,
              "#0d0887"
             ],
             [
              0.1111111111111111,
              "#46039f"
             ],
             [
              0.2222222222222222,
              "#7201a8"
             ],
             [
              0.3333333333333333,
              "#9c179e"
             ],
             [
              0.4444444444444444,
              "#bd3786"
             ],
             [
              0.5555555555555556,
              "#d8576b"
             ],
             [
              0.6666666666666666,
              "#ed7953"
             ],
             [
              0.7777777777777778,
              "#fb9f3a"
             ],
             [
              0.8888888888888888,
              "#fdca26"
             ],
             [
              1,
              "#f0f921"
             ]
            ],
            "type": "contour"
           }
          ],
          "contourcarpet": [
           {
            "colorbar": {
             "outlinewidth": 0,
             "ticks": ""
            },
            "type": "contourcarpet"
           }
          ],
          "heatmap": [
           {
            "colorbar": {
             "outlinewidth": 0,
             "ticks": ""
            },
            "colorscale": [
             [
              0,
              "#0d0887"
             ],
             [
              0.1111111111111111,
              "#46039f"
             ],
             [
              0.2222222222222222,
              "#7201a8"
             ],
             [
              0.3333333333333333,
              "#9c179e"
             ],
             [
              0.4444444444444444,
              "#bd3786"
             ],
             [
              0.5555555555555556,
              "#d8576b"
             ],
             [
              0.6666666666666666,
              "#ed7953"
             ],
             [
              0.7777777777777778,
              "#fb9f3a"
             ],
             [
              0.8888888888888888,
              "#fdca26"
             ],
             [
              1,
              "#f0f921"
             ]
            ],
            "type": "heatmap"
           }
          ],
          "histogram": [
           {
            "marker": {
             "pattern": {
              "fillmode": "overlay",
              "size": 10,
              "solidity": 0.2
             }
            },
            "type": "histogram"
           }
          ],
          "histogram2d": [
           {
            "colorbar": {
             "outlinewidth": 0,
             "ticks": ""
            },
            "colorscale": [
             [
              0,
              "#0d0887"
             ],
             [
              0.1111111111111111,
              "#46039f"
             ],
             [
              0.2222222222222222,
              "#7201a8"
             ],
             [
              0.3333333333333333,
              "#9c179e"
             ],
             [
              0.4444444444444444,
              "#bd3786"
             ],
             [
              0.5555555555555556,
              "#d8576b"
             ],
             [
              0.6666666666666666,
              "#ed7953"
             ],
             [
              0.7777777777777778,
              "#fb9f3a"
             ],
             [
              0.8888888888888888,
              "#fdca26"
             ],
             [
              1,
              "#f0f921"
             ]
            ],
            "type": "histogram2d"
           }
          ],
          "histogram2dcontour": [
           {
            "colorbar": {
             "outlinewidth": 0,
             "ticks": ""
            },
            "colorscale": [
             [
              0,
              "#0d0887"
             ],
             [
              0.1111111111111111,
              "#46039f"
             ],
             [
              0.2222222222222222,
              "#7201a8"
             ],
             [
              0.3333333333333333,
              "#9c179e"
             ],
             [
              0.4444444444444444,
              "#bd3786"
             ],
             [
              0.5555555555555556,
              "#d8576b"
             ],
             [
              0.6666666666666666,
              "#ed7953"
             ],
             [
              0.7777777777777778,
              "#fb9f3a"
             ],
             [
              0.8888888888888888,
              "#fdca26"
             ],
             [
              1,
              "#f0f921"
             ]
            ],
            "type": "histogram2dcontour"
           }
          ],
          "mesh3d": [
           {
            "colorbar": {
             "outlinewidth": 0,
             "ticks": ""
            },
            "type": "mesh3d"
           }
          ],
          "parcoords": [
           {
            "line": {
             "colorbar": {
              "outlinewidth": 0,
              "ticks": ""
             }
            },
            "type": "parcoords"
           }
          ],
          "pie": [
           {
            "automargin": true,
            "type": "pie"
           }
          ],
          "scatter": [
           {
            "fillpattern": {
             "fillmode": "overlay",
             "size": 10,
             "solidity": 0.2
            },
            "type": "scatter"
           }
          ],
          "scatter3d": [
           {
            "line": {
             "colorbar": {
              "outlinewidth": 0,
              "ticks": ""
             }
            },
            "marker": {
             "colorbar": {
              "outlinewidth": 0,
              "ticks": ""
             }
            },
            "type": "scatter3d"
           }
          ],
          "scattercarpet": [
           {
            "marker": {
             "colorbar": {
              "outlinewidth": 0,
              "ticks": ""
             }
            },
            "type": "scattercarpet"
           }
          ],
          "scattergeo": [
           {
            "marker": {
             "colorbar": {
              "outlinewidth": 0,
              "ticks": ""
             }
            },
            "type": "scattergeo"
           }
          ],
          "scattergl": [
           {
            "marker": {
             "colorbar": {
              "outlinewidth": 0,
              "ticks": ""
             }
            },
            "type": "scattergl"
           }
          ],
          "scattermap": [
           {
            "marker": {
             "colorbar": {
              "outlinewidth": 0,
              "ticks": ""
             }
            },
            "type": "scattermap"
           }
          ],
          "scattermapbox": [
           {
            "marker": {
             "colorbar": {
              "outlinewidth": 0,
              "ticks": ""
             }
            },
            "type": "scattermapbox"
           }
          ],
          "scatterpolar": [
           {
            "marker": {
             "colorbar": {
              "outlinewidth": 0,
              "ticks": ""
             }
            },
            "type": "scatterpolar"
           }
          ],
          "scatterpolargl": [
           {
            "marker": {
             "colorbar": {
              "outlinewidth": 0,
              "ticks": ""
             }
            },
            "type": "scatterpolargl"
           }
          ],
          "scatterternary": [
           {
            "marker": {
             "colorbar": {
              "outlinewidth": 0,
              "ticks": ""
             }
            },
            "type": "scatterternary"
           }
          ],
          "surface": [
           {
            "colorbar": {
             "outlinewidth": 0,
             "ticks": ""
            },
            "colorscale": [
             [
              0,
              "#0d0887"
             ],
             [
              0.1111111111111111,
              "#46039f"
             ],
             [
              0.2222222222222222,
              "#7201a8"
             ],
             [
              0.3333333333333333,
              "#9c179e"
             ],
             [
              0.4444444444444444,
              "#bd3786"
             ],
             [
              0.5555555555555556,
              "#d8576b"
             ],
             [
              0.6666666666666666,
              "#ed7953"
             ],
             [
              0.7777777777777778,
              "#fb9f3a"
             ],
             [
              0.8888888888888888,
              "#fdca26"
             ],
             [
              1,
              "#f0f921"
             ]
            ],
            "type": "surface"
           }
          ],
          "table": [
           {
            "cells": {
             "fill": {
              "color": "#EBF0F8"
             },
             "line": {
              "color": "white"
             }
            },
            "header": {
             "fill": {
              "color": "#C8D4E3"
             },
             "line": {
              "color": "white"
             }
            },
            "type": "table"
           }
          ]
         },
         "layout": {
          "annotationdefaults": {
           "arrowcolor": "#2a3f5f",
           "arrowhead": 0,
           "arrowwidth": 1
          },
          "autotypenumbers": "strict",
          "coloraxis": {
           "colorbar": {
            "outlinewidth": 0,
            "ticks": ""
           }
          },
          "colorscale": {
           "diverging": [
            [
             0,
             "#8e0152"
            ],
            [
             0.1,
             "#c51b7d"
            ],
            [
             0.2,
             "#de77ae"
            ],
            [
             0.3,
             "#f1b6da"
            ],
            [
             0.4,
             "#fde0ef"
            ],
            [
             0.5,
             "#f7f7f7"
            ],
            [
             0.6,
             "#e6f5d0"
            ],
            [
             0.7,
             "#b8e186"
            ],
            [
             0.8,
             "#7fbc41"
            ],
            [
             0.9,
             "#4d9221"
            ],
            [
             1,
             "#276419"
            ]
           ],
           "sequential": [
            [
             0,
             "#0d0887"
            ],
            [
             0.1111111111111111,
             "#46039f"
            ],
            [
             0.2222222222222222,
             "#7201a8"
            ],
            [
             0.3333333333333333,
             "#9c179e"
            ],
            [
             0.4444444444444444,
             "#bd3786"
            ],
            [
             0.5555555555555556,
             "#d8576b"
            ],
            [
             0.6666666666666666,
             "#ed7953"
            ],
            [
             0.7777777777777778,
             "#fb9f3a"
            ],
            [
             0.8888888888888888,
             "#fdca26"
            ],
            [
             1,
             "#f0f921"
            ]
           ],
           "sequentialminus": [
            [
             0,
             "#0d0887"
            ],
            [
             0.1111111111111111,
             "#46039f"
            ],
            [
             0.2222222222222222,
             "#7201a8"
            ],
            [
             0.3333333333333333,
             "#9c179e"
            ],
            [
             0.4444444444444444,
             "#bd3786"
            ],
            [
             0.5555555555555556,
             "#d8576b"
            ],
            [
             0.6666666666666666,
             "#ed7953"
            ],
            [
             0.7777777777777778,
             "#fb9f3a"
            ],
            [
             0.8888888888888888,
             "#fdca26"
            ],
            [
             1,
             "#f0f921"
            ]
           ]
          },
          "colorway": [
           "#636efa",
           "#EF553B",
           "#00cc96",
           "#ab63fa",
           "#FFA15A",
           "#19d3f3",
           "#FF6692",
           "#B6E880",
           "#FF97FF",
           "#FECB52"
          ],
          "font": {
           "color": "#2a3f5f"
          },
          "geo": {
           "bgcolor": "white",
           "lakecolor": "white",
           "landcolor": "#E5ECF6",
           "showlakes": true,
           "showland": true,
           "subunitcolor": "white"
          },
          "hoverlabel": {
           "align": "left"
          },
          "hovermode": "closest",
          "mapbox": {
           "style": "light"
          },
          "paper_bgcolor": "white",
          "plot_bgcolor": "#E5ECF6",
          "polar": {
           "angularaxis": {
            "gridcolor": "white",
            "linecolor": "white",
            "ticks": ""
           },
           "bgcolor": "#E5ECF6",
           "radialaxis": {
            "gridcolor": "white",
            "linecolor": "white",
            "ticks": ""
           }
          },
          "scene": {
           "xaxis": {
            "backgroundcolor": "#E5ECF6",
            "gridcolor": "white",
            "gridwidth": 2,
            "linecolor": "white",
            "showbackground": true,
            "ticks": "",
            "zerolinecolor": "white"
           },
           "yaxis": {
            "backgroundcolor": "#E5ECF6",
            "gridcolor": "white",
            "gridwidth": 2,
            "linecolor": "white",
            "showbackground": true,
            "ticks": "",
            "zerolinecolor": "white"
           },
           "zaxis": {
            "backgroundcolor": "#E5ECF6",
            "gridcolor": "white",
            "gridwidth": 2,
            "linecolor": "white",
            "showbackground": true,
            "ticks": "",
            "zerolinecolor": "white"
           }
          },
          "shapedefaults": {
           "line": {
            "color": "#2a3f5f"
           }
          },
          "ternary": {
           "aaxis": {
            "gridcolor": "white",
            "linecolor": "white",
            "ticks": ""
           },
           "baxis": {
            "gridcolor": "white",
            "linecolor": "white",
            "ticks": ""
           },
           "bgcolor": "#E5ECF6",
           "caxis": {
            "gridcolor": "white",
            "linecolor": "white",
            "ticks": ""
           }
          },
          "title": {
           "x": 0.05
          },
          "xaxis": {
           "automargin": true,
           "gridcolor": "white",
           "linecolor": "white",
           "ticks": "",
           "title": {
            "standoff": 15
           },
           "zerolinecolor": "white",
           "zerolinewidth": 2
          },
          "yaxis": {
           "automargin": true,
           "gridcolor": "white",
           "linecolor": "white",
           "ticks": "",
           "title": {
            "standoff": 15
           },
           "zerolinecolor": "white",
           "zerolinewidth": 2
          }
         }
        },
        "xaxis": {
         "anchor": "y",
         "domain": [
          0,
          0.2888888888888889
         ]
        },
        "xaxis2": {
         "anchor": "y2",
         "domain": [
          0.35555555555555557,
          0.6444444444444445
         ]
        },
        "xaxis3": {
         "anchor": "y3",
         "domain": [
          0.7111111111111111,
          1
         ]
        },
        "yaxis": {
         "anchor": "x",
         "domain": [
          0,
          1
         ]
        },
        "yaxis2": {
         "anchor": "x2",
         "domain": [
          0,
          1
         ]
        },
        "yaxis3": {
         "anchor": "x3",
         "domain": [
          0,
          1
         ]
        }
       }
      },
      "text/html": [
       "<div>            <script src=\"https://cdnjs.cloudflare.com/ajax/libs/mathjax/2.7.5/MathJax.js?config=TeX-AMS-MML_SVG\"></script><script type=\"text/javascript\">if (window.MathJax && window.MathJax.Hub && window.MathJax.Hub.Config) {window.MathJax.Hub.Config({SVG: {font: \"STIX-Web\"}});}</script>                <script type=\"text/javascript\">window.PlotlyConfig = {MathJaxConfig: 'local'};</script>\n",
       "        <script charset=\"utf-8\" src=\"https://cdn.plot.ly/plotly-3.0.0.min.js\"></script>                <div id=\"e695151d-6513-4019-8721-ce628bec3a78\" class=\"plotly-graph-div\" style=\"height:600px; width:100%;\"></div>            <script type=\"text/javascript\">                window.PLOTLYENV=window.PLOTLYENV || {};                                if (document.getElementById(\"e695151d-6513-4019-8721-ce628bec3a78\")) {                    Plotly.newPlot(                        \"e695151d-6513-4019-8721-ce628bec3a78\",                        [{\"marker\":{\"color\":\"#a678de\"},\"name\":\"\",\"orientation\":\"h\",\"x\":[9,9,9,9,9,9,10,10,10,11,11,11,11,12,13,13,14,14,15,15,16,17,20,31],\"y\":[\"Tony Anselmo  \",\"Tom Kenny  \",\"Chris Evans  \",\"John Goodman  \",\"Brenda Song  \",\"Dave Goelz  \",\"Clarence Nash  \",\"Dove Cameron  \",\"Scarlett Johansson  \",\"Winston Hibler  \",\"Tom Hanks  \",\"Dee Baker  \",\"Bill Farmer  \",\"Corey Burton  \",\"Wallace Shawn  \",\"Tony Hale  \",\"Tim Allen  \",\"Jeff Bennett  \",\"Pinto Colvig  \",\"Bob Peterson  \",\"Keith Ferguson  \",\"Larry the Cable Guy   \",\"Walt Disney  \",\"Jim Cummings  \"],\"type\":\"bar\",\"xaxis\":\"x\",\"yaxis\":\"y\"},{\"marker\":{\"color\":\"#a678de\"},\"name\":\"\",\"orientation\":\"h\",\"x\":[2,2,2,2,2,2,2,3,3,3,3,3,3,3,3,3,3,3,3,3,4,4,4,4],\"y\":[\"Johnny Depp  \",\"Sam Riley  \",\"Elle Fanning  \",\"Angelina Jolie  \",\"Nicholas Hoult  \",\"Jennifer Lawrence  \",\"Michael Fassbender  \",\"Jerry Nelson  \",\"Tim Curry  \",\"Skandar Keynes  \",\"Georgie Henley  \",\"Richard Hunt  \",\"Jim Henson  \",\"Jim Cummings  \",\"Hugh Jackman  \",\"Denis Leary  \",\"John Leguizamo  \",\"Ray Romano  \",\"Emma Thompson  \",\"Russell Boulter  \",\"Dave Goelz  \",\"Frank Oz  \",\"Bill Murray  \",\"James McAvoy  \"],\"type\":\"bar\",\"xaxis\":\"x3\",\"yaxis\":\"y3\"}],                        {\"template\":{\"data\":{\"histogram2dcontour\":[{\"type\":\"histogram2dcontour\",\"colorbar\":{\"outlinewidth\":0,\"ticks\":\"\"},\"colorscale\":[[0.0,\"#0d0887\"],[0.1111111111111111,\"#46039f\"],[0.2222222222222222,\"#7201a8\"],[0.3333333333333333,\"#9c179e\"],[0.4444444444444444,\"#bd3786\"],[0.5555555555555556,\"#d8576b\"],[0.6666666666666666,\"#ed7953\"],[0.7777777777777778,\"#fb9f3a\"],[0.8888888888888888,\"#fdca26\"],[1.0,\"#f0f921\"]]}],\"choropleth\":[{\"type\":\"choropleth\",\"colorbar\":{\"outlinewidth\":0,\"ticks\":\"\"}}],\"histogram2d\":[{\"type\":\"histogram2d\",\"colorbar\":{\"outlinewidth\":0,\"ticks\":\"\"},\"colorscale\":[[0.0,\"#0d0887\"],[0.1111111111111111,\"#46039f\"],[0.2222222222222222,\"#7201a8\"],[0.3333333333333333,\"#9c179e\"],[0.4444444444444444,\"#bd3786\"],[0.5555555555555556,\"#d8576b\"],[0.6666666666666666,\"#ed7953\"],[0.7777777777777778,\"#fb9f3a\"],[0.8888888888888888,\"#fdca26\"],[1.0,\"#f0f921\"]]}],\"heatmap\":[{\"type\":\"heatmap\",\"colorbar\":{\"outlinewidth\":0,\"ticks\":\"\"},\"colorscale\":[[0.0,\"#0d0887\"],[0.1111111111111111,\"#46039f\"],[0.2222222222222222,\"#7201a8\"],[0.3333333333333333,\"#9c179e\"],[0.4444444444444444,\"#bd3786\"],[0.5555555555555556,\"#d8576b\"],[0.6666666666666666,\"#ed7953\"],[0.7777777777777778,\"#fb9f3a\"],[0.8888888888888888,\"#fdca26\"],[1.0,\"#f0f921\"]]}],\"contourcarpet\":[{\"type\":\"contourcarpet\",\"colorbar\":{\"outlinewidth\":0,\"ticks\":\"\"}}],\"contour\":[{\"type\":\"contour\",\"colorbar\":{\"outlinewidth\":0,\"ticks\":\"\"},\"colorscale\":[[0.0,\"#0d0887\"],[0.1111111111111111,\"#46039f\"],[0.2222222222222222,\"#7201a8\"],[0.3333333333333333,\"#9c179e\"],[0.4444444444444444,\"#bd3786\"],[0.5555555555555556,\"#d8576b\"],[0.6666666666666666,\"#ed7953\"],[0.7777777777777778,\"#fb9f3a\"],[0.8888888888888888,\"#fdca26\"],[1.0,\"#f0f921\"]]}],\"surface\":[{\"type\":\"surface\",\"colorbar\":{\"outlinewidth\":0,\"ticks\":\"\"},\"colorscale\":[[0.0,\"#0d0887\"],[0.1111111111111111,\"#46039f\"],[0.2222222222222222,\"#7201a8\"],[0.3333333333333333,\"#9c179e\"],[0.4444444444444444,\"#bd3786\"],[0.5555555555555556,\"#d8576b\"],[0.6666666666666666,\"#ed7953\"],[0.7777777777777778,\"#fb9f3a\"],[0.8888888888888888,\"#fdca26\"],[1.0,\"#f0f921\"]]}],\"mesh3d\":[{\"type\":\"mesh3d\",\"colorbar\":{\"outlinewidth\":0,\"ticks\":\"\"}}],\"scatter\":[{\"fillpattern\":{\"fillmode\":\"overlay\",\"size\":10,\"solidity\":0.2},\"type\":\"scatter\"}],\"parcoords\":[{\"type\":\"parcoords\",\"line\":{\"colorbar\":{\"outlinewidth\":0,\"ticks\":\"\"}}}],\"scatterpolargl\":[{\"type\":\"scatterpolargl\",\"marker\":{\"colorbar\":{\"outlinewidth\":0,\"ticks\":\"\"}}}],\"bar\":[{\"error_x\":{\"color\":\"#2a3f5f\"},\"error_y\":{\"color\":\"#2a3f5f\"},\"marker\":{\"line\":{\"color\":\"#E5ECF6\",\"width\":0.5},\"pattern\":{\"fillmode\":\"overlay\",\"size\":10,\"solidity\":0.2}},\"type\":\"bar\"}],\"scattergeo\":[{\"type\":\"scattergeo\",\"marker\":{\"colorbar\":{\"outlinewidth\":0,\"ticks\":\"\"}}}],\"scatterpolar\":[{\"type\":\"scatterpolar\",\"marker\":{\"colorbar\":{\"outlinewidth\":0,\"ticks\":\"\"}}}],\"histogram\":[{\"marker\":{\"pattern\":{\"fillmode\":\"overlay\",\"size\":10,\"solidity\":0.2}},\"type\":\"histogram\"}],\"scattergl\":[{\"type\":\"scattergl\",\"marker\":{\"colorbar\":{\"outlinewidth\":0,\"ticks\":\"\"}}}],\"scatter3d\":[{\"type\":\"scatter3d\",\"line\":{\"colorbar\":{\"outlinewidth\":0,\"ticks\":\"\"}},\"marker\":{\"colorbar\":{\"outlinewidth\":0,\"ticks\":\"\"}}}],\"scattermap\":[{\"type\":\"scattermap\",\"marker\":{\"colorbar\":{\"outlinewidth\":0,\"ticks\":\"\"}}}],\"scattermapbox\":[{\"type\":\"scattermapbox\",\"marker\":{\"colorbar\":{\"outlinewidth\":0,\"ticks\":\"\"}}}],\"scatterternary\":[{\"type\":\"scatterternary\",\"marker\":{\"colorbar\":{\"outlinewidth\":0,\"ticks\":\"\"}}}],\"scattercarpet\":[{\"type\":\"scattercarpet\",\"marker\":{\"colorbar\":{\"outlinewidth\":0,\"ticks\":\"\"}}}],\"carpet\":[{\"aaxis\":{\"endlinecolor\":\"#2a3f5f\",\"gridcolor\":\"white\",\"linecolor\":\"white\",\"minorgridcolor\":\"white\",\"startlinecolor\":\"#2a3f5f\"},\"baxis\":{\"endlinecolor\":\"#2a3f5f\",\"gridcolor\":\"white\",\"linecolor\":\"white\",\"minorgridcolor\":\"white\",\"startlinecolor\":\"#2a3f5f\"},\"type\":\"carpet\"}],\"table\":[{\"cells\":{\"fill\":{\"color\":\"#EBF0F8\"},\"line\":{\"color\":\"white\"}},\"header\":{\"fill\":{\"color\":\"#C8D4E3\"},\"line\":{\"color\":\"white\"}},\"type\":\"table\"}],\"barpolar\":[{\"marker\":{\"line\":{\"color\":\"#E5ECF6\",\"width\":0.5},\"pattern\":{\"fillmode\":\"overlay\",\"size\":10,\"solidity\":0.2}},\"type\":\"barpolar\"}],\"pie\":[{\"automargin\":true,\"type\":\"pie\"}]},\"layout\":{\"autotypenumbers\":\"strict\",\"colorway\":[\"#636efa\",\"#EF553B\",\"#00cc96\",\"#ab63fa\",\"#FFA15A\",\"#19d3f3\",\"#FF6692\",\"#B6E880\",\"#FF97FF\",\"#FECB52\"],\"font\":{\"color\":\"#2a3f5f\"},\"hovermode\":\"closest\",\"hoverlabel\":{\"align\":\"left\"},\"paper_bgcolor\":\"white\",\"plot_bgcolor\":\"#E5ECF6\",\"polar\":{\"bgcolor\":\"#E5ECF6\",\"angularaxis\":{\"gridcolor\":\"white\",\"linecolor\":\"white\",\"ticks\":\"\"},\"radialaxis\":{\"gridcolor\":\"white\",\"linecolor\":\"white\",\"ticks\":\"\"}},\"ternary\":{\"bgcolor\":\"#E5ECF6\",\"aaxis\":{\"gridcolor\":\"white\",\"linecolor\":\"white\",\"ticks\":\"\"},\"baxis\":{\"gridcolor\":\"white\",\"linecolor\":\"white\",\"ticks\":\"\"},\"caxis\":{\"gridcolor\":\"white\",\"linecolor\":\"white\",\"ticks\":\"\"}},\"coloraxis\":{\"colorbar\":{\"outlinewidth\":0,\"ticks\":\"\"}},\"colorscale\":{\"sequential\":[[0.0,\"#0d0887\"],[0.1111111111111111,\"#46039f\"],[0.2222222222222222,\"#7201a8\"],[0.3333333333333333,\"#9c179e\"],[0.4444444444444444,\"#bd3786\"],[0.5555555555555556,\"#d8576b\"],[0.6666666666666666,\"#ed7953\"],[0.7777777777777778,\"#fb9f3a\"],[0.8888888888888888,\"#fdca26\"],[1.0,\"#f0f921\"]],\"sequentialminus\":[[0.0,\"#0d0887\"],[0.1111111111111111,\"#46039f\"],[0.2222222222222222,\"#7201a8\"],[0.3333333333333333,\"#9c179e\"],[0.4444444444444444,\"#bd3786\"],[0.5555555555555556,\"#d8576b\"],[0.6666666666666666,\"#ed7953\"],[0.7777777777777778,\"#fb9f3a\"],[0.8888888888888888,\"#fdca26\"],[1.0,\"#f0f921\"]],\"diverging\":[[0,\"#8e0152\"],[0.1,\"#c51b7d\"],[0.2,\"#de77ae\"],[0.3,\"#f1b6da\"],[0.4,\"#fde0ef\"],[0.5,\"#f7f7f7\"],[0.6,\"#e6f5d0\"],[0.7,\"#b8e186\"],[0.8,\"#7fbc41\"],[0.9,\"#4d9221\"],[1,\"#276419\"]]},\"xaxis\":{\"gridcolor\":\"white\",\"linecolor\":\"white\",\"ticks\":\"\",\"title\":{\"standoff\":15},\"zerolinecolor\":\"white\",\"automargin\":true,\"zerolinewidth\":2},\"yaxis\":{\"gridcolor\":\"white\",\"linecolor\":\"white\",\"ticks\":\"\",\"title\":{\"standoff\":15},\"zerolinecolor\":\"white\",\"automargin\":true,\"zerolinewidth\":2},\"scene\":{\"xaxis\":{\"backgroundcolor\":\"#E5ECF6\",\"gridcolor\":\"white\",\"linecolor\":\"white\",\"showbackground\":true,\"ticks\":\"\",\"zerolinecolor\":\"white\",\"gridwidth\":2},\"yaxis\":{\"backgroundcolor\":\"#E5ECF6\",\"gridcolor\":\"white\",\"linecolor\":\"white\",\"showbackground\":true,\"ticks\":\"\",\"zerolinecolor\":\"white\",\"gridwidth\":2},\"zaxis\":{\"backgroundcolor\":\"#E5ECF6\",\"gridcolor\":\"white\",\"linecolor\":\"white\",\"showbackground\":true,\"ticks\":\"\",\"zerolinecolor\":\"white\",\"gridwidth\":2}},\"shapedefaults\":{\"line\":{\"color\":\"#2a3f5f\"}},\"annotationdefaults\":{\"arrowcolor\":\"#2a3f5f\",\"arrowhead\":0,\"arrowwidth\":1},\"geo\":{\"bgcolor\":\"white\",\"landcolor\":\"#E5ECF6\",\"subunitcolor\":\"white\",\"showland\":true,\"showlakes\":true,\"lakecolor\":\"white\"},\"title\":{\"x\":0.05},\"mapbox\":{\"style\":\"light\"}}},\"xaxis\":{\"anchor\":\"y\",\"domain\":[0.0,0.2888888888888889]},\"yaxis\":{\"anchor\":\"x\",\"domain\":[0.0,1.0]},\"xaxis2\":{\"anchor\":\"y2\",\"domain\":[0.35555555555555557,0.6444444444444445]},\"yaxis2\":{\"anchor\":\"x2\",\"domain\":[0.0,1.0]},\"xaxis3\":{\"anchor\":\"y3\",\"domain\":[0.7111111111111111,1.0]},\"yaxis3\":{\"anchor\":\"x3\",\"domain\":[0.0,1.0]},\"annotations\":[{\"font\":{\"size\":16},\"showarrow\":false,\"text\":\"United States\",\"x\":0.14444444444444446,\"xanchor\":\"center\",\"xref\":\"paper\",\"y\":1.0,\"yanchor\":\"bottom\",\"yref\":\"paper\"},{\"font\":{\"size\":16},\"showarrow\":false,\"text\":\"United Kingdom\",\"x\":0.8555555555555556,\"xanchor\":\"center\",\"xref\":\"paper\",\"y\":1.0,\"yanchor\":\"bottom\",\"yref\":\"paper\"}],\"height\":600,\"showlegend\":false},                        {\"responsive\": true}                    ).then(function(){\n",
       "                            \n",
       "var gd = document.getElementById('e695151d-6513-4019-8721-ce628bec3a78');\n",
       "var x = new MutationObserver(function (mutations, observer) {{\n",
       "        var display = window.getComputedStyle(gd).display;\n",
       "        if (!display || display === 'none') {{\n",
       "            console.log([gd, 'removed!']);\n",
       "            Plotly.purge(gd);\n",
       "            observer.disconnect();\n",
       "        }}\n",
       "}});\n",
       "\n",
       "// Listen for the removal of the full notebook cells\n",
       "var notebookContainer = gd.closest('#notebook-container');\n",
       "if (notebookContainer) {{\n",
       "    x.observe(notebookContainer, {childList: true});\n",
       "}}\n",
       "\n",
       "// Listen for the clearing of the current output cell\n",
       "var outputEl = gd.closest('.output');\n",
       "if (outputEl) {{\n",
       "    x.observe(outputEl, {childList: true});\n",
       "}}\n",
       "\n",
       "                        })                };            </script>        </div>"
      ]
     },
     "metadata": {},
     "output_type": "display_data"
    }
   ],
   "source": [
    "traces = []\n",
    "titles = [\"United States\",\"\", \"United Kingdom\"]\n",
    "for title in titles:\n",
    "    if title != \"\":\n",
    "        traces.append(country_trace(title, flag=\"tv_shows\"))\n",
    "\n",
    "fig = make_subplots(rows=1, cols=3, subplot_titles=titles)\n",
    "fig.add_trace(traces[0], 1,1)\n",
    "fig.add_trace(traces[1], 1,3)\n",
    "\n",
    "fig.update_layout(height=600, showlegend=False)\n",
    "fig.show()"
   ]
  },
  {
   "cell_type": "code",
   "execution_count": 26,
   "id": "6ca49dcf",
   "metadata": {
    "_kg_hide-input": true,
    "execution": {
     "iopub.execute_input": "2021-10-02T08:28:44.786071Z",
     "iopub.status.busy": "2021-10-02T08:28:44.785446Z",
     "iopub.status.idle": "2021-10-02T08:28:44.804560Z",
     "shell.execute_reply": "2021-10-02T08:28:44.804038Z",
     "shell.execute_reply.started": "2021-10-02T08:27:43.996462Z"
    },
    "papermill": {
     "duration": 0.052388,
     "end_time": "2021-10-02T08:28:44.804700",
     "exception": false,
     "start_time": "2021-10-02T08:28:44.752312",
     "status": "completed"
    },
    "tags": []
   },
   "outputs": [
    {
     "data": {
      "application/vnd.plotly.v1+json": {
       "config": {
        "plotlyServerURL": "https://plot.ly"
       },
       "data": [
        {
         "marker": {
          "color": "orange"
         },
         "name": "TV Shows",
         "orientation": "h",
         "type": "bar",
         "x": [
          10,
          10,
          11,
          12,
          12,
          13,
          13,
          14,
          15,
          16,
          17
         ],
         "y": [
          "Vincent McEveety",
          "Bob Peterson",
          "James Algar",
          "Jack Kinney",
          "Charles Nichols",
          "Clyde Geronimi",
          "Robert Stevenson",
          "Paul Hoen",
          "John Lasseter",
          "Wilfred Jackson",
          "Jack Hannah"
         ]
        }
       ],
       "layout": {
        "legend": {
         "orientation": "h",
         "x": 0.1,
         "y": 1.1
        },
        "template": {
         "data": {
          "bar": [
           {
            "error_x": {
             "color": "#2a3f5f"
            },
            "error_y": {
             "color": "#2a3f5f"
            },
            "marker": {
             "line": {
              "color": "#E5ECF6",
              "width": 0.5
             },
             "pattern": {
              "fillmode": "overlay",
              "size": 10,
              "solidity": 0.2
             }
            },
            "type": "bar"
           }
          ],
          "barpolar": [
           {
            "marker": {
             "line": {
              "color": "#E5ECF6",
              "width": 0.5
             },
             "pattern": {
              "fillmode": "overlay",
              "size": 10,
              "solidity": 0.2
             }
            },
            "type": "barpolar"
           }
          ],
          "carpet": [
           {
            "aaxis": {
             "endlinecolor": "#2a3f5f",
             "gridcolor": "white",
             "linecolor": "white",
             "minorgridcolor": "white",
             "startlinecolor": "#2a3f5f"
            },
            "baxis": {
             "endlinecolor": "#2a3f5f",
             "gridcolor": "white",
             "linecolor": "white",
             "minorgridcolor": "white",
             "startlinecolor": "#2a3f5f"
            },
            "type": "carpet"
           }
          ],
          "choropleth": [
           {
            "colorbar": {
             "outlinewidth": 0,
             "ticks": ""
            },
            "type": "choropleth"
           }
          ],
          "contour": [
           {
            "colorbar": {
             "outlinewidth": 0,
             "ticks": ""
            },
            "colorscale": [
             [
              0,
              "#0d0887"
             ],
             [
              0.1111111111111111,
              "#46039f"
             ],
             [
              0.2222222222222222,
              "#7201a8"
             ],
             [
              0.3333333333333333,
              "#9c179e"
             ],
             [
              0.4444444444444444,
              "#bd3786"
             ],
             [
              0.5555555555555556,
              "#d8576b"
             ],
             [
              0.6666666666666666,
              "#ed7953"
             ],
             [
              0.7777777777777778,
              "#fb9f3a"
             ],
             [
              0.8888888888888888,
              "#fdca26"
             ],
             [
              1,
              "#f0f921"
             ]
            ],
            "type": "contour"
           }
          ],
          "contourcarpet": [
           {
            "colorbar": {
             "outlinewidth": 0,
             "ticks": ""
            },
            "type": "contourcarpet"
           }
          ],
          "heatmap": [
           {
            "colorbar": {
             "outlinewidth": 0,
             "ticks": ""
            },
            "colorscale": [
             [
              0,
              "#0d0887"
             ],
             [
              0.1111111111111111,
              "#46039f"
             ],
             [
              0.2222222222222222,
              "#7201a8"
             ],
             [
              0.3333333333333333,
              "#9c179e"
             ],
             [
              0.4444444444444444,
              "#bd3786"
             ],
             [
              0.5555555555555556,
              "#d8576b"
             ],
             [
              0.6666666666666666,
              "#ed7953"
             ],
             [
              0.7777777777777778,
              "#fb9f3a"
             ],
             [
              0.8888888888888888,
              "#fdca26"
             ],
             [
              1,
              "#f0f921"
             ]
            ],
            "type": "heatmap"
           }
          ],
          "histogram": [
           {
            "marker": {
             "pattern": {
              "fillmode": "overlay",
              "size": 10,
              "solidity": 0.2
             }
            },
            "type": "histogram"
           }
          ],
          "histogram2d": [
           {
            "colorbar": {
             "outlinewidth": 0,
             "ticks": ""
            },
            "colorscale": [
             [
              0,
              "#0d0887"
             ],
             [
              0.1111111111111111,
              "#46039f"
             ],
             [
              0.2222222222222222,
              "#7201a8"
             ],
             [
              0.3333333333333333,
              "#9c179e"
             ],
             [
              0.4444444444444444,
              "#bd3786"
             ],
             [
              0.5555555555555556,
              "#d8576b"
             ],
             [
              0.6666666666666666,
              "#ed7953"
             ],
             [
              0.7777777777777778,
              "#fb9f3a"
             ],
             [
              0.8888888888888888,
              "#fdca26"
             ],
             [
              1,
              "#f0f921"
             ]
            ],
            "type": "histogram2d"
           }
          ],
          "histogram2dcontour": [
           {
            "colorbar": {
             "outlinewidth": 0,
             "ticks": ""
            },
            "colorscale": [
             [
              0,
              "#0d0887"
             ],
             [
              0.1111111111111111,
              "#46039f"
             ],
             [
              0.2222222222222222,
              "#7201a8"
             ],
             [
              0.3333333333333333,
              "#9c179e"
             ],
             [
              0.4444444444444444,
              "#bd3786"
             ],
             [
              0.5555555555555556,
              "#d8576b"
             ],
             [
              0.6666666666666666,
              "#ed7953"
             ],
             [
              0.7777777777777778,
              "#fb9f3a"
             ],
             [
              0.8888888888888888,
              "#fdca26"
             ],
             [
              1,
              "#f0f921"
             ]
            ],
            "type": "histogram2dcontour"
           }
          ],
          "mesh3d": [
           {
            "colorbar": {
             "outlinewidth": 0,
             "ticks": ""
            },
            "type": "mesh3d"
           }
          ],
          "parcoords": [
           {
            "line": {
             "colorbar": {
              "outlinewidth": 0,
              "ticks": ""
             }
            },
            "type": "parcoords"
           }
          ],
          "pie": [
           {
            "automargin": true,
            "type": "pie"
           }
          ],
          "scatter": [
           {
            "fillpattern": {
             "fillmode": "overlay",
             "size": 10,
             "solidity": 0.2
            },
            "type": "scatter"
           }
          ],
          "scatter3d": [
           {
            "line": {
             "colorbar": {
              "outlinewidth": 0,
              "ticks": ""
             }
            },
            "marker": {
             "colorbar": {
              "outlinewidth": 0,
              "ticks": ""
             }
            },
            "type": "scatter3d"
           }
          ],
          "scattercarpet": [
           {
            "marker": {
             "colorbar": {
              "outlinewidth": 0,
              "ticks": ""
             }
            },
            "type": "scattercarpet"
           }
          ],
          "scattergeo": [
           {
            "marker": {
             "colorbar": {
              "outlinewidth": 0,
              "ticks": ""
             }
            },
            "type": "scattergeo"
           }
          ],
          "scattergl": [
           {
            "marker": {
             "colorbar": {
              "outlinewidth": 0,
              "ticks": ""
             }
            },
            "type": "scattergl"
           }
          ],
          "scattermap": [
           {
            "marker": {
             "colorbar": {
              "outlinewidth": 0,
              "ticks": ""
             }
            },
            "type": "scattermap"
           }
          ],
          "scattermapbox": [
           {
            "marker": {
             "colorbar": {
              "outlinewidth": 0,
              "ticks": ""
             }
            },
            "type": "scattermapbox"
           }
          ],
          "scatterpolar": [
           {
            "marker": {
             "colorbar": {
              "outlinewidth": 0,
              "ticks": ""
             }
            },
            "type": "scatterpolar"
           }
          ],
          "scatterpolargl": [
           {
            "marker": {
             "colorbar": {
              "outlinewidth": 0,
              "ticks": ""
             }
            },
            "type": "scatterpolargl"
           }
          ],
          "scatterternary": [
           {
            "marker": {
             "colorbar": {
              "outlinewidth": 0,
              "ticks": ""
             }
            },
            "type": "scatterternary"
           }
          ],
          "surface": [
           {
            "colorbar": {
             "outlinewidth": 0,
             "ticks": ""
            },
            "colorscale": [
             [
              0,
              "#0d0887"
             ],
             [
              0.1111111111111111,
              "#46039f"
             ],
             [
              0.2222222222222222,
              "#7201a8"
             ],
             [
              0.3333333333333333,
              "#9c179e"
             ],
             [
              0.4444444444444444,
              "#bd3786"
             ],
             [
              0.5555555555555556,
              "#d8576b"
             ],
             [
              0.6666666666666666,
              "#ed7953"
             ],
             [
              0.7777777777777778,
              "#fb9f3a"
             ],
             [
              0.8888888888888888,
              "#fdca26"
             ],
             [
              1,
              "#f0f921"
             ]
            ],
            "type": "surface"
           }
          ],
          "table": [
           {
            "cells": {
             "fill": {
              "color": "#EBF0F8"
             },
             "line": {
              "color": "white"
             }
            },
            "header": {
             "fill": {
              "color": "#C8D4E3"
             },
             "line": {
              "color": "white"
             }
            },
            "type": "table"
           }
          ]
         },
         "layout": {
          "annotationdefaults": {
           "arrowcolor": "#2a3f5f",
           "arrowhead": 0,
           "arrowwidth": 1
          },
          "autotypenumbers": "strict",
          "coloraxis": {
           "colorbar": {
            "outlinewidth": 0,
            "ticks": ""
           }
          },
          "colorscale": {
           "diverging": [
            [
             0,
             "#8e0152"
            ],
            [
             0.1,
             "#c51b7d"
            ],
            [
             0.2,
             "#de77ae"
            ],
            [
             0.3,
             "#f1b6da"
            ],
            [
             0.4,
             "#fde0ef"
            ],
            [
             0.5,
             "#f7f7f7"
            ],
            [
             0.6,
             "#e6f5d0"
            ],
            [
             0.7,
             "#b8e186"
            ],
            [
             0.8,
             "#7fbc41"
            ],
            [
             0.9,
             "#4d9221"
            ],
            [
             1,
             "#276419"
            ]
           ],
           "sequential": [
            [
             0,
             "#0d0887"
            ],
            [
             0.1111111111111111,
             "#46039f"
            ],
            [
             0.2222222222222222,
             "#7201a8"
            ],
            [
             0.3333333333333333,
             "#9c179e"
            ],
            [
             0.4444444444444444,
             "#bd3786"
            ],
            [
             0.5555555555555556,
             "#d8576b"
            ],
            [
             0.6666666666666666,
             "#ed7953"
            ],
            [
             0.7777777777777778,
             "#fb9f3a"
            ],
            [
             0.8888888888888888,
             "#fdca26"
            ],
            [
             1,
             "#f0f921"
            ]
           ],
           "sequentialminus": [
            [
             0,
             "#0d0887"
            ],
            [
             0.1111111111111111,
             "#46039f"
            ],
            [
             0.2222222222222222,
             "#7201a8"
            ],
            [
             0.3333333333333333,
             "#9c179e"
            ],
            [
             0.4444444444444444,
             "#bd3786"
            ],
            [
             0.5555555555555556,
             "#d8576b"
            ],
            [
             0.6666666666666666,
             "#ed7953"
            ],
            [
             0.7777777777777778,
             "#fb9f3a"
            ],
            [
             0.8888888888888888,
             "#fdca26"
            ],
            [
             1,
             "#f0f921"
            ]
           ]
          },
          "colorway": [
           "#636efa",
           "#EF553B",
           "#00cc96",
           "#ab63fa",
           "#FFA15A",
           "#19d3f3",
           "#FF6692",
           "#B6E880",
           "#FF97FF",
           "#FECB52"
          ],
          "font": {
           "color": "#2a3f5f"
          },
          "geo": {
           "bgcolor": "white",
           "lakecolor": "white",
           "landcolor": "#E5ECF6",
           "showlakes": true,
           "showland": true,
           "subunitcolor": "white"
          },
          "hoverlabel": {
           "align": "left"
          },
          "hovermode": "closest",
          "mapbox": {
           "style": "light"
          },
          "paper_bgcolor": "white",
          "plot_bgcolor": "#E5ECF6",
          "polar": {
           "angularaxis": {
            "gridcolor": "white",
            "linecolor": "white",
            "ticks": ""
           },
           "bgcolor": "#E5ECF6",
           "radialaxis": {
            "gridcolor": "white",
            "linecolor": "white",
            "ticks": ""
           }
          },
          "scene": {
           "xaxis": {
            "backgroundcolor": "#E5ECF6",
            "gridcolor": "white",
            "gridwidth": 2,
            "linecolor": "white",
            "showbackground": true,
            "ticks": "",
            "zerolinecolor": "white"
           },
           "yaxis": {
            "backgroundcolor": "#E5ECF6",
            "gridcolor": "white",
            "gridwidth": 2,
            "linecolor": "white",
            "showbackground": true,
            "ticks": "",
            "zerolinecolor": "white"
           },
           "zaxis": {
            "backgroundcolor": "#E5ECF6",
            "gridcolor": "white",
            "gridwidth": 2,
            "linecolor": "white",
            "showbackground": true,
            "ticks": "",
            "zerolinecolor": "white"
           }
          },
          "shapedefaults": {
           "line": {
            "color": "#2a3f5f"
           }
          },
          "ternary": {
           "aaxis": {
            "gridcolor": "white",
            "linecolor": "white",
            "ticks": ""
           },
           "baxis": {
            "gridcolor": "white",
            "linecolor": "white",
            "ticks": ""
           },
           "bgcolor": "#E5ECF6",
           "caxis": {
            "gridcolor": "white",
            "linecolor": "white",
            "ticks": ""
           }
          },
          "title": {
           "x": 0.05
          },
          "xaxis": {
           "automargin": true,
           "gridcolor": "white",
           "linecolor": "white",
           "ticks": "",
           "title": {
            "standoff": 15
           },
           "zerolinecolor": "white",
           "zerolinewidth": 2
          },
          "yaxis": {
           "automargin": true,
           "gridcolor": "white",
           "linecolor": "white",
           "ticks": "",
           "title": {
            "standoff": 15
           },
           "zerolinecolor": "white",
           "zerolinewidth": 2
          }
         }
        },
        "title": {
         "text": "Directores de cine en EE.UU. con mas contenido"
        }
       }
      },
      "text/html": [
       "<div>            <script src=\"https://cdnjs.cloudflare.com/ajax/libs/mathjax/2.7.5/MathJax.js?config=TeX-AMS-MML_SVG\"></script><script type=\"text/javascript\">if (window.MathJax && window.MathJax.Hub && window.MathJax.Hub.Config) {window.MathJax.Hub.Config({SVG: {font: \"STIX-Web\"}});}</script>                <script type=\"text/javascript\">window.PlotlyConfig = {MathJaxConfig: 'local'};</script>\n",
       "        <script charset=\"utf-8\" src=\"https://cdn.plot.ly/plotly-3.0.0.min.js\"></script>                <div id=\"ddc1d9fc-69f8-4dc3-8aba-5cebce2527ce\" class=\"plotly-graph-div\" style=\"height:525px; width:100%;\"></div>            <script type=\"text/javascript\">                window.PLOTLYENV=window.PLOTLYENV || {};                                if (document.getElementById(\"ddc1d9fc-69f8-4dc3-8aba-5cebce2527ce\")) {                    Plotly.newPlot(                        \"ddc1d9fc-69f8-4dc3-8aba-5cebce2527ce\",                        [{\"marker\":{\"color\":\"orange\"},\"name\":\"TV Shows\",\"orientation\":\"h\",\"x\":[10,10,11,12,12,13,13,14,15,16,17],\"y\":[\"Vincent McEveety\",\"Bob Peterson\",\"James Algar\",\"Jack Kinney\",\"Charles Nichols\",\"Clyde Geronimi\",\"Robert Stevenson\",\"Paul Hoen\",\"John Lasseter\",\"Wilfred Jackson\",\"Jack Hannah\"],\"type\":\"bar\"}],                        {\"legend\":{\"orientation\":\"h\",\"x\":0.1,\"y\":1.1},\"title\":{\"text\":\"Directores de cine en EE.UU. con mas contenido\"},\"template\":{\"data\":{\"histogram2dcontour\":[{\"type\":\"histogram2dcontour\",\"colorbar\":{\"outlinewidth\":0,\"ticks\":\"\"},\"colorscale\":[[0.0,\"#0d0887\"],[0.1111111111111111,\"#46039f\"],[0.2222222222222222,\"#7201a8\"],[0.3333333333333333,\"#9c179e\"],[0.4444444444444444,\"#bd3786\"],[0.5555555555555556,\"#d8576b\"],[0.6666666666666666,\"#ed7953\"],[0.7777777777777778,\"#fb9f3a\"],[0.8888888888888888,\"#fdca26\"],[1.0,\"#f0f921\"]]}],\"choropleth\":[{\"type\":\"choropleth\",\"colorbar\":{\"outlinewidth\":0,\"ticks\":\"\"}}],\"histogram2d\":[{\"type\":\"histogram2d\",\"colorbar\":{\"outlinewidth\":0,\"ticks\":\"\"},\"colorscale\":[[0.0,\"#0d0887\"],[0.1111111111111111,\"#46039f\"],[0.2222222222222222,\"#7201a8\"],[0.3333333333333333,\"#9c179e\"],[0.4444444444444444,\"#bd3786\"],[0.5555555555555556,\"#d8576b\"],[0.6666666666666666,\"#ed7953\"],[0.7777777777777778,\"#fb9f3a\"],[0.8888888888888888,\"#fdca26\"],[1.0,\"#f0f921\"]]}],\"heatmap\":[{\"type\":\"heatmap\",\"colorbar\":{\"outlinewidth\":0,\"ticks\":\"\"},\"colorscale\":[[0.0,\"#0d0887\"],[0.1111111111111111,\"#46039f\"],[0.2222222222222222,\"#7201a8\"],[0.3333333333333333,\"#9c179e\"],[0.4444444444444444,\"#bd3786\"],[0.5555555555555556,\"#d8576b\"],[0.6666666666666666,\"#ed7953\"],[0.7777777777777778,\"#fb9f3a\"],[0.8888888888888888,\"#fdca26\"],[1.0,\"#f0f921\"]]}],\"contourcarpet\":[{\"type\":\"contourcarpet\",\"colorbar\":{\"outlinewidth\":0,\"ticks\":\"\"}}],\"contour\":[{\"type\":\"contour\",\"colorbar\":{\"outlinewidth\":0,\"ticks\":\"\"},\"colorscale\":[[0.0,\"#0d0887\"],[0.1111111111111111,\"#46039f\"],[0.2222222222222222,\"#7201a8\"],[0.3333333333333333,\"#9c179e\"],[0.4444444444444444,\"#bd3786\"],[0.5555555555555556,\"#d8576b\"],[0.6666666666666666,\"#ed7953\"],[0.7777777777777778,\"#fb9f3a\"],[0.8888888888888888,\"#fdca26\"],[1.0,\"#f0f921\"]]}],\"surface\":[{\"type\":\"surface\",\"colorbar\":{\"outlinewidth\":0,\"ticks\":\"\"},\"colorscale\":[[0.0,\"#0d0887\"],[0.1111111111111111,\"#46039f\"],[0.2222222222222222,\"#7201a8\"],[0.3333333333333333,\"#9c179e\"],[0.4444444444444444,\"#bd3786\"],[0.5555555555555556,\"#d8576b\"],[0.6666666666666666,\"#ed7953\"],[0.7777777777777778,\"#fb9f3a\"],[0.8888888888888888,\"#fdca26\"],[1.0,\"#f0f921\"]]}],\"mesh3d\":[{\"type\":\"mesh3d\",\"colorbar\":{\"outlinewidth\":0,\"ticks\":\"\"}}],\"scatter\":[{\"fillpattern\":{\"fillmode\":\"overlay\",\"size\":10,\"solidity\":0.2},\"type\":\"scatter\"}],\"parcoords\":[{\"type\":\"parcoords\",\"line\":{\"colorbar\":{\"outlinewidth\":0,\"ticks\":\"\"}}}],\"scatterpolargl\":[{\"type\":\"scatterpolargl\",\"marker\":{\"colorbar\":{\"outlinewidth\":0,\"ticks\":\"\"}}}],\"bar\":[{\"error_x\":{\"color\":\"#2a3f5f\"},\"error_y\":{\"color\":\"#2a3f5f\"},\"marker\":{\"line\":{\"color\":\"#E5ECF6\",\"width\":0.5},\"pattern\":{\"fillmode\":\"overlay\",\"size\":10,\"solidity\":0.2}},\"type\":\"bar\"}],\"scattergeo\":[{\"type\":\"scattergeo\",\"marker\":{\"colorbar\":{\"outlinewidth\":0,\"ticks\":\"\"}}}],\"scatterpolar\":[{\"type\":\"scatterpolar\",\"marker\":{\"colorbar\":{\"outlinewidth\":0,\"ticks\":\"\"}}}],\"histogram\":[{\"marker\":{\"pattern\":{\"fillmode\":\"overlay\",\"size\":10,\"solidity\":0.2}},\"type\":\"histogram\"}],\"scattergl\":[{\"type\":\"scattergl\",\"marker\":{\"colorbar\":{\"outlinewidth\":0,\"ticks\":\"\"}}}],\"scatter3d\":[{\"type\":\"scatter3d\",\"line\":{\"colorbar\":{\"outlinewidth\":0,\"ticks\":\"\"}},\"marker\":{\"colorbar\":{\"outlinewidth\":0,\"ticks\":\"\"}}}],\"scattermap\":[{\"type\":\"scattermap\",\"marker\":{\"colorbar\":{\"outlinewidth\":0,\"ticks\":\"\"}}}],\"scattermapbox\":[{\"type\":\"scattermapbox\",\"marker\":{\"colorbar\":{\"outlinewidth\":0,\"ticks\":\"\"}}}],\"scatterternary\":[{\"type\":\"scatterternary\",\"marker\":{\"colorbar\":{\"outlinewidth\":0,\"ticks\":\"\"}}}],\"scattercarpet\":[{\"type\":\"scattercarpet\",\"marker\":{\"colorbar\":{\"outlinewidth\":0,\"ticks\":\"\"}}}],\"carpet\":[{\"aaxis\":{\"endlinecolor\":\"#2a3f5f\",\"gridcolor\":\"white\",\"linecolor\":\"white\",\"minorgridcolor\":\"white\",\"startlinecolor\":\"#2a3f5f\"},\"baxis\":{\"endlinecolor\":\"#2a3f5f\",\"gridcolor\":\"white\",\"linecolor\":\"white\",\"minorgridcolor\":\"white\",\"startlinecolor\":\"#2a3f5f\"},\"type\":\"carpet\"}],\"table\":[{\"cells\":{\"fill\":{\"color\":\"#EBF0F8\"},\"line\":{\"color\":\"white\"}},\"header\":{\"fill\":{\"color\":\"#C8D4E3\"},\"line\":{\"color\":\"white\"}},\"type\":\"table\"}],\"barpolar\":[{\"marker\":{\"line\":{\"color\":\"#E5ECF6\",\"width\":0.5},\"pattern\":{\"fillmode\":\"overlay\",\"size\":10,\"solidity\":0.2}},\"type\":\"barpolar\"}],\"pie\":[{\"automargin\":true,\"type\":\"pie\"}]},\"layout\":{\"autotypenumbers\":\"strict\",\"colorway\":[\"#636efa\",\"#EF553B\",\"#00cc96\",\"#ab63fa\",\"#FFA15A\",\"#19d3f3\",\"#FF6692\",\"#B6E880\",\"#FF97FF\",\"#FECB52\"],\"font\":{\"color\":\"#2a3f5f\"},\"hovermode\":\"closest\",\"hoverlabel\":{\"align\":\"left\"},\"paper_bgcolor\":\"white\",\"plot_bgcolor\":\"#E5ECF6\",\"polar\":{\"bgcolor\":\"#E5ECF6\",\"angularaxis\":{\"gridcolor\":\"white\",\"linecolor\":\"white\",\"ticks\":\"\"},\"radialaxis\":{\"gridcolor\":\"white\",\"linecolor\":\"white\",\"ticks\":\"\"}},\"ternary\":{\"bgcolor\":\"#E5ECF6\",\"aaxis\":{\"gridcolor\":\"white\",\"linecolor\":\"white\",\"ticks\":\"\"},\"baxis\":{\"gridcolor\":\"white\",\"linecolor\":\"white\",\"ticks\":\"\"},\"caxis\":{\"gridcolor\":\"white\",\"linecolor\":\"white\",\"ticks\":\"\"}},\"coloraxis\":{\"colorbar\":{\"outlinewidth\":0,\"ticks\":\"\"}},\"colorscale\":{\"sequential\":[[0.0,\"#0d0887\"],[0.1111111111111111,\"#46039f\"],[0.2222222222222222,\"#7201a8\"],[0.3333333333333333,\"#9c179e\"],[0.4444444444444444,\"#bd3786\"],[0.5555555555555556,\"#d8576b\"],[0.6666666666666666,\"#ed7953\"],[0.7777777777777778,\"#fb9f3a\"],[0.8888888888888888,\"#fdca26\"],[1.0,\"#f0f921\"]],\"sequentialminus\":[[0.0,\"#0d0887\"],[0.1111111111111111,\"#46039f\"],[0.2222222222222222,\"#7201a8\"],[0.3333333333333333,\"#9c179e\"],[0.4444444444444444,\"#bd3786\"],[0.5555555555555556,\"#d8576b\"],[0.6666666666666666,\"#ed7953\"],[0.7777777777777778,\"#fb9f3a\"],[0.8888888888888888,\"#fdca26\"],[1.0,\"#f0f921\"]],\"diverging\":[[0,\"#8e0152\"],[0.1,\"#c51b7d\"],[0.2,\"#de77ae\"],[0.3,\"#f1b6da\"],[0.4,\"#fde0ef\"],[0.5,\"#f7f7f7\"],[0.6,\"#e6f5d0\"],[0.7,\"#b8e186\"],[0.8,\"#7fbc41\"],[0.9,\"#4d9221\"],[1,\"#276419\"]]},\"xaxis\":{\"gridcolor\":\"white\",\"linecolor\":\"white\",\"ticks\":\"\",\"title\":{\"standoff\":15},\"zerolinecolor\":\"white\",\"automargin\":true,\"zerolinewidth\":2},\"yaxis\":{\"gridcolor\":\"white\",\"linecolor\":\"white\",\"ticks\":\"\",\"title\":{\"standoff\":15},\"zerolinecolor\":\"white\",\"automargin\":true,\"zerolinewidth\":2},\"scene\":{\"xaxis\":{\"backgroundcolor\":\"#E5ECF6\",\"gridcolor\":\"white\",\"linecolor\":\"white\",\"showbackground\":true,\"ticks\":\"\",\"zerolinecolor\":\"white\",\"gridwidth\":2},\"yaxis\":{\"backgroundcolor\":\"#E5ECF6\",\"gridcolor\":\"white\",\"linecolor\":\"white\",\"showbackground\":true,\"ticks\":\"\",\"zerolinecolor\":\"white\",\"gridwidth\":2},\"zaxis\":{\"backgroundcolor\":\"#E5ECF6\",\"gridcolor\":\"white\",\"linecolor\":\"white\",\"showbackground\":true,\"ticks\":\"\",\"zerolinecolor\":\"white\",\"gridwidth\":2}},\"shapedefaults\":{\"line\":{\"color\":\"#2a3f5f\"}},\"annotationdefaults\":{\"arrowcolor\":\"#2a3f5f\",\"arrowhead\":0,\"arrowwidth\":1},\"geo\":{\"bgcolor\":\"white\",\"landcolor\":\"#E5ECF6\",\"subunitcolor\":\"white\",\"showland\":true,\"showlakes\":true,\"lakecolor\":\"white\"},\"title\":{\"x\":0.05},\"mapbox\":{\"style\":\"light\"}}}},                        {\"responsive\": true}                    ).then(function(){\n",
       "                            \n",
       "var gd = document.getElementById('ddc1d9fc-69f8-4dc3-8aba-5cebce2527ce');\n",
       "var x = new MutationObserver(function (mutations, observer) {{\n",
       "        var display = window.getComputedStyle(gd).display;\n",
       "        if (!display || display === 'none') {{\n",
       "            console.log([gd, 'removed!']);\n",
       "            Plotly.purge(gd);\n",
       "            observer.disconnect();\n",
       "        }}\n",
       "}});\n",
       "\n",
       "// Listen for the removal of the full notebook cells\n",
       "var notebookContainer = gd.closest('#notebook-container');\n",
       "if (notebookContainer) {{\n",
       "    x.observe(notebookContainer, {childList: true});\n",
       "}}\n",
       "\n",
       "// Listen for the clearing of the current output cell\n",
       "var outputEl = gd.closest('.output');\n",
       "if (outputEl) {{\n",
       "    x.observe(outputEl, {childList: true});\n",
       "}}\n",
       "\n",
       "                        })                };            </script>        </div>"
      ]
     },
     "metadata": {},
     "output_type": "display_data"
    }
   ],
   "source": [
    "small = df[df[\"type\"] == \"Movie\"]\n",
    "small = small[small[\"country\"] == \"United States\"]\n",
    "\n",
    "col = \"director\"\n",
    "categories = \", \".join(small[col].fillna(\"\")).split(\", \")\n",
    "counter_list = Counter(categories).most_common(12)\n",
    "counter_list = [_ for _ in counter_list if _[0] != \"\"]\n",
    "labels = [_[0] for _ in counter_list][::-1]\n",
    "values = [_[1] for _ in counter_list][::-1]\n",
    "trace1 = go.Bar(y=labels, x=values, orientation=\"h\", name=\"TV Shows\", marker=dict(color=\"orange\"))\n",
    "\n",
    "data = [trace1]\n",
    "layout = go.Layout(title=\"Directores de cine en EE.UU. con mas contenido\", legend=dict(x=0.1, y=1.1, orientation=\"h\"))\n",
    "fig = go.Figure(data, layout=layout)\n",
    "fig.show()"
   ]
  }
 ],
 "metadata": {
  "kernelspec": {
   "display_name": "Python 3",
   "language": "python",
   "name": "python3"
  },
  "language_info": {
   "codemirror_mode": {
    "name": "ipython",
    "version": 3
   },
   "file_extension": ".py",
   "mimetype": "text/x-python",
   "name": "python",
   "nbconvert_exporter": "python",
   "pygments_lexer": "ipython3",
   "version": "3.10.0"
  },
  "papermill": {
   "default_parameters": {},
   "duration": 15.813677,
   "end_time": "2021-10-02T08:28:46.134545",
   "environment_variables": {},
   "exception": null,
   "input_path": "__notebook__.ipynb",
   "output_path": "__notebook__.ipynb",
   "parameters": {},
   "start_time": "2021-10-02T08:28:30.320868",
   "version": "2.3.3"
  }
 },
 "nbformat": 4,
 "nbformat_minor": 5
}
